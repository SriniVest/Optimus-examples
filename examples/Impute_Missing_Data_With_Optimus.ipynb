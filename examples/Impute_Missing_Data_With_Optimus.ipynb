{
 "cells": [
  {
   "cell_type": "markdown",
   "metadata": {},
   "source": [
    "# Impute missing data with Machine Learning and Optimus"
   ]
  },
  {
   "cell_type": "markdown",
   "metadata": {},
   "source": [
    "Missing values are considered to be the first obstacle in predictive modeling. Hence, it’s important to master the methods to overcome them. With Optimus we made easy the missing data imputation (imputation is the process of replacing missing data with substituted values) with a function called `impute_missing()`"
   ]
  },
  {
   "cell_type": "code",
   "execution_count": 1,
   "metadata": {},
   "outputs": [
    {
     "data": {
      "text/html": [
       "<div>Starting or getting SparkSession and SparkContext.</div>"
      ],
      "text/plain": [
       "<IPython.core.display.HTML object>"
      ]
     },
     "metadata": {},
     "output_type": "display_data"
    },
    {
     "data": {
      "text/html": [
       "<div>Setting checkpoint folder (local). If you are in a cluster change it with set_check_point_folder(path,'hadoop').</div>"
      ],
      "text/plain": [
       "<IPython.core.display.HTML object>"
      ]
     },
     "metadata": {},
     "output_type": "display_data"
    },
    {
     "name": "stdout",
     "output_type": "stream",
     "text": [
      "Deleting previous folder if exists...\n",
      "Creation of checkpoint directory...\n",
      "Done.\n"
     ]
    },
    {
     "data": {
      "text/html": [
       "\n",
       "        <div style=\"margin:10px\">\n",
       "            <a href=\"https://github.com/ironmussa/Optimus\" target=\"_new\">\n",
       "                <img src=\"https://github.com/ironmussa/Optimus/raw/master/images/robotOptimus.png\" style=\"float:left;margin-right:10px;vertical-align:top;text-align:center\" height=\"50\" width=\"50\"/>\n",
       "            </a>\n",
       "            <span><b><h2>Optimus successfully imported. Have fun :).</h2></b></span>\n",
       "        </div>\n",
       "        "
      ],
      "text/plain": [
       "<IPython.core.display.HTML object>"
      ]
     },
     "metadata": {},
     "output_type": "display_data"
    }
   ],
   "source": [
    "# Import optimus\n",
    "import optimus as op\n",
    "# Import os for reading from local\n",
    "import os"
   ]
  },
  {
   "cell_type": "markdown",
   "metadata": {},
   "source": [
    "Lets import the utilities module to read the csv we have in the folder called impute_data.csv"
   ]
  },
  {
   "cell_type": "code",
   "execution_count": 2,
   "metadata": {
    "collapsed": true
   },
   "outputs": [],
   "source": [
    "tools = op.Utilities()"
   ]
  },
  {
   "cell_type": "code",
   "execution_count": 3,
   "metadata": {
    "collapsed": true
   },
   "outputs": [],
   "source": [
    "path = \"file:///\" + os.getcwd() + \"/impute_data.csv\"\n",
    "df = tools.read_dataset_csv(path, delimiter_mark=\",\", header=\"true\")"
   ]
  },
  {
   "cell_type": "code",
   "execution_count": 4,
   "metadata": {},
   "outputs": [
    {
     "name": "stdout",
     "output_type": "stream",
     "text": [
      "+---+---+\n",
      "|  a|  b|\n",
      "+---+---+\n",
      "|1.0|NaN|\n",
      "|2.0|NaN|\n",
      "|NaN|3.0|\n",
      "|4.0|4.0|\n",
      "|5.0|5.0|\n",
      "+---+---+\n",
      "\n"
     ]
    }
   ],
   "source": [
    "df.show()"
   ]
  },
  {
   "cell_type": "markdown",
   "metadata": {},
   "source": [
    "We can see that in our data there are some missing values for both columns `a`and `b`. Lets use the DataFrameProfiler to run some some visual analysis on our data."
   ]
  },
  {
   "cell_type": "code",
   "execution_count": 5,
   "metadata": {
    "collapsed": true
   },
   "outputs": [],
   "source": [
    "profiler = op.DataFrameProfiler(df)"
   ]
  },
  {
   "cell_type": "code",
   "execution_count": 6,
   "metadata": {},
   "outputs": [
    {
     "data": {
      "text/html": [
       "<meta charset=\"UTF-8\">\n",
       "\n",
       "<style>\n",
       "        .variablerow {\n",
       "            border: 1px solid #e1e1e8;\n",
       "            border-top: hidden;\n",
       "            padding-top: 2em;\n",
       "            padding-bottom: 1em;\n",
       "            padding-left: 1em;\n",
       "            padding-right: 1em;\n",
       "        }\n",
       "        .headerrow {\n",
       "            border: 1px solid #e1e1e8;\n",
       "            background-color: #f5f5f5;\n",
       "            padding: 2em;\n",
       "        }\n",
       "        .namecol {\n",
       "            margin-top: -1em;\n",
       "        }\n",
       "        .dl-horizontal dt {\n",
       "            text-align: left;\n",
       "            padding-right: 1em;\n",
       "            white-space: normal;\n",
       "        }\n",
       "        .dl-horizontal dd {\n",
       "            margin-left: 0;\n",
       "        }\n",
       "        .ignore {\n",
       "            opacity: 0.4;\n",
       "        }\n",
       "        .container.pandas-profiling {\n",
       "            max-width:975px;\n",
       "        }\n",
       "        .col-md-12 {\n",
       "            padding-left: 2em;\n",
       "        }\n",
       "        .indent {\n",
       "            margin-left: 1em;\n",
       "        }\n",
       "        /* Table example_values */\n",
       "            table.example_values {\n",
       "                border: 0;\n",
       "            }\n",
       "            .example_values th {\n",
       "                border: 0;\n",
       "                padding: 0 ;\n",
       "                color: #555;\n",
       "                font-weight: 600;\n",
       "            }\n",
       "            .example_values tr, .example_values td{\n",
       "                border: 0;\n",
       "                padding: 0;\n",
       "                color: #555;\n",
       "            }\n",
       "        /* STATS */\n",
       "            table.stats {\n",
       "                border: 0;\n",
       "            }\n",
       "            .stats th {\n",
       "                border: 0;\n",
       "                padding: 0 2em 0 0;\n",
       "                color: #555;\n",
       "                font-weight: 600;\n",
       "            }\n",
       "            .stats tr {\n",
       "                border: 0;\n",
       "            }\n",
       "            .stats tr:hover{\n",
       "                text-decoration: underline;\n",
       "            }\n",
       "            .stats td{\n",
       "                color: #555;\n",
       "                padding: 1px;\n",
       "                border: 0;\n",
       "            }\n",
       "        /* Sample table */\n",
       "            table.sample {\n",
       "                border: 0;\n",
       "                margin-bottom: 2em;\n",
       "                margin-left:1em;\n",
       "            }\n",
       "            .sample tr {\n",
       "                border:0;\n",
       "            }\n",
       "            .sample td, .sample th{\n",
       "                padding: 0.5em;\n",
       "                white-space: nowrap;\n",
       "                border: none;\n",
       "            }\n",
       "            .sample thead {\n",
       "                border-top: 0;\n",
       "                border-bottom: 2px solid #ddd;\n",
       "            }\n",
       "            .sample td {\n",
       "                width:100%;\n",
       "            }\n",
       "        /* There is no good solution available to make the divs equal height and then center ... */\n",
       "            .histogram {\n",
       "                margin-top: 3em;\n",
       "            }\n",
       "        /* Freq table */\n",
       "            table.freq {\n",
       "                margin-bottom: 2em;\n",
       "                border: 0;\n",
       "            }\n",
       "            table.freq th, table.freq tr, table.freq td {\n",
       "                border: 0;\n",
       "                padding: 0;\n",
       "            }\n",
       "            .freq thead {\n",
       "                font-weight: 600;\n",
       "                white-space: nowrap;\n",
       "                overflow: hidden;\n",
       "                text-overflow: ellipsis;\n",
       "            }\n",
       "            td.fillremaining{\n",
       "                width:auto;\n",
       "                max-width: none;\n",
       "            }\n",
       "            td.number, th.number {\n",
       "                text-align:right ;\n",
       "            }\n",
       "        /* Freq mini */\n",
       "            .freq.mini td{\n",
       "                width: 50%;\n",
       "                padding: 1px;\n",
       "                font-size: 12px;\n",
       "            }\n",
       "            table.freq.mini {\n",
       "                 width:100%;\n",
       "            }\n",
       "            .freq.mini th {\n",
       "                overflow: hidden;\n",
       "                text-overflow: ellipsis;\n",
       "                white-space: nowrap;\n",
       "                max-width: 5em;\n",
       "                font-weight: 400;\n",
       "                text-align:right;\n",
       "                padding-right: 0.5em;\n",
       "            }\n",
       "            .missing {\n",
       "                color: #a94442;\n",
       "            }\n",
       "            .alert, .alert > th, .alert > td {\n",
       "                color: #a94442;\n",
       "            }\n",
       "        /* Bars in tables */\n",
       "            .freq .bar{\n",
       "                float: left;\n",
       "                width: 0;\n",
       "                height: 100%;\n",
       "                line-height: 20px;\n",
       "                color: #fff;\n",
       "                text-align: center;\n",
       "                background-color: #337ab7;\n",
       "                border-radius: 3px;\n",
       "                margin-right: 4px;\n",
       "            }\n",
       "            .other .bar {\n",
       "                background-color: #999;\n",
       "            }\n",
       "            .missing .bar{\n",
       "                background-color: #a94442;\n",
       "            }\n",
       "            .tooltip-inner {\n",
       "                width: 100%;\n",
       "                white-space: nowrap;\n",
       "                text-align:left;\n",
       "            }\n",
       "            .extrapadding{\n",
       "                padding: 2em;\n",
       "            }\n",
       "</style>\n",
       "\n",
       "<div class=\"container pandas-profiling\">\n",
       "    <div class=\"row headerrow highlight\">\n",
       "        <h1>Overview</h1>\n",
       "    </div>\n",
       "    <div class=\"row variablerow\">\n",
       "    <div class=\"col-md-6 namecol\">\n",
       "        <p class=\"h4\">Dataset info</p>\n",
       "        <table class=\"stats\" style=\"margin-left: 1em;\">\n",
       "            <tbody>\n",
       "            <tr>\n",
       "                <th>Number of variables</th>\n",
       "                <td>2 </td>\n",
       "            </tr>\n",
       "            <tr>\n",
       "                <th>Number of observations</th>\n",
       "                <td>5 </td>\n",
       "            </tr>\n",
       "            <tr>\n",
       "                <th>Total Missing (%)</th>\n",
       "                <td>10.0% </td>\n",
       "            </tr>\n",
       "            <tr>\n",
       "                <th>Total size in memory</th>\n",
       "                <td>0.0 B </td>\n",
       "            </tr>\n",
       "            <tr>\n",
       "                <th>Average record size in memory</th>\n",
       "                <td>0.0 B </td>\n",
       "            </tr>\n",
       "            </tbody>\n",
       "        </table>\n",
       "    </div>\n",
       "    <div class=\"col-md-6 namecol\">\n",
       "        <p class=\"h4\">Variables types</p>\n",
       "        <table class=\"stats\" style=\"margin-left: 1em;\">\n",
       "            <tbody>\n",
       "            <tr>\n",
       "                <th>Numeric</th>\n",
       "                <td>1 </td>\n",
       "            </tr>\n",
       "            <tr>\n",
       "                <th>Categorical</th>\n",
       "                <td>0 </td>\n",
       "            </tr>\n",
       "            <tr>\n",
       "                <th>Date</th>\n",
       "                <td>0 </td>\n",
       "            </tr>\n",
       "            <tr>\n",
       "                <th>Text (Unique)</th>\n",
       "                <td>0 </td>\n",
       "            </tr>\n",
       "            <tr>\n",
       "                <th>Rejected</th>\n",
       "                <td>1 </td>\n",
       "            </tr>\n",
       "            </tbody>\n",
       "        </table>\n",
       "    </div>\n",
       "    <div class=\"col-md-12\" style=\"padding-left: 1em;\">\n",
       "        <p class=\"h4\">Warnings</p>\n",
       "        <ul class=\"list-unstyled\"><li><code>a</code> has 1 / 20.0% missing values <span class=\"label label-default\">Missing</span></li><li><code>b</code> is highly correlated with <code>a</code> (ρ = 1) <span class=\"label label-primary\">Rejected</span></li> </ul>\n",
       "    </div>\n",
       "</div>\n",
       "    <div class=\"row headerrow highlight\">\n",
       "        <h1>Variables</h1>\n",
       "    </div>\n",
       "    <div class=\"row variablerow\">\n",
       "    <div class=\"col-md-3 namecol\">\n",
       "        <p class=\"h4\">a<br/>\n",
       "            <small>Numeric</small>\n",
       "        </p>\n",
       "    </div> <div class=\"col-md-6\">\n",
       "    <div class=\"row\">\n",
       "        <div class=\"col-sm-6\">\n",
       "            <table class=\"stats \">\n",
       "                <tr>\n",
       "                    <th>Distinct count</th>\n",
       "                    <td>5</td>\n",
       "                </tr>\n",
       "                <tr>\n",
       "                    <th>Unique (%)</th>\n",
       "                    <td>125.0%</td>\n",
       "                </tr>\n",
       "                <tr class=\"alert\">\n",
       "                    <th>Missing (%)</th>\n",
       "                    <td>20.0%</td>\n",
       "                </tr>\n",
       "                <tr class=\"alert\">\n",
       "                    <th>Missing (n)</th>\n",
       "                    <td>1</td>\n",
       "                </tr>\n",
       "                <tr class=\"ignore\">\n",
       "                    <th>Infinite (%)</th>\n",
       "                    <td>0.0%</td>\n",
       "                </tr>\n",
       "                <tr class=\"ignore\">\n",
       "                    <th>Infinite (n)</th>\n",
       "                    <td>0</td>\n",
       "                </tr>\n",
       "            </table>\n",
       "\n",
       "        </div>\n",
       "        <div class=\"col-sm-6\">\n",
       "            <table class=\"stats \">\n",
       "\n",
       "                <tr>\n",
       "                    <th>Mean</th>\n",
       "                    <td>3</td>\n",
       "                </tr>\n",
       "                <tr>\n",
       "                    <th>Minimum</th>\n",
       "                    <td>1</td>\n",
       "                </tr>\n",
       "                <tr>\n",
       "                    <th>Maximum</th>\n",
       "                    <td>5</td>\n",
       "                </tr>\n",
       "                <tr class=\"ignore\">\n",
       "                    <th>Zeros (%)</th>\n",
       "                    <td>0.0%</td>\n",
       "                </tr>\n",
       "            </table>\n",
       "        </div>\n",
       "    </div>\n",
       "</div>\n",
       "<div class=\"col-md-3 collapse in\" id=\"minihistogram-3373932852551852457\">\n",
       "    <img src=\"data:image/png;base64,iVBORw0KGgoAAAANSUhEUgAAAMgAAABLCAYAAAA1fMjoAAAABHNCSVQICAgIfAhkiAAAAAlwSFlzAAAPYQAAD2EBqD%2BnaQAAAP9JREFUeJzt1bEJQkEQQEG/WJJF2JOxPVmEPa25yEOju2AmP25ZeOwxM3MCvjqvHgB2dlk9wKfr/fn3m9fjtu0/O7Lj37kgEAQCQSAQBAJBIBAEAkEgEAQCQSAQBAJBIBAEAkEgEAQCQSAQBAJBIBAEAkEgEAQCQSAQBAJBIBAEAkEgEAQCQSAQBAJBIBAEAkEgEAQCQSAQBAJBIBAEAkEgEAQCQSAQBAJBIBAEAkEgEAQCQSAQBALhmJlZPQTsygWBIBAIAoEgEAgCgSAQCAKBIBAIAoEgEAgCgSAQCAKBIBAIAoEgEAgCgSAQCAKBIBAIAoEgEAgCgSAQCAKB8AYfZxSPSASiNAAAAABJRU5ErkJggg%3D%3D\">\n",
       "\n",
       "</div>\n",
       "<div class=\"col-md-12 text-right\">\n",
       "    <a role=\"button\" data-toggle=\"collapse\" data-target=\"#descriptives-3373932852551852457,#minihistogram-3373932852551852457\"\n",
       "       aria-expanded=\"false\" aria-controls=\"collapseExample\">\n",
       "        Toggle details\n",
       "    </a>\n",
       "</div>\n",
       "<div class=\"row collapse col-md-12\" id=\"descriptives-3373932852551852457\">\n",
       "    <div class=\"col-sm-4\">\n",
       "        <p class=\"h4\">Quantile statistics</p>\n",
       "        <table class=\"stats indent\">\n",
       "            <tr>\n",
       "                <th>Minimum</th>\n",
       "                <td>1</td>\n",
       "            </tr>\n",
       "            <tr>\n",
       "                <th>5-th percentile</th>\n",
       "                <td>2</td>\n",
       "            </tr>\n",
       "            <tr>\n",
       "                <th>Q1</th>\n",
       "                <td>2</td>\n",
       "            </tr>\n",
       "            <tr>\n",
       "                <th>Median</th>\n",
       "                <td>2</td>\n",
       "            </tr>\n",
       "            <tr>\n",
       "                <th>Q3</th>\n",
       "                <td>4</td>\n",
       "            </tr>\n",
       "            <tr>\n",
       "                <th>95-th percentile</th>\n",
       "                <td>5</td>\n",
       "            </tr>\n",
       "            <tr>\n",
       "                <th>Maximum</th>\n",
       "                <td>5</td>\n",
       "            </tr>\n",
       "            <tr>\n",
       "                <th>Range</th>\n",
       "                <td>4</td>\n",
       "            </tr>\n",
       "            <tr>\n",
       "                <th>Interquartile range</th>\n",
       "                <td>2</td>\n",
       "            </tr>\n",
       "        </table>\n",
       "        <p class=\"h4\">Descriptive statistics</p>\n",
       "        <table class=\"stats indent\">\n",
       "            <tr>\n",
       "                <th>Standard deviation</th>\n",
       "                <td>1.8257</td>\n",
       "            </tr>\n",
       "            <tr>\n",
       "                <th>Coef of variation</th>\n",
       "                <td>0.60858</td>\n",
       "            </tr>\n",
       "            <tr>\n",
       "                <th>Kurtosis</th>\n",
       "                <td>-1.64</td>\n",
       "            </tr>\n",
       "            <tr>\n",
       "                <th>Mean</th>\n",
       "                <td>3</td>\n",
       "            </tr>\n",
       "            <tr>\n",
       "                <th>MAD</th>\n",
       "                <td>1.5</td>\n",
       "            </tr>\n",
       "            <tr class=\"\">\n",
       "                <th>Skewness</th>\n",
       "                <td>0</td>\n",
       "            </tr>\n",
       "            <tr>\n",
       "                <th>Sum</th>\n",
       "                <td>12</td>\n",
       "            </tr>\n",
       "            <tr>\n",
       "                <th>Variance</th>\n",
       "                <td>3.3333</td>\n",
       "            </tr>\n",
       "            <tr>\n",
       "                <th>Memory size</th>\n",
       "                <td>0.0 B</td>\n",
       "            </tr>\n",
       "        </table>\n",
       "    </div>\n",
       "    <div class=\"col-sm-8 histogram\">\n",
       "        <img src=\"data:image/png;base64,iVBORw0KGgoAAAANSUhEUgAAAlgAAAGQCAYAAAByNR6YAAAABHNCSVQICAgIfAhkiAAAAAlwSFlzAAAPYQAAD2EBqD%2BnaQAAIABJREFUeJzt3Xt01PWd//FXkmkuJEYTMDmVVTjCsmRTjEkQ6BJtmwqCogQoRlFhVQoql%2B5KSwQsRAVDgFKPppbbyR5E1kaOXJQittRqt61FDBAMCCTCUjksZliTckkyIeS7f/BjfgzDZWI/5Dvf7zwf53DofPLJ5P3KhzivzncYoizLsgQAAABjou0eAAAAwG0oWAAAAIZRsAAAAAyjYAEAABhGwQIAADCMggUAAGAYBQsAAMAwChYAAIBhFCwAAADDKFgAAACGUbAAAAAMo2ABAAAYRsECAAAwjIIFAABgGAULAADAMAoWAACAYRQsAAAAwyhYAAAAhlGwAAAADKNgAQAAGEbBAgAAMIyCBQAAYBgFCwAAwDAKFgAAgGEULAAAAMMoWAAAAIZRsAAAAAyjYAEAABhGwQIAADCMggUAAGAYBQsAAMAwChYAAIBhFCwAAADDKFgAAACGUbAAAAAMo2ABAAAYRsECAAAwjIIFAABgGAULAADAMI/dA0QKr/eE3SOELDo6Sqmpifrqq1Nqa7PsHscYt%2BaS3JvNrbkk92Zzay7Jvdncmks6m61z5yR7vrYtXxVhLTo6SlFRUYqOjrJ7FKPcmktybza35pLcm82tuST3ZnNrLkm2ZqJgAQAAGEbBAgAAMIyCBQAAYBgFCwAAwDAKFgAAgGEULAAAAMMoWAAAAIZRsAAAAAyLuILV0tKiYcOGaevWrZfcs2fPHo0ePVpZWVkaNWqUqqurO3BCAADgdBFVsHw%2Bn55%2B%2BmnV1NRcck9jY6MmTJigvn37au3atcrOztbEiRPV2NjYgZMCAAAni5iCVVtbq/vvv19//etfL7tv06ZNiouL0/Tp09WjRw/NmjVLiYmJ2rx5cwdNCgAAnC5iCtbHH3%2Bs/v37q6Ki4rL7qqqqlJubq6ios/9%2BUVRUlHJycrRz586OGBMAALiAx%2B4BOsqYMWNC2uf1etWzZ8%2BAtc6dO1/2suKF6urq5PV6A9Y8nk5KS0sL%2BT7sFBMTHfC7W7g1l%2BTebG7NJbk3m1tzSe7N5tZckr2ZIqZghaqpqUmxsbEBa7GxsWppaQn5PioqKlRWVhawNmnSJE2dOtXIjOfrO8s5ly4/mTfE7hEkScnJCSHtc9L3Vjr7/Q01m9O4NZfk3mz8nIUHJ31/w%2BUxwhQK1gXi4uKCylRLS4vi4%2BNDvo/CwkLl5%2BcHrHk8nVRff8rIjE5ld/6YmGglJyfo%2BPEmnTnTZussV4vbsrn5zNyaza25zufmbHa6Go8R5/482oGCdYH09HQdO3YsYO3YsWPturyXlpYWtN/rPaHW1sj%2BgQyX/GfOtIXNLKa5NZtbc0nuzebWXJK7s9nJbd9T911w/TtlZWVpx44dsixLkmRZlrZv366srCybJwMAAE5BwdLZF7Y3NzdLkoYMGaLjx49r3rx5qq2t1bx589TU1KShQ4faPCUAAHAKCpakvLw8bdq0SZKUlJSkpUuXqrKyUiNHjlRVVZWWLVumTp062TwlAABwioh8Dda%2Bffsue/uWW27RunXrOnIkAADgIjyDBQAAYBgFCwAAwDAKFgAAgGEULAAAAMMoWAAAAIZRsAAAAAyjYAEAABhGwQIAADCMggUAAGAYBQsAAMAwChYAAIBhFCwAAADDKFgAAACGUbAAAAAMo2ABAAAYRsECAAAwjIIFAABgGAULAADAMAoWAACAYRQsAAAAwyhYAAAAhlGwAAAADKNgAQAAGEbBAgAAMIyCBQAAYBgFCwAAwDAKFgAAgGEULAAAAMMoWAAAAIZRsAAAAAyjYAEAABhGwQIAADCMggUAAGAYBQsAAMAwChYAAIBhFCwAAADDKFgAAACGUbAAAAAMo2ABAAAYRsECAAAwjIIFAABgGAULAADAMAoWAACAYRQsAAAAwyhYAAAAhlGwAAAADKNgAQAAGEbBAgAAMIyCBQAAYFjEFCyfz6eZM2eqb9%2B%2BysvLU3l5%2BSX3/va3v9XQoUOVnZ2tBx98ULt37%2B7ASQEAgNNFTMFasGCBqqurtXLlSs2ZM0dlZWXavHlz0L6amhpNmzZNEydO1IYNG5SRkaGJEyeqqanJhqkBAIATRUTBamxs1Jo1azRr1ixlZmZq0KBBGj9%2BvFavXh20909/%2BpN69uypgoIC3XTTTXr66afl9XpVW1trw%2BQAAMCJIqJg7d27V62trcrOzvav5ebmqqqqSm1tbQF7r7vuOtXW1qqyslJtbW1au3atkpKSdNNNN3X02AAAwKE8dg/QEbxer1JSUhQbG%2Btf69Kli3w%2BnxoaGpSamupfv/vuu/X%2B%2B%2B9rzJgxiomJUXR0tJYuXaprr7025K9XV1cnr9cbsObxdFJaWtrfH8bBPB57%2B3xMTHTA727ktmxuPjO3ZnNrrvO5OZudrsZjhJ1nFREFq6mpKaBcSfLfbmlpCVivr6%2BX1%2BvV7NmzlZWVpTfeeEMzZszQunXr1Llz55C%2BXkVFhcrKygLWJk2apKlTp/4dKZwvJSXR7hEkScnJCXaPcNW4NZtbc0nuzebWXJK7s9kpXB4jTImIghUXFxdUpM7djo%2BPD1hftGiRevXqpYceekiS9MILL2jo0KF66623NGHChJC%2BXmFhofLz8wPWPJ5Oqq8/9XUjuILd%2BWNiopWcnKDjx5t05kzblT/BgdyWzc1n5tZsbs11Pjdns9PVeIw49%2BfRDhFRsNLT01VfX6/W1lZ5PGcje71excfHKzk5OWDv7t279cgjj/hvR0dHq3fv3jpy5EjIXy8tLS3ocqDXe0KtrZH9Axku%2Bc%2BcaQubWUxzaza35pLcm82tuSR3Z7OT276nEXEhOSMjQx6PRzt37vSvVVZWqk%2BfPoqODvwWpKWl6fPPPw9YO3jwoP7hH/6hQ2YFAADOFxEFKyEhQQUFBSouLtauXbu0ZcsWlZeXa%2BzYsZLOPpvV3NwsSbr//vv15ptvav369Tp06JAWLVqkI0eOaMSIEXZGAAAADhIRlwglacaMGSouLta4ceOUlJSkKVOmaPDgwZKkvLw8lZSUaOTIkbr77rt16tQpLV26VEePHlVGRoZWrlwZ8gvcAQAAIqZgJSQkqLS0VKWlpUEf27dvX8Dt0aNHa/To0R01GgAAcJmIuEQIAADQkShYAAAAhlGwAAAADKNgAQAAGEbBAgAAMIyCBQAAYBgFCwAAwDAKFgAAgGEULAAAAMMoWAAAAIZRsAAAAAyjYAEAABhGwQIAADCMggUAAGAYBQsAAMAwChYAAIBhFCwAAADDKFgAAACGUbAAAAAMo2ABAAAYRsECAAAwjIIFAABgGAULAADAMAoWAACAYRQsAAAAwyhYAAAAhlGwAAAADKNgAQAAGEbBAgAAMIyCBQAAYBgFCwAAwDAKFgAAgGEULAAAAMMoWAAAAIZRsAAAAAyjYAEAABhGwQIAADCMggUAAGAYBQsAAMAwChYAAIBhFCwAAADDKFgAAACGUbAAAAAMo2ABAAAYFvYFa/To0frVr36lEydO2D0KAABASMK%2BYA0YMEBLlixRXl6enn76af3xj3%2BUZVl2jwUAAHBJYV%2Bwpk2bpt///vd69dVXFRMToylTpui73/2ufv7zn%2BvgwYN2jwcAABDEY/cAoYiKitLAgQM1cOBANTU1adWqVXr11Ve1bNky5eTkaNy4cRo8eLDdYwIAAEhySMGSpLq6Or399tt6%2B%2B23tX//fuXk5GjEiBE6evSonn32WW3btk2zZs2ye0wAAIDwL1gbNmzQhg0btHXrVqWmpqqgoEAvv/yyunfv7t/zzW9%2BU/PmzbtswfL5fHruuef0m9/8RvHx8Xrsscf02GOPXXTvvn37VFxcrN27d6tbt26aNWuWBgwYYDoaAABwqbAvWLNmzdL3vvc9/eIXv9Add9yh6Ojgl43dfPPNevjhhy97PwsWLFB1dbVWrlypI0eOqKioSDfccIOGDBkSsO/EiRN67LHHlJ%2Bfr/nz52vDhg2aPHmy3nvvPXXu3NloNgAA4E5hX7D%2B8Ic/KCUlRQ0NDf5ytWvXLmVmZiomJkaSlJOTo5ycnEveR2Njo9asWaPly5crMzNTmZmZqqmp0erVq4MK1rp169SpUycVFxcrJiZGU6dO1Ycffqjq6mp95zvfuXpBAQCAa4T93yI8efKkhgwZouXLl/vXJkyYoOHDh%2Bt//ud/QrqPvXv3qrW1VdnZ2f613NxcVVVVqa2tLWDvxx9/rO9///v%2B8iZJb731FuUKAACELOyfwXrxxRfVrVs3Pfroo/61TZs2qaioSCUlJXr55ZeveB9er1cpKSmKjY31r3Xp0kU%2Bn08NDQ1KTU31r3/xxRe65ZZb9NOf/lTvv/%2B%2BunbtqqKiIuXm5oY8c11dnbxeb8Cax9NJaWlpId%2BHG3k89vb5mJjogN/dyG3Z3Hxmbs3m1lznc3M2O12Nxwg7zyrsC9Ynn3yiN998U9dff71/LTU1VdOnT9dDDz0U0n00NTUFlCtJ/tstLS0B642NjVq2bJnGjh2r5cuX69e//rUef/xxvfvuu/rmN78Z0terqKhQWVlZwNqkSZM0derUkD7frVJSEu0eQZKUnJxg9whXjVuzuTWX5N5sbs0luTubncLlMcKUsC9YHo9Hx48fD1pvamoK%2BR3d4%2BLigorUudvx8fEB6zExMcrIyPCXoX/%2B53/Wn/70J23YsEFPPPFESF%2BvsLBQ%2Bfn5F%2BTopPr6UyF9vlvZnT8mJlrJyQk6frxJZ860XfkTHMht2dx8Zm7N5tZc53NzNjtdjceIc38e7RD2BeuOO%2B7Q3LlztXjxYt10002Szl7GKykp0e233x7SfaSnp6u%2Bvl6tra3yeM5G9nq9io%2BPV3JycsDe66%2B/XjfffHPAWvfu3UN%2BvZckpaWlBV0O9HpPqLU1sn8gwyX/mTNtYTOLaW7N5tZcknuzuTWX5O5sdnLb9zTsLyQXFRWppaVFd911l/r376/%2B/ftr8ODBOn36tGbMmBHSfWRkZMjj8Wjnzp3%2BtcrKSvXp0yfobR9uvfVW7du3L2DtwIED6tq1698fBgAARISwfwarc%2BfOWrdunf785z%2BrpqZGHo9HPXv21Le//W1FRUWFdB8JCQkqKChQcXGxXnzxRdXV1am8vFwlJSWSzj6bdc011yg%2BPl4PPPCAXn/9db3yyiu67777tH79en3xxRcaPnz41YwJAABcJOwLlnT2dVG33357yJcEL2bGjBkqLi7WuHHjlJSUpClTpvj//cK8vDyVlJRo5MiR6tq1q1asWKF58%2BZp2bJl6tGjh5YtW6b09HRTcQAAgMuFfcHyer166aWXtH37dp0%2BfTrohe2/%2B93vQrqfhIQElZaWqrS0NOhjF14SzM3N1dq1a7/%2B0AAAIKKFfcH66U9/qurqat1zzz265ppr7B4HAADgisK%2BYP3lL3/RihUr1LdvX7tHAQAACEnY/y3CTp068Y8sAwAARwn7gjV8%2BHCtWLFCZ86csXsUAACAkIT9JcKGhgZt3LhRH3zwgW688cagf/Lmtddes2kyAACAiwv7giVJw4YNs3sEAACAkIV9wTr3ZqAAAABOEfavwZKkuro6lZWVadq0afrf//1fbd68WQcOHLB7LAAAgIsK%2B4J16NAh3XvvvVq3bp3ee%2B89NTY2atOmTRo1apSqqqrsHg8AACBI2Bes%2BfPn684779SWLVv0jW98Q5K0ePFi5efna9GiRTZPBwAAECzsC9b27dv16KOPBvzDzh6PR0899ZT27Nlj42QAAAAXF/YFq62tTW1tbUHrp06dUkxMjA0TAQAAXF7YF6y8vDwtXbo0oGQ1NDRo4cKFGjBggI2TAQAAXFzYF6xnnnlG1dXVysvLk8/n05NPPqnvfe97Onz4sIqKiuweDwAAIEjYvw9Wenq61q9fr40bN%2Bqzzz5TW1ubHnzwQQ0fPlxJSUl2jwcAABAk7AuWJCUkJGj06NF2jwEAABCSsC9YY8eOvezH%2BbcIAQBAuAn7gtW1a9eA262trTp06JD279%2BvcePG2TQVAADApYV9wbrUv0X4i1/8QkePHu3gaQAAAK4s7P8W4aUMHz5c7777rt1jAAAABHFswdqxYwdvNAoAAMJS2F8ivNiL3E%2BePKl9%2B/ZpzJgxNkwEAABweWFfsG644YaAf4dQkr7xjW/o4Ycf1n333WfTVAAAAJcW9gVr/vz5do8AAADQLmFfsLZt2xby3ttuu%2B0qTgIAABCasC9YjzzyiP8SoWVZ/vUL16KiovTZZ591/IAAAAAXCPuCtWTJEs2dO1c/%2BclP1K9fP8XGxurTTz/V888/rxEjRujuu%2B%2B2e0QAAIAAYf82DSUlJZo9e7buuusupaSkKDExUQMGDNDzzz%2BvN954Q127dvX/AgAACAdhX7Dq6uouWp6SkpJUX19vw0QAAACXF/YF69Zbb9XixYt18uRJ/1pDQ4MWLlyob3/72zZOBgAAcHFh/xqsZ599VmPHjtUdd9yh7t27y7Is/fd//7euv/56vfbaa3aPBwAAECTsC1aPHj20adMmbdy4UZ9//rkk6aGHHtI999yjhIQEm6cDAAAIFvYFS5KuvfZajR49WocPH9aNN94o6ey7uQMAAISjsH8NlmVZWrRokW677TYNGzZMR48eVVFRkWbNmqXTp0/bPR4AAECQsC9Yq1at0oYNGzRnzhzFxsZKku68805t2bJFZWVlNk8HAAAQLOwLVkVFhWbPnq2RI0f637397rvv1ty5c/XOO%2B/YPB0AAECwsC9Yhw8fVkZGRtB679695fV6bZgIAADg8sK%2BYHXt2lWffvpp0Pof/vAH/wveAQAAwknY/y3Cxx9/XM8995y8Xq8sy9JHH32kiooKrVq1Ss8884zd4wEAAAQJ%2B4I1atQotba26pe//KWam5s1e/Zspaam6t/%2B7d/04IMP2j0eAABAkLAvWBs3btSQIUNUWFior776SpZlqXPnznaPBQAAcElh/xqs559/3v9i9tTUVMoVAAAIe2FfsLp37679%2B/fbPQYAAEDIwv4SYe/evfXjH/9YK1asUPfu3RUXFxfw8ZKSEpsmAwAAuLiwL1gHDx5Ubm6uJPG%2BVwAAwBHCsmAtWLBAkydPVqdOnbRq1Sq7xwEAAGiXsHwN1n/8x3%2BoqakpYG3ChAmqq6uzaSIAAIDQhWXBsiwraG3btm3y%2BXw2TAMAANA%2BYVmwAAAAnCxiCpbP59PMmTPVt29f5eXlqby8/Iqfc/jwYWVnZ2vr1q0dMCEAAHCLsHyRuyRFRUUZvb8FCxaourpaK1eu1JEjR1RUVKQbbrhBQ4YMueTnFBcXq7Gx0egcAADA/cK2YM2dOzfgPa9Onz6thQsXKjExMWBfKO%2BD1djYqDVr1mj58uXKzMxUZmamampqtHr16ksWrLffflunTp36%2B0IAAICIFJYF67bbbgt6z6vs7GzV19ervr6%2B3fe3d%2B9etba2Kjs727%2BWm5urJUuWqK2tTdHRgVdK6%2BvrtXDhQpWXl2vYsGFfLwQAAIhYYVmwTL/3ldfrVUpKimJjY/1rXbp0kc/nU0NDg1JTUwP2z58/XyNGjNA//uM/fq2vV1dXF1QQPZ5OSktL%2B1r35xYej70v%2BYuJiQ743Y3cls3NZ%2BbWbG7NdT43Z7PT1XiMsPOswrJgmdbU1BRQriT5b7e0tASs//nPf1ZlZaU2btz4tb9eRUWFysrKAtYmTZqkqVOnfu37dIOUlMQrb%2BoAyckJdo9w1bg1m1tzSe7N5tZckruz2SlcHiNMiYiCFRcXF1Skzt2Oj4/3rzU3N2v27NmaM2dOwHp7FRYWKj8/P2DN4%2Bmk%2BvrIfk2X3fljYqKVnJyg48ebdOZMm62zXC1uy%2BbmM3NrNrfmOp%2Bbs9npajxGnPvzaIeIKFjp6emqr69Xa2urPJ6zkb1er%2BLj45WcnOzft2vXLn3xxRdBzzT98Ic/VEFBgZ5//vmQvl5aWlrQ5UCv94RaWyP7BzJc8p850xY2s5jm1mxuzSW5N5tbc0nuzmYnt31PI6JgZWRkyOPxaOfOnerbt68kqbKyUn369Al4gfstt9yi3/zmNwGfO3jwYM2dO1cDBw7s0JkBAIBzRUTBSkhIUEFBgYqLi/Xiiy%2Bqrq5O5eXl/rd48Hq9uuaaaxQfH69u3boFfX56ero6d%2B7c0WMDAACHipi/CjFjxgxlZmZq3Lhxeu655zRlyhQNHjxYkpSXl6dNmzbZPCEAAHCLiHgGSzr7LFZpaalKS0uDPrZv375Lft7lPgYAAHAxEfMMFgAAQEehYAEAABhGwQIAADCMggUAAGAYBQsAAMAwChYAAIBhFCwAAADDKFgAAACGUbAAAAAMo2ABAAAYRsECAAAwjIIFAABgGAULAADAMAoWAACAYRQsAAAAwyhYAAAAhlGwAAAADKNgAQAAGEbBAgAAMIyCBQAAYBgFCwAAwDAKFgAAgGEULAAAAMMoWAAAAIZRsAAAAAyjYAEAABhGwQIAADCMggUAAGAYBQsAAMAwChYAAIBhFCwAAADDKFgAAACGUbAAAAAMo2ABAAAYRsECAAAwjIIFAABgGAULAADAMAoWAACAYRQsAAAAwyhYAAAAhlGwAAAADKNgAQAAGEbBAgAAMIyCBQAAYBgFCwAAwDAKFgAAgGEULAAAAMMoWAAAAIZRsAAAAAyLmILl8/k0c%2BZM9e3bV3l5eSovL7/k3g8%2B%2BEDDhw9Xdna27r33Xv3ud7/rwEkBAIDTRUzBWrBggaqrq7Vy5UrNmTNHZWVl2rx5c9C%2BvXv3avLkyRo1apTWr1%2BvBx54QD/60Y%2B0d%2B9eG6YGAABO5LF7gI7Q2NioNWvWaPny5crMzFRmZqZqamq0evVqDRkyJGDvxo0bNWDAAI0dO1aS1K1bN73//vt699131bt3bzvGBwAADhMRBWvv3r1qbW1Vdna2fy03N1dLlixRW1uboqP//xN5I0aM0OnTp4Pu48SJEx0yKwAAcL6IKFher1cpKSmKjY31r3Xp0kU%2Bn08NDQ1KTU31r/fo0SPgc2tqavTRRx/pgQceCPnr1dXVyev1Bqx5PJ2Ulpb2NRO4g8dj7xXpmJjogN/dyG3Z3Hxmbs3m1lznc3M2O12Nxwg7zyoiClZTU1NAuZLkv93S0nLJz/vqq680ZcoU5eTk6Pvf/37IX6%2BiokJlZWUBa5MmTdLUqVPbMbX7pKQk2j2CJCk5OcHuEa4at2Zzay7JvdncmktydzY7hctjhCkRUbDi4uKCitS52/Hx8Rf9nGPHjunRRx%2BVZVl6%2BeWXAy4jXklhYaHy8/MD1jyeTqqvP9XOyd3F7vwxMdFKTk7Q8eNNOnOmzdZZrha3ZXPzmbk1m1tznc/N2ex0NR4jzv15tENEFKz09HTV19ertbVVHs/ZyF6vV/Hx8UpOTg7a/%2BWXX/pf5P7aa68FXEIMRVpaWtDlQK/3hFpbI/sHMlzynznTFjazmObWbG7NJbk3m1tzSe7OZie3fU8j4kJyRkaGPB6Pdu7c6V%2BrrKxUnz59gp6Zamxs1Pjx4xUdHa3XX39d6enpHT0uAABwuIgoWAkJCSooKFBxcbF27dqlLVu2qLy83P8sldfrVXNzsyRp6dKl%2Butf/6rS0lL/x7xeL3%2BLEAAAhCwiLhFK0owZM1RcXKxx48YpKSlJU6ZM0eDBgyVJeXl5Kikp0ciRI/Xee%2B%2BpublZo0ePDvj8ESNGaP78%2BXaMDgAAHCZiClZCQoJKS0v9z0ydb9%2B%2Bff7/fbF3dwcAAGiPiLhECAAA0JEoWAAAAIZRsAAAAAyjYAEAABhGwQIAADCMggUAAGAYBQsAAMAwChYAAIBhFCwAAADDKFgAAACGUbAAAAAMo2ABAAAYRsECAAAwjIIFAABgGAULAADAMAoWAACAYRQsAAAAwyhYAAAAhlGwAAAADKNgAQAAGEbBAgAAMIyCBQAAYBgFCwAAwDAKFgAAgGEULAAAAMMoWAAAAIZRsAAAAAyjYAEAABhGwQIAADCMggUAAGAYBQsAAMAwChYAAIBhFCwAAADDKFgAAACGUbAAAAAMo2ABAAAYRsECAAAwjIIFAABgGAULAADAMAoWAACAYRQsAAAAwyhYAAAAhlGwAAAADKNgAQAAGEbBAgAAMIyCBQAAYBgFCwAAwDAKFgAAgGEULAAAAMMipmD5fD7NnDlTffv2VV5ensrLyy%2B5d8%2BePRo9erSysrI0atQoVVdXd%2BCkAADA6SKmYC1YsEDV1dVauXKl5syZo7KyMm3evDloX2NjoyZMmKC%2Bfftq7dq1ys7O1sSJE9XY2GjD1AAAwIkiomA1NjZqzZo1mjVrljIzMzVo0CCNHz9eq1evDtq7adMmxcXFafr06erRo4dmzZqlxMTEi5YxAACAi4mIgrV37161trYqOzvbv5abm6uqqiq1tbUF7K2qqlJubq6ioqIkSVFRUcrJydHOnTs7dGYAAOBcHrsH6Aher1cpKSmKjY31r3Xp0kU%2Bn08NDQ1KTU0N2NuzZ8%2BAz%2B/cubNqampC/np1dXXyer0Bax5PJ6WlpX3NBO7g8djb52NiogN%2BdyO3ZXPzmbk1m1tznc/N2ex0NR4j7DyriChYTU1NAeVKkv92S0tLSHsv3Hc5FRUVKisrC1ibPHmypkyZ0p6xQ/LJvCHG77Ourk4VFRUqLCx0VSmsq6vTypUrQs51Nb63V0tdXZ1eeeWViD8zJ3FrNn7Owkso31%2B3/jdfsvfnLCJqeFxcXFBBOnc7Pj4%2BpL0X7rucwsJCrV27NuBXYWHh15y%2B43m9XpWVlQU9C%2Bd0bs0luTebW3NJ7s3m1lySe7O5NZdkb7aIeAYrPT1d9fX1am1tlcdzNrLX61V8fLySk5OD9h47dixg7dixY%2B1qvmlpaa77fwEAACB0EfEMVkZGhjweT8AL1SsrK9WnTx9FRwd%2BC7KysrRjxw5ZliVJsixL27dvV1ZWVofODAAAnCsiClZCQoIKCgpUXFysXbt2acuWLSovL9crfYjXAAAIj0lEQVTYsWMlnX02q7m5WZI0ZMgQHT9%2BXPPmzVNtba3mzZunpqYmDR061M4IAADAQWKKi4uL7R6iIwwYMEB79uzRz372M3300Ud64oknNGrUKElSTk6OunXrpoyMDMXGxqpfv376z//8Ty1ZskStra1avHixbrjhBpsTdKzExET169dPiYmJdo9ilFtzSe7N5tZcknuzuTWX5N5sbs0l2Zctyjp3LQwAAABGRMQlQgAAgI5EwQIAADCMggUAAGAYBQsAAMAwChYAAIBhFCwAAADDKFgAAACGUbAAAAAMo2BFuJaWFg0bNkxbt2695J49e/Zo9OjRysrK0qhRo1RdXd2BE349oeR68skn9U//9E8Bv37/%2B9934JSh%2B/LLLzV16lT169dPt99%2Bu0pKSuTz%2BS6612nn1Z5sTjozSTp06JAef/xxZWdn67vf/a5WrFhxyb1OOrf25HLamZ0zYcIEPfPMM5f8uJPO60JXyua0M/vtb38bNO/UqVMvurdDz81CxGpubrYmTZpk9erVy/rLX/5y0T2nTp2yBg4caM2fP9%2Bqra21XnjhBetf/uVfrFOnTnXwtKELJZdlWdagQYOsDRs2WHV1df5fPp%2BvAycNTVtbm3X//fdb48ePt/bv329t27bNGjRokDV//vygvU47r/ZksyznnJllWdaZM2eswYMHW9OmTbMOHjxoffDBB1ZOTo719ttvB%2B110rm1J5dlOevMztm4caPVq1cvq6io6KIfd9J5XehK2SzLeWf26quvWhMnTgyY929/%2B1vQvo4%2BNwpWhKqpqbHuu%2B8%2B6957771sEVmzZo2Vn59vtbW1WZZ19gFx0KBB1ltvvdWR44Ys1Fw%2Bn8/KyMiwDhw40METtl9tba3Vq1cvy%2Bv1%2BtfeeecdKy8vL2iv086rPdmcdGaWZVlffvml9aMf/cg6ceKEf23SpEnWnDlzgvY66dzak8tpZ2ZZllVfX2/dcccd1qhRoy5ZQpx0XucLJZsTz2zatGnWz372syvu6%2Bhz4xJhhPr444/Vv39/VVRUXHZfVVWVcnNzFRUVJUmKiopSTk6Odu7c2RFjtluouQ4cOKCoqCjdeOONHTTZ13f99ddrxYoV6tKlS8D6yZMng/Y67bzak81JZyZJaWlpeumll5SUlCTLslRZWalt27apX79%2BQXuddG7tyeW0M5Ok0tJSDR8%2BXD179rzkHied1/lCyebEM/v888/VvXv3K%2B7r6HOjYEWoMWPGaObMmUpISLjsPq/Xq7S0tIC1zp076%2BjRo1dzvK8t1FwHDhxQUlKSpk%2Bfrry8PP3gBz/Qhx9%2B2EFTtk9ycrJuv/12/%2B22tja9/vrrGjBgQNBep51Xe7I56cwulJ%2BfrzFjxig7O1t33XVX0Meddm7nXCmX087so48%2B0ieffKKnnnrqsvuceF6hZnPamVmWpYMHD%2BqPf/yj7rrrLt15551atGiRWlpagvZ29LlRsHBZTU1Nio2NDViLjY296B9eJzlw4ICam5uVl5enFStW6Dvf%2BY6efPJJffrpp3aPdkULFy7Unj179O///u9BH3P6eV0um5PP7OWXX9aSJUv02WefqaSkJOjjTj23K%2BVy0pn5fD7NmTNHs2fPVnx8/GX3Ou282pPNSWcmSUeOHPGfx0svvaSioiK98847WrBgQdDejj43z1W5V7hGXFxc0B%2B%2BlpaWK/6QhrunnnpKjzzyiK699lpJUu/evbV79269%2Beab6tOnj83TXdrChQu1cuVK/fznP1evXr2CPu7k87pSNqeemST/fD6fTz/%2B8Y81ffr0gP/QO/XcrpTLSWdWVlamb33rWwHPqF6K086rPdmcdGaS1LVrV23dulXXXnutoqKilJGRoba2Nv3kJz/RjBkzFBMT49/b0edGwcJlpaen69ixYwFrx44dC3qa1Wmio6P9/wE55%2Babb1Ztba1NE13ZCy%2B8oDfeeEMLFy686OUYybnnFUo2p53ZsWPHtHPnTt15553%2BtZ49e%2Br06dM6efKkUlNT/etOOrf25HLSmf3617/WsWPHlJ2dLUn%2BB%2BL33ntPO3bsCNjrpPOS2pfNSWd2znXXXRdwu0ePHvL5fPrb3/5m688ZlwhxWVlZWdqxY4csy5J09nr39u3blZWVZfNkf59nnnlGM2bMCFjbu3evbr75ZpsmuryysjL96le/0uLFi3XPPfdccp8TzyvUbE47s8OHD2vy5Mn68ssv/WvV1dVKTU0N%2BI%2B%2B5Kxza08uJ53ZqlWr9M4772j9%2BvVav3698vPzlZ%2Bfr/Xr1wftddJ5Se3L5qQzk6T/%2Bq//Uv/%2B/dXU1ORf%2B%2Byzz3TdddfZ/nNGwUIQr9er5uZmSdKQIUN0/PhxzZs3T7W1tZo3b56ampo0dOhQm6dsv/Nz5efn%2B/%2BDc%2BjQIZWVlamyslIPP/ywzVMG%2B/zzz/Xqq6/qhz/8oXJzc%2BX1ev2/JGefV3uyOenMpLOXzzIzMzVz5kzV1tbqww8/1MKFC/XEE09Icu65tSeXk86sa9eu6tatm/9XYmKiEhMT1a1bN0nOPS%2BpfdmcdGaSlJ2drbi4OD377LM6cOCAPvzwQy1YsEDjx4%2BXZPO5XZU3f4CjXPh%2BUb169Qp4X5CqqiqroKDA6tOnj/WDH/zA2r17tx1jttuVcr355pvW4MGDrW9961vWiBEjrI8//tiOMa9o6dKlVq9evS76y7KcfV7tzeaUMzvn6NGj1qRJk6ycnBxr4MCB1i9/%2BUv/e/A4%2Bdzak8tpZ3ZOUVFRwHtFOfm8LnSlbE47s/3791v/%2Bq//at16663WwIEDrVdeeSUsfs6iLOv/PVcGAAAAI7hECAAAYBgFCwAAwDAKFgAAgGEULAAAAMMoWAAAAIZRsAAAAAyjYAEAABhGwQIAADCMggUAAGAYBQsAAMAwChYAAIBhFCwAAADDKFgAAACG/R9tSiEa6SeqnQAAAABJRU5ErkJggg%3D%3D\">\n",
       "    </div>\n",
       "</div>\n",
       "</div><div class=\"row variablerow ignore\">\n",
       "    <div class=\"col-md-3 namecol\">\n",
       "        <p class=\"h4\"><s>b</s><br/>\n",
       "            <small>Highly correlated</small>\n",
       "        </p>\n",
       "    </div> <div class=\"col-md-3\">\n",
       "    <p><em>This variable is highly correlated with <code>a</code> and should be ignored for analysis</em></p>\n",
       "</div>\n",
       "<div class=\"col-md-6\">\n",
       "    <table class=\"stats \">\n",
       "        <tr>\n",
       "            <th>Correlation</th>\n",
       "            <td>1</td>\n",
       "        </tr>\n",
       "    </table>\n",
       "</div>\n",
       "</div> \n",
       "    <div class=\"row headerrow highlight\">\n",
       "        <h1>Sample</h1>\n",
       "    </div>\n",
       "    <div class=\"row variablerow\">\n",
       "    <div class=\"col-md-12\" style=\"overflow:scroll; width: 100%%; overflow-y: hidden;\">\n",
       "        <table border=\"1\" class=\"dataframe sample\">\n",
       "  <thead>\n",
       "    <tr style=\"text-align: right;\">\n",
       "      <th></th>\n",
       "      <th>a</th>\n",
       "      <th>b</th>\n",
       "    </tr>\n",
       "  </thead>\n",
       "  <tbody>\n",
       "    <tr>\n",
       "      <th>0</th>\n",
       "      <td>1.0</td>\n",
       "      <td>NaN</td>\n",
       "    </tr>\n",
       "    <tr>\n",
       "      <th>1</th>\n",
       "      <td>2.0</td>\n",
       "      <td>NaN</td>\n",
       "    </tr>\n",
       "    <tr>\n",
       "      <th>2</th>\n",
       "      <td>NaN</td>\n",
       "      <td>3.0</td>\n",
       "    </tr>\n",
       "    <tr>\n",
       "      <th>3</th>\n",
       "      <td>4.0</td>\n",
       "      <td>4.0</td>\n",
       "    </tr>\n",
       "    <tr>\n",
       "      <th>4</th>\n",
       "      <td>5.0</td>\n",
       "      <td>5.0</td>\n",
       "    </tr>\n",
       "  </tbody>\n",
       "</table>\n",
       "    </div>\n",
       "</div>\n",
       "</div>"
      ],
      "text/plain": [
       "<spark_df_profiling_optimus.ProfileReport at 0x112e295f8>"
      ]
     },
     "execution_count": 6,
     "metadata": {},
     "output_type": "execute_result"
    }
   ],
   "source": [
    "profiler.profiler()"
   ]
  },
  {
   "cell_type": "markdown",
   "metadata": {},
   "source": [
    "We can see that the profiler found the missing value in the `a` column, he did not run the analysis fully on the `b`column because it detected that both columns contained the same information (ther correlation is 1)."
   ]
  },
  {
   "cell_type": "markdown",
   "metadata": {},
   "source": [
    "## Data Imputing with Optimus "
   ]
  },
  {
   "cell_type": "markdown",
   "metadata": {},
   "source": [
    "We wrapped the `imputer` function of Apache Spark Machine Learning (ML) library and make your life much easier. If you want to look the way yo can do this wih Spark Vanilla please enter the [Pyspark API](https://spark.apache.org/docs/latest/api/python/pyspark.ml.html?highlight=impute#pyspark.ml.feature.Imputer). You can choose to use the mean or the median of the columns in which the missing values are located for your imputation. The input columns should be of DoubleType or FloatType. "
   ]
  },
  {
   "cell_type": "markdown",
   "metadata": {},
   "source": [
    "In Optimus you only have to do this:"
   ]
  },
  {
   "cell_type": "code",
   "execution_count": 7,
   "metadata": {
    "collapsed": true
   },
   "outputs": [],
   "source": [
    "transformer = op.DataFrameTransformer(df)"
   ]
  },
  {
   "cell_type": "code",
   "execution_count": 8,
   "metadata": {
    "scrolled": true
   },
   "outputs": [
    {
     "name": "stdout",
     "output_type": "stream",
     "text": [
      "+---+---+-----+-----+\n",
      "|  a|  b|out_a|out_B|\n",
      "+---+---+-----+-----+\n",
      "|1.0|NaN|  1.0|  4.0|\n",
      "|2.0|NaN|  2.0|  4.0|\n",
      "|NaN|3.0|  3.0|  3.0|\n",
      "|4.0|4.0|  4.0|  4.0|\n",
      "|5.0|5.0|  5.0|  5.0|\n",
      "+---+---+-----+-----+\n",
      "\n"
     ]
    }
   ],
   "source": [
    "# Choose the columns to run the analysis and the names of the columns for the output\n",
    "transformer.impute_missing([\"a\",\"b\"],[\"out_a\",\"out_B\"],strategy=\"mean\").show()"
   ]
  },
  {
   "cell_type": "code",
   "execution_count": 9,
   "metadata": {},
   "outputs": [
    {
     "name": "stdout",
     "output_type": "stream",
     "text": [
      "+---+---+-----+-----+\n",
      "|  a|  b|out_a|out_B|\n",
      "+---+---+-----+-----+\n",
      "|1.0|NaN|  1.0|  4.0|\n",
      "|2.0|NaN|  2.0|  4.0|\n",
      "|NaN|3.0|  2.0|  3.0|\n",
      "|4.0|4.0|  4.0|  4.0|\n",
      "|5.0|5.0|  5.0|  5.0|\n",
      "+---+---+-----+-----+\n",
      "\n"
     ]
    }
   ],
   "source": [
    "# Choose the columns to run the analysis and the names of the columns for the output\n",
    "transformer.impute_missing([\"a\",\"b\"],[\"out_a\",\"out_B\"],strategy=\"median\").show()"
   ]
  },
  {
   "cell_type": "markdown",
   "metadata": {},
   "source": [
    "And voilà :)"
   ]
  }
 ],
 "metadata": {
  "kernelspec": {
   "display_name": "Python 3",
   "language": "python",
   "name": "python3"
  },
  "language_info": {
   "codemirror_mode": {
    "name": "ipython",
    "version": 3
   },
   "file_extension": ".py",
   "mimetype": "text/x-python",
   "name": "python",
   "nbconvert_exporter": "python",
   "pygments_lexer": "ipython3",
   "version": "3.6.1"
  }
 },
 "nbformat": 4,
 "nbformat_minor": 2
}
