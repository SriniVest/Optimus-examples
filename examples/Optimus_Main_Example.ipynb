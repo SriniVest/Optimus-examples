{
 "cells": [
  {
   "cell_type": "markdown",
   "metadata": {},
   "source": [
    "# Optimus Example"
   ]
  },
  {
   "cell_type": "markdown",
   "metadata": {},
   "source": [
    "This Notebook is a simple tutorial about DataFrameTransformer, DataFrameAnalyzer and Utilities modules.\n",
    "\n",
    "- DataFrameTransformer is a dedicated module to easily make dataframe transformations. \n",
    "\n",
    "- DataFrameProfiler is a dedicated module to run a basic profile of the dataframe.\n",
    "\n",
    "- DataFrameAnalyzer is a dedicated module to plot and see important features of a spark\n",
    " Dataframe.\n",
    "\n",
    "- Utilities module contains tool classes that support use of DataFrameTransformer and DataFrameAnalyzer modules. "
   ]
  },
  {
   "cell_type": "markdown",
   "metadata": {},
   "source": [
    "### Importing Modules"
   ]
  },
  {
   "cell_type": "code",
   "execution_count": 1,
   "metadata": {
    "scrolled": true
   },
   "outputs": [
    {
     "data": {
      "text/html": [
       "<div>Starting or getting SparkSession and SparkContext.</div>"
      ],
      "text/plain": [
       "<IPython.core.display.HTML object>"
      ]
     },
     "metadata": {},
     "output_type": "display_data"
    },
    {
     "data": {
      "text/html": [
       "<div>Setting checkpoint folder (local). If you are in a cluster change it with set_check_point_folder(path,'hadoop').</div>"
      ],
      "text/plain": [
       "<IPython.core.display.HTML object>"
      ]
     },
     "metadata": {},
     "output_type": "display_data"
    },
    {
     "name": "stdout",
     "output_type": "stream",
     "text": [
      "Deleting previous folder if exists...\n",
      "Creation of checkpoint directory...\n",
      "Done.\n"
     ]
    },
    {
     "data": {
      "text/html": [
       "\n",
       "        <div style=\"margin:10px\">\n",
       "            <a href=\"https://github.com/ironmussa/Optimus\" target=\"_new\">\n",
       "                <img src=\"https://github.com/ironmussa/Optimus/raw/master/images/robotOptimus.png\" style=\"float:left;margin-right:10px;vertical-align:top;text-align:center\" height=\"50\" width=\"50\"/>\n",
       "            </a>\n",
       "            <span><b><h2>Optimus successfully imported. Have fun :).</h2></b></span>\n",
       "        </div>\n",
       "        "
      ],
      "text/plain": [
       "<IPython.core.display.HTML object>"
      ]
     },
     "metadata": {},
     "output_type": "display_data"
    }
   ],
   "source": [
    "# Import optimus\n",
    "import optimus as op\n",
    "# Import module for system tools \n",
    "import os"
   ]
  },
  {
   "cell_type": "markdown",
   "metadata": {},
   "source": [
    "### Instantiation of Utility class\n",
    "The utility class is a tool class that includes functions to read csv files, setting checkpoint issues (to save or temporally save dataFrames)."
   ]
  },
  {
   "cell_type": "code",
   "execution_count": 2,
   "metadata": {
    "collapsed": true
   },
   "outputs": [],
   "source": [
    "filePath = \"file:///\" + os.getcwd() + \"/foo.csv\""
   ]
  },
  {
   "cell_type": "code",
   "execution_count": 3,
   "metadata": {
    "collapsed": true
   },
   "outputs": [],
   "source": [
    "# Instance of Utilities class\n",
    "tools = op.Utilities()"
   ]
  },
  {
   "cell_type": "markdown",
   "metadata": {},
   "source": [
    "### Reading DataFrame"
   ]
  },
  {
   "cell_type": "code",
   "execution_count": 4,
   "metadata": {
    "collapsed": true
   },
   "outputs": [],
   "source": [
    "# Reading dataframe. os.getcwd() returns de current directory of the notebook \n",
    "# 'file:///' is a prefix that specifies the type of file system used, in this\n",
    "# case, local file system (hard drive of the pc) is used.\n",
    "filePath = \"file:///\" + os.getcwd() + \"/foo.csv\"\n",
    "\n",
    "df = tools.read_dataset_csv(path=filePath,\n",
    " delimiter_mark=',')"
   ]
  },
  {
   "cell_type": "markdown",
   "metadata": {},
   "source": [
    "### General view of DataFrame"
   ]
  },
  {
   "cell_type": "markdown",
   "metadata": {},
   "source": [
    "Initially it is a good idea to see a general view of the DataFrame to be analyzed. \n",
    "\n",
    "In the following cell, a basic profile of the DataFrame is shown. This overview presents basic information about the DataFrame, like number of variable it has, how many are missing values and in which column, the types of each varaible, also some statistical information that describes the variable plus a frecuency plot. table that specifies the existing datatypes in each column dataFrame and other features. Also, for this particular case, the table of dataType is shown in order to visualize a sample of column content. "
   ]
  },
  {
   "cell_type": "code",
   "execution_count": 5,
   "metadata": {
    "scrolled": false
   },
   "outputs": [
    {
     "data": {
      "text/html": [
       "<meta charset=\"UTF-8\">\n",
       "\n",
       "<style>\n",
       "        .variablerow {\n",
       "            border: 1px solid #e1e1e8;\n",
       "            border-top: hidden;\n",
       "            padding-top: 2em;\n",
       "            padding-bottom: 1em;\n",
       "            padding-left: 1em;\n",
       "            padding-right: 1em;\n",
       "        }\n",
       "        .headerrow {\n",
       "            border: 1px solid #e1e1e8;\n",
       "            background-color: #f5f5f5;\n",
       "            padding: 2em;\n",
       "        }\n",
       "        .namecol {\n",
       "            margin-top: -1em;\n",
       "        }\n",
       "        .dl-horizontal dt {\n",
       "            text-align: left;\n",
       "            padding-right: 1em;\n",
       "            white-space: normal;\n",
       "        }\n",
       "        .dl-horizontal dd {\n",
       "            margin-left: 0;\n",
       "        }\n",
       "        .ignore {\n",
       "            opacity: 0.4;\n",
       "        }\n",
       "        .container.pandas-profiling {\n",
       "            max-width:975px;\n",
       "        }\n",
       "        .col-md-12 {\n",
       "            padding-left: 2em;\n",
       "        }\n",
       "        .indent {\n",
       "            margin-left: 1em;\n",
       "        }\n",
       "        /* Table example_values */\n",
       "            table.example_values {\n",
       "                border: 0;\n",
       "            }\n",
       "            .example_values th {\n",
       "                border: 0;\n",
       "                padding: 0 ;\n",
       "                color: #555;\n",
       "                font-weight: 600;\n",
       "            }\n",
       "            .example_values tr, .example_values td{\n",
       "                border: 0;\n",
       "                padding: 0;\n",
       "                color: #555;\n",
       "            }\n",
       "        /* STATS */\n",
       "            table.stats {\n",
       "                border: 0;\n",
       "            }\n",
       "            .stats th {\n",
       "                border: 0;\n",
       "                padding: 0 2em 0 0;\n",
       "                color: #555;\n",
       "                font-weight: 600;\n",
       "            }\n",
       "            .stats tr {\n",
       "                border: 0;\n",
       "            }\n",
       "            .stats tr:hover{\n",
       "                text-decoration: underline;\n",
       "            }\n",
       "            .stats td{\n",
       "                color: #555;\n",
       "                padding: 1px;\n",
       "                border: 0;\n",
       "            }\n",
       "        /* Sample table */\n",
       "            table.sample {\n",
       "                border: 0;\n",
       "                margin-bottom: 2em;\n",
       "                margin-left:1em;\n",
       "            }\n",
       "            .sample tr {\n",
       "                border:0;\n",
       "            }\n",
       "            .sample td, .sample th{\n",
       "                padding: 0.5em;\n",
       "                white-space: nowrap;\n",
       "                border: none;\n",
       "            }\n",
       "            .sample thead {\n",
       "                border-top: 0;\n",
       "                border-bottom: 2px solid #ddd;\n",
       "            }\n",
       "            .sample td {\n",
       "                width:100%;\n",
       "            }\n",
       "        /* There is no good solution available to make the divs equal height and then center ... */\n",
       "            .histogram {\n",
       "                margin-top: 3em;\n",
       "            }\n",
       "        /* Freq table */\n",
       "            table.freq {\n",
       "                margin-bottom: 2em;\n",
       "                border: 0;\n",
       "            }\n",
       "            table.freq th, table.freq tr, table.freq td {\n",
       "                border: 0;\n",
       "                padding: 0;\n",
       "            }\n",
       "            .freq thead {\n",
       "                font-weight: 600;\n",
       "                white-space: nowrap;\n",
       "                overflow: hidden;\n",
       "                text-overflow: ellipsis;\n",
       "            }\n",
       "            td.fillremaining{\n",
       "                width:auto;\n",
       "                max-width: none;\n",
       "            }\n",
       "            td.number, th.number {\n",
       "                text-align:right ;\n",
       "            }\n",
       "        /* Freq mini */\n",
       "            .freq.mini td{\n",
       "                width: 50%;\n",
       "                padding: 1px;\n",
       "                font-size: 12px;\n",
       "            }\n",
       "            table.freq.mini {\n",
       "                 width:100%;\n",
       "            }\n",
       "            .freq.mini th {\n",
       "                overflow: hidden;\n",
       "                text-overflow: ellipsis;\n",
       "                white-space: nowrap;\n",
       "                max-width: 5em;\n",
       "                font-weight: 400;\n",
       "                text-align:right;\n",
       "                padding-right: 0.5em;\n",
       "            }\n",
       "            .missing {\n",
       "                color: #a94442;\n",
       "            }\n",
       "            .alert, .alert > th, .alert > td {\n",
       "                color: #a94442;\n",
       "            }\n",
       "        /* Bars in tables */\n",
       "            .freq .bar{\n",
       "                float: left;\n",
       "                width: 0;\n",
       "                height: 100%;\n",
       "                line-height: 20px;\n",
       "                color: #fff;\n",
       "                text-align: center;\n",
       "                background-color: #337ab7;\n",
       "                border-radius: 3px;\n",
       "                margin-right: 4px;\n",
       "            }\n",
       "            .other .bar {\n",
       "                background-color: #999;\n",
       "            }\n",
       "            .missing .bar{\n",
       "                background-color: #a94442;\n",
       "            }\n",
       "            .tooltip-inner {\n",
       "                width: 100%;\n",
       "                white-space: nowrap;\n",
       "                text-align:left;\n",
       "            }\n",
       "            .extrapadding{\n",
       "                padding: 2em;\n",
       "            }\n",
       "</style>\n",
       "\n",
       "<div class=\"container pandas-profiling\">\n",
       "    <div class=\"row headerrow highlight\">\n",
       "        <h1>Overview</h1>\n",
       "    </div>\n",
       "    <div class=\"row variablerow\">\n",
       "    <div class=\"col-md-6 namecol\">\n",
       "        <p class=\"h4\">Dataset info</p>\n",
       "        <table class=\"stats\" style=\"margin-left: 1em;\">\n",
       "            <tbody>\n",
       "            <tr>\n",
       "                <th>Number of variables</th>\n",
       "                <td>8 </td>\n",
       "            </tr>\n",
       "            <tr>\n",
       "                <th>Number of observations</th>\n",
       "                <td>20 </td>\n",
       "            </tr>\n",
       "            <tr>\n",
       "                <th>Total Missing (%)</th>\n",
       "                <td>1.9% </td>\n",
       "            </tr>\n",
       "            <tr>\n",
       "                <th>Total size in memory</th>\n",
       "                <td>0.0 B </td>\n",
       "            </tr>\n",
       "            <tr>\n",
       "                <th>Average record size in memory</th>\n",
       "                <td>0.0 B </td>\n",
       "            </tr>\n",
       "            </tbody>\n",
       "        </table>\n",
       "    </div>\n",
       "    <div class=\"col-md-6 namecol\">\n",
       "        <p class=\"h4\">Variables types</p>\n",
       "        <table class=\"stats\" style=\"margin-left: 1em;\">\n",
       "            <tbody>\n",
       "            <tr>\n",
       "                <th>Numeric</th>\n",
       "                <td>3 </td>\n",
       "            </tr>\n",
       "            <tr>\n",
       "                <th>Categorical</th>\n",
       "                <td>5 </td>\n",
       "            </tr>\n",
       "            <tr>\n",
       "                <th>Date</th>\n",
       "                <td>0 </td>\n",
       "            </tr>\n",
       "            <tr>\n",
       "                <th>Text (Unique)</th>\n",
       "                <td>0 </td>\n",
       "            </tr>\n",
       "            <tr>\n",
       "                <th>Rejected</th>\n",
       "                <td>0 </td>\n",
       "            </tr>\n",
       "            </tbody>\n",
       "        </table>\n",
       "    </div>\n",
       "    <div class=\"col-md-12\" style=\"padding-left: 1em;\">\n",
       "        <p class=\"h4\">Warnings</p>\n",
       "        <ul class=\"list-unstyled\"><li><code>id</code> has 3 / 15.0% missing values <span class=\"label label-default\">Missing</span></li> </ul>\n",
       "    </div>\n",
       "</div>\n",
       "    <div class=\"row headerrow highlight\">\n",
       "        <h1>Variables</h1>\n",
       "    </div>\n",
       "    <div class=\"row variablerow\">\n",
       "    <div class=\"col-md-3 namecol\">\n",
       "        <p class=\"h4\">billingId<br/>\n",
       "            <small>Numeric</small>\n",
       "        </p>\n",
       "    </div> <div class=\"col-md-6\">\n",
       "    <div class=\"row\">\n",
       "        <div class=\"col-sm-6\">\n",
       "            <table class=\"stats \">\n",
       "                <tr>\n",
       "                    <th>Distinct count</th>\n",
       "                    <td>19</td>\n",
       "                </tr>\n",
       "                <tr>\n",
       "                    <th>Unique (%)</th>\n",
       "                    <td>95.0%</td>\n",
       "                </tr>\n",
       "                <tr class=\"ignore\">\n",
       "                    <th>Missing (%)</th>\n",
       "                    <td>0.0%</td>\n",
       "                </tr>\n",
       "                <tr class=\"ignore\">\n",
       "                    <th>Missing (n)</th>\n",
       "                    <td>0</td>\n",
       "                </tr>\n",
       "                <tr class=\"ignore\">\n",
       "                    <th>Infinite (%)</th>\n",
       "                    <td>0.0%</td>\n",
       "                </tr>\n",
       "                <tr class=\"ignore\">\n",
       "                    <th>Infinite (n)</th>\n",
       "                    <td>0</td>\n",
       "                </tr>\n",
       "            </table>\n",
       "\n",
       "        </div>\n",
       "        <div class=\"col-sm-6\">\n",
       "            <table class=\"stats \">\n",
       "\n",
       "                <tr>\n",
       "                    <th>Mean</th>\n",
       "                    <td>551.55</td>\n",
       "                </tr>\n",
       "                <tr>\n",
       "                    <th>Minimum</th>\n",
       "                    <td>111</td>\n",
       "                </tr>\n",
       "                <tr>\n",
       "                    <th>Maximum</th>\n",
       "                    <td>992</td>\n",
       "                </tr>\n",
       "                <tr class=\"ignore\">\n",
       "                    <th>Zeros (%)</th>\n",
       "                    <td>0.0%</td>\n",
       "                </tr>\n",
       "            </table>\n",
       "        </div>\n",
       "    </div>\n",
       "</div>\n",
       "<div class=\"col-md-3 collapse in\" id=\"minihistogram4506897268570775564\">\n",
       "    <img src=\"data:image/png;base64,iVBORw0KGgoAAAANSUhEUgAAAMgAAABLCAYAAAA1fMjoAAAABHNCSVQICAgIfAhkiAAAAAlwSFlzAAAPYQAAD2EBqD%2BnaQAAAR5JREFUeJzt2sEJwkAQQFEjlmQR9uTZnizCntYG5INCzJK8d1%2BYPXzmMssYY5yAj85bDwAzu2w9wJ5d78%2Bv37wetxUm4Vc2CASBQBAIBIFAEAgEgUAQCASBQBAIBIFAEAiE6W6xjn6/dPT/z8YGgSAQCAKBIBAIAoEgEAgCgSAQCAKBIBAIAoEw3S0W6/vl3utfZrsrs0EgCASCQCAIBIJAIAgEgkAgCASCQCAIBMIuTk1mPp34h6P/f002CASBQBAIBIFAEAgEgUAQCASBQBAIBIFAEAiEZYwxth4CZmWDQBAIBIFAEAgEgUAQCASBQBAIBIFAEAgEgUAQCASBQBAIBIFAEAgEgUAQCASBQBAIBIFAEAgEgUAQCASBQHgDnkQXY5imIZ0AAAAASUVORK5CYII%3D\">\n",
       "\n",
       "</div>\n",
       "<div class=\"col-md-12 text-right\">\n",
       "    <a role=\"button\" data-toggle=\"collapse\" data-target=\"#descriptives4506897268570775564,#minihistogram4506897268570775564\"\n",
       "       aria-expanded=\"false\" aria-controls=\"collapseExample\">\n",
       "        Toggle details\n",
       "    </a>\n",
       "</div>\n",
       "<div class=\"row collapse col-md-12\" id=\"descriptives4506897268570775564\">\n",
       "    <div class=\"col-sm-4\">\n",
       "        <p class=\"h4\">Quantile statistics</p>\n",
       "        <table class=\"stats indent\">\n",
       "            <tr>\n",
       "                <th>Minimum</th>\n",
       "                <td>111</td>\n",
       "            </tr>\n",
       "            <tr>\n",
       "                <th>5-th percentile</th>\n",
       "                <td>115.75</td>\n",
       "            </tr>\n",
       "            <tr>\n",
       "                <th>Q1</th>\n",
       "                <td>398</td>\n",
       "            </tr>\n",
       "            <tr>\n",
       "                <th>Median</th>\n",
       "                <td>552</td>\n",
       "            </tr>\n",
       "            <tr>\n",
       "                <th>Q3</th>\n",
       "                <td>754.25</td>\n",
       "            </tr>\n",
       "            <tr>\n",
       "                <th>95-th percentile</th>\n",
       "                <td>916</td>\n",
       "            </tr>\n",
       "            <tr>\n",
       "                <th>Maximum</th>\n",
       "                <td>992</td>\n",
       "            </tr>\n",
       "            <tr>\n",
       "                <th>Range</th>\n",
       "                <td>881</td>\n",
       "            </tr>\n",
       "            <tr>\n",
       "                <th>Interquartile range</th>\n",
       "                <td>356.25</td>\n",
       "            </tr>\n",
       "        </table>\n",
       "        <p class=\"h4\">Descriptive statistics</p>\n",
       "        <table class=\"stats indent\">\n",
       "            <tr>\n",
       "                <th>Standard deviation</th>\n",
       "                <td>273.45</td>\n",
       "            </tr>\n",
       "            <tr>\n",
       "                <th>Coef of variation</th>\n",
       "                <td>0.49578</td>\n",
       "            </tr>\n",
       "            <tr>\n",
       "                <th>Kurtosis</th>\n",
       "                <td>-0.9722</td>\n",
       "            </tr>\n",
       "            <tr>\n",
       "                <th>Mean</th>\n",
       "                <td>551.55</td>\n",
       "            </tr>\n",
       "            <tr>\n",
       "                <th>MAD</th>\n",
       "                <td>217.95</td>\n",
       "            </tr>\n",
       "            <tr class=\"\">\n",
       "                <th>Skewness</th>\n",
       "                <td>-0.16928</td>\n",
       "            </tr>\n",
       "            <tr>\n",
       "                <th>Sum</th>\n",
       "                <td>11031</td>\n",
       "            </tr>\n",
       "            <tr>\n",
       "                <th>Variance</th>\n",
       "                <td>74774</td>\n",
       "            </tr>\n",
       "            <tr>\n",
       "                <th>Memory size</th>\n",
       "                <td>0.0 B</td>\n",
       "            </tr>\n",
       "        </table>\n",
       "    </div>\n",
       "    <div class=\"col-sm-8 histogram\">\n",
       "        <img src=\"data:image/png;base64,iVBORw0KGgoAAAANSUhEUgAAAlgAAAGQCAYAAAByNR6YAAAABHNCSVQICAgIfAhkiAAAAAlwSFlzAAAPYQAAD2EBqD%2BnaQAAIABJREFUeJzt3X90VPWd//HXJNP8Nm6ADFXgSCFFEWPMDxG6g9bUQlC6WDCbo0Wsx90BBHM8SAMSlx9iNmoUOTaKaFZr0dVYC9hASg8qxa2/DSY2RjAhLcqhksk2bID8Isn9/uG3cxyHH4nezL0z83ycMydnPvcz977vvJnkxb13ZhyGYRgCAACAaaKsLgAAACDcELAAAABMRsACAAAwGQELAADAZAQsAAAAkxGwAAAATEbAAgAAMBkBCwAAwGQELAAAAJMRsAAAAExGwAIAADAZAQsAAMBkBCwAAACTEbAAAABMRsACAAAwGQELAADAZAQsAAAAkxGwAAAATEbAAgAAMBkBCwAAwGQELAAAAJMRsAAAAExGwAIAADAZAQsAAMBkBCwAAACTEbAAAABMRsACAAAwGQELAADAZAQsAAAAkxGwAAAATEbAAgAAMBkBCwAAwGQELAAAAJMRsAAAAExGwAIAADAZAQsAAMBkBCwAAACTEbAAAABMRsACAAAwmdPqAiKF13vM6hLCVlSUQ8OGJervfz%2Bh/n7D6nIiGr2wD3phH/TCWqmp51iyXY5gIeRFRTnkcDgUFeWwupSIRy/sg17YB72ITAQsAAAAkxGwAAAATEbAAgAAMBkBCwAAwGQELAAAAJMRsAAAAExGwAIAADAZAQsAAMBkERewPB6PVqxYcdrlDQ0Nys/PV0ZGhubOnav6%2BvogVgcAAMJBRAWsHTt2aM%2BePadd3tHRIY/Ho5ycHG3ZskWZmZlasGCBOjo6glglAAAIdRETsI4ePaoHH3xQ6enpp51TXV2t2NhYFRUVafz48SouLlZiYqJ27twZxEoBAECoi5iA9cADD2j27NlKS0s77Zy6ujplZ2fL4fjy%2B6IcDoeysrJUW1sbrDIBAEAYcFpdQDC8/fbb%2BuCDD1RVVaU1a9acdp7X6w0IYMOHD1djY%2BOgttfS0iKv1%2Bs35nQmyOVyDWo9GJjo6Ci/n7AOvbAPemEf9CIyhX3A6u7u1urVq7Vq1SrFxcWdcW5nZ6diYmL8xmJiYtTT0zOobVZWVqq8vNxvbPHixSosLBzUejA4ycnxVpeA/%2B9svcgpDq3T7h%2BU5FldwjfG68I%2B6EVkCfuAVV5erksuuUTTpk0769zY2NiAMNXT03PWYPZ1BQUFys3N9RtzOhPU1nZiUOvBwERHRyk5OV7t7Z3q6%2Bu3upyIFq69CMXXbrj2IhTRC2ulpCRast2wD1g7duxQa2urMjMzJckXoP7whz/oww8/9Js7cuRItba2%2Bo21trYO%2BtSey%2BUKeIzXe0y9vbywhlJfXz/PsU2EWy9CeV/CrRehjF5ElrAPWJs3b1Zvb6/v/kMPPSRJWrZsWcDcjIwMPfXUUzIMQw6HQ4ZhaO/evVq4cGHQ6gUAAKEv7K%2B4GzVqlC644ALfLTExUYmJibrgggskfXlhe1dXlyQpLy9P7e3tKikpUVNTk0pKStTZ2amZM2dauQsAACDEhH3AOhu3263q6mpJUlJSkjZt2qSamhrNmTNHdXV1evLJJ5WQkGBxlQAAIJSE/SnCr7v//vv97u/fv9/v/qWXXqqtW7cGsyQAABBmIv4IFgAAgNkIWAAAACYjYAEAAJiMgAUAAGAyAhYAAIDJCFgAAAAmI2ABAACYjIAFAABgMgIWAACAyQhYAAAAJiNgAQAAmIyABQAAYDICFgAAgMkIWAAAACYjYAEAAJiMgAUAAGAyAhYAAIDJCFgAAAAmI2ABAACYjIAFAABgMgIWAACAyQhYAAAAJiNgAQAAmIyABQAAYDICFgAAgMkIWAAAACaLmIB18OBB3XbbbcrMzNQPf/hDVVRUnHbuokWLdOGFF/rddu/eHcRqAQBAKHNaXUAw9Pf3y%2BPxKD09XVu3btXBgwe1dOlSjRw5Uj/5yU8C5h84cEBlZWWaOnWqb%2Bzcc88NZskAACCERUTAam1t1cSJE7VmzRolJSVp7Nixmjp1qmpqagICVk9Pjw4dOqT09HSlpqZaVDEAAAhlEXGK0OVyacOGDUpKSpJhGKqpqdH777%2BvyZMnB8xtbm6Ww%2BHQmDFjLKgUAACEg4g4gvVVubm5Onz4sK6%2B%2BmrNmDEjYHlzc7OSkpJUVFSk9957T9/97nd1xx136KqrrhrwNlpaWuT1ev3GnM4EuVyub10/AkVHR/n9hHXCtRdOZ%2BjtT7j2IhTRi8gUcQHr0UcfVWtrq9asWaPS0lLdc889fsubm5vV1dUlt9stj8ejXbt2adGiRaqsrFR6evqAtlFZWany8nK/scWLF6uwsNC0/UCg5OR4q0vA/xduvUhJSbS6hG8s3HoRyuhFZHEYhmFYXYQVdu7cqWXLlmnv3r2KiYnxjff39%2BvYsWN%2BF7UvXLhQqampWrdu3YDWzRGs4IqOjlJycrza2zvV19dvdTkRbaC9%2BPFD/xPEqr69XcumWV3CoPG6sA96YS2r/oMUEUewWltbVVtbq2uuucY3lpaWppMnT%2Br48eMaNmyYbzwqKirgHYPjxo1TU1PTgLfncrkCwpTXe0y9vbywhlJfXz/PsU2EWy9CeV/CrRehjF5Elog4IXzo0CEtWbJER44c8Y3V19dr2LBhfuFKklasWKG7777bb2zfvn0aN25cUGoFAAChLyICVnp6uiZNmqSVK1eqqalJe/bsUVlZmRYuXChJ8nq96urqkvTlRfBVVVXatm2bDh48qPLyctXU1GjevHlW7gIAAAghERGwoqOj9fjjjys%2BPl4FBQUqLi7WzTffrPnz50uS3G63qqurJUnTp0/X6tWrtXHjRs2aNUuvv/66KioqNHr0aCt3AQAAhJCIuAZLkkaOHBnwzr5/2L9/v9/9/Px85efnB6MsAAAQhiLiCBYAAEAwEbAAAABMRsACAAAwGQELAADAZAQsAAAAkxGwAAAATEbAAgAAMBkBCwAAwGQELAAAAJMRsAAAAExGwAIAADAZAQsAAMBkBCwAAACTEbAAAABMRsACAAAwGQELAADAZAQsAAAAkxGwAAAATEbAAgAAMBkBCwAAwGQELAAAAJMRsAAAAExGwAIAADAZAQsAAMBkBCwAAACTEbAAAABMFjEB6%2BDBg7rtttuUmZmpH/7wh6qoqDjt3IaGBuXn5ysjI0Nz585VfX19ECsFAAChLiICVn9/vzwej1JSUrR161atXbtWGzduVFVVVcDcjo4OeTwe5eTkaMuWLcrMzNSCBQvU0dFhQeUAACAURUTAam1t1cSJE7VmzRqNHTtWV111laZOnaqampqAudXV1YqNjVVRUZHGjx%2Bv4uJiJSYmaufOnRZUDgAAQlFEBCyXy6UNGzYoKSlJhmGopqZG77//viZPnhwwt66uTtnZ2XI4HJIkh8OhrKws1dbWBrtsAAAQopxWFxBsubm5Onz4sK6%2B%2BmrNmDEjYLnX61VaWprf2PDhw9XY2DjgbbS0tMjr9fqNOZ0Jcrlc36xonFF0dJTfT1gnXHvhdIbe/oRrL0IRvYhMERewHn30UbW2tmrNmjUqLS3VPffc47e8s7NTMTExfmMxMTHq6ekZ8DYqKytVXl7uN7Z48WIVFhZ%2B88JPI6c4dE5dflCSN6TrT06OH9L1Y%2BDCrRc/fuh/rC5hUL76Wgu3XoQyehFZIi5gpaenS5K6u7u1bNkyFRUV%2BQWq2NjYgDDV09OjuLi4AW%2BjoKBAubm5fmNOZ4La2k58i8pD31Dtf3R0lJKT49Xe3qm%2Bvv4h2QYGhl7YQ1vbCXphI/TCWikpiZZsNyICVmtrq2pra3XNNdf4xtLS0nTy5EkdP35cw4YN842PHDlSra2tAY8fzOk9l8sVMN/rPabe3sh%2BYQ31/vf19Uf8c2wX9MJaX33u6YV90IvIEhEnhA8dOqQlS5boyJEjvrH6%2BnoNGzbML1xJUkZGhj788EMZhiFJMgxDe/fuVUZGRlBrBgAAoSsiAlZ6eromTZqklStXqqmpSXv27FFZWZkWLlwo6csL27u6uiRJeXl5am9vV0lJiZqamlRSUqLOzk7NnDnTyl0AAAAhJCICVnR0tB5//HHFx8eroKBAxcXFuvnmmzV//nxJktvtVnV1tSQpKSlJmzZtUk1NjebMmaO6ujo9%2BeSTSkhIsHIXAABACImIa7CkL6%2Bt%2Bvo7%2B/5h//79fvcvvfRSbd26NRhlAQCAMBQRR7AAAACCiYAFAABgMgIWAACAyQhYAAAAJiNgAQAAmIyABQAAYDICFgAAgMkIWAAAACYjYAEAAJiMgAUAAGAyAhYAAIDJCFgAAAAmI2ABAACYjIAFAABgMgIWAACAyQhYAAAAJiNgAQAAmIyABQAAYDICFgAAgMkIWAAAACYjYAEAAJiMgAUAAGAyAhYAAIDJCFgAAAAmI2ABAACYjIAFAABgsogIWEeOHFFhYaEmT56sadOmqbS0VN3d3aecu2jRIl144YV%2Bt927dwe5YgAAEMqcVhcw1AzDUGFhoZKTk/X888/r//7v/7Ry5UpFRUVp%2BfLlAfMPHDigsrIyTZ061Td27rnnBrNkAAAQ4sI%2BYDU3N6u2tlZvvvmmRowYIUkqLCzUAw88EBCwenp6dOjQIaWnpys1NdWKcgEAQBiw/SnC/Px8vfjiizp27Ng3enxqaqoqKip84eofjh8/HjC3ublZDodDY8aM%2BUbbAgAAkEIgYE2ZMkVPPPGE3G63li5dqj/96U8yDGPAj09OTta0adN89/v7%2B/Xcc89pypQpAXObm5uVlJSkoqIiud1u3XDDDdqzZ48p%2BwEAACKH7U8R3nXXXVq6dKneeustbdu2TXfccYeSk5N1/fXX6/rrr9f3vve9Qa2vrKxMDQ0NevnllwOWNTc3q6urS263Wx6PR7t27dKiRYtUWVmp9PT0AW%2BjpaVFXq/Xb8zpTJDL5RpUreHG6RyaPB8dHeX3E9ahF/bgdEbRCxuhF5HJYQzmcJANdHZ2avPmzXr88cfV3d2trKws3XLLLZo%2BffpZH1tWVqZnnnlGjzzyiGbMmBGwvL%2B/X8eOHfO7qH3hwoVKTU3VunXrBlzjL3/5S5WXl/uNLV68WIWFhQNex0DlFO80fZ1D5YOSPKtLgE2E0r/bUMRrDbCe7Y9g/UNLS4t%2B97vf6Xe/%2B50%2B/fRTZWVl6ac//am%2B%2BOIL3XPPPXr//fdVXFx82sevW7dOL7zwgsrKyk4ZriQpKioq4B2D48aNU1NT06BqLSgoUG5urt%2BY05mgtrYTg1pPuBmq/Y%2BOjlJycrza2zvV19c/JNvAwNALe2hrO0EvbIReWCslJdGS7do%2BYL3yyit65ZVX9O6772rYsGG6/vrr9eijj2rs2LG%2BOeedd55KSkpOG7DKy8v14osvav369crLO/3/7FasWCGHw6HS0lLf2L59%2BzRhwoRB1exyuQJOB3q9x9TbG9kvrKHe/76%2B/oh/ju2CXljrq889vbAPehFZbB%2BwiouLdfXVV%2Buxxx7TlVdeqaiowHPY48aN07x58075%2BAMHDujxxx%2BXx%2BNRdna237VRqamp8nq9OueccxQXF6fc3FwtXbpUV1xxhTIzM1VVVaWamhrde%2B%2B9Q7Z/AAAg/Ng%2BYL3xxhtKSUnR0aNHfeHqo48%2B0qRJkxQdHS1JysrKUlZW1ikf/9prr6mvr08bN27Uxo0b/Zbt379fbrdbpaWlmjNnjqZPn67Vq1dr48aNOnz4sL7//e%2BroqJCo0ePHtqdBAAAYcX2Aev48eO68cYb9aMf/UhFRUWSJI/HoxEjRuipp57Seeedd8bHezweeTye0y7fv3%2B/3/38/Hzl5%2Bd/%2B8IBAEDEsv17Rv/zP/9TF1xwgW699VbfWHV1tc477zy/a6UAAADswvYB64MPPtCKFSv8vrpm2LBhKioq0jvvvGNhZQAAAKdm%2B4DldDrV3t4eMN7Z2TmoT3QHAAAIFtsHrCuvvFL33XefPvvsM9/Y559/rtLSUr%2BvwAEAALAL21/kvnz5ct16662aMWOGkpOTJUnt7e2aNGmS7r77bourAwAACGT7gDV8%2BHBt3bpVb731lhobG%2BV0OpWWlqapU6fK4XBYXR4AAEAA2wcsSYqOjta0adM4JQgAAEKC7QOW1%2BvVhg0btHfvXp08eTLgwvbXXnvNosoAAABOzfYB6z/%2B4z9UX1%2Bv6667Tuecc47V5QAAAJyV7QPWO%2B%2B8o4qKCuXk5FhdCgAAwIDY/mMaEhISNHz4cKvLAAAAGDDbB6zZs2eroqJCfX19VpcCAAAwILY/RXj06FFt375df/zjHzVmzBjFxMT4Lf/1r39tUWUAAACnZvuAJUmzZs2yugQAAIABs33AKi0ttboEAACAQbH9NViS1NLSovLyct1111363//9X%2B3cuVPNzc1WlwUAAHBKtg9YBw8e1E9%2B8hNt3bpVf/jDH9TR0aHq6mrNnTtXdXV1VpcHAAAQwPYB6/7779c111yjV199Vd/5znckSevXr1dubq4eeughi6sDAAAIZPuAtXfvXt16661%2BX%2BzsdDp1%2B%2B23q6GhwcLKAAAATs32Aau/v1/9/f0B4ydOnFB0dLQFFQEAAJyZ7QOW2%2B3Wpk2b/ELW0aNHVVZWpilTplhYGQAAwKnZPmCtWLFC9fX1crvd6u7u1qJFi3T11Vfr0KFDWr58udXlAQAABLD952CNHDlS27Zt0/bt2/XJJ5%2Bov79fN954o2bPnq2kpCSrywMAAAhg%2B4AlSfHx8crPz7e6DAAAgAGxfcCaP3/%2BGZfzXYQAAMBubB%2BwRo0a5Xe/t7dXBw8e1KeffqpbbrnFoqoAAABOz/YB63TfRfjYY4/piy%2B%2BGNA6jhw5opKSEr3zzjuKjY3Vtddeq6VLlyo2NjZgbkNDg1avXq1PP/1UaWlpWrt2rS655JJvtQ8AACCy2P5dhKcze/Zs/f73vz/rPMMwVFhYqM7OTj3//PN65JFHtHv3bm3YsCFgbkdHhzwej3JycrRlyxZlZmZqwYIF6ujoGIpdAAAAYSpkA9aHH344oA8abW5uVm1trUpLS/X9739fOTk5Kiws1Pbt2wPmVldXKzY2VkVFRRo/fryKi4uVmJionTt3DsUuAACAMGX7U4Snusj9%2BPHj2r9/v2666aazPj41NVUVFRUaMWJEwDq%2Brq6uTtnZ2b6v5XE4HMrKylJtba3mzJnzDfcAAABEGtsHrPPPP9/vewgl6Tvf%2BY7mzZunf/mXfznr45OTkzVt2jTf/f7%2Bfj333HOn/BR4r9ertLQ0v7Hhw4ersbHxG1YPAAAike0D1v3332/q%2BsrKytTQ0KCXX345YFlnZ6diYmL8xmJiYtTT0zOobbS0tMjr9fqNOZ0Jcrlcgy84jDidQ3NGOjo6yu8nrEMv7MHpjKIXNkIvIpPtA9b7778/4LmXX375GZeXlZXp2Wef1SOPPKIJEyYELI%2BNjQ0IUz09PYqLixtwDZJUWVmp8vJyv7HFixersLBwUOsJNykpiUO6/uTk%2BCFdPwaOXljrq681u/cip5hrXPGlD0ryrC7BVLYPWDfffLPvFKFhGL7xr485HA598sknp13PunXr9MILL6isrEwzZsw45ZyRI0eqtbXVb6y1tXXQR54KCgqUm5vrN%2BZ0Jqit7cSg1hNuhmr/o6OjlJwcr/b2TvX19Z/9ARgy9MIe2tpO0AuEnKH6GzHU/7k/HdsHrCeeeEL33XeffvGLX2jy5MmKiYnRn//8Z91777366U9/qmuvvfas6ygvL9eLL76o9evXKy/v9Ak5IyNDTz31lAzDkMPhkGEY2rt3rxYuXDioml0uV0Ao83qPqbc3sn/JDfX%2B9/X1R/xzbBf0wlpffe7pBUJFuP07tf0J4dLSUq1atUozZsxQSkqKEhMTNWXKFN1777164YUXNGrUKN/tVA4cOKDHH39c//7v/67s7Gx5vV7fTfrywvauri5JUl5entrb21VSUqKmpiaVlJSos7NTM2fODNr%2BAgCA0Gf7gNXS0nLK8JSUlKS2trazPv61115TX1%2BfNm7cKLfb7XeTJLfbrerqat86N23apJqaGs2ZM0d1dXV68sknlZCQYO5OAQCAsGb7U4SXXXaZ1q9frwceeEBJSUmSpKNHj6qsrExTp0496%2BM9Ho88Hs9pl%2B/fv9/v/qWXXqqtW7d%2Bu6IBAEBEs33AuueeezR//nxdeeWVGjt2rAzD0F//%2Blelpqbq17/%2BtdXlAQAABLB9wBo/fryqq6u1fft2HThwQJL0s5/9TNddd53i4%2B399mMAABCZbB%2BwJOncc89Vfn6%2BDh06pDFjxkj68tPcAQAA7Mj2F7kbhqGHHnpIl19%2BuWbNmqUvvvhCy5cvV3FxsU6ePGl1eQAAAAFsH7A2b96sV155RatXr/Z9jc0111yjV199NeDT0gEAAOzA9gGrsrJSq1at0pw5c3yf3n7ttdfqvvvuU1VVlcXVAQAABLJ9wDp06JAmTpwYMH7RRRcFfKEyAACAHdg%2BYI0aNUp//vOfA8bfeOMN3wXvAAAAdmL7dxHedtttWrt2rbxerwzD0Ntvv63Kykpt3rxZK1assLo8AACAALYPWHPnzlVvb682btyorq4urVq1SsOGDdOdd96pG2%2B80eryAAAAAtg%2BYG3fvl15eXkqKCjQ3//%2BdxmGoeHDh1tdFgAAwGnZ/hqse%2B%2B913cx%2B7BhwwhXAADA9mwfsMaOHatPP/3U6jIAAAAGzPanCC%2B66CItW7ZMFRUVGjt2rGJjY/2Wl5aWWlQZAADAqdk%2BYP3lL39Rdna2JPG5VwAAICTYMmA9%2BOCDWrJkiRISErR582arywEAABgUW16D9cwzz6izs9NvzOPxqKWlxaKKAAAABs6WAcswjICx999/X93d3RZUAwAAMDi2DFgAAAChjIAFAABgMtsGLIfDYXUJAAAA34gt30UoSffdd5/fZ16dPHlSZWVlSkxM9JvH52ABAAC7sWXAuvzyywM%2B8yozM1NtbW1qa2uzqCoAAICBsWXA4rOvAABAKLPtNVgAAAChioAFAABgsogLWD09PZo1a5befffd085ZtGiRLrzwQr/b7t27g1glAAAIZba8BmuodHd366677lJjY%2BMZ5x04cEBlZWWaOnWqb%2Bzcc88d6vIAAECYiJiA1dTUpLvuuuuUX8PzVT09PTp06JDS09OVmpoapOoAAEA4iZhThO%2B9956uuOIKVVZWnnFec3OzHA6HxowZE6TKAABAuImYI1g33XTTgOY1NzcrKSlJRUVFeu%2B99/Td735Xd9xxh6666qohrhAAAISLiAlYA9Xc3Kyuri653W55PB7t2rVLixYtUmVlpdLT0we0jpaWloAPSnU6E%2BRyuYai5JDhdA7NAdPo6Ci/n7AOvbAHpzOKXiDkDNXfCKsQsL7m9ttv18033%2By7qP2iiy7Sxx9/rJdeemnAAauyslLl5eV%2BY4sXL1ZhYaHp9YaSlJTEs0/6FpKT44d0/Rg4emGtr77W6AVCxVD/jQg2AtbXREVFBbxjcNy4cWpqahrwOgoKCpSbm%2Bs35nQmqK3thCk1hqqh2v/o6CglJ8ervb1TfX39Q7INDAy9sIe2thP0AiFnqP5GWBXcCFhfs2LFCjkcDr8vkd63b58mTJgw4HW4XK6A04Fe7zH19kb2L7mh3v%2B%2Bvv6If47tgl5Y66vPPb1AqAi3f6fhdcLzG/J6verq6pIk5ebmqqqqStu2bdPBgwdVXl6umpoazZs3z%2BIqAQBAqCBgSXK73aqurpYkTZ8%2BXatXr9bGjRs1a9Ysvf7666qoqNDo0aMtrhIAAISKiDxFuH///jPez8/PV35%2BfjBLAgAAYYQjWAAAACYjYAEAAJiMgAUAAGAyAhYAAIDJCFgAAAAmI2ABAACYjIAFAABgMgIWAACAyQhYAAAAJiNgAQAAmIyABQAAYDICFgAAgMkIWAAAACYjYAEAAJiMgAUAAGAyAhYAAIDJCFgAAAAmI2ABAACYjIAFAABgMgIWAACAyQhYAAAAJiNgAQAAmIyABQAAYDICFgAAgMkIWAAAACYjYAEAAJgs4gJWT0%2BPZs2apXffffe0cxoaGpSfn6%2BMjAzNnTtX9fX1QawQAACEuogKWN3d3Vq6dKkaGxtPO6ejo0Mej0c5OTnasmWLMjMztWDBAnV0dASxUgAAEMoiJmA1NTXpX//1X/XZZ5%2BdcV51dbViY2NVVFSk8ePHq7i4WImJidq5c2eQKgUAAKEuYgLWe%2B%2B9pyuuuEKVlZVnnFdXV6fs7Gw5HA5JksPhUFZWlmpra4NRJgAACANOqwsIlptuumlA87xer9LS0vzGhg8ffsbTigAAAF8VMQFroDo7OxUTE%2BM3FhMTo56engGvo6WlRV6v12/M6UyQy%2BUypcZQ5XQOzQHT6Ogov5%2BwDr2wB6czil4g5AzV3wirELC%2BJjY2NiBM9fT0KC4ubsDrqKysVHl5ud/Y4sWLVVhYaEqNoerHD/2P1SUAEYHXGkJRSkqi1SWYioD1NSNHjlRra6vfWGtr66COPhUUFCg3N9dvzOlMUFvbCVNqBAAg3AzV30irghsB62syMjL01FNPyTAMORwOGYahvXv3auHChQNeh8vlCghkXu8x9fb2m10uAABhIdz%2BRobXCc9vyOv1qqurS5KUl5en9vZ2lZSUqKmpSSUlJers7NTMmTMtrhIAAIQKApYkt9ut6upqSVJSUpI2bdqkmpoazZkzR3V1dXryySeVkJBgcZUAACBUOAzDMKwuIhJ4vceGZL0zN7w5JOsFACCYfn/nPw/JelNTzxmS9Z4NR7AAAABMRsACAAAwGQELAADAZAQsAAAAkxGwAAAATEbAAgAAMBkBCwAAwGQELAAAAJMRsAAAAExGwAIAADAZAQsAAMBkBCwAAACTEbAAAABMRsACAAAwGQELAADAZAQsAAAAkxGwAAAATEbAAgAAMBkBCwAAwGQELAAAAJMRsAAAAExGwAIAADAZAQsAAMBkBCwAAACTEbAAAABMRsACAAAwWcQErO7ubq28rl0TAAAMl0lEQVRcuVI5OTlyu916%2BumnTzt30aJFuvDCC/1uu3fvDmK1AAAglDmtLiBYHnzwQdXX1%2BvZZ5/V4cOHtXz5cp1//vnKy8sLmHvgwAGVlZVp6tSpvrFzzz03mOUCAIAQFhEBq6OjQ7/5zW/01FNPadKkSZo0aZIaGxv1/PPPBwSsnp4eHTp0SOnp6UpNTbWoYgAAEMoi4hThvn371Nvbq8zMTN9Ydna26urq1N/f7ze3ublZDodDY8aMCXaZAAAgTEREwPJ6vUpJSVFMTIxvbMSIEeru7tbRo0f95jY3NyspKUlFRUVyu9264YYbtGfPnmCXDAAAQlhEnCLs7Oz0C1eSfPd7enr8xpubm9XV1SW32y2Px6Ndu3Zp0aJFqqysVHp6%2BoC219LSIq/X6zfmdCbI5XJ9i70AACB8OZ3hdcwnIgJWbGxsQJD6x/24uDi/8dtvv10333yz76L2iy66SB9//LFeeumlAQesyspKlZeX%2B40tXrxYhYWF33QXAAAIaykpiVaXYKqICFgjR45UW1ubent75XR%2Bucter1dxcXFKTk72mxsVFRXwjsFx48apqalpwNsrKChQbm6u35jTmaC2thPfcA8AAAhvQ/U30qrgFhEBa%2BLEiXI6naqtrVVOTo4kqaamRunp6YqK8j8kuWLFCjkcDpWWlvrG9u3bpwkTJgx4ey6XK%2BB0oNd7TL29/ad5BAAAkS3c/kaG1wnP04iPj9f111%2BvNWvW6KOPPtKrr76qp59%2BWvPnz5f05dGsrq4uSVJubq6qqqq0bds2HTx4UOXl5aqpqdG8efOs3AUAABBCIiJgSdLdd9%2BtSZMm6ZZbbtHatWt1xx13aPr06ZIkt9ut6upqSdL06dO1evVqbdy4UbNmzdLrr7%2BuiooKjR492sryAQBACHEYhmFYXUQk8HqPDcl6Z254c0jWCwBAMP3%2Bzn8ekvWmpp4zJOs9m4g5ggUAABAsBCwAAACTEbAAAABMRsACAAAwGQELAADAZAQsAAAAkxGwAAAATEbAAgAAMBkBCwAAwGQELAAAAJMRsAAAAExGwAIAADAZAQsAAMBkBCwAAACTEbAAAABMRsACAAAwGQELAADAZAQsAAAAkxGwAAAATEbAAgAAMBkBCwAAwGQELAAAAJMRsAAAAExGwAIAADAZAQsAAMBkBCwAAACTEbAAAABMFjEBq7u7WytXrlROTo7cbreefvrp085taGhQfn6%2BMjIyNHfuXNXX1wexUgAAEOoiJmA9%2BOCDqq%2Bv17PPPqvVq1ervLxcO3fuDJjX0dEhj8ejnJwcbdmyRZmZmVqwYIE6OjosqBoAAISiiAhYHR0d%2Bs1vfqPi4mJNmjRJP/7xj/Vv//Zvev755wPmVldXKzY2VkVFRRo/fryKi4uVmJh4yjAGAABwKhERsPbt26fe3l5lZmb6xrKzs1VXV6f%2B/n6/uXV1dcrOzpbD4ZAkORwOZWVlqba2Nqg1AwCA0OW0uoBg8Hq9SklJUUxMjG9sxIgR6u7u1tGjRzVs2DC/uWlpaX6PHz58uBobGwe8vZaWFnm9Xr8xpzNBLpfrG%2B4BAADhzekMr2M%2BERGwOjs7/cKVJN/9np6eAc39%2BrwzqaysVHl5ud/YkiVLdMcddwym7AH5oCTP9HWGmpaWFlVWVqqgoIAQazF6YR/0wj7oRWSKiIAVGxsbEJD%2BcT8uLm5Ac78%2B70wKCgqUm5vrN5aamjqYkjEIXq9X5eXlys3N5ZeXxeiFfdAL%2B6AXkSkiAtbIkSPV1tam3t5eOZ1f7rLX61VcXJySk5MD5ra2tvqNtba2DupF4XK5eBEBABDBwuuE52lMnDhRTqfT70L1mpoapaenKyrK/ynIyMjQhx9%2BKMMwJEmGYWjv3r3KyMgIas0AACB0RUTAio%2BP1/XXX681a9boo48%2B0quvvqqnn35a8%2BfPl/Tl0ayuri5JUl5entrb21VSUqKmpiaVlJSos7NTM2fOtHIXAABACIles2bNGquLCIYpU6aooaFBDz/8sN5%2B%2B20tXLhQc%2BfOlSRlZWXpggsu0MSJExUTE6PJkyfrv//7v/XEE0%2Bot7dX69ev1/nnn2/xHuBMEhMTNXnyZCUmJlpdSsSjF/ZBL%2ByDXkQeh/GPc2EAAAAwRUScIgQAAAgmAhYAAIDJCFgAAAAmI2ABAACYjIAFAABgMgIWAACAyQhYAAAAJiNgAQAAmIyABVs7cuSICgsLNXnyZE2bNk2lpaXq7u6WJH3%2B%2Bef6%2Bc9/rssuu0zXXnut/vSnP/k99q233tKsWbOUkZGh%2BfPn6/PPP7diF8KOx%2BPRihUrfPfpQ/D19PRo7dq1uvzyy/WDH/xA69ev931/Kv0Irr/97W9asGCBsrKylJubq1/96le%2BZfQishGwYFuGYaiwsFCdnZ16/vnn9cgjj2j37t3asGGDDMPQ4sWLNWLECP32t7/V7NmztWTJEh0%2BfFiSdPjwYS1evFhz5szRyy%2B/rGHDhun2228XX1zw7ezYsUN79uzx3acP1rjvvvv01ltv6b/%2B67/08MMP66WXXlJlZSX9sMCdd96phIQEbdmyRStXrtSGDRu0a9cuegHJAGyqqanJmDBhguH1en1jVVVVhtvtNt566y3jsssuM06cOOFbdssttxiPPvqoYRiGsWHDBmPevHm%2BZR0dHUZmZqbxzjvvBG8HwkxbW5tx5ZVXGnPnzjWWL19uGIZBHyzQ1tZmXHzxxca7777rG9u0aZOxYsUK%2BhFkR48eNSZMmGDs37/fN7ZkyRJj7dq19AIGR7BgW6mpqaqoqNCIESP8xo8fP666ujpdfPHFSkhI8I1nZ2ertrZWklRXV6ecnBzfsvj4eE2aNMm3HIP3wAMPaPbs2UpLS/ON0Yfgq6mpUVJSkiZPnuwb83g8Ki0tpR9BFhcXp/j4eG3ZskUnT55Uc3Oz9u7dq4kTJ9ILcIoQ9pWcnKxp06b57vf39%2Bu5557TlClT5PV65XK5/OYPHz5cX3zxhSSddTkG5%2B2339YHH3yg22%2B/3W%2BcPgTf559/rlGjRmnbtm3Ky8vTj370Iz322GPq7%2B%2BnH0EWGxurVatWqbKyUhkZGZo5c6auvPJK5efn0wvIaXUBwECVlZWpoaFBL7/8sn71q18pJibGb3lMTIx6enokSZ2dnWdcjoHr7u7W6tWrtWrVKsXFxfktO9vzTB/M19HRoYMHD%2BrFF19UaWmpvF6vVq1apfj4ePphgQMHDujqq6/WrbfeqsbGRq1bt05Tp06lFyBgITSUlZXp2Wef1SOPPKIJEyYoNjZWR48e9ZvT09PjCwCxsbEBv6h6enqUnJwctJrDRXl5uS655BK/o4n/QB%2BCz%2Bl06vjx43r44Yc1atQoSV9eMP3CCy/oBz/4Af0Iorffflsvv/yy9uzZo7i4OKWnp%2BvIkSPauHGjpkyZQi8iHKcIYXvr1q3TM888o7KyMs2YMUOSNHLkSLW2tvrNa21t9R1yP93y1NTU4BQdRnbs2KFXX31VmZmZyszMVFVVlaqqqpSZmUkfLJCamqrY2FhfuJKk733ve/rb3/5GP4Ksvr5eF1xwgd%2BR3YsvvliHDx%2BmFyBgwd7Ky8v14osvav369bruuut84xkZGfr444/V1dXlG6upqVFGRoZveU1NjW9ZZ2enGhoafMsxcJs3b1ZVVZW2bdumbdu2KTc3V7m5udq2bRt9sEBGRoa6u7v1l7/8xTfW3NysUaNG0Y8gc7lcOnjwoN%2BRqObmZo0ePZpeQNFr1qxZY3URwKkcOHBAS5culcfj0YwZM9TR0eG7paWlafv27aqtrdX48eP129/%2BVjt27FBJSYnOOeccjR49Wg899JCio6OVnJys0tJS9fX1admyZXI4HFbvWkhJTk7WP/3TP/lub7zxhmJiYnTDDTfo/PPPpw9BlpKSovr6eu3YsUOXXHKJPvnkE91///269dZbNXPmTPoRRKNGjdILL7ygxsZGpaWl6cMPP9QDDzygBQsWaPr06fQi0ln9ORHA6WzatMmYMGHCKW%2BGYRh//etfjZ/97GfGJZdcYlx33XXGm2%2B%2B6ff4P/7xj8b06dONSy%2B91LjllluMzz77zIrdCDvLly/3fQ6WYdAHK7S3txu/%2BMUvjMsuu8yYOnWq8ctf/tLo7%2B83DIN%2BBFtjY6Px85//3MjKyjKuueYa45lnnqEXMAzDMByGwcfGAgAAmIlrsAAAAExGwAIAADAZAQsAAMBkBCwAAACTEbAAAABMRsACAAAwGQELAADAZAQsAAAAkxGwAAAATEbAAgAAMBkBCwAAwGQELAAAAJMRsAAAAEz2/wBSsT0C0m2tWQAAAABJRU5ErkJggg%3D%3D\">\n",
       "    </div>\n",
       "</div>\n",
       "</div><div class=\"row variablerow\">\n",
       "    <div class=\"col-md-3 namecol\">\n",
       "        <p class=\"h4\">birth<br/>\n",
       "            <small>Categorical</small>\n",
       "        </p>\n",
       "    </div> <div class=\"col-md-3\">\n",
       "    <table class=\"stats \">\n",
       "        <tr class=\"\">\n",
       "            <th>Distinct count</th>\n",
       "            <td>19</td>\n",
       "        </tr>\n",
       "        <tr>\n",
       "            <th>Unique (%)</th>\n",
       "            <td>95.0%</td>\n",
       "        </tr>\n",
       "        <tr class=\"ignore\">\n",
       "            <th>Missing (%)</th>\n",
       "            <td>0.0%</td>\n",
       "        </tr>\n",
       "        <tr class=\"ignore\">\n",
       "            <th>Missing (n)</th>\n",
       "            <td>0</td>\n",
       "        </tr>\n",
       "        <tr class=\"ignore\">\n",
       "            <th>Infinite (%)</th>\n",
       "            <td>0.0%</td>\n",
       "        </tr>\n",
       "        <tr class=\"ignore\">\n",
       "            <th>Infinite (n)</th>\n",
       "            <td>0</td>\n",
       "        </tr>\n",
       "    </table>\n",
       "</div>\n",
       "<div class=\"col-md-6 collapse in\" id=\"minifreqtable-8837755244667907879\">\n",
       "    <table class=\"mini freq\">\n",
       "        <tr class=\"\">\n",
       "    <th>1921/05/03</th>\n",
       "    <td>\n",
       "        <div class=\"bar\" style=\"width:13%\" data-toggle=\"tooltip\" data-placement=\"right\" data-html=\"true\"\n",
       "             data-delay=500 title=\"Percentage: 10.0%\">\n",
       "            &nbsp;\n",
       "        </div>\n",
       "        2\n",
       "    </td>\n",
       "</tr> <tr class=\"\">\n",
       "    <th>1950/07/08</th>\n",
       "    <td>\n",
       "        <div class=\"bar\" style=\"width:7%\" data-toggle=\"tooltip\" data-placement=\"right\" data-html=\"true\"\n",
       "             data-delay=500 title=\"Percentage: 5.0%\">\n",
       "            &nbsp;\n",
       "        </div>\n",
       "        1\n",
       "    </td>\n",
       "</tr> <tr class=\"\">\n",
       "    <th>1958/03/26</th>\n",
       "    <td>\n",
       "        <div class=\"bar\" style=\"width:7%\" data-toggle=\"tooltip\" data-placement=\"right\" data-html=\"true\"\n",
       "             data-delay=500 title=\"Percentage: 5.0%\">\n",
       "            &nbsp;\n",
       "        </div>\n",
       "        1\n",
       "    </td>\n",
       "</tr> <tr class=\"other\">\n",
       "    <th>Other values (16)</th>\n",
       "    <td>\n",
       "        <div class=\"bar\" style=\"width:100%\" data-toggle=\"tooltip\" data-placement=\"right\" data-html=\"true\"\n",
       "             data-delay=500 title=\"Percentage: 80.0%\">\n",
       "            16\n",
       "        </div>\n",
       "        \n",
       "    </td>\n",
       "</tr> \n",
       "    </table>\n",
       "</div> \n",
       "<div class=\"col-md-12 text-right\">\n",
       "    <a role=\"button\" data-toggle=\"collapse\" data-target=\"#freqtable-8837755244667907879, #minifreqtable-8837755244667907879\"\n",
       "       aria-expanded=\"true\" aria-controls=\"collapseExample\">\n",
       "        Toggle details\n",
       "    </a>\n",
       "</div>\n",
       "<div class=\"col-md-12 collapse extrapadding\" id=\"freqtable-8837755244667907879\">\n",
       "    <table class=\"freq table table-hover\">\n",
       "        <thead>\n",
       "        <tr>\n",
       "            <td class=\"fillremaining\">Value</td>\n",
       "            <td class=\"number\">Count</td>\n",
       "            <td class=\"number\">Frequency (%)</td>\n",
       "            <td style=\"min-width:200px\">&nbsp;</td>\n",
       "        </tr>\n",
       "        </thead>\n",
       "        <tr class=\"\">\n",
       "        <td class=\"fillremaining\">1921/05/03</td>\n",
       "        <td class=\"number\">2</td>\n",
       "        <td class=\"number\">10.0%</td>\n",
       "        <td>\n",
       "            <div class=\"bar\" style=\"width:100%\">&nbsp;</div>\n",
       "        </td>\n",
       "</tr> <tr class=\"\">\n",
       "        <td class=\"fillremaining\">1950/07/08</td>\n",
       "        <td class=\"number\">1</td>\n",
       "        <td class=\"number\">5.0%</td>\n",
       "        <td>\n",
       "            <div class=\"bar\" style=\"width:50%\">&nbsp;</div>\n",
       "        </td>\n",
       "</tr> <tr class=\"\">\n",
       "        <td class=\"fillremaining\">1958/03/26</td>\n",
       "        <td class=\"number\">1</td>\n",
       "        <td class=\"number\">5.0%</td>\n",
       "        <td>\n",
       "            <div class=\"bar\" style=\"width:50%\">&nbsp;</div>\n",
       "        </td>\n",
       "</tr> <tr class=\"\">\n",
       "        <td class=\"fillremaining\">1923/03/12</td>\n",
       "        <td class=\"number\">1</td>\n",
       "        <td class=\"number\">5.0%</td>\n",
       "        <td>\n",
       "            <div class=\"bar\" style=\"width:50%\">&nbsp;</div>\n",
       "        </td>\n",
       "</tr> <tr class=\"\">\n",
       "        <td class=\"fillremaining\">1990/07/09</td>\n",
       "        <td class=\"number\">1</td>\n",
       "        <td class=\"number\">5.0%</td>\n",
       "        <td>\n",
       "            <div class=\"bar\" style=\"width:50%\">&nbsp;</div>\n",
       "        </td>\n",
       "</tr> <tr class=\"\">\n",
       "        <td class=\"fillremaining\">1990/07/11</td>\n",
       "        <td class=\"number\">1</td>\n",
       "        <td class=\"number\">5.0%</td>\n",
       "        <td>\n",
       "            <div class=\"bar\" style=\"width:50%\">&nbsp;</div>\n",
       "        </td>\n",
       "</tr> <tr class=\"\">\n",
       "        <td class=\"fillremaining\">1956/11/30</td>\n",
       "        <td class=\"number\">1</td>\n",
       "        <td class=\"number\">5.0%</td>\n",
       "        <td>\n",
       "            <div class=\"bar\" style=\"width:50%\">&nbsp;</div>\n",
       "        </td>\n",
       "</tr> <tr class=\"\">\n",
       "        <td class=\"fillremaining\">1994/01/04</td>\n",
       "        <td class=\"number\">1</td>\n",
       "        <td class=\"number\">5.0%</td>\n",
       "        <td>\n",
       "            <div class=\"bar\" style=\"width:50%\">&nbsp;</div>\n",
       "        </td>\n",
       "</tr> <tr class=\"\">\n",
       "        <td class=\"fillremaining\">1920/04/22</td>\n",
       "        <td class=\"number\">1</td>\n",
       "        <td class=\"number\">5.0%</td>\n",
       "        <td>\n",
       "            <div class=\"bar\" style=\"width:50%\">&nbsp;</div>\n",
       "        </td>\n",
       "</tr> <tr class=\"\">\n",
       "        <td class=\"fillremaining\">2000/03/22</td>\n",
       "        <td class=\"number\">1</td>\n",
       "        <td class=\"number\">5.0%</td>\n",
       "        <td>\n",
       "            <div class=\"bar\" style=\"width:50%\">&nbsp;</div>\n",
       "        </td>\n",
       "</tr> <tr class=\"\">\n",
       "        <td class=\"fillremaining\">1970/07/13</td>\n",
       "        <td class=\"number\">1</td>\n",
       "        <td class=\"number\">5.0%</td>\n",
       "        <td>\n",
       "            <div class=\"bar\" style=\"width:50%\">&nbsp;</div>\n",
       "        </td>\n",
       "</tr> <tr class=\"\">\n",
       "        <td class=\"fillremaining\">1950/07/14</td>\n",
       "        <td class=\"number\">1</td>\n",
       "        <td class=\"number\">5.0%</td>\n",
       "        <td>\n",
       "            <div class=\"bar\" style=\"width:50%\">&nbsp;</div>\n",
       "        </td>\n",
       "</tr> <tr class=\"\">\n",
       "        <td class=\"fillremaining\">1899/01/01</td>\n",
       "        <td class=\"number\">1</td>\n",
       "        <td class=\"number\">5.0%</td>\n",
       "        <td>\n",
       "            <div class=\"bar\" style=\"width:50%\">&nbsp;</div>\n",
       "        </td>\n",
       "</tr> <tr class=\"\">\n",
       "        <td class=\"fillremaining\">1980/07/07</td>\n",
       "        <td class=\"number\">1</td>\n",
       "        <td class=\"number\">5.0%</td>\n",
       "        <td>\n",
       "            <div class=\"bar\" style=\"width:50%\">&nbsp;</div>\n",
       "        </td>\n",
       "</tr> <tr class=\"\">\n",
       "        <td class=\"fillremaining\">1993/12/08</td>\n",
       "        <td class=\"number\">1</td>\n",
       "        <td class=\"number\">5.0%</td>\n",
       "        <td>\n",
       "            <div class=\"bar\" style=\"width:50%\">&nbsp;</div>\n",
       "        </td>\n",
       "</tr> <tr class=\"\">\n",
       "        <td class=\"fillremaining\">1999/02/15</td>\n",
       "        <td class=\"number\">1</td>\n",
       "        <td class=\"number\">5.0%</td>\n",
       "        <td>\n",
       "            <div class=\"bar\" style=\"width:50%\">&nbsp;</div>\n",
       "        </td>\n",
       "</tr> <tr class=\"\">\n",
       "        <td class=\"fillremaining\">1997/06/27</td>\n",
       "        <td class=\"number\">1</td>\n",
       "        <td class=\"number\">5.0%</td>\n",
       "        <td>\n",
       "            <div class=\"bar\" style=\"width:50%\">&nbsp;</div>\n",
       "        </td>\n",
       "</tr> <tr class=\"\">\n",
       "        <td class=\"fillremaining\">1930/08/12</td>\n",
       "        <td class=\"number\">1</td>\n",
       "        <td class=\"number\">5.0%</td>\n",
       "        <td>\n",
       "            <div class=\"bar\" style=\"width:50%\">&nbsp;</div>\n",
       "        </td>\n",
       "</tr> <tr class=\"\">\n",
       "        <td class=\"fillremaining\">1954/07/10</td>\n",
       "        <td class=\"number\">1</td>\n",
       "        <td class=\"number\">5.0%</td>\n",
       "        <td>\n",
       "            <div class=\"bar\" style=\"width:50%\">&nbsp;</div>\n",
       "        </td>\n",
       "</tr> \n",
       "    </table>\n",
       "</div> \n",
       "</div><div class=\"row variablerow\">\n",
       "    <div class=\"col-md-3 namecol\">\n",
       "        <p class=\"h4\">dummyCol<br/>\n",
       "            <small>Categorical</small>\n",
       "        </p>\n",
       "    </div> <div class=\"col-md-3\">\n",
       "    <table class=\"stats \">\n",
       "        <tr class=\"\">\n",
       "            <th>Distinct count</th>\n",
       "            <td>13</td>\n",
       "        </tr>\n",
       "        <tr>\n",
       "            <th>Unique (%)</th>\n",
       "            <td>65.0%</td>\n",
       "        </tr>\n",
       "        <tr class=\"ignore\">\n",
       "            <th>Missing (%)</th>\n",
       "            <td>0.0%</td>\n",
       "        </tr>\n",
       "        <tr class=\"ignore\">\n",
       "            <th>Missing (n)</th>\n",
       "            <td>0</td>\n",
       "        </tr>\n",
       "        <tr class=\"ignore\">\n",
       "            <th>Infinite (%)</th>\n",
       "            <td>0.0%</td>\n",
       "        </tr>\n",
       "        <tr class=\"ignore\">\n",
       "            <th>Infinite (n)</th>\n",
       "            <td>0</td>\n",
       "        </tr>\n",
       "    </table>\n",
       "</div>\n",
       "<div class=\"col-md-6 collapse in\" id=\"minifreqtable-140408216908376242\">\n",
       "    <table class=\"mini freq\">\n",
       "        <tr class=\"\">\n",
       "    <th>you</th>\n",
       "    <td>\n",
       "        <div class=\"bar\" style=\"width:27%\" data-toggle=\"tooltip\" data-placement=\"right\" data-html=\"true\"\n",
       "             data-delay=500 title=\"Percentage: 15.0%\">\n",
       "            3\n",
       "        </div>\n",
       "        \n",
       "    </td>\n",
       "</tr> <tr class=\"\">\n",
       "    <th>gonna</th>\n",
       "    <td>\n",
       "        <div class=\"bar\" style=\"width:27%\" data-toggle=\"tooltip\" data-placement=\"right\" data-html=\"true\"\n",
       "             data-delay=500 title=\"Percentage: 15.0%\">\n",
       "            3\n",
       "        </div>\n",
       "        \n",
       "    </td>\n",
       "</tr> <tr class=\"\">\n",
       "    <th>#</th>\n",
       "    <td>\n",
       "        <div class=\"bar\" style=\"width:27%\" data-toggle=\"tooltip\" data-placement=\"right\" data-html=\"true\"\n",
       "             data-delay=500 title=\"Percentage: 15.0%\">\n",
       "            3\n",
       "        </div>\n",
       "        \n",
       "    </td>\n",
       "</tr> <tr class=\"other\">\n",
       "    <th>Other values (10)</th>\n",
       "    <td>\n",
       "        <div class=\"bar\" style=\"width:100%\" data-toggle=\"tooltip\" data-placement=\"right\" data-html=\"true\"\n",
       "             data-delay=500 title=\"Percentage: 55.0%\">\n",
       "            11\n",
       "        </div>\n",
       "        \n",
       "    </td>\n",
       "</tr> \n",
       "    </table>\n",
       "</div> \n",
       "<div class=\"col-md-12 text-right\">\n",
       "    <a role=\"button\" data-toggle=\"collapse\" data-target=\"#freqtable-140408216908376242, #minifreqtable-140408216908376242\"\n",
       "       aria-expanded=\"true\" aria-controls=\"collapseExample\">\n",
       "        Toggle details\n",
       "    </a>\n",
       "</div>\n",
       "<div class=\"col-md-12 collapse extrapadding\" id=\"freqtable-140408216908376242\">\n",
       "    <table class=\"freq table table-hover\">\n",
       "        <thead>\n",
       "        <tr>\n",
       "            <td class=\"fillremaining\">Value</td>\n",
       "            <td class=\"number\">Count</td>\n",
       "            <td class=\"number\">Frequency (%)</td>\n",
       "            <td style=\"min-width:200px\">&nbsp;</td>\n",
       "        </tr>\n",
       "        </thead>\n",
       "        <tr class=\"\">\n",
       "        <td class=\"fillremaining\">you</td>\n",
       "        <td class=\"number\">3</td>\n",
       "        <td class=\"number\">15.0%</td>\n",
       "        <td>\n",
       "            <div class=\"bar\" style=\"width:100%\">&nbsp;</div>\n",
       "        </td>\n",
       "</tr> <tr class=\"\">\n",
       "        <td class=\"fillremaining\">gonna</td>\n",
       "        <td class=\"number\">3</td>\n",
       "        <td class=\"number\">15.0%</td>\n",
       "        <td>\n",
       "            <div class=\"bar\" style=\"width:100%\">&nbsp;</div>\n",
       "        </td>\n",
       "</tr> <tr class=\"\">\n",
       "        <td class=\"fillremaining\">#</td>\n",
       "        <td class=\"number\">3</td>\n",
       "        <td class=\"number\">15.0%</td>\n",
       "        <td>\n",
       "            <div class=\"bar\" style=\"width:100%\">&nbsp;</div>\n",
       "        </td>\n",
       "</tr> <tr class=\"\">\n",
       "        <td class=\"fillremaining\">never</td>\n",
       "        <td class=\"number\">2</td>\n",
       "        <td class=\"number\">10.0%</td>\n",
       "        <td>\n",
       "            <div class=\"bar\" style=\"width:67%\">&nbsp;</div>\n",
       "        </td>\n",
       "</tr> <tr class=\"\">\n",
       "        <td class=\"fillremaining\">never </td>\n",
       "        <td class=\"number\">1</td>\n",
       "        <td class=\"number\">5.0%</td>\n",
       "        <td>\n",
       "            <div class=\"bar\" style=\"width:34%\">&nbsp;</div>\n",
       "        </td>\n",
       "</tr> <tr class=\"\">\n",
       "        <td class=\"fillremaining\">down</td>\n",
       "        <td class=\"number\">1</td>\n",
       "        <td class=\"number\">5.0%</td>\n",
       "        <td>\n",
       "            <div class=\"bar\" style=\"width:34%\">&nbsp;</div>\n",
       "        </td>\n",
       "</tr> <tr class=\"\">\n",
       "        <td class=\"fillremaining\">run </td>\n",
       "        <td class=\"number\">1</td>\n",
       "        <td class=\"number\">5.0%</td>\n",
       "        <td>\n",
       "            <div class=\"bar\" style=\"width:34%\">&nbsp;</div>\n",
       "        </td>\n",
       "</tr> <tr class=\"\">\n",
       "        <td class=\"fillremaining\">desert</td>\n",
       "        <td class=\"number\">1</td>\n",
       "        <td class=\"number\">5.0%</td>\n",
       "        <td>\n",
       "            <div class=\"bar\" style=\"width:34%\">&nbsp;</div>\n",
       "        </td>\n",
       "</tr> <tr class=\"\">\n",
       "        <td class=\"fillremaining\">up</td>\n",
       "        <td class=\"number\">1</td>\n",
       "        <td class=\"number\">5.0%</td>\n",
       "        <td>\n",
       "            <div class=\"bar\" style=\"width:34%\">&nbsp;</div>\n",
       "        </td>\n",
       "</tr> <tr class=\"\">\n",
       "        <td class=\"fillremaining\">and</td>\n",
       "        <td class=\"number\">1</td>\n",
       "        <td class=\"number\">5.0%</td>\n",
       "        <td>\n",
       "            <div class=\"bar\" style=\"width:34%\">&nbsp;</div>\n",
       "        </td>\n",
       "</tr> <tr class=\"\">\n",
       "        <td class=\"fillremaining\">around</td>\n",
       "        <td class=\"number\">1</td>\n",
       "        <td class=\"number\">5.0%</td>\n",
       "        <td>\n",
       "            <div class=\"bar\" style=\"width:34%\">&nbsp;</div>\n",
       "        </td>\n",
       "</tr> <tr class=\"\">\n",
       "        <td class=\"fillremaining\">let</td>\n",
       "        <td class=\"number\">1</td>\n",
       "        <td class=\"number\">5.0%</td>\n",
       "        <td>\n",
       "            <div class=\"bar\" style=\"width:34%\">&nbsp;</div>\n",
       "        </td>\n",
       "</tr> <tr class=\"\">\n",
       "        <td class=\"fillremaining\">give</td>\n",
       "        <td class=\"number\">1</td>\n",
       "        <td class=\"number\">5.0%</td>\n",
       "        <td>\n",
       "            <div class=\"bar\" style=\"width:34%\">&nbsp;</div>\n",
       "        </td>\n",
       "</tr> \n",
       "    </table>\n",
       "</div> \n",
       "</div><div class=\"row variablerow\">\n",
       "    <div class=\"col-md-3 namecol\">\n",
       "        <p class=\"h4\">firstName<br/>\n",
       "            <small>Categorical</small>\n",
       "        </p>\n",
       "    </div> <div class=\"col-md-3\">\n",
       "    <table class=\"stats \">\n",
       "        <tr class=\"\">\n",
       "            <th>Distinct count</th>\n",
       "            <td>19</td>\n",
       "        </tr>\n",
       "        <tr>\n",
       "            <th>Unique (%)</th>\n",
       "            <td>95.0%</td>\n",
       "        </tr>\n",
       "        <tr class=\"ignore\">\n",
       "            <th>Missing (%)</th>\n",
       "            <td>0.0%</td>\n",
       "        </tr>\n",
       "        <tr class=\"ignore\">\n",
       "            <th>Missing (n)</th>\n",
       "            <td>0</td>\n",
       "        </tr>\n",
       "        <tr class=\"ignore\">\n",
       "            <th>Infinite (%)</th>\n",
       "            <td>0.0%</td>\n",
       "        </tr>\n",
       "        <tr class=\"ignore\">\n",
       "            <th>Infinite (n)</th>\n",
       "            <td>0</td>\n",
       "        </tr>\n",
       "    </table>\n",
       "</div>\n",
       "<div class=\"col-md-6 collapse in\" id=\"minifreqtable-6231436172302235463\">\n",
       "    <table class=\"mini freq\">\n",
       "        <tr class=\"\">\n",
       "    <th>JAMES</th>\n",
       "    <td>\n",
       "        <div class=\"bar\" style=\"width:13%\" data-toggle=\"tooltip\" data-placement=\"right\" data-html=\"true\"\n",
       "             data-delay=500 title=\"Percentage: 10.0%\">\n",
       "            &nbsp;\n",
       "        </div>\n",
       "        2\n",
       "    </td>\n",
       "</tr> <tr class=\"\">\n",
       "    <th>Galileo</th>\n",
       "    <td>\n",
       "        <div class=\"bar\" style=\"width:7%\" data-toggle=\"tooltip\" data-placement=\"right\" data-html=\"true\"\n",
       "             data-delay=500 title=\"Percentage: 5.0%\">\n",
       "            &nbsp;\n",
       "        </div>\n",
       "        1\n",
       "    </td>\n",
       "</tr> <tr class=\"\">\n",
       "    <th>PAUL</th>\n",
       "    <td>\n",
       "        <div class=\"bar\" style=\"width:7%\" data-toggle=\"tooltip\" data-placement=\"right\" data-html=\"true\"\n",
       "             data-delay=500 title=\"Percentage: 5.0%\">\n",
       "            &nbsp;\n",
       "        </div>\n",
       "        1\n",
       "    </td>\n",
       "</tr> <tr class=\"other\">\n",
       "    <th>Other values (16)</th>\n",
       "    <td>\n",
       "        <div class=\"bar\" style=\"width:100%\" data-toggle=\"tooltip\" data-placement=\"right\" data-html=\"true\"\n",
       "             data-delay=500 title=\"Percentage: 80.0%\">\n",
       "            16\n",
       "        </div>\n",
       "        \n",
       "    </td>\n",
       "</tr> \n",
       "    </table>\n",
       "</div> \n",
       "<div class=\"col-md-12 text-right\">\n",
       "    <a role=\"button\" data-toggle=\"collapse\" data-target=\"#freqtable-6231436172302235463, #minifreqtable-6231436172302235463\"\n",
       "       aria-expanded=\"true\" aria-controls=\"collapseExample\">\n",
       "        Toggle details\n",
       "    </a>\n",
       "</div>\n",
       "<div class=\"col-md-12 collapse extrapadding\" id=\"freqtable-6231436172302235463\">\n",
       "    <table class=\"freq table table-hover\">\n",
       "        <thead>\n",
       "        <tr>\n",
       "            <td class=\"fillremaining\">Value</td>\n",
       "            <td class=\"number\">Count</td>\n",
       "            <td class=\"number\">Frequency (%)</td>\n",
       "            <td style=\"min-width:200px\">&nbsp;</td>\n",
       "        </tr>\n",
       "        </thead>\n",
       "        <tr class=\"\">\n",
       "        <td class=\"fillremaining\">JAMES</td>\n",
       "        <td class=\"number\">2</td>\n",
       "        <td class=\"number\">10.0%</td>\n",
       "        <td>\n",
       "            <div class=\"bar\" style=\"width:100%\">&nbsp;</div>\n",
       "        </td>\n",
       "</tr> <tr class=\"\">\n",
       "        <td class=\"fillremaining\">Galileo</td>\n",
       "        <td class=\"number\">1</td>\n",
       "        <td class=\"number\">5.0%</td>\n",
       "        <td>\n",
       "            <div class=\"bar\" style=\"width:50%\">&nbsp;</div>\n",
       "        </td>\n",
       "</tr> <tr class=\"\">\n",
       "        <td class=\"fillremaining\">PAUL</td>\n",
       "        <td class=\"number\">1</td>\n",
       "        <td class=\"number\">5.0%</td>\n",
       "        <td>\n",
       "            <div class=\"bar\" style=\"width:50%\">&nbsp;</div>\n",
       "        </td>\n",
       "</tr> <tr class=\"\">\n",
       "        <td class=\"fillremaining\">David</td>\n",
       "        <td class=\"number\">1</td>\n",
       "        <td class=\"number\">5.0%</td>\n",
       "        <td>\n",
       "            <div class=\"bar\" style=\"width:50%\">&nbsp;</div>\n",
       "        </td>\n",
       "</tr> <tr class=\"\">\n",
       "        <td class=\"fillremaining\">Marie</td>\n",
       "        <td class=\"number\">1</td>\n",
       "        <td class=\"number\">5.0%</td>\n",
       "        <td>\n",
       "            <div class=\"bar\" style=\"width:50%\">&nbsp;</div>\n",
       "        </td>\n",
       "</tr> <tr class=\"\">\n",
       "        <td class=\"fillremaining\">Emmy%%</td>\n",
       "        <td class=\"number\">1</td>\n",
       "        <td class=\"number\">5.0%</td>\n",
       "        <td>\n",
       "            <div class=\"bar\" style=\"width:50%\">&nbsp;</div>\n",
       "        </td>\n",
       "</tr> <tr class=\"\">\n",
       "        <td class=\"fillremaining\">Isaac</td>\n",
       "        <td class=\"number\">1</td>\n",
       "        <td class=\"number\">5.0%</td>\n",
       "        <td>\n",
       "            <div class=\"bar\" style=\"width:50%\">&nbsp;</div>\n",
       "        </td>\n",
       "</tr> <tr class=\"\">\n",
       "        <td class=\"fillremaining\">Luis</td>\n",
       "        <td class=\"number\">1</td>\n",
       "        <td class=\"number\">5.0%</td>\n",
       "        <td>\n",
       "            <div class=\"bar\" style=\"width:50%\">&nbsp;</div>\n",
       "        </td>\n",
       "</tr> <tr class=\"\">\n",
       "        <td class=\"fillremaining\">Johannes</td>\n",
       "        <td class=\"number\">1</td>\n",
       "        <td class=\"number\">5.0%</td>\n",
       "        <td>\n",
       "            <div class=\"bar\" style=\"width:50%\">&nbsp;</div>\n",
       "        </td>\n",
       "</tr> <tr class=\"\">\n",
       "        <td class=\"fillremaining\">Arthur</td>\n",
       "        <td class=\"number\">1</td>\n",
       "        <td class=\"number\">5.0%</td>\n",
       "        <td>\n",
       "            <div class=\"bar\" style=\"width:50%\">&nbsp;</div>\n",
       "        </td>\n",
       "</tr> <tr class=\"\">\n",
       "        <td class=\"fillremaining\">André</td>\n",
       "        <td class=\"number\">1</td>\n",
       "        <td class=\"number\">5.0%</td>\n",
       "        <td>\n",
       "            <div class=\"bar\" style=\"width:50%\">&nbsp;</div>\n",
       "        </td>\n",
       "</tr> <tr class=\"\">\n",
       "        <td class=\"fillremaining\">(((   Heinrich )))))</td>\n",
       "        <td class=\"number\">1</td>\n",
       "        <td class=\"number\">5.0%</td>\n",
       "        <td>\n",
       "            <div class=\"bar\" style=\"width:50%\">&nbsp;</div>\n",
       "        </td>\n",
       "</tr> <tr class=\"\">\n",
       "        <td class=\"fillremaining\">CaRL</td>\n",
       "        <td class=\"number\">1</td>\n",
       "        <td class=\"number\">5.0%</td>\n",
       "        <td>\n",
       "            <div class=\"bar\" style=\"width:50%\">&nbsp;</div>\n",
       "        </td>\n",
       "</tr> <tr class=\"\">\n",
       "        <td class=\"fillremaining\">Albert</td>\n",
       "        <td class=\"number\">1</td>\n",
       "        <td class=\"number\">5.0%</td>\n",
       "        <td>\n",
       "            <div class=\"bar\" style=\"width:50%\">&nbsp;</div>\n",
       "        </td>\n",
       "</tr> <tr class=\"\">\n",
       "        <td class=\"fillremaining\">NiELS</td>\n",
       "        <td class=\"number\">1</td>\n",
       "        <td class=\"number\">5.0%</td>\n",
       "        <td>\n",
       "            <div class=\"bar\" style=\"width:50%\">&nbsp;</div>\n",
       "        </td>\n",
       "</tr> <tr class=\"\">\n",
       "        <td class=\"fillremaining\">Max!!!</td>\n",
       "        <td class=\"number\">1</td>\n",
       "        <td class=\"number\">5.0%</td>\n",
       "        <td>\n",
       "            <div class=\"bar\" style=\"width:50%\">&nbsp;</div>\n",
       "        </td>\n",
       "</tr> <tr class=\"\">\n",
       "        <td class=\"fillremaining\">Fred</td>\n",
       "        <td class=\"number\">1</td>\n",
       "        <td class=\"number\">5.0%</td>\n",
       "        <td>\n",
       "            <div class=\"bar\" style=\"width:50%\">&nbsp;</div>\n",
       "        </td>\n",
       "</tr> <tr class=\"\">\n",
       "        <td class=\"fillremaining\">JaMES</td>\n",
       "        <td class=\"number\">1</td>\n",
       "        <td class=\"number\">5.0%</td>\n",
       "        <td>\n",
       "            <div class=\"bar\" style=\"width:50%\">&nbsp;</div>\n",
       "        </td>\n",
       "</tr> <tr class=\"\">\n",
       "        <td class=\"fillremaining\">William</td>\n",
       "        <td class=\"number\">1</td>\n",
       "        <td class=\"number\">5.0%</td>\n",
       "        <td>\n",
       "            <div class=\"bar\" style=\"width:50%\">&nbsp;</div>\n",
       "        </td>\n",
       "</tr> \n",
       "    </table>\n",
       "</div> \n",
       "</div><div class=\"row variablerow\">\n",
       "    <div class=\"col-md-3 namecol\">\n",
       "        <p class=\"h4\">id<br/>\n",
       "            <small>Numeric</small>\n",
       "        </p>\n",
       "    </div> <div class=\"col-md-6\">\n",
       "    <div class=\"row\">\n",
       "        <div class=\"col-sm-6\">\n",
       "            <table class=\"stats \">\n",
       "                <tr>\n",
       "                    <th>Distinct count</th>\n",
       "                    <td>16</td>\n",
       "                </tr>\n",
       "                <tr>\n",
       "                    <th>Unique (%)</th>\n",
       "                    <td>94.1%</td>\n",
       "                </tr>\n",
       "                <tr class=\"alert\">\n",
       "                    <th>Missing (%)</th>\n",
       "                    <td>15.0%</td>\n",
       "                </tr>\n",
       "                <tr class=\"alert\">\n",
       "                    <th>Missing (n)</th>\n",
       "                    <td>3</td>\n",
       "                </tr>\n",
       "                <tr class=\"ignore\">\n",
       "                    <th>Infinite (%)</th>\n",
       "                    <td>0.0%</td>\n",
       "                </tr>\n",
       "                <tr class=\"ignore\">\n",
       "                    <th>Infinite (n)</th>\n",
       "                    <td>0</td>\n",
       "                </tr>\n",
       "            </table>\n",
       "\n",
       "        </div>\n",
       "        <div class=\"col-sm-6\">\n",
       "            <table class=\"stats \">\n",
       "\n",
       "                <tr>\n",
       "                    <th>Mean</th>\n",
       "                    <td>10.882</td>\n",
       "                </tr>\n",
       "                <tr>\n",
       "                    <th>Minimum</th>\n",
       "                    <td>1</td>\n",
       "                </tr>\n",
       "                <tr>\n",
       "                    <th>Maximum</th>\n",
       "                    <td>19</td>\n",
       "                </tr>\n",
       "                <tr class=\"ignore\">\n",
       "                    <th>Zeros (%)</th>\n",
       "                    <td>0.0%</td>\n",
       "                </tr>\n",
       "            </table>\n",
       "        </div>\n",
       "    </div>\n",
       "</div>\n",
       "<div class=\"col-md-3 collapse in\" id=\"minihistogram-6236338783841712234\">\n",
       "    <img src=\"data:image/png;base64,iVBORw0KGgoAAAANSUhEUgAAAMgAAABLCAYAAAA1fMjoAAAABHNCSVQICAgIfAhkiAAAAAlwSFlzAAAPYQAAD2EBqD%2BnaQAAARZJREFUeJzt28EJwkAQQFEVS7IIe/JsTxZhT2sD8tGIyaLv3QND4DOXnf0YY%2ByApw5bDwAzO249AL/rdLm9/c39ev7CJMvZIBAEAkEgEAQCQSAQBAJBIBAEAkEgEAQCQSAQBAJBIBAEAkEgEKa7B1lyQ7DEbHcHn1jrn/0jGwSCQCAIBIJAIAgEgkAgCASCQCAIBIJAIAgEgkAgCASCQCBM99x9LZ6I8wobBIJAIAgEgkAgCASCQCAIBIJAIAgEgkAgCASCQCAIBIJAIAgEwn6MMbYeAmZlg0AQCASBQBAIBIFAEAgEgUAQCASBQBAIBIFAEAgEgUAQCASBQBAIBIFAEAgEgUAQCASBQBAIBIFAEAgEgUB4AFD1EWGhj1jMAAAAAElFTkSuQmCC\">\n",
       "\n",
       "</div>\n",
       "<div class=\"col-md-12 text-right\">\n",
       "    <a role=\"button\" data-toggle=\"collapse\" data-target=\"#descriptives-6236338783841712234,#minihistogram-6236338783841712234\"\n",
       "       aria-expanded=\"false\" aria-controls=\"collapseExample\">\n",
       "        Toggle details\n",
       "    </a>\n",
       "</div>\n",
       "<div class=\"row collapse col-md-12\" id=\"descriptives-6236338783841712234\">\n",
       "    <div class=\"col-sm-4\">\n",
       "        <p class=\"h4\">Quantile statistics</p>\n",
       "        <table class=\"stats indent\">\n",
       "            <tr>\n",
       "                <th>Minimum</th>\n",
       "                <td>1</td>\n",
       "            </tr>\n",
       "            <tr>\n",
       "                <th>5-th percentile</th>\n",
       "                <td>1.8</td>\n",
       "            </tr>\n",
       "            <tr>\n",
       "                <th>Q1</th>\n",
       "                <td>6</td>\n",
       "            </tr>\n",
       "            <tr>\n",
       "                <th>Median</th>\n",
       "                <td>12</td>\n",
       "            </tr>\n",
       "            <tr>\n",
       "                <th>Q3</th>\n",
       "                <td>16</td>\n",
       "            </tr>\n",
       "            <tr>\n",
       "                <th>95-th percentile</th>\n",
       "                <td>19</td>\n",
       "            </tr>\n",
       "            <tr>\n",
       "                <th>Maximum</th>\n",
       "                <td>19</td>\n",
       "            </tr>\n",
       "            <tr>\n",
       "                <th>Range</th>\n",
       "                <td>18</td>\n",
       "            </tr>\n",
       "            <tr>\n",
       "                <th>Interquartile range</th>\n",
       "                <td>10</td>\n",
       "            </tr>\n",
       "        </table>\n",
       "        <p class=\"h4\">Descriptive statistics</p>\n",
       "        <table class=\"stats indent\">\n",
       "            <tr>\n",
       "                <th>Standard deviation</th>\n",
       "                <td>6.1632</td>\n",
       "            </tr>\n",
       "            <tr>\n",
       "                <th>Coef of variation</th>\n",
       "                <td>0.56635</td>\n",
       "            </tr>\n",
       "            <tr>\n",
       "                <th>Kurtosis</th>\n",
       "                <td>-1.324</td>\n",
       "            </tr>\n",
       "            <tr>\n",
       "                <th>Mean</th>\n",
       "                <td>10.882</td>\n",
       "            </tr>\n",
       "            <tr>\n",
       "                <th>MAD</th>\n",
       "                <td>5.301</td>\n",
       "            </tr>\n",
       "            <tr class=\"\">\n",
       "                <th>Skewness</th>\n",
       "                <td>-0.20899</td>\n",
       "            </tr>\n",
       "            <tr>\n",
       "                <th>Sum</th>\n",
       "                <td>185</td>\n",
       "            </tr>\n",
       "            <tr>\n",
       "                <th>Variance</th>\n",
       "                <td>37.985</td>\n",
       "            </tr>\n",
       "            <tr>\n",
       "                <th>Memory size</th>\n",
       "                <td>0.0 B</td>\n",
       "            </tr>\n",
       "        </table>\n",
       "    </div>\n",
       "    <div class=\"col-sm-8 histogram\">\n",
       "        <img src=\"data:image/png;base64,iVBORw0KGgoAAAANSUhEUgAAAlgAAAGQCAYAAAByNR6YAAAABHNCSVQICAgIfAhkiAAAAAlwSFlzAAAPYQAAD2EBqD%2BnaQAAIABJREFUeJzt3XtU1XW%2B//HXhh2IMBQq2MXWeNRMjxFyyeyImRwvWDqZDsOp0e5hZrJmsvDWxVIOTZR1GvIWY8vpSjZqo4epY%2BWZLlPqoGBkGkhZjimbSSPlFvD9/dHPfdpuMNSP7Mv3%2BVhrL9b%2B7A/f7/vNh81%2Bre/3uzcOy7IsAQAAwJgQXxcAAAAQbAhYAAAAhhGwAAAADCNgAQAAGEbAAgAAMIyABQAAYBgBCwAAwDACFgAAgGEELAAAAMMIWAAAAIYRsAAAAAwjYAEAABhGwAIAADCMgAUAAGAYAQsAAMAwAhYAAIBhBCwAAADDCFgAAACGEbAAAAAMI2ABAAAYRsACAAAwjIAFAABgGAELAADAMAIWAACAYQQsAAAAwwhYAAAAhhGwAAAADCNgAQAAGEbAAgAAMIyABQAAYBgBCwAAwDACFgAAgGEELAAAAMMIWAAAAIYRsAAAAAwjYAEAABhGwAIAADCMgAUAAGAYAQsAAMAwp68LsAuX6zsj2wkJcahbt0h9881RtbZaRrbp7%2Bg5%2BHu2W7%2BS/Xq2W78SPftLz7GxP/PJfjmCFWBCQhxyOBwKCXH4upROQ8/Bz279Svbr2W79SvRsdwQsAAAAwwhYAAAAhhGwAAAADCNgAQAAGEbAAgAAMIyABQAAYBgBCwAAwDACFgAAgGG2CVh79%2B7VbbfdpsTERF111VUqLCxsd%2B7OnTuVkZGhhIQETZ48WeXl5Z1YKQAACHS2CFitra3KyspSTEyM1q5dq4cfflhLly7V%2BvXrvebW1dUpKytLKSkpWrNmjRITEzVt2jTV1dX5oHIAABCIbBGwampqNHDgQC1YsEC9e/fWiBEjdMUVV6ikpMRrbnFxscLDw5WTk6O%2Bfftq/vz5ioyM1BtvvOGDygEAQCCyRcCKi4vTU089paioKFmWpZKSEm3dulVDhgzxmltWVqbk5GQ5HD/8HyWHw6GkpCSVlpZ2dtkAACBAOX1dQGdLS0vT/v37NXLkSI0dO9brcZfLpX79%2BnmMde/eXRUVFR3eR3V1tVwul8eY09lVcXFxp1b0j4SGhnh8tQN6Dn5261eyX89261eiZ7uzXcB6%2BumnVVNTowULFigvL0/333%2B/x%2BP19fUKCwvzGAsLC1NTU1OH91FUVKSCggKPsRkzZig7O/vUCz9OdHSEsW0FCnoOfnbrV7Jfz3brV/JtzynzA%2Bfylr/npvu6BKNsF7Di4%2BMlSY2Njbr33nuVk5PjEajCw8O9wlRTU5O6dOnS4X1kZmYqLS3NY8zp7KpDh46eRuU/CA0NUXR0hGpr69XS0nra2wsE9Bz8PdutX8l%2BPdutX8mePZ8OE6%2BRbYmJiTwj2/0ptghYNTU1Ki0t1ahRo9xj/fr10/fff68jR46oW7du7vGePXuqpqbG6/tP5vReXFyc13yX6zs1N5t7grW0tBrdXiCg5%2BBnt34l%2B/Vst34le/Z8KoLtZ2SLk6T79u3T3XffrYMHD7rHysvL1a1bN49wJUkJCQnavn27LMuSJFmWpW3btikhIaFTawYAAIHLFgErPj5egwYN0rx581RZWam//vWvys/P15133inphwvbGxoaJEnp6emqra1Vbm6uKisrlZubq/r6eo0bN86XLQAAgABii4AVGhqqJUuWKCIiQpmZmZo/f76mTp2qG2%2B8UZKUmpqq4uJiSVJUVJSWL1%2BukpISTZo0SWVlZVqxYoW6du3qyxYAAEAAscU1WNIP11Yd/86%2BY3bv3u1x/9JLL9XatWs7oywAABCEbHEECwAAoDMRsAAAAAwjYAEAABhGwAIAADCMgAUAAGAYAQsAAMAwAhYAAIBhBCwAAADDCFgAAACGEbAAAAAMI2ABAAAYRsACAAAwjIAFAABgGAELAADAMAIWAACAYQQsAAAAwwhYAAAAhhGwAAAADCNgAQAAGEbAAgAAMIyABQAAYBgBCwAAwDACFgAAgGEELAAAAMMIWAAAAIYRsAAAAAwjYAEAABhGwAIAADCMgAUAAGAYAQsAAMAwAhYAAIBhBCwAAADDCFgAAACGEbAAAAAMI2ABAAAYRsACAAAwjIAFAABgGAELAADAMAIWAACAYbYIWAcPHlR2draGDBmi4cOHKy8vT42NjW3OnT59ui6%2B%2BGKP26ZNmzq5YgAAEMicvi7gTLMsS9nZ2YqOjtaLL76ob7/9VvPmzVNISIhmz57tNX/Pnj3Kz8/XFVdc4R47%2B%2ByzO7NkAAAQ4II%2BYFVVVam0tFQffPCBevToIUnKzs7W7373O6%2BA1dTUpH379ik%2BPl6xsbG%2BKBcAAASBoD9FGBsbq8LCQne4OubIkSNec6uqquRwOHThhRd2VnkAACAIBf0RrOjoaA0fPtx9v7W1VS%2B88IKGDh3qNbeqqkpRUVHKycnRli1bdO6552rmzJkaMWLESe2zurpaLpfLY8zp7Kq4uLhTa%2BJHQkNDPL7aAT0HP7v1K9mvZ7v1K9mz59PhdAbXzynoA9bx8vPztXPnTr322mtej1VVVamhoUGpqanKysrSxo0bNX36dBUVFSk%2BPr7D%2BygqKlJBQYHH2IwZM5SdnX3a9R8THR1hbFuBgp6Dn936lezXs936lezZ86mIiYn0dQlGOSzLsnxdRGfJz8/Xc889pyeffFJjx471ery1tVXfffedx0Xtd955p2JjY7Vw4cIO7%2BdMH8GKjo5QbW29WlpaT3t7gYCeg79nu/Ur2a9nu/Ur%2BUfPox9/zyf7PRUb7x3%2B05NOga%2BCm22OYC1cuFAvv/yy8vPz2wxXkhQSEuL1jsE%2BffqosrLypPYVFxfnFaZcru/U3GzuCdbS0mp0e4GAnoOf3fqV7Nez3fqV7NnzqQi2n1FwnfBsR0FBgV555RUtXrxY11xzTbvz5syZo7lz53qM7dq1S3369DnTJQIAgCAS9AFrz549WrJkie644w4lJyfL5XK5b5LkcrnU0NAgSUpLS9P69eu1bt067d27VwUFBSopKdGUKVN82QIAAAgwQX%2BK8O2331ZLS4uWLl2qpUuXejy2e/dupaamKi8vT5MmTdKYMWP00EMPaenSpdq/f78uuugiFRYWqlevXj6qHgAABKKgD1hZWVnKyspq9/Hdu3d73M/IyFBGRsaZLgsAAASxoD9FCAAA0NkIWAAAAIYRsAAAAAwjYAEAABhGwAIAADCMgAUAAGAYAQsAAMAwAhYAAIBhBCwAAADDCFgAAACGEbAAAAAMI2ABAAAYRsACAAAwjIAFAABgGAELAADAMAIWAACAYQQsAAAAwwhYAAAAhhGwAAAADCNgAQAAGEbAAgAAMIyABQAAYBgBCwAAwDACFgAAgGEELAAAAMMIWAAAAIYRsAAAAAwjYAEAABhGwAIAADCMgAUAAGAYAQsAAMAwAhYAAIBhBCwAAADDCFgAAACGEbAAAAAMI2ABAAAYRsACAAAwjIAFAABgmC0C1sGDB5Wdna0hQ4Zo%2BPDhysvLU2NjY5tzd%2B7cqYyMDCUkJGjy5MkqLy/v5GoBAECgC/qAZVmWsrOzVV9frxdffFFPPvmkNm3apKeeesprbl1dnbKyspSSkqI1a9YoMTFR06ZNU11dnQ8qBwAAgSroA1ZVVZVKS0uVl5eniy66SCkpKcrOztaGDRu85hYXFys8PFw5OTnq27ev5s%2Bfr8jISL3xxhs%2BqBwAAASqoA9YsbGxKiwsVI8ePTzGjxw54jW3rKxMycnJcjgckiSHw6GkpCSVlpZ2Sq0AACA4BH3Aio6O1vDhw933W1tb9cILL2jo0KFec10ul%2BLi4jzGunfvrgMHDpzxOgEAQPBw%2BrqAzpafn6%2BdO3fqtdde83qsvr5eYWFhHmNhYWFqamo6qX1UV1fL5XJ5jDmdXb3C26kIDQ3x%2BGoH9Bz87NavZL%2Be7davZM%2BeT4fTGVw/J1sFrPz8fK1atUpPPvmk%2Bvfv7/V4eHi4V5hqampSly5dTmo/RUVFKigo8BibMWOGsrOzT77odkRHR0iSUuZzfdiZ8vfcdF%2BX4F5nu7Bbv9KZ6Zm/CwhEMTGRvi7BKNsErIULF%2Brll19Wfn6%2Bxo4d2%2Bacnj17qqamxmOspqbmpI88ZWZmKi0tzWPM6eyqQ4eOnlzRbQgNDVF0dIRqa%2BvV0tJ62ttD%2B0ys16my2zrbrV/Jnj0DJ3Km/ub6KrjZImAVFBTolVde0eLFi5We3v5RiYSEBD377LOyLEsOh0OWZWnbtm268847T2p/cXFxXqHM5fpOzc3m/oi2tLQa3R68%2BcPP127rbLd%2BJXv2DLQl2J4HwXXCsw179uzRkiVLdMcddyg5OVkul8t9k364sL2hoUGSlJ6ertraWuXm5qqyslK5ubmqr6/XuHHjfNkCAAAIMEEfsN5%2B%2B221tLRo6dKlSk1N9bhJUmpqqoqLiyVJUVFRWr58uUpKSjRp0iSVlZVpxYoV6tq1qy9bAAAAASboTxFmZWUpKyur3cd3797tcf/SSy/V2rVrz3RZAAAgiAX9ESwAAIDORsACAAAwjIAFAABgGAELAADAML8PWBkZGXrllVf03Xff%2BboUAACADvH7gDV06FAtW7ZMqampuueee/T%2B%2B%2B/LsixflwUAANAuvw9Ys2bN0qZNm7RkyRKFhoZq5syZuuqqq/Tkk0/q888/93V5AAAAXgLic7AcDoeGDRumYcOGqb6%2BXs8//7yWLFmiFStWKCkpSTfddJPGjBnj6zIBAAAkBUjAkqTq6mr9%2Bc9/1p///Gd99tlnSkpK0nXXXacDBw7o/vvv19atWzV//nxflwkAAOD/Aev111/X66%2B/rs2bN6tbt26aOHGinn76afXu3ds957zzzlNubi4BCwAA%2BAW/D1jz58/XyJEj9cwzz%2BjKK69USIj3ZWN9%2BvTRlClTfFAdAACAN78PWO%2B%2B%2B65iYmJ0%2BPBhd7jasWOHBg0apNDQUElSUlKSkpKSfFkmAACAm9%2B/i/DIkSNKT0/Xs88%2B6x7LysrStddeq6%2B//tqHlQEAALTN7wPWf/7nf%2BrnP/%2B5brnlFvdYcXGxzjvvPOXl5fmwMgAAgLb5fcD6%2B9//rjlz5ig2NtY91q1bN%2BXk5Oijjz7yYWUAAABt8/uA5XQ6VVtb6zVeX1/PJ7oDAAC/5PcB68orr9SiRYv05Zdfuse%2B%2Buor5eXlafjw4T6sDAAAoG1%2B/y7C2bNn65ZbbtHYsWMVHR0tSaqtrdWgQYM0d%2B5cH1cHAADgze8DVvfu3bV27Vr97W9/U0VFhZxOp/r166crrrhCDofD1%2BUBAAB48fuAJUmhoaEaPnw4pwQBAEBA8PuA5XK59NRTT2nbtm36/vvvvS5sf/vtt31UGQAAQNv8PmA98MADKi8v1zXXXKOf/exnvi4HAADgJ/l9wProo49UWFiolJQUX5cCAADQIX7/MQ1du3ZV9%2B7dfV0GAABAh/l9wLr22mtVWFiolpYWX5cCAADQIX5/ivDw4cPasGGD/vd//1cXXnihwsLCPB7/4x//6KPKAAAA2ub3AUuSxo8f7%2BsSAAAAOszvA1ZeXp6vSwAAADgpfn8NliRVV1eroKBAs2bN0j//%2BU%2B98cYbqqqq8nVZAAAAbfL7gLV3715NmDBBa9eu1Ztvvqm6ujoVFxdr8uTJKisr83V5AAAAXvw%2BYD366KMaNWqU3nrrLZ111lmSpMWLFystLU2PP/64j6sDAADw5vcBa9u2bbrllls8/rGz0%2BnUXXfdpZ07d/qwMgAAgLb5fcBqbW1Va2ur1/jRo0cVGhrqg4oAAABOzO8DVmpqqpYvX%2B4Rsg4fPqz8/HwNHTrUh5UBAAC0ze8D1pw5c1ReXq7U1FQ1NjZq%2BvTpGjlypPbt26fZs2f7ujwAAAAvfv85WD179tS6deu0YcMGffrpp2ptbdX111%2Bva6%2B9VlFRUb4uDwAAwIvfByxJioiIUEZGhq/LAAAA6BC/D1g33njjCR/nfxECAAB/4/cB64ILLvC439zcrL179%2Bqzzz7TTTfd5KOqAAAA2uf3Aau9/0X4zDPP6MCBAye9vaamJk2aNEkPPPCALr/88jbnTJ8%2BXe%2B8847H2LJlyzRy5MiT3h8AALAfvw9Y7bn22ms1ceJELVy4sMPf09jYqFmzZqmiouKE8/bs2aP8/HxdccUV7rGzzz77lGsFAAD2ErABa/v27Sf1QaOVlZWaNWuWLMs64bympibt27dP8fHxio2NPd0yAQCADfl9wGrrIvcjR45o9%2B7duuGGGzq8nS1btujyyy/Xb3/7Ww0ePLjdeVVVVXI4HLrwwgtPqV4AAAC/D1jnn3%2B%2Bx/8hlKSzzjpLU6ZM0S9%2B8YsOb6ejYayqqkpRUVHKycnRli1bdO6552rmzJkaMWLESdUNAADsy%2B8D1qOPPtqp%2B6uqqlJDQ4NSU1OVlZWljRs3avr06SoqKlJ8fHyHtlFdXS2Xy%2BUx5nR2VVxc3GnXFxoa4vEVZ47T6bufsd3W2W79SvbsGTgRX/7NPRP8PmBt3bq1w3Mvu%2Byy097fXXfdpalTp7ovah8wYIA%2B%2BeQTvfrqqx0OWEVFRSooKPAYmzFjhrKzs0%2B7vmOioyOMbQtti4mJ9HUJtltnu/Ur2bNnoC3%2B8DfXJL8PWFOnTnWfIvzxBerHjzkcDn366aenvb%2BQkBCvdwz26dNHlZWVHd5GZmam0tLSPMaczq46dOjoadcXGhqi6OgI1dbWq6Wl9ae/AafMxHqdKruts936lezZM3AiZ%2Bpvrq%2BCm98HrGXLlmnRokW67777NGTIEIWFhenjjz/WI488ouuuu05XX3210f3NmTNHDofD4/O3du3apf79%2B3d4G3FxcV6nA12u79TcbO6PaEtLq9HtwZs//Hztts5261eyZ89AW4LteeD3Jzzz8vL04IMPauzYsYqJiVFkZKSGDh2qRx55RC%2B//LIuuOAC9%2B1UuVwuNTQ0SJLS0tK0fv16rVu3Tnv37lVBQYFKSko0ZcoUUy0BAIAg5/cBq7q6us3wFBUVpUOHDhnZR2pqqoqLiyVJY8aM0UMPPaSlS5dq/Pjxeuedd1RYWKhevXoZ2RcAAAh%2Bfn%2BKcPDgwVq8eLF%2B97vfKSoqSpJ0%2BPBhr09aPxm7d%2B8%2B4f2MjAxlZGScWsEAAMD2/D5g3X///brxxht15ZVXqnfv3rIsS1988YViY2P1xz/%2B0dflAQAAePH7gNW3b18VFxdrw4YN2rNnjyTp17/%2Bta655hpFRPD2ZgAA4H/8PmBJP/yj5YyMDO3bt8/9L2zOOussH1cFAADQNr%2B/yN2yLD3%2B%2BOO67LLLNH78eB04cECzZ8/W/Pnz9f333/u6PAAAAC9%2BH7Cef/55vf7663rooYcUFhYmSRo1apTeeustr09LBwAA8Ad%2BH7CKior04IMPatKkSe5Pb7/66qu1aNEirV%2B/3sfVAQAAePP7gLVv3z4NHDjQa3zAgAFe/1AZAADAH/h9wLrgggv08ccfe42/%2B%2B677gveAQAA/Infv4vwtttu08MPPyyXyyXLsvThhx%2BqqKhIzz//vObMmePr8gAAALz4fcCaPHmympubtXTpUjU0NOjBBx9Ut27d9Jvf/EbXX3%2B9r8sDAADw4vcBa8OGDUpPT1dmZqa%2B%2BeYbWZal7t27%2B7osAACAdvn9NViPPPKI%2B2L2bt26Ea4AAIDf8/uA1bt3b3322We%2BLgMAAKDD/P4U4YABA3TvvfeqsLBQvXv3Vnh4uMfjeXl5PqoMAACgbX4fsD7//HMlJydLEp97BQAAAoJfBqzHHntMd999t7p27arnn3/e1%2BUAAACcFL%2B8Buu5555TfX29x1hWVpaqq6t9VBEAAEDH%2BWXAsizLa2zr1q1qbGz0QTUAAAAnxy8DFgAAQCAjYAEAABjmtwHL4XD4ugQAAIBT4pfvIpSkRYsWeXzm1ffff6/8/HxFRkZ6zONzsAAAgL/xy4B12WWXeX3mVWJiog4dOqRDhw75qCoAAICO8cuAxWdfAQCAQOa312ABAAAEKgIWAACAYQQsAAAAwwhYAAAAhhGwAAAADCNgAQAAGEbAAgAAMIyABQAAYBgBCwAAwDACFgAAgGEELAAAAMMIWAAAAIYRsAAAAAwjYAEAABhGwAIAADDMdgGrqalJ48eP1%2BbNm9uds3PnTmVkZCghIUGTJ09WeXl5J1YIAAACna0CVmNjo%2B655x5VVFS0O6eurk5ZWVlKSUnRmjVrlJiYqGnTpqmurq4TKwUAAIHMNgGrsrJSv/rVr/Tll1%2BecF5xcbHCw8OVk5Ojvn37av78%2BYqMjNQbb7zRSZUCAIBAZ5uAtWXLFl1%2B%2BeUqKio64byysjIlJyfL4XBIkhwOh5KSklRaWtoZZQIAgCDg9HUBneWGG27o0DyXy6V%2B/fp5jHXv3v2EpxWPV11dLZfL5THmdHZVXFxch7fRntDQEI%2BvOHOcTt/9jO22znbrV7Jnz8CJ%2BPJv7plgm4DVUfX19QoLC/MYCwsLU1NTU4e3UVRUpIKCAo%2BxGTNmKDs720iNkhQdHWFsW2jb6Mff83UJAGAbMTGRvi7BKALWccLDw73CVFNTk7p06dLhbWRmZiotLc1jzOnsqkOHjp52faGhIYqOjlBtbb1aWlpPe3sAAPgDE6%2BRbfFVcCNgHadnz56qqanxGKupqTmp03txcXFe812u79TcbC4QtbS0Gt0eAAC%2BFGyvacF1wtOAhIQEbd%2B%2BXZZlSZIsy9K2bduUkJDg48oAAECgIGDphwvbGxoaJEnp6emqra1Vbm6uKisrlZubq/r6eo0bN87HVQIAgEBBwJKUmpqq4uJiSVJUVJSWL1%2BukpISTZo0SWVlZVqxYoW6du3q4yoBAECgsOU1WLt37z7h/UsvvVRr167tzJIAAEAQ4QgWAACAYQQsAAAAwwhYAAAAhhGwAAAADCNgAQAAGEbAAgAAMIyABQAAYBgBCwAAwDACFgAAgGEELAAAAMMIWAAAAIYRsAAAAAwjYAEAABhGwAIAADCMgAUAAGAYAQsAAMAwAhYAAIBhBCwAAADDCFgAAACGEbAAAAAMI2ABAAAYRsACAAAwjIAFAABgGAELAADAMAIWAACAYQQsAAAAwwhYAAAAhhGwAAAADCNgAQAAGEbAAgAAMIyABQAAYBgBCwAAwDACFgAAgGEELAAAAMMIWAAAAIYRsAAAAAwjYAEAABhGwAIAADCMgAUAAGCYbQJWY2Oj5s2bp5SUFKWmpmrlypXtzp0%2Bfbouvvhij9umTZs6sVoAABDInL4uoLM89thjKi8v16pVq7R//37Nnj1b559/vtLT073m7tmzR/n5%2BbriiivcY2effXZnlgsAAAKYLQJWXV2dVq9erWeffVaDBg3SoEGDVFFRoRdffNErYDU1NWnfvn2Kj49XbGysjyoGAACBzBanCHft2qXm5mYlJia6x5KTk1VWVqbW1laPuVVVVXI4HLrwwgs7u0wAABAkbHEEy%2BVyKSYmRmFhYe6xHj16qLGxUYcPH1a3bt3c41VVVYqKilJOTo62bNmic889VzNnztSIESM6vL/q6mq5XC6PMaezq%2BLi4k67l9DQEI%2BvAAAEA6czuF7XbBGw6uvrPcKVJPf9pqYmj/Gqqio1NDQoNTVVWVlZ2rhxo6ZPn66ioiLFx8d3aH9FRUUqKCjwGJsxY4ays7NPowtP0dERxrYFAICvxcRE%2BroEo2wRsMLDw72C1LH7Xbp08Ri/6667NHXqVPdF7QMGDNAnn3yiV199tcMBKzMzU2lpaR5jTmdXHTp09FRbcAsNDVF0dIRqa%2BvV0tL6098AAEAAMPEa2RZfBTdbBKyePXvq0KFDam5ultP5Q8sul0tdunRRdHS0x9yQkBCvdwz26dNHlZWVHd5fXFyc1%2BlAl%2Bs7NTebC0QtLa1GtwcAgC8F22tacJ3wbMfAgQPldDpVWlrqHispKVF8fLxCQjx/BHPmzNHcuXM9xnbt2qU%2Bffp0Sq0AACDw2SJgRUREaOLEiVqwYIF27Niht956SytXrtSNN94o6YejWQ0NDZKktLQ0rV%2B/XuvWrdPevXtVUFCgkpISTZkyxZctAACAAGKLgCVJc%2BfO1aBBg3TTTTfp4Ycf1syZMzVmzBhJUmpqqoqLiyVJY8aM0UMPPaSlS5dq/Pjxeuedd1RYWKhevXr5snwAABBAHJZlWb4uwg5cru%2BMbMfpDFFMTKQOHTqq5uZWjXvqAyPbBQDAl/7ym2FnZLuxsT87I9v9KbY5ggUAANBZCFgAAACGEbAAAAAMI2ABAAAYRsACAAAwjIAFAABgGAELAADAMAIWAACAYQQsAAAAwwhYAAAAhhGwAAAADCNgAQAAGEbAAgAAMIyABQAAYBgBCwAAwDACFgAAgGEELAAAAMMIWAAAAIYRsAAAAAwjYAEAABhGwAIAADCMgAUAAGAYAQsAAMAwAhYAAIBhBCwAAADDCFgAAACGEbAAAAAMI2ABAAAYRsACAAAwjIAFAABgGAELAADAMAIWAACAYQQsAAAAwwhYAAAAhhGwAAAADCNgAQAAGEbAAgAAMIyABQAAYBgBCwAAwDDbBKzGxkbNmzdPKSkpSk1N1cqVK9udu3PnTmVkZCghIUGTJ09WeXl5J1YKAAACnW0C1mOPPaby8nKtWrVKDz30kAoKCvTGG294zaurq1NWVpZSUlK0Zs0aJSYmatq0aaqrq/NB1QAAIBDZImDV1dVp9erVmj9/vgYNGqTRo0fr9ttv14svvug1t7i4WOHh4crJyVHfvn01f/58RUZGthnGAAAA2mKLgLVr1y41NzcrMTHRPZacnKyysjK1trZ6zC0rK1NycrIcDockyeFwKCkpSaWlpZ1aMwAACFxOXxfQGVwul2JiYhQWFuYe69GjhxobG3X48GF169bNY26/fv08vr979%2B6qqKjo8P6qq6vlcrk8xpzOroqLizvFDv5PaGiIx1cAAIKB0xlcr2u2CFj19fUe4UqS%2B35TU1OH5h4/70SKiopUUFDgMXb33XeYqcHTAAANaUlEQVRr5syZJ1N2m6qrq7VqVaEyMzMVFxenv%2Bemn/Y2/V11dbWKiorcPduB3Xq2W7%2BS/Xq2W78SPdul5/YEV1xsR3h4uFdAOna/S5cuHZp7/LwTyczM1Jo1azxumZmZp1i9J5fLpYKCAq8jZMGMnoOf3fqV7Nez3fqV6NnubHEEq2fPnjp06JCam5vldP7QssvlUpcuXRQdHe01t6amxmOspqbmpJJ4XFyc7ZM7AAB2ZosjWAMHDpTT6fS4UL2kpETx8fEKCfH8ESQkJGj79u2yLEuSZFmWtm3bpoSEhE6tGQAABC5bBKyIiAhNnDhRCxYs0I4dO/TWW29p5cqVuvHGGyX9cDSroaFBkpSenq7a2lrl5uaqsrJSubm5qq%2Bv17hx43zZAgAACCChCxYsWODrIjrD0KFDtXPnTj3xxBP68MMPdeedd2ry5MmSpKSkJP385z/XwIEDFRYWpiFDhuill17SsmXL1NzcrMWLF%2Bv888/3cQf/JzIyUkOGDFFkZKSvS%2Bk09Bz87NavZL%2Be7davRM925rCOnQsDAACAEbY4RQgAANCZCFgAAACGEbAAAAAMI2ABAAAYRsACAAAwjIAFAABgGAELAADAMAIWAACAYQQsP9TY2Kh58%2BYpJSVFqampWrlyZbtzd%2B7cqYyMDCUkJGjy5MkqLy/vxErNOXjwoLKzszVkyBANHz5ceXl5amxsbHPu9OnTdfHFF3vcNm3a1MkVn56NGzd69ZCdnd3m3GBY4zVr1nj1e/HFF2vAgAFtzg/0NW5qatL48eO1efNm99hXX32lm2%2B%2BWYMHD9bVV1%2Bt999//4Tb2LBhg0aNGqWEhATNmDFD33zzzZku%2B5S11W9paan%2B4z/%2BQ4mJiRo7dqxWr159wm2kpKR4rfnRo0fPdOmnrK2eFy1a5NXDCy%2B80O42AmmNJe%2Be58yZ0%2Bbz%2Bti/oWtLoK3zabHgdx555BFrwoQJVnl5ufU///M/VmJiovWXv/zFa97Ro0etYcOGWY8%2B%2BqhVWVlpLVy40Pq3f/s36%2BjRoz6o%2BtS1trZav/rVr6zbb7/d%2Buyzz6ytW7dao0ePth599NE2548ePdp6/fXXrerqavetsbGxk6s%2BPUuWLLGmTZvm0cO3337rNS9Y1ri%2Bvt6j1/3791ujR4%2B2cnNz25wfyGvc0NBgzZgxw%2Brfv7/10UcfWZb1w%2B/4hAkTrFmzZlmVlZXWsmXLrISEBOsf//hHm9soKyuzLr30Umvt2rXWp59%2Bak2ZMsXKysrqzDY6rK1%2Bq6urrZSUFOuJJ56wPv/8c2vDhg1WfHy8tWnTpja3ceDAAat///7Wl19%2B6bHmra2tndhJx7XVs2VZ1s0332wtX77co4e6uro2txFIa2xZbfdcW1vr0ev27dutSy65xNq4cWOb2wi0dT5dBCw/c/ToUSs%2BPt7jSfvMM89YU6ZM8Zq7evVqKy0tzf3L2draao0ePdr605/%2B1Gn1mlBZWWn179/fcrlc7rH169dbqampXnMbGxutgQMHWlVVVZ1ZonGzZs2ynnjiiZ%2BcFyxrfLxly5ZZo0aNajM0BfIaV1RUWL/4xS%2BsCRMmeLwQ/e1vf7MGDx7sEYxvuukm6%2Bmnn25zO/fdd581e/Zs9/39%2B/dbF198sfXll1%2Be2QZOUnv9vvTSS1Z6errH3AceeMC655572tzOBx98YA0bNuyM12tCez1blmUNHz7ceu%2B99zq0nUBZY8s6cc8/duutt1r33ntvu9sJpHU2gVOEfmbXrl1qbm5WYmKieyw5OVllZWVqbW31mFtWVqbk5GQ5HA5JksPhUFJSkkpLSzu15tMVGxurwsJC9ejRw2P8yJEjXnOrqqrkcDh04YUXdlZ5Z8SePXvUu3fvn5wXLGv8Y4cPH9azzz6rWbNmKSwszOvxQF7jLVu26PLLL1dRUZHHeFlZmf71X/9VXbt2dY8lJye3u45lZWVKSUlx3z/vvPN0/vnnq6ys7MwUfora6/fYaf7jtfWclqTKykr9y7/8yxmp0bT2ej5y5IgOHjzYoee1FDhrLLXf8499%2BOGH2rp1q%2B6555525wTSOpvg9HUB8ORyuRQTE%2BPxwtOjRw81Njbq8OHD6tatm8fcfv36eXx/9%2B7dVVFR0Wn1mhAdHa3hw4e777e2tuqFF17Q0KFDveZWVVUpKipKOTk52rJli84991zNnDlTI0aM6MyST4tlWfr888/1/vvva/ny5WppaVF6erqys7O9AkewrPGPvfzyy4qLi1N6enqbjwfyGt9www1tjrtcLsXFxXmMde/eXQcOHGhzfnV19UnN95X2%2Bu3Vq5d69erlvv/Pf/5T//3f/62ZM2e2OX/Pnj2qr6/X1KlT9fnnn2vgwIGaN2%2BeX74Yt9fznj175HA4tGzZMr377rs655xzdMstt%2Bi6665rc36grLHUfs8/tmLFCl133XU677zz2p0TSOtsAkew/Ex9fb3Xi%2Byx%2B01NTR2ae/y8QJOfn6%2BdO3fqt7/9rddjVVVVamhoUGpqqgoLCzVixAhNnz5dH3/8sQ8qPTX79%2B93r91TTz2l2bNna/369Xrssce85gbbGluWpdWrV2vKlCntzgmGNT7eya5jQ0ND0Kx7Q0ODZs6cqR49eigzM7PNOVVVVfr22281ffp0LVmyRF26dNHNN9/c7hEvf3TsyGufPn20YsUKZWRk6IEHHtDGjRvbnB9Ma/zVV1/po48%2B0tSpU084LxjW%2BWRwBMvPhIeHez3Bjt3v0qVLh%2BYePy%2BQ5Ofna9WqVXryySfVv39/r8fvuusuTZ06VWeffbYkacCAAfrkk0/06quvKj4%2BvrPLPSUXXHCBNm/erLPPPlsOh0MDBw5Ua2ur7rvvPs2dO1ehoaHuucG2xh9//LEOHjyoa665pt05wbDGxwsPD9fhw4c9xk60ju2te0RExBmr8Uw4evSo7rrrLn3xxRd66aWX2q3/D3/4g77//ntFRkZKkh5//HGNGDFCmzZt0oQJEzqz5FM2ceJEjRw5Uuecc46kH35vv/jiC7388ssaPXq01/xgWWNJevPNNzVw4ECvo%2B3HC4Z1PhkcwfIzPXv21KFDh9Tc3Owec7lc6tKli6Kjo73m1tTUeIzV1NR4HXYOFAsXLtRzzz2n/Px8jR07ts05ISEh7hfeY/r06aODBw92RonGnHPOOe7rqiSpb9%2B%2Bamxs1LfffusxL9jW%2BL333lNKSorXGv5YsKzxj53sOrY3PzY29ozVaNqRI0d02223qaKiQqtWrTrhtUlhYWHuF13ph/DRq1evgFpzh8PhDlfHnOj3NhjW%2BJj33ntP//7v//6T84JhnU8GAcvPDBw4UE6n0%2BPi15KSEsXHxyskxHO5EhIStH37dlmWJemH0y/btm1TQkJCp9ZsQkFBgV555RUtXrz4hEc35syZo7lz53qM7dq1S3369DnTJRrz3nvv6fLLL1d9fb177NNPP9U555zjcY2dFFxrLEk7duxQUlLSCecEwxofLyEhQZ988okaGhrcYyUlJe2uY0JCgkpKStz3v/76a3399dcBs%2B6tra26%2B%2B67tW/fPj3//PO66KKL2p1rWZZGjRqlNWvWuMfq6uq0d%2B/egFrz//qv/9LNN9/sMXai39tAX%2BNjLMvSxx9//JPP62BZ55NBwPIzERERmjhxohYsWKAdO3borbfe0sqVK90f3OZyudx/pNPT01VbW6vc3FxVVlYqNzdX9fX1GjdunC9bOGl79uzRkiVLdMcddyg5OVkul8t9kzx7TktL0/r167Vu3Trt3btXBQUFKikpOeE1Pf4mMTFR4eHhuv/%2B%2B1VVVaW//vWveuyxx3T77bdLCs41PqaioqLN0wjBtsbHGzJkiM477zzNnTtXFRUVWrFihXbs2KFf/vKXkn44NeRyudTS0iJJuv766/X6669r9erV2rVrl3JycnTVVVcFzDsrX3vtNW3evFmLFi1SdHS0%2B/l87DTpj/t1OBy66qqr9Pvf/16bN29WRUWFcnJydO655wbEGxuOGTlypLZu3ao//OEP%2BvLLL/XSSy9p3bp1uvXWWyUF3xof849//ENHjx5t83kdjOt8Unz2ARFoV11dnZWTk2MNHjzYSk1NtZ577jn3Y/379/f4DKSysjJr4sSJVnx8vPXLX/7S%2BuSTT3xQ8elZvny51b9//zZvluXd86uvvmqNGTPGuuSSS6zrrrvO2rJli69KP2WfffaZdfPNN1uDBw%2B2hg0bZv3%2B9793f9ZVMK7xMfHx8da7777rNR6Ma3z85wV98cUX1q9//Wvrkksusa655hrrgw8%2BcD/20UcfWf3797e%2B%2Buor99if/vQna8SIEdbgwYOtGTNmWN98802n1n%2Byftzvrbfe2ubz%2Bdjn%2BR3fb0NDg5WXl2cNGzbMSkhIsKZNm2bt37/fZ7101PFrvHHjRmvChAlWfHy8lZ6ebr355pvux4JhjS3Lu%2BfS0lKrf//%2BbX6mXbCs86lyWNb/P/cAAAAAIzhFCAAAYBgBCwAAwDACFgAAgGEELAAAAMMIWAAAAIYRsAAAAAwjYAEAABhGwAIAADCMgAUAAGAYAQsAAMAwAhYAAIBhBCwAAADDCFgAAACG/T%2BhvklGtPwo1wAAAABJRU5ErkJggg%3D%3D\">\n",
       "    </div>\n",
       "</div>\n",
       "</div><div class=\"row variablerow\">\n",
       "    <div class=\"col-md-3 namecol\">\n",
       "        <p class=\"h4\">lastName<br/>\n",
       "            <small>Categorical</small>\n",
       "        </p>\n",
       "    </div> <div class=\"col-md-3\">\n",
       "    <table class=\"stats \">\n",
       "        <tr class=\"\">\n",
       "            <th>Distinct count</th>\n",
       "            <td>19</td>\n",
       "        </tr>\n",
       "        <tr>\n",
       "            <th>Unique (%)</th>\n",
       "            <td>95.0%</td>\n",
       "        </tr>\n",
       "        <tr class=\"ignore\">\n",
       "            <th>Missing (%)</th>\n",
       "            <td>0.0%</td>\n",
       "        </tr>\n",
       "        <tr class=\"ignore\">\n",
       "            <th>Missing (n)</th>\n",
       "            <td>0</td>\n",
       "        </tr>\n",
       "        <tr class=\"ignore\">\n",
       "            <th>Infinite (%)</th>\n",
       "            <td>0.0%</td>\n",
       "        </tr>\n",
       "        <tr class=\"ignore\">\n",
       "            <th>Infinite (n)</th>\n",
       "            <td>0</td>\n",
       "        </tr>\n",
       "    </table>\n",
       "</div>\n",
       "<div class=\"col-md-6 collapse in\" id=\"minifreqtable-994551486766570159\">\n",
       "    <table class=\"mini freq\">\n",
       "        <tr class=\"\">\n",
       "    <th>Chadwick</th>\n",
       "    <td>\n",
       "        <div class=\"bar\" style=\"width:13%\" data-toggle=\"tooltip\" data-placement=\"right\" data-html=\"true\"\n",
       "             data-delay=500 title=\"Percentage: 10.0%\">\n",
       "            &nbsp;\n",
       "        </div>\n",
       "        2\n",
       "    </td>\n",
       "</tr> <tr class=\"\">\n",
       "    <th>Nöether$</th>\n",
       "    <td>\n",
       "        <div class=\"bar\" style=\"width:7%\" data-toggle=\"tooltip\" data-placement=\"right\" data-html=\"true\"\n",
       "             data-delay=500 title=\"Percentage: 5.0%\">\n",
       "            &nbsp;\n",
       "        </div>\n",
       "        1\n",
       "    </td>\n",
       "</tr> <tr class=\"\">\n",
       "    <th>KEPLER</th>\n",
       "    <td>\n",
       "        <div class=\"bar\" style=\"width:7%\" data-toggle=\"tooltip\" data-placement=\"right\" data-html=\"true\"\n",
       "             data-delay=500 title=\"Percentage: 5.0%\">\n",
       "            &nbsp;\n",
       "        </div>\n",
       "        1\n",
       "    </td>\n",
       "</tr> <tr class=\"other\">\n",
       "    <th>Other values (16)</th>\n",
       "    <td>\n",
       "        <div class=\"bar\" style=\"width:100%\" data-toggle=\"tooltip\" data-placement=\"right\" data-html=\"true\"\n",
       "             data-delay=500 title=\"Percentage: 80.0%\">\n",
       "            16\n",
       "        </div>\n",
       "        \n",
       "    </td>\n",
       "</tr> \n",
       "    </table>\n",
       "</div> \n",
       "<div class=\"col-md-12 text-right\">\n",
       "    <a role=\"button\" data-toggle=\"collapse\" data-target=\"#freqtable-994551486766570159, #minifreqtable-994551486766570159\"\n",
       "       aria-expanded=\"true\" aria-controls=\"collapseExample\">\n",
       "        Toggle details\n",
       "    </a>\n",
       "</div>\n",
       "<div class=\"col-md-12 collapse extrapadding\" id=\"freqtable-994551486766570159\">\n",
       "    <table class=\"freq table table-hover\">\n",
       "        <thead>\n",
       "        <tr>\n",
       "            <td class=\"fillremaining\">Value</td>\n",
       "            <td class=\"number\">Count</td>\n",
       "            <td class=\"number\">Frequency (%)</td>\n",
       "            <td style=\"min-width:200px\">&nbsp;</td>\n",
       "        </tr>\n",
       "        </thead>\n",
       "        <tr class=\"\">\n",
       "        <td class=\"fillremaining\">Chadwick</td>\n",
       "        <td class=\"number\">2</td>\n",
       "        <td class=\"number\">10.0%</td>\n",
       "        <td>\n",
       "            <div class=\"bar\" style=\"width:100%\">&nbsp;</div>\n",
       "        </td>\n",
       "</tr> <tr class=\"\">\n",
       "        <td class=\"fillremaining\">Nöether$</td>\n",
       "        <td class=\"number\">1</td>\n",
       "        <td class=\"number\">5.0%</td>\n",
       "        <td>\n",
       "            <div class=\"bar\" style=\"width:50%\">&nbsp;</div>\n",
       "        </td>\n",
       "</tr> <tr class=\"\">\n",
       "        <td class=\"fillremaining\">KEPLER</td>\n",
       "        <td class=\"number\">1</td>\n",
       "        <td class=\"number\">5.0%</td>\n",
       "        <td>\n",
       "            <div class=\"bar\" style=\"width:50%\">&nbsp;</div>\n",
       "        </td>\n",
       "</tr> <tr class=\"\">\n",
       "        <td class=\"fillremaining\">CURIE</td>\n",
       "        <td class=\"number\">1</td>\n",
       "        <td class=\"number\">5.0%</td>\n",
       "        <td>\n",
       "            <div class=\"bar\" style=\"width:50%\">&nbsp;</div>\n",
       "        </td>\n",
       "</tr> <tr class=\"\">\n",
       "        <td class=\"fillremaining\">Böhr//((%%</td>\n",
       "        <td class=\"number\">1</td>\n",
       "        <td class=\"number\">5.0%</td>\n",
       "        <td>\n",
       "            <div class=\"bar\" style=\"width:50%\">&nbsp;</div>\n",
       "        </td>\n",
       "</tr> <tr class=\"\">\n",
       "        <td class=\"fillremaining\">Hoy&&&le</td>\n",
       "        <td class=\"number\">1</td>\n",
       "        <td class=\"number\">5.0%</td>\n",
       "        <td>\n",
       "            <div class=\"bar\" style=\"width:50%\">&nbsp;</div>\n",
       "        </td>\n",
       "</tr> <tr class=\"\">\n",
       "        <td class=\"fillremaining\">Alvarez$$%!</td>\n",
       "        <td class=\"number\">1</td>\n",
       "        <td class=\"number\">5.0%</td>\n",
       "        <td>\n",
       "            <div class=\"bar\" style=\"width:50%\">&nbsp;</div>\n",
       "        </td>\n",
       "</tr> <tr class=\"\">\n",
       "        <td class=\"fillremaining\">Einstein</td>\n",
       "        <td class=\"number\">1</td>\n",
       "        <td class=\"number\">5.0%</td>\n",
       "        <td>\n",
       "            <div class=\"bar\" style=\"width:50%\">&nbsp;</div>\n",
       "        </td>\n",
       "</tr> <tr class=\"\">\n",
       "        <td class=\"fillremaining\">             GALiLEI</td>\n",
       "        <td class=\"number\">1</td>\n",
       "        <td class=\"number\">5.0%</td>\n",
       "        <td>\n",
       "            <div class=\"bar\" style=\"width:50%\">&nbsp;</div>\n",
       "        </td>\n",
       "</tr> <tr class=\"\">\n",
       "        <td class=\"fillremaining\">Gilbert###</td>\n",
       "        <td class=\"number\">1</td>\n",
       "        <td class=\"number\">5.0%</td>\n",
       "        <td>\n",
       "            <div class=\"bar\" style=\"width:50%\">&nbsp;</div>\n",
       "        </td>\n",
       "</tr> <tr class=\"\">\n",
       "        <td class=\"fillremaining\">Hertz</td>\n",
       "        <td class=\"number\">1</td>\n",
       "        <td class=\"number\">5.0%</td>\n",
       "        <td>\n",
       "            <div class=\"bar\" style=\"width:50%\">&nbsp;</div>\n",
       "        </td>\n",
       "</tr> <tr class=\"\">\n",
       "        <td class=\"fillremaining\">Ga%%%uss</td>\n",
       "        <td class=\"number\">1</td>\n",
       "        <td class=\"number\">5.0%</td>\n",
       "        <td>\n",
       "            <div class=\"bar\" style=\"width:50%\">&nbsp;</div>\n",
       "        </td>\n",
       "</tr> <tr class=\"\">\n",
       "        <td class=\"fillremaining\">H$$$ilbert</td>\n",
       "        <td class=\"number\">1</td>\n",
       "        <td class=\"number\">5.0%</td>\n",
       "        <td>\n",
       "            <div class=\"bar\" style=\"width:50%\">&nbsp;</div>\n",
       "        </td>\n",
       "</tr> <tr class=\"\">\n",
       "        <td class=\"fillremaining\">M$$ax%%well</td>\n",
       "        <td class=\"number\">1</td>\n",
       "        <td class=\"number\">5.0%</td>\n",
       "        <td>\n",
       "            <div class=\"bar\" style=\"width:50%\">&nbsp;</div>\n",
       "        </td>\n",
       "</tr> <tr class=\"\">\n",
       "        <td class=\"fillremaining\">Newton</td>\n",
       "        <td class=\"number\">1</td>\n",
       "        <td class=\"number\">5.0%</td>\n",
       "        <td>\n",
       "            <div class=\"bar\" style=\"width:50%\">&nbsp;</div>\n",
       "        </td>\n",
       "</tr> <tr class=\"\">\n",
       "        <td class=\"fillremaining\">Ampère</td>\n",
       "        <td class=\"number\">1</td>\n",
       "        <td class=\"number\">5.0%</td>\n",
       "        <td>\n",
       "            <div class=\"bar\" style=\"width:50%\">&nbsp;</div>\n",
       "        </td>\n",
       "</tr> <tr class=\"\">\n",
       "        <td class=\"fillremaining\">dirac$</td>\n",
       "        <td class=\"number\">1</td>\n",
       "        <td class=\"number\">5.0%</td>\n",
       "        <td>\n",
       "            <div class=\"bar\" style=\"width:50%\">&nbsp;</div>\n",
       "        </td>\n",
       "</tr> <tr class=\"\">\n",
       "        <td class=\"fillremaining\">COM%%%pton</td>\n",
       "        <td class=\"number\">1</td>\n",
       "        <td class=\"number\">5.0%</td>\n",
       "        <td>\n",
       "            <div class=\"bar\" style=\"width:50%\">&nbsp;</div>\n",
       "        </td>\n",
       "</tr> <tr class=\"\">\n",
       "        <td class=\"fillremaining\">Planck!!!</td>\n",
       "        <td class=\"number\">1</td>\n",
       "        <td class=\"number\">5.0%</td>\n",
       "        <td>\n",
       "            <div class=\"bar\" style=\"width:50%\">&nbsp;</div>\n",
       "        </td>\n",
       "</tr> \n",
       "    </table>\n",
       "</div> \n",
       "</div><div class=\"row variablerow\">\n",
       "    <div class=\"col-md-3 namecol\">\n",
       "        <p class=\"h4\">price<br/>\n",
       "            <small>Numeric</small>\n",
       "        </p>\n",
       "    </div> <div class=\"col-md-6\">\n",
       "    <div class=\"row\">\n",
       "        <div class=\"col-sm-6\">\n",
       "            <table class=\"stats \">\n",
       "                <tr>\n",
       "                    <th>Distinct count</th>\n",
       "                    <td>8</td>\n",
       "                </tr>\n",
       "                <tr>\n",
       "                    <th>Unique (%)</th>\n",
       "                    <td>40.0%</td>\n",
       "                </tr>\n",
       "                <tr class=\"ignore\">\n",
       "                    <th>Missing (%)</th>\n",
       "                    <td>0.0%</td>\n",
       "                </tr>\n",
       "                <tr class=\"ignore\">\n",
       "                    <th>Missing (n)</th>\n",
       "                    <td>0</td>\n",
       "                </tr>\n",
       "                <tr class=\"ignore\">\n",
       "                    <th>Infinite (%)</th>\n",
       "                    <td>0.0%</td>\n",
       "                </tr>\n",
       "                <tr class=\"ignore\">\n",
       "                    <th>Infinite (n)</th>\n",
       "                    <td>0</td>\n",
       "                </tr>\n",
       "            </table>\n",
       "\n",
       "        </div>\n",
       "        <div class=\"col-sm-6\">\n",
       "            <table class=\"stats \">\n",
       "\n",
       "                <tr>\n",
       "                    <th>Mean</th>\n",
       "                    <td>6.25</td>\n",
       "                </tr>\n",
       "                <tr>\n",
       "                    <th>Minimum</th>\n",
       "                    <td>1</td>\n",
       "                </tr>\n",
       "                <tr>\n",
       "                    <th>Maximum</th>\n",
       "                    <td>10</td>\n",
       "                </tr>\n",
       "                <tr class=\"ignore\">\n",
       "                    <th>Zeros (%)</th>\n",
       "                    <td>0.0%</td>\n",
       "                </tr>\n",
       "            </table>\n",
       "        </div>\n",
       "    </div>\n",
       "</div>\n",
       "<div class=\"col-md-3 collapse in\" id=\"minihistogram-2249187935821174034\">\n",
       "    <img src=\"data:image/png;base64,iVBORw0KGgoAAAANSUhEUgAAAMgAAABLCAYAAAA1fMjoAAAABHNCSVQICAgIfAhkiAAAAAlwSFlzAAAPYQAAD2EBqD%2BnaQAAAjpJREFUeJzt3LFKW2EYx%2BE3pYsXkBjEzVsorq5ZHFW8B3HSqYhTccomeA0KrpJrkIK7i4sg8YwRR9OpgrT8aQseT/V5thMI35vhx5ecw5fefD6fF/Bbn956AOiyz289AO378nXy1%2B/5/m30CpN0nx0EAoFAIBAIBAKBQCAQCAQCgUAgEAgEAoFAIBAIBAKBQCAQCAQCgeDDngdxJoI/YQeBQCAQCAQCgUAgEAgEAoFAIPiwz0F4fe/hWZMdBAKBQCAQCAQCgUAgEAgEbvO%2Bovdwm/Onf/ks74EdBAKBQCAQCAQCgUAgEAgEAoGgc89Buny/vcuz8TrsIBAIBAKBQCAQCAQCgUAgEAgEvfl8Pn/rISC5v7%2Bv09PT2traqsFg0OradhA6r2maOj4%2BrqZpWl9bIBAIBAKBQCAQOq/f79fOzk71%2B/3W13YXCwI7CAQCgUAgEAgEAoFAIBAIBAKBQOikh4eHWl9fr9vb26qqur6%2Brs3NzRqNRrW7u1uPj4%2BtzCEQOufq6qq2t7fr5ubm%2BbX9/f3a29uryWRSKysrdXJy0sosAqFzzs7O6vDw8Pnsx93dXc1ms1pdXa2qqo2Njbq4uGhlls79cRwcHR29uJ5Op7W4uPh8PRgMajqdtjKLHYTOe3p6%2BuW1Xq/XytoCofOGw%2BGL04RN09RwOGxlbYHQeUtLS7WwsFCXl5dVVXV%2Bfl5ra2utrO03CP%2BF8XhcBwcHNZvNanl5ucbjcSvrOg8Cga9YEAgEAoFA8AOkUXcb3aNFwwAAAABJRU5ErkJggg%3D%3D\">\n",
       "\n",
       "</div>\n",
       "<div class=\"col-md-12 text-right\">\n",
       "    <a role=\"button\" data-toggle=\"collapse\" data-target=\"#descriptives-2249187935821174034,#minihistogram-2249187935821174034\"\n",
       "       aria-expanded=\"false\" aria-controls=\"collapseExample\">\n",
       "        Toggle details\n",
       "    </a>\n",
       "</div>\n",
       "<div class=\"row collapse col-md-12\" id=\"descriptives-2249187935821174034\">\n",
       "    <div class=\"col-sm-4\">\n",
       "        <p class=\"h4\">Quantile statistics</p>\n",
       "        <table class=\"stats indent\">\n",
       "            <tr>\n",
       "                <th>Minimum</th>\n",
       "                <td>1</td>\n",
       "            </tr>\n",
       "            <tr>\n",
       "                <th>5-th percentile</th>\n",
       "                <td>1.95</td>\n",
       "            </tr>\n",
       "            <tr>\n",
       "                <th>Q1</th>\n",
       "                <td>3</td>\n",
       "            </tr>\n",
       "            <tr>\n",
       "                <th>Median</th>\n",
       "                <td>8</td>\n",
       "            </tr>\n",
       "            <tr>\n",
       "                <th>Q3</th>\n",
       "                <td>8.25</td>\n",
       "            </tr>\n",
       "            <tr>\n",
       "                <th>95-th percentile</th>\n",
       "                <td>10</td>\n",
       "            </tr>\n",
       "            <tr>\n",
       "                <th>Maximum</th>\n",
       "                <td>10</td>\n",
       "            </tr>\n",
       "            <tr>\n",
       "                <th>Range</th>\n",
       "                <td>9</td>\n",
       "            </tr>\n",
       "            <tr>\n",
       "                <th>Interquartile range</th>\n",
       "                <td>5.25</td>\n",
       "            </tr>\n",
       "        </table>\n",
       "        <p class=\"h4\">Descriptive statistics</p>\n",
       "        <table class=\"stats indent\">\n",
       "            <tr>\n",
       "                <th>Standard deviation</th>\n",
       "                <td>3.0066</td>\n",
       "            </tr>\n",
       "            <tr>\n",
       "                <th>Coef of variation</th>\n",
       "                <td>0.48105</td>\n",
       "            </tr>\n",
       "            <tr>\n",
       "                <th>Kurtosis</th>\n",
       "                <td>-1.4225</td>\n",
       "            </tr>\n",
       "            <tr>\n",
       "                <th>Mean</th>\n",
       "                <td>6.25</td>\n",
       "            </tr>\n",
       "            <tr>\n",
       "                <th>MAD</th>\n",
       "                <td>2.725</td>\n",
       "            </tr>\n",
       "            <tr class=\"\">\n",
       "                <th>Skewness</th>\n",
       "                <td>-0.28238</td>\n",
       "            </tr>\n",
       "            <tr>\n",
       "                <th>Sum</th>\n",
       "                <td>125</td>\n",
       "            </tr>\n",
       "            <tr>\n",
       "                <th>Variance</th>\n",
       "                <td>9.0395</td>\n",
       "            </tr>\n",
       "            <tr>\n",
       "                <th>Memory size</th>\n",
       "                <td>0.0 B</td>\n",
       "            </tr>\n",
       "        </table>\n",
       "    </div>\n",
       "    <div class=\"col-sm-8 histogram\">\n",
       "        <img src=\"data:image/png;base64,iVBORw0KGgoAAAANSUhEUgAAAlgAAAGQCAYAAAByNR6YAAAABHNCSVQICAgIfAhkiAAAAAlwSFlzAAAPYQAAD2EBqD%2BnaQAAIABJREFUeJzt3XtQ1XX%2Bx/EXnBMIGAXKcZJttOtmZuaNtMRN1l3ZcqMyIytrdVvKMKYty%2BviBYwSvEyDYmYXs0bZza7a5lTbmk1m3suxTMU1HTWOG2QogcD5/bET8ztAifaBD%2Bf7fT5mGIaPnC9vzoeDT873cAgLBAIBAQAAwJhw2wMAAAA4DYEFAABgGIEFAABgGIEFAABgGIEFAABgGIEFAABgGIEFAABgGIEFAABgGIEFAABgGIEFAABgGIEFAABgGIEFAABgGIEFAABgGIEFAABgGIEFAABgGIEFAABgGIEFAABgGIEFAABgGIEFAABgGIEFAABgGIEFAABgGIEFAABgGIEFAABgGIEFAABgGIEFAABgGIEFAABgGIEFAABgGIEFAABgGIEFAABgGIEFAABgGIEFAABgGIEFAABgGIEFAABgGIEFAABgGIEFAABgGIEFAABgGIEFAABgGIEFAABgGIEFAABgmNf2AG7h939vewTXCA8PU3x8jL799rjq6gK2x3El9sA%2B9sA%2B9sC%2B8PAwdejQ3s7HtvJRgRYUHh6msLAwhYeH2R7FtdgD%2B9gD%2B9gD%2B2xe9wQWAACAYQQWAACAYQQWAACAYQQWAACAYQQWAACAYQQWAACAYQQWAACAYQQWAACAYQRWE6qrqzVjxgz169dP11xzjebOnatAgGfhBQAAzcOfymlCbm6uNmzYoGeffVbHjx/XX//6V3Xu3Fm333677dEAAEAI4B6sBsrLy7Vy5Url5OToyiuv1IABAzRmzBht377d9mgAACBEcA9WA5s3b1b79u2VlJRUv5aRkWFxIgAAEGoIrAYOHDigxMREvf7661q0aJFOnjypW265RWPHjlV4ePPu8CstLZXf7w9a83qj5fP5WmJkNODxhAe9RutjD%2BxjD%2BxjD%2Byzed0TWA2cOHFC%2B/fv14oVK5SXlye/36/s7GxFRUVpzJgxzTpGcXGxCgsLg9YyMzOVlZXVEiPjJ8TGRtkewfXYA/va%2Bh70nfKO7RFOy6ZZqad9mba%2BB2gZBFYDXq9XFRUVmjNnjhITEyVJhw4d0vLly5sdWOnp6UpJSWlw3GiVlR03Pi8a83jCFRsbpWPHKlVbW2d7HFdiD%2BxjD1rG6XwfZw/s%2B3EPbCCwGkhISFBkZGR9XEnSBRdcoMOHDzf7GD6fr9HpQL//e9XUcANrTbW1dVznlrEH9rEHZp3JdckeuBMnhhvo2bOnqqqqtG/fvvq1kpKSoOACAAD4OQRWAxdeeKGuu%2B46TZo0SV9%2B%2BaXWrVunxYsXa%2BTIkbZHAwAAIYJThE0oKChQTk6ORo4cqaioKN15550aNWqU7bEAAECIILCacPbZZ2v27Nm2xwAAACGKU4QAAACGEVgAAACGEVgAAACGEVgAAACGEVgAAACGEVgAAACGEVgAAACGEVgAAACGEVgAAACGEVgAAACGEVgAAACGEVgAAACGEVgAAACGEVgAAACGEVgAAACGEVgAAACGEVgAAACGEVgAAACGEVgAAACGEVgAAACGEVgAAACGEVgAAACGEVgAAACGEVgAAACGEVgAAACGEVgAAACGEVgAAACGEVgAAACGEVgAAACGEVgAAACGEVgAAACGEVgAAACGEVgAAACGEVgAAACGEVgAAACGEVgAAACGEVgAAACGEVgAAACGEVgAAACGEVhNePfdd/XrX/866CUrK8v2WAAAIER4bQ/QFu3Zs0eDBw9WTk5O/VpkZKTFiQAAQCghsJqwd%2B9eXXrppUpISLA9CgAACEGcImzC3r171bVrV9tjAACAEMU9WA0EAgHt27dPH330kZ5%2B%2BmnV1tYqNTVVWVlZioiIaNYxSktL5ff7g9a83mj5fL6WGBkNeDzhQa/R%2BtgD%2B9iDluH1Nv/6ZA/ss3ndE1gNHDp0SJWVlYqIiND8%2BfN18OBB5ebm6ocfftDUqVObdYzi4mIVFhYGrWVmZvJA%2BVYWGxtlewTXYw/sYw/MiouLOe3LsAfuFBYIBAK2h2hrysvLdc455ygsLEyStGbNGj366KPaunWrPB7PKS/PPVh2eTzhio2N0rFjlaqtrbM9jiuxB/aFyh78rmCd7RFOy7vjk5v9vqGyB0724x7YwD1YTTj33HOD3r7oootUVVWl7777TvHx8ae8vM/naxRTfv/3qqnhBtaaamvruM4tYw/sYw/MOpPrkj1wJ04MN7Bu3TpdffXVqqysrF/74osvdO655zYrrgAAAAisBnr16qXIyEhNnTpVJSUlWrt2rWbPnq17773X9mgAACBEcIqwgfbt2%2BvZZ5/V448/ruHDhysmJka33347gQUAAJqNwGrCJZdcoueff972GAAAIERxihAAAMAwAgsAAMAwAgsAAMAwAgsAAMAwAgsAAMAwAgsAAMAwAgsAAMAwAgsAAMAwAgsAAMAwAgsAAMAwAgsAAMAwAgsAAMAwAgsAAMAwAgsAAMAwAgsAAMAwAgsAAMAwAgsAAMAwAgsAAMAwAgsAAMAwAgsAAMAwAgsAAMAwAgsAAMAwAgsAAMAwAgsAAMAwAgsAAMAwAgsAAMAwAgsAAMAwAgsAAMAwAgsAAMAwAgsAAMAwAgsAAMAwAgsAAMAwAgsAAMAwAgsAAMAwAgsAAMAwAgsAAMAwAgsAAMAwAgsAAMAwAusUMjIyNHHiRNtjAACAEEJg/YzVq1dr7dq1tscAAAAhhsD6CeXl5Zo9e7Z69OhhexQAABBivLYHaKuefPJJpaWlqbS01PYoAAAgxHAPVhPWr1%2BvTZs26YEHHrA9CgAACEHcg9VAVVWVpk2bpuzsbLVr1%2B6MjlFaWiq/3x%2B05vVGy%2BfzmRgRp%2BDxhAe9RutjD%2BxjD1qG19v865M9sM/mdU9gNVBYWKgrrrhCycnJZ3yM4uJiFRYWBq1lZmYqKyvrl46H0xAbG/WLLt93yjuGJmkdm2al2h6hkV%2B6B/jl2AOz4uJiTvsy7IE7EVgNrF69WkePHlWvXr0kSdXV1ZKkNWvWaOvWrc06Rnp6ulJSUoLWvN5olZUdNzssmuTxhCs2NkrHjlWqtrbO9jitpi19fbl1D9oS9qBlnM7tjD2w78c9sIHAamDZsmWqqampf7ugoECSNH78%2BGYfw%2BfzNTod6Pd/r5oabmCtqba2zlXXeVv8XN22B20Re2DWmVyX7IE7EVgNJCYmBr0dE/O/u4O7dOliYxwAABCCeOQdAACAYdyDdQpPPPGE7REAAECI4R4sAAAAwwgsAAAAwwgsAAAAwwgsAAAAwxwVWCNGjNCKFSv0/fff2x4FAAC4mKMCq3///lq0aJEGDhyohx9%2BWB999JECgYDtsQAAgMs4KrAeeeQRffDBB1q4cKE8Ho8efPBBXXfddZo3b5727dtnezwAAOASjnserLCwMF177bW69tprVVlZqWXLlmnhwoVavHixevfurXvuuUe///3vbY8JAAAczHGBJUmlpaV688039eabb%2Bqrr75S7969dfPNN%2BvIkSOaOnWqNm7cqClTptgeEwAAOJSjAuuNN97QG2%2B8oQ0bNig%2BPl433XSTnnrqKXXt2rX%2Bfc477zzNmjWLwAIAAC3GUYE1ZcoUDR48WAsWLNCgQYMUHt74IWYXXnih7rrrLgvTAQAAt3BUYH344YeKi4tTeXl5fVx99tln6t69uzwejySpd%2B/e6t27t80xAQCAwznqtwgrKiqUmpqqZ555pn4tIyNDaWlpOnz4sMXJAACAmzgqsB5//HF16dJFo0ePrl97%2B%2B23dd555ykvL8/iZAAAwE0cFVibNm3SxIkTlZCQUL8WHx%2Bvxx57TJ988onFyQAAgJs4KrC8Xq%2BOHTvWaL2yspJndAcAAK3GUYE1aNAg5ebm6uuvv65fO3DggPLy8pScnGxxMgAA4CaO%2Bi3CCRMmaPTo0Ro6dKhiY2MlSceOHVP37t01adIky9MBAAC3cFRgdejQQa%2B99po%2B/vhj7d69W16vVxdffLEGDBigsLAw2%2BMBAACXcFRgSZLH41FycjKnBAEAgDWOCiy/36/58%2Bdry5YtOnnyZKMHtr///vuWJgMAAG7iqMD629/%2Bph07duiGG27Q2WefbXscAADgUo4KrE8%2B%2BURLlixR3759bY8CAABczFFP0xAdHa0OHTrYHgMAALicowIrLS1NS5YsUW1tre1RAACAiznqFGF5eblWrVqlf//73zr//PMVERER9O8vvviipckAAICbOCqwJGnYsGG2RwAAAC7nqMDKy8uzPQIAAICzHoMlSaWlpSosLNQjjzyi//73v3rnnXdUUlJieywAAOAijgqs/fv3649//KNee%2B01rVmzRidOnNDbb7%2Bt4cOHa/v27bbHAwAALuGowHriiSc0ZMgQvffeezrrrLMkSXPnzlVKSooKCgosTwcAANzCUYG1ZcsWjR49OugPO3u9Xj3wwAPauXOnxckAAICbOCqw6urqVFdX12j9%2BPHj8ng8FiYCAABu5KjAGjhwoJ5%2B%2BumgyCovL1d%2Bfr769%2B9vcTIAAOAmjgqsiRMnaseOHRo4cKCqqqo0duxYDR48WAcPHtSECRNsjwcAAFzCUc%2BD1alTJ73%2B%2ButatWqVvvjiC9XV1WnkyJFKS0tT%2B/btbY8HAABcwlGBJUlRUVEaMWKE7TEAAICLOSqw7r777p/9d/4WIQAAaA2OCqzExMSgt2tqarR//3599dVXuueeeyxNBQAA3MZRgfVTf4twwYIFOnLkSLOPs3//fs2cOVNbtmzROeeco7vuukv33nuvqTEBAIDDOeq3CH9KWlqa/vnPfzbrfevq6pSRkaG4uDi99tprmjFjhoqKivTWW2%2B18JQAAMApXBFYW7dubfYTjR49elTdunXT9OnT1bVrV/3mN7/RgAEDtHnz5haeEgAAOIWjThE29SD3iooK7dq1S3fccUezjuHz%2BTR//nxJUiAQ0JYtW7Rx40ZNmzbN6KwAAMC5HBVYnTt3Dvo7hJJ01lln6a677tKNN9542sdLSUnRoUOHNHjwYA0dOtTUmAAAwOEcFVhPPPGE0eM99dRTOnr0qKZPn668vDxNnTq1WZcrLS2V3%2B8PWvN6o%2BXz%2BYzOh6Z5POFBr93C6207n69b96AtYQ9axuncztgD%2B2xe944KrI0bNzb7ffv163fK9%2BnRo4ckqaqqSuPHj9djjz2miIiIU16uuLhYhYWFQWuZmZnKyspq9nz45WJjo2yP0Kri4mJsj9CI2/agLWIPzDqT25nNPeg75R1rH/t0bZqVansEoxwVWKNGjao/RRgIBOrXG66FhYXpiy%2B%2BaPIYR48e1bZt2zRkyJD6tYsvvlgnT55URUWF4uPjTzlHenq6UlJSgta83miVlR0/vU8IZ8TjCVdsbJSOHatUbW3dqS/gEG3p68ute9CWsAct43RuZ%2BzB6WmJ72E/7oENjgqsRYsWKTc3V48%2B%2BqiSkpIUERGhzz//XDNnztTNN9%2Bs66%2B//pTHOHjwoMaNG6e1a9eqU6dOkqQdO3YoPj6%2BWXEl/e%2BB8g1PB/r936umhhtYa6qtrXPVdd4WP1e37UFbxB6YdSbXJXvQPE67jhx1YjgvL0/Z2dkaOnSo4uLiFBMTo/79%2B2vmzJlavny5EhMT619%2BSo8ePdS9e3dNnjxZe/bs0dq1a5Wfn6/777%2B/FT8TAAAQyhwVWKWlpU3GU/v27VVWVtasY3g8Hi1cuFBRUVFKT0/XlClTNGrUqFP%2BnUMAAIAfOeoU4VVXXaW5c%2BfqySefVPv27SVJ5eXlys/P14ABA5p9nE6dOjV6kDoAAEBzOSqwpk6dqrvvvluDBg1S165dFQgE9J///EcJCQl68cUXbY8HAABcwlGBddFFF%2Bntt9/WqlWrtHfvXknSnXfeqRtuuEFRUfyqMgAAaB2OCixJOuecczRixAgdPHhQ559/vqT/PZs7AABAa3HUg9wDgYAKCgrUr18/DRs2TEeOHNGECRM0ZcoUnTx50vZ4AADAJRwVWMuWLdMbb7yhadOm1T/j%2BpAhQ/Tee%2B/xoHUAANBqHBVYxcXFys7O1i233FL/7O3XX3%2B9cnNz9dZbb1meDgAAuIWjAuvgwYPq1q1bo/XLLrus0R9fBgAAaCmOCqzExER9/vnnjdY//PDD%2Bge8AwAAtDRH/Rbhn//8Z82YMUN%2Bv1%2BBQEDr169XcXGxli1bpokTJ9oeDwAAuISjAmv48OGqqalRUVGRfvjhB2VnZys%2BPl4PPfSQRo4caXs8AADgEo4KrFWrVik1NVXp6en69ttvFQgE1KFDB9tjAQAAl3HUY7BmzpxZ/2D2%2BPh44goAAFjhqMDq2rWrvvrqK9tjAAAAl3PUKcLLLrtM48eP15IlS9S1a1dFRkYG/XteXp6lyQAAgJs4KrD27dunPn36SBLPewUAAKwJ%2BcCaPXu2xo0bp%2BjoaC1btsz2OAAAAKH/GKznn39elZWVQWsZGRkqLS21NBEAAHC7kA%2BsQCDQaG3jxo2qqqqyMA0AAIADAgsAAKCtIbAAAAAMc0RghYWF2R4BAACgXsj/FqEk5ebmBj3n1cmTJ5Wfn6%2BYmJig9%2BN5sAAAQGsI%2BcDq169fo%2Be86tWrl8rKylRWVmZpKgAA4GYhH1g89xUAAGhrHPEYLAAAgLaEwAIAADCMwAIAADCMwAIAADCMwAIAADCMwAIAADCMwAIAADCMwAIAADCMwAIAADCMwAIAADCMwAIAADCMwAIAADCMwAIAADCMwAIAADCMwAIAADCMwGrCN998o6ysLCUlJSk5OVl5eXmqqqqyPRYAAAgRXtsDtDWBQEBZWVmKjY3Vyy%2B/rO%2B%2B%2B06TJ09WeHi4JkyYYHs8AAAQArgHq4GSkhJt27ZNeXl5uuSSS9S3b19lZWVp1apVtkcDAAAhgsBqICEhQUuWLFHHjh2D1isqKixNBAAAQg2nCBuIjY1VcnJy/dt1dXV66aWX1L9//2Yfo7S0VH6/P2jN642Wz%2BczNid%2BmscTHvTaLbzetvP5unUP2hL2oGWczu2MPTg9LfE9zOZ1T2CdQn5%2Bvnbu3KlXXnml2ZcpLi5WYWFh0FpmZqaysrJMj4efERsbZXuEVhUXF2N7hEZ%2Bag/6TnmnlSf5ZTbNSrU9whlz2%2B2gpf2uYJ3tERyrLX4P%2ByUIrJ%2BRn5%2BvpUuXat68ebr00kubfbn09HSlpKQErXm90SorO256RDTB4wlXbGyUjh2rVG1tne1xWk1b%2Bvpy2h60peu2uZy2B3C%2Blrid/Xg7sIHA%2Bgk5OTlavny58vPzNXTo0NO6rM/na3Q60O//XjU1fJNrTbW1da66ztvi5%2BqUPQjlz8EpewDnc9rXKYHVhMLCQq1YsUJz585VamronhoAAAB2EFgN7N27VwsXLlRGRob69OkT9GD1hIQEi5MBAIBQQWA18P7776u2tlZFRUUqKioK%2Brddu3ZZmgoAAIQSAquBjIwMZWRk2B4DAACEMJ6cAwAAwDACCwAAwDACCwAAwDACCwAAwDACCwAAwDACCwAAwDACCwAAwDACCwAAwDACCwAAwDACCwAAwDACCwAAwDACCwAAwDACCwAAwDACCwAAwDACCwAAwDACCwAAwDACCwAAwDACCwAAwDACCwAAwDACCwAAwDACCwAAwDACCwAAwDACCwAAwDACCwAAwDACCwAAwDACCwAAwDACCwAAwDACCwAAwDACCwAAwDACCwAAwDACCwAAwDACCwAAwDACCwAAwDACCwAAwDACCwAAwDACCwAAwDACCwAAwDACCwAAwDACCwAAwDAC62dUV1dr2LBh2rBhg%2B1RAABACCGwfkJVVZUefvhh7d692/YoAAAgxBBYTdizZ49uu%2B02ff3117ZHAQAAIYjAasKnn36qq6%2B%2BWsXFxbZHAQAAIchre4C26I477vhFly8tLZXf7w9a83qj5fP5ftFx0TweT3jQa7fwetvO5%2Bu0PWhL121zOW0P4HwtcTuz%2BfVPYLWA4uJiFRYWBq1lZmYqKyvL%2BMfqO%2BUd48dEaPpdwTrbIzhWXFyM7RHOWGxslO0RgGYJ5dtZUwisFpCenq6UlJSgNa83WmVlxy1NBOCXCMXbrscTrtjYKB07Vqna2jrb4wCn1BK3sx9vBzYQWC3A5/M1Oh3o93%2Bvmhq%2ByQGhKJRvu7W1dSE9P9zDaV%2BnnJwHAAAwjMACAAAwjMACAAAwjMdgncKuXbtsjwAAAEIM92ABAAAYRmABAAAYRmABAAAYRmABAAAYRmABAAAYRmABAAAYRmABAAAYRmABAAAYRmABAAAYRmABAAAYRmABAAAYRmABAAAYRmABAAAYRmABAAAYRmABAAAYRmABAAAYRmABAAAYRmABAAAYRmABAAAYRmABAAAYRmABAAAYRmABAAAYRmABAAAYRmABAAAYRmABAAAYRmABAAAYRmABAAAYRmABAAAYRmABAAAYRmABAAAYRmABAAAYRmABAAAYRmABAAAYRmABAAAYRmABAAAYRmABAAAYRmABAAAYRmABAAAYRmABAAAYRmA1oaqqSpMnT1bfvn01cOBAPffcc7ZHAgAAIcRre4C2aPbs2dqxY4eWLl2qQ4cOacKECercubNSU1NtjwYAAEIAgdXAiRMn9I9//EPPPPOMunfvru7du2v37t16%2BeWXCSwAANAsnCJs4Msvv1RNTY169epVv9anTx9t375ddXV1FicDAAChgnuwGvD7/YqLi1NERET9WseOHVVVVaXy8nLFx8ef8hilpaXy%2B/1Ba15vtHw%2Bn/F5AbQ8rzf0fhb1eMKDXgNtXUvczmx%2B/RNYDVRWVgbFlaT6t6urq5t1jOLiYhUWFgatjRs3Tg8%2B%2BKCZIf%2BfTbM4bdlQaWmpiouLlZ6eTtRawh7YV1paqqVLl7T5PXDy9zBuB/bZvB3wo00DkZGRjULqx7fbtWvXrGOkp6fr1VdfDXpJT083Piua5vf7VVhY2OheRLQe9sA%2B9sA%2B9sA%2Bm3vAPVgNdOrUSWVlZaqpqZHX%2B7%2Brx%2B/3q127doqNjW3WMXw%2BHz%2BtAADgYtyD1UC3bt3k9Xq1bdu2%2BrXNmzerR48eCg/n6gIAAKdGMTQQFRWlm266SdOnT9dnn32m9957T88995zuvvtu26MBAIAQ4Zk%2Bffp020O0Nf3799fOnTs1Z84crV%2B/Xvfff7%2BGDx9ueyychpiYGCUlJSkmJsb2KK7FHtjHHtjHHthnaw/CAoFAoFU/IgAAgMNxihAAAMAwAgsAAMAwAgsAAMAwAgsAAMAwAgsAAMAwAgsAAMAwAgsAAMAwAgsAAMAwAguO8s033ygrK0tJSUlKTk5WXl6eqqqqbI/lShkZGZo4caLtMVypurpaM2bMUL9%2B/XTNNddo7ty54jmlW9fhw4d13333qXfv3kpJSdELL7xgeyTXqK6u1rBhw7Rhw4b6tQMHDuhPf/qTrrrqKl1//fX66KOPWnwOAguOEQgElJWVpcrKSr388suaN2%2BePvjgA82fP9/2aK6zevVqrV271vYYrpWbm6uPP/5Yzz77rObMmaO///3vKi4utj2Wqzz00EOKjo7Wq6%2B%2BqsmTJ2v%2B/Pl69913bY/leFVVVXr44Ye1e/fu%2BrVAIKDMzEx17NhRK1euVFpamsaNG6dDhw616CwEFhyjpKRE27ZtU15eni655BL17dtXWVlZWrVqle3RXKW8vFyzZ89Wjx49bI/iSuXl5Vq5cqVycnJ05ZVXasCAARozZoy2b99uezTX%2BO6777Rt2zaNHTtWXbt21ZAhQ5ScnKz169fbHs3R9uzZo9tuu01ff/110Ponn3yiAwcOaObMmbrooot033336aqrrtLKlStbdB4CC46RkJCgJUuWqGPHjkHrFRUVliZypyeffFJpaWm6%2BOKLbY/iSps3b1b79u2VlJRUv5aRkaG8vDyLU7lLu3btFBUVpVdffVUnT55USUmJtmzZom7dutkezdE%2B/fRTXX311Y3urd2%2Bfbsuv/xyRUdH16/16dNH27Zta9F5CCw4RmxsrJKTk%2Bvfrqur00svvaT%2B/ftbnMpd1q9fr02bNumBBx6wPYprHThwQImJiXr99deVmpqq3/72t1qwYIHq6upsj%2BYakZGRys7OVnFxsXr27Kk//OEPGjRokEaMGGF7NEe74447NHnyZEVFRQWt%2B/1%2B%2BXy%2BoLUOHTroyJEjLTqPt0WPDliUn5%2BvnTt36pVXXrE9iitUVVVp2rRpys7OVrt27WyP41onTpzQ/v37tWLFCuXl5cnv9ys7O1tRUVEaM2aM7fFcY%2B/evRo8eLBGjx6t3bt3KycnRwMGDNCNN95oezTXqaysVERERNBaRESEqqurW/TjElhwpPz8fC1dulTz5s3TpZdeanscVygsLNQVV1wRdC8iWp/X61VFRYXmzJmjxMRESdKhQ4e0fPlyAquVrF%2B/Xq%2B88orWrl2rdu3aqUePHvrmm29UVFREYFkQGRmp8vLyoLXq6uoW/0GQwILj5OTkaPny5crPz9fQoUNtj%2BMaq1ev1tGjR9WrVy9Jqv/pcM2aNdq6davN0VwlISFBkZGR9XElSRdccIEOHz5scSp32bFjh7p06RL0H/jll1%2BuRYsWWZzKvTp16qQ9e/YErR09erTRaUPTCCw4SmFhoVasWKG5c%2BcqNTXV9jiusmzZMtXU1NS/XVBQIEkaP368rZFcqWfPnqqqqtK%2Bfft0wQUXSPrfb9j%2B/%2BBCy/L5fNq/f7%2Bqq6vrT02VlJToV7/6leXJ3Klnz55avHixfvjhh/ro3bx5s/r06dOiH5cHucMx9u7dq4ULF%2Bovf/mL%2BvTpI7/fX/%2BClpeYmKguXbrUv8TExCgmJkZdunSxPZqrXHjhhbruuus0adIkffnll1q3bp0WL16skSNH2h7NNVJSUnTWWWdp6tSp2rdvn/71r39p0aJFGjVqlO3RXCkpKUnnnXeeJk2apN27d2vx4sX67LPPdOutt7box%2BUeLDjG%2B%2B%2B/r9raWhUVFamoqCjo33bt2mXTdEXUAAAAsklEQVRpKqD1FRQUKCcnRyNHjlRUVJTuvPNO/nNvRWeffbZeeOEFzZo1S7feeqvi4%2BM1duxYpaen2x7NlTwejxYuXKgpU6bolltuUZcuXbRgwQJ17ty5RT9uWIC/nwAAAGAUpwgBAAAMI7AAAAAMI7AAAAAMI7AAAAAMI7AAAAAMI7AAAAAMI7AAAAAMI7AAAAAMI7AAAAAMI7AAAAAMI7AAAAAMI7AAAAAMI7AAAAAM%2Bz%2BY848sFulBkwAAAABJRU5ErkJggg%3D%3D\">\n",
       "    </div>\n",
       "</div>\n",
       "</div><div class=\"row variablerow\">\n",
       "    <div class=\"col-md-3 namecol\">\n",
       "        <p class=\"h4\">product<br/>\n",
       "            <small>Categorical</small>\n",
       "        </p>\n",
       "    </div> <div class=\"col-md-3\">\n",
       "    <table class=\"stats \">\n",
       "        <tr class=\"\">\n",
       "            <th>Distinct count</th>\n",
       "            <td>13</td>\n",
       "        </tr>\n",
       "        <tr>\n",
       "            <th>Unique (%)</th>\n",
       "            <td>65.0%</td>\n",
       "        </tr>\n",
       "        <tr class=\"ignore\">\n",
       "            <th>Missing (%)</th>\n",
       "            <td>0.0%</td>\n",
       "        </tr>\n",
       "        <tr class=\"ignore\">\n",
       "            <th>Missing (n)</th>\n",
       "            <td>0</td>\n",
       "        </tr>\n",
       "        <tr class=\"ignore\">\n",
       "            <th>Infinite (%)</th>\n",
       "            <td>0.0%</td>\n",
       "        </tr>\n",
       "        <tr class=\"ignore\">\n",
       "            <th>Infinite (n)</th>\n",
       "            <td>0</td>\n",
       "        </tr>\n",
       "    </table>\n",
       "</div>\n",
       "<div class=\"col-md-6 collapse in\" id=\"minifreqtable-6997642676129641276\">\n",
       "    <table class=\"mini freq\">\n",
       "        <tr class=\"\">\n",
       "    <th>pizza</th>\n",
       "    <td>\n",
       "        <div class=\"bar\" style=\"width:37%\" data-toggle=\"tooltip\" data-placement=\"right\" data-html=\"true\"\n",
       "             data-delay=500 title=\"Percentage: 20.0%\">\n",
       "            4\n",
       "        </div>\n",
       "        \n",
       "    </td>\n",
       "</tr> <tr class=\"\">\n",
       "    <th>taco</th>\n",
       "    <td>\n",
       "        <div class=\"bar\" style=\"width:27%\" data-toggle=\"tooltip\" data-placement=\"right\" data-html=\"true\"\n",
       "             data-delay=500 title=\"Percentage: 15.0%\">\n",
       "            3\n",
       "        </div>\n",
       "        \n",
       "    </td>\n",
       "</tr> <tr class=\"\">\n",
       "    <th>null</th>\n",
       "    <td>\n",
       "        <div class=\"bar\" style=\"width:19%\" data-toggle=\"tooltip\" data-placement=\"right\" data-html=\"true\"\n",
       "             data-delay=500 title=\"Percentage: 10.0%\">\n",
       "            &nbsp;\n",
       "        </div>\n",
       "        2\n",
       "    </td>\n",
       "</tr> <tr class=\"other\">\n",
       "    <th>Other values (10)</th>\n",
       "    <td>\n",
       "        <div class=\"bar\" style=\"width:100%\" data-toggle=\"tooltip\" data-placement=\"right\" data-html=\"true\"\n",
       "             data-delay=500 title=\"Percentage: 55.0%\">\n",
       "            11\n",
       "        </div>\n",
       "        \n",
       "    </td>\n",
       "</tr> \n",
       "    </table>\n",
       "</div> \n",
       "<div class=\"col-md-12 text-right\">\n",
       "    <a role=\"button\" data-toggle=\"collapse\" data-target=\"#freqtable-6997642676129641276, #minifreqtable-6997642676129641276\"\n",
       "       aria-expanded=\"true\" aria-controls=\"collapseExample\">\n",
       "        Toggle details\n",
       "    </a>\n",
       "</div>\n",
       "<div class=\"col-md-12 collapse extrapadding\" id=\"freqtable-6997642676129641276\">\n",
       "    <table class=\"freq table table-hover\">\n",
       "        <thead>\n",
       "        <tr>\n",
       "            <td class=\"fillremaining\">Value</td>\n",
       "            <td class=\"number\">Count</td>\n",
       "            <td class=\"number\">Frequency (%)</td>\n",
       "            <td style=\"min-width:200px\">&nbsp;</td>\n",
       "        </tr>\n",
       "        </thead>\n",
       "        <tr class=\"\">\n",
       "        <td class=\"fillremaining\">pizza</td>\n",
       "        <td class=\"number\">4</td>\n",
       "        <td class=\"number\">20.0%</td>\n",
       "        <td>\n",
       "            <div class=\"bar\" style=\"width:100%\">&nbsp;</div>\n",
       "        </td>\n",
       "</tr> <tr class=\"\">\n",
       "        <td class=\"fillremaining\">taco</td>\n",
       "        <td class=\"number\">3</td>\n",
       "        <td class=\"number\">15.0%</td>\n",
       "        <td>\n",
       "            <div class=\"bar\" style=\"width:75%\">&nbsp;</div>\n",
       "        </td>\n",
       "</tr> <tr class=\"\">\n",
       "        <td class=\"fillremaining\">null</td>\n",
       "        <td class=\"number\">2</td>\n",
       "        <td class=\"number\">10.0%</td>\n",
       "        <td>\n",
       "            <div class=\"bar\" style=\"width:50%\">&nbsp;</div>\n",
       "        </td>\n",
       "</tr> <tr class=\"\">\n",
       "        <td class=\"fillremaining\">pasta</td>\n",
       "        <td class=\"number\">2</td>\n",
       "        <td class=\"number\">10.0%</td>\n",
       "        <td>\n",
       "            <div class=\"bar\" style=\"width:50%\">&nbsp;</div>\n",
       "        </td>\n",
       "</tr> <tr class=\"\">\n",
       "        <td class=\"fillremaining\">taaaccoo</td>\n",
       "        <td class=\"number\">1</td>\n",
       "        <td class=\"number\">5.0%</td>\n",
       "        <td>\n",
       "            <div class=\"bar\" style=\"width:25%\">&nbsp;</div>\n",
       "        </td>\n",
       "</tr> <tr class=\"\">\n",
       "        <td class=\"fillremaining\">piza</td>\n",
       "        <td class=\"number\">1</td>\n",
       "        <td class=\"number\">5.0%</td>\n",
       "        <td>\n",
       "            <div class=\"bar\" style=\"width:25%\">&nbsp;</div>\n",
       "        </td>\n",
       "</tr> <tr class=\"\">\n",
       "        <td class=\"fillremaining\">hamburguer</td>\n",
       "        <td class=\"number\">1</td>\n",
       "        <td class=\"number\">5.0%</td>\n",
       "        <td>\n",
       "            <div class=\"bar\" style=\"width:25%\">&nbsp;</div>\n",
       "        </td>\n",
       "</tr> <tr class=\"\">\n",
       "        <td class=\"fillremaining\">BEER</td>\n",
       "        <td class=\"number\">1</td>\n",
       "        <td class=\"number\">5.0%</td>\n",
       "        <td>\n",
       "            <div class=\"bar\" style=\"width:25%\">&nbsp;</div>\n",
       "        </td>\n",
       "</tr> <tr class=\"\">\n",
       "        <td class=\"fillremaining\">pizzza</td>\n",
       "        <td class=\"number\">1</td>\n",
       "        <td class=\"number\">5.0%</td>\n",
       "        <td>\n",
       "            <div class=\"bar\" style=\"width:25%\">&nbsp;</div>\n",
       "        </td>\n",
       "</tr> <tr class=\"\">\n",
       "        <td class=\"fillremaining\">arepa</td>\n",
       "        <td class=\"number\">1</td>\n",
       "        <td class=\"number\">5.0%</td>\n",
       "        <td>\n",
       "            <div class=\"bar\" style=\"width:25%\">&nbsp;</div>\n",
       "        </td>\n",
       "</tr> <tr class=\"\">\n",
       "        <td class=\"fillremaining\">Rice</td>\n",
       "        <td class=\"number\">1</td>\n",
       "        <td class=\"number\">5.0%</td>\n",
       "        <td>\n",
       "            <div class=\"bar\" style=\"width:25%\">&nbsp;</div>\n",
       "        </td>\n",
       "</tr> <tr class=\"\">\n",
       "        <td class=\"fillremaining\">110790</td>\n",
       "        <td class=\"number\">1</td>\n",
       "        <td class=\"number\">5.0%</td>\n",
       "        <td>\n",
       "            <div class=\"bar\" style=\"width:25%\">&nbsp;</div>\n",
       "        </td>\n",
       "</tr> <tr class=\"\">\n",
       "        <td class=\"fillremaining\">Cake</td>\n",
       "        <td class=\"number\">1</td>\n",
       "        <td class=\"number\">5.0%</td>\n",
       "        <td>\n",
       "            <div class=\"bar\" style=\"width:25%\">&nbsp;</div>\n",
       "        </td>\n",
       "</tr> \n",
       "    </table>\n",
       "</div> \n",
       "</div>\n",
       "    <div class=\"row headerrow highlight\">\n",
       "        <h1>Sample</h1>\n",
       "    </div>\n",
       "    <div class=\"row variablerow\">\n",
       "    <div class=\"col-md-12\" style=\"overflow:scroll; width: 100%%; overflow-y: hidden;\">\n",
       "        <table border=\"1\" class=\"dataframe sample\">\n",
       "  <thead>\n",
       "    <tr style=\"text-align: right;\">\n",
       "      <th></th>\n",
       "      <th>id</th>\n",
       "      <th>firstName</th>\n",
       "      <th>lastName</th>\n",
       "      <th>billingId</th>\n",
       "      <th>product</th>\n",
       "      <th>price</th>\n",
       "      <th>birth</th>\n",
       "      <th>dummyCol</th>\n",
       "    </tr>\n",
       "  </thead>\n",
       "  <tbody>\n",
       "    <tr>\n",
       "      <th>0</th>\n",
       "      <td>1.0</td>\n",
       "      <td>Luis</td>\n",
       "      <td>Alvarez$$%!</td>\n",
       "      <td>123</td>\n",
       "      <td>Cake</td>\n",
       "      <td>10</td>\n",
       "      <td>1980/07/07</td>\n",
       "      <td>never</td>\n",
       "    </tr>\n",
       "    <tr>\n",
       "      <th>1</th>\n",
       "      <td>2.0</td>\n",
       "      <td>André</td>\n",
       "      <td>Ampère</td>\n",
       "      <td>423</td>\n",
       "      <td>piza</td>\n",
       "      <td>8</td>\n",
       "      <td>1950/07/08</td>\n",
       "      <td>gonna</td>\n",
       "    </tr>\n",
       "    <tr>\n",
       "      <th>2</th>\n",
       "      <td>3.0</td>\n",
       "      <td>NiELS</td>\n",
       "      <td>Böhr//((%%</td>\n",
       "      <td>551</td>\n",
       "      <td>pizza</td>\n",
       "      <td>8</td>\n",
       "      <td>1990/07/09</td>\n",
       "      <td>give</td>\n",
       "    </tr>\n",
       "    <tr>\n",
       "      <th>3</th>\n",
       "      <td>4.0</td>\n",
       "      <td>PAUL</td>\n",
       "      <td>dirac$</td>\n",
       "      <td>521</td>\n",
       "      <td>pizza</td>\n",
       "      <td>8</td>\n",
       "      <td>1954/07/10</td>\n",
       "      <td>you</td>\n",
       "    </tr>\n",
       "    <tr>\n",
       "      <th>4</th>\n",
       "      <td>NaN</td>\n",
       "      <td>Albert</td>\n",
       "      <td>Einstein</td>\n",
       "      <td>634</td>\n",
       "      <td>pizza</td>\n",
       "      <td>8</td>\n",
       "      <td>1990/07/11</td>\n",
       "      <td>up</td>\n",
       "    </tr>\n",
       "  </tbody>\n",
       "</table>\n",
       "    </div>\n",
       "</div>\n",
       "</div>"
      ],
      "text/plain": [
       "<spark_df_profiling_optimus.ProfileReport at 0x1063f5898>"
      ]
     },
     "execution_count": 5,
     "metadata": {},
     "output_type": "execute_result"
    }
   ],
   "source": [
    "# Instance of profiler class\n",
    "profiler = op.DataFrameProfiler(df)\n",
    "profiler.profiler()"
   ]
  },
  {
   "cell_type": "markdown",
   "metadata": {},
   "source": [
    "### Instantiation of analyzer class"
   ]
  },
  {
   "cell_type": "markdown",
   "metadata": {},
   "source": [
    "But if you want more information for data exploration, Optimus has the DataFrameAnalizer which has several functions for analyzing your dataset. It presents a table that specifies the existing datatypes in each column dataFrame and other features. Also, for this particular case, the table of dataType is shown in order to visualize a sample of column content. "
   ]
  },
  {
   "cell_type": "code",
   "execution_count": 6,
   "metadata": {
    "collapsed": true
   },
   "outputs": [],
   "source": [
    "# Instance of analyzer class\n",
    "analyzer = op.DataFrameAnalyzer(df=df, path_file=filePath)"
   ]
  },
  {
   "cell_type": "markdown",
   "metadata": {},
   "source": [
    "DataFrameAnalizer has a method called columnAnalize. This method can check all rows of\n",
    "dataFrame and tries to parse each element of each row to determine if the corresponding \n",
    "element is a string or a number. Besides, it can show 20 distinct values of each column\n",
    "classified according the possible datatype value, i.e: a number can be a string, so this \n",
    "function can recognize a number in a column of string dataType by trying to parse the string. \n",
    "\n",
    "Also the function can plot numerical or categorical histograms."
   ]
  },
  {
   "cell_type": "markdown",
   "metadata": {},
   "source": [
    "### General view of DataFrame"
   ]
  },
  {
   "cell_type": "markdown",
   "metadata": {},
   "source": [
    "Initially it is a good idea to see a general view of the DataFrame to be analyzed. \n",
    "\n",
    "In the following cell, the basic results of analyzing the DataFrame are made are shown. Basic results include a table that specifies the existing datatypes in each column dataFrame and other features. Also, for this particular case, the table of dataType is shown in order to visualize a sample of column content. "
   ]
  },
  {
   "cell_type": "code",
   "execution_count": 7,
   "metadata": {
    "scrolled": false
   },
   "outputs": [
    {
     "data": {
      "text/html": [
       "<table width=50%><tr><td colspan=3 ><b> Column name: </b>id</td></tr><tr><td colspan=3 ><b> Column datatype: </b>int</td></tr><tr><th>Datatype</td><th>Quantity</td><th>Percentage</td></tr><tr><td>None</td><td>3</td><td>15.00 %</td></tr><tr><td>Empty str</td><td>0</td><td>0.00 %</td></tr><tr><td>String</td><td>0</td><td>0.00 %</td></tr><tr><td>Integer</td><td>17</td><td>85.00 %</td></tr><tr><td>Float</td><td>0</td><td>0.00 %</td></tr></table>"
      ],
      "text/plain": [
       "<optimus.df_analyzer.ColumnTables at 0x111067438>"
      ]
     },
     "metadata": {},
     "output_type": "display_data"
    },
    {
     "name": "stdout",
     "output_type": "stream",
     "text": [
      "Min value:  1\n",
      "Max value:  19\n"
     ]
    },
    {
     "data": {
      "text/plain": [
       "<optimus.df_analyzer.DataTypeTable at 0x11107a2e8>"
      ]
     },
     "metadata": {},
     "output_type": "display_data"
    },
    {
     "name": "stdout",
     "output_type": "stream",
     "text": [
      "end of __analyze 3.2843620777130127\n"
     ]
    },
    {
     "data": {
      "text/html": [
       "<table width=50%><tr><td colspan=3 ><b> Column name: </b>firstName</td></tr><tr><td colspan=3 ><b> Column datatype: </b>string</td></tr><tr><th>Datatype</td><th>Quantity</td><th>Percentage</td></tr><tr><td>None</td><td>0</td><td>0.00 %</td></tr><tr><td>Empty str</td><td>0</td><td>0.00 %</td></tr><tr><td>String</td><td>20</td><td>100.00 %</td></tr><tr><td>Integer</td><td>0</td><td>0.00 %</td></tr><tr><td>Float</td><td>0</td><td>0.00 %</td></tr></table>"
      ],
      "text/plain": [
       "<optimus.df_analyzer.ColumnTables at 0x11105e4e0>"
      ]
     },
     "metadata": {},
     "output_type": "display_data"
    },
    {
     "data": {
      "text/plain": [
       "<optimus.df_analyzer.DataTypeTable at 0x11105e7f0>"
      ]
     },
     "metadata": {},
     "output_type": "display_data"
    },
    {
     "name": "stdout",
     "output_type": "stream",
     "text": [
      "end of __analyze 1.3909809589385986\n"
     ]
    },
    {
     "data": {
      "text/html": [
       "<table width=50%><tr><td colspan=3 ><b> Column name: </b>lastName</td></tr><tr><td colspan=3 ><b> Column datatype: </b>string</td></tr><tr><th>Datatype</td><th>Quantity</td><th>Percentage</td></tr><tr><td>None</td><td>0</td><td>0.00 %</td></tr><tr><td>Empty str</td><td>0</td><td>0.00 %</td></tr><tr><td>String</td><td>20</td><td>100.00 %</td></tr><tr><td>Integer</td><td>0</td><td>0.00 %</td></tr><tr><td>Float</td><td>0</td><td>0.00 %</td></tr></table>"
      ],
      "text/plain": [
       "<optimus.df_analyzer.ColumnTables at 0x110fde2b0>"
      ]
     },
     "metadata": {},
     "output_type": "display_data"
    },
    {
     "data": {
      "text/plain": [
       "<optimus.df_analyzer.DataTypeTable at 0x11105e630>"
      ]
     },
     "metadata": {},
     "output_type": "display_data"
    },
    {
     "name": "stdout",
     "output_type": "stream",
     "text": [
      "end of __analyze 1.3097529411315918\n"
     ]
    },
    {
     "data": {
      "text/html": [
       "<table width=50%><tr><td colspan=3 ><b> Column name: </b>billingId</td></tr><tr><td colspan=3 ><b> Column datatype: </b>int</td></tr><tr><th>Datatype</td><th>Quantity</td><th>Percentage</td></tr><tr><td>None</td><td>0</td><td>0.00 %</td></tr><tr><td>Empty str</td><td>0</td><td>0.00 %</td></tr><tr><td>String</td><td>0</td><td>0.00 %</td></tr><tr><td>Integer</td><td>20</td><td>100.00 %</td></tr><tr><td>Float</td><td>0</td><td>0.00 %</td></tr></table>"
      ],
      "text/plain": [
       "<optimus.df_analyzer.ColumnTables at 0x110fd2278>"
      ]
     },
     "metadata": {},
     "output_type": "display_data"
    },
    {
     "name": "stdout",
     "output_type": "stream",
     "text": [
      "Min value:  111\n",
      "Max value:  992\n"
     ]
    },
    {
     "data": {
      "text/plain": [
       "<optimus.df_analyzer.DataTypeTable at 0x110fa6630>"
      ]
     },
     "metadata": {},
     "output_type": "display_data"
    },
    {
     "name": "stdout",
     "output_type": "stream",
     "text": [
      "end of __analyze 2.4579579830169678\n"
     ]
    },
    {
     "data": {
      "text/html": [
       "<table width=50%><tr><td colspan=3 ><b> Column name: </b>product</td></tr><tr><td colspan=3 ><b> Column datatype: </b>string</td></tr><tr><th>Datatype</td><th>Quantity</td><th>Percentage</td></tr><tr><td>None</td><td>0</td><td>0.00 %</td></tr><tr><td>Empty str</td><td>0</td><td>0.00 %</td></tr><tr><td>String</td><td>19</td><td>95.00 %</td></tr><tr><td>Integer</td><td>1</td><td>5.00 %</td></tr><tr><td>Float</td><td>0</td><td>0.00 %</td></tr></table>"
      ],
      "text/plain": [
       "<optimus.df_analyzer.ColumnTables at 0x1113ba6d8>"
      ]
     },
     "metadata": {},
     "output_type": "display_data"
    },
    {
     "data": {
      "text/plain": [
       "<optimus.df_analyzer.DataTypeTable at 0x111050e10>"
      ]
     },
     "metadata": {},
     "output_type": "display_data"
    },
    {
     "name": "stdout",
     "output_type": "stream",
     "text": [
      "end of __analyze 1.4304399490356445\n"
     ]
    },
    {
     "data": {
      "text/html": [
       "<table width=50%><tr><td colspan=3 ><b> Column name: </b>price</td></tr><tr><td colspan=3 ><b> Column datatype: </b>int</td></tr><tr><th>Datatype</td><th>Quantity</td><th>Percentage</td></tr><tr><td>None</td><td>0</td><td>0.00 %</td></tr><tr><td>Empty str</td><td>0</td><td>0.00 %</td></tr><tr><td>String</td><td>0</td><td>0.00 %</td></tr><tr><td>Integer</td><td>20</td><td>100.00 %</td></tr><tr><td>Float</td><td>0</td><td>0.00 %</td></tr></table>"
      ],
      "text/plain": [
       "<optimus.df_analyzer.ColumnTables at 0x11107abe0>"
      ]
     },
     "metadata": {},
     "output_type": "display_data"
    },
    {
     "name": "stdout",
     "output_type": "stream",
     "text": [
      "Min value:  1\n",
      "Max value:  10\n"
     ]
    },
    {
     "data": {
      "text/plain": [
       "<optimus.df_analyzer.DataTypeTable at 0x110fa6518>"
      ]
     },
     "metadata": {},
     "output_type": "display_data"
    },
    {
     "name": "stdout",
     "output_type": "stream",
     "text": [
      "end of __analyze 1.5349280834197998\n"
     ]
    },
    {
     "data": {
      "text/html": [
       "<table width=50%><tr><td colspan=3 ><b> Column name: </b>birth</td></tr><tr><td colspan=3 ><b> Column datatype: </b>string</td></tr><tr><th>Datatype</td><th>Quantity</td><th>Percentage</td></tr><tr><td>None</td><td>0</td><td>0.00 %</td></tr><tr><td>Empty str</td><td>0</td><td>0.00 %</td></tr><tr><td>String</td><td>20</td><td>100.00 %</td></tr><tr><td>Integer</td><td>0</td><td>0.00 %</td></tr><tr><td>Float</td><td>0</td><td>0.00 %</td></tr></table>"
      ],
      "text/plain": [
       "<optimus.df_analyzer.ColumnTables at 0x11105e860>"
      ]
     },
     "metadata": {},
     "output_type": "display_data"
    },
    {
     "data": {
      "text/plain": [
       "<optimus.df_analyzer.DataTypeTable at 0x110fba9b0>"
      ]
     },
     "metadata": {},
     "output_type": "display_data"
    },
    {
     "name": "stdout",
     "output_type": "stream",
     "text": [
      "end of __analyze 1.4951732158660889\n"
     ]
    },
    {
     "data": {
      "text/html": [
       "<table width=50%><tr><td colspan=3 ><b> Column name: </b>dummyCol</td></tr><tr><td colspan=3 ><b> Column datatype: </b>string</td></tr><tr><th>Datatype</td><th>Quantity</td><th>Percentage</td></tr><tr><td>None</td><td>0</td><td>0.00 %</td></tr><tr><td>Empty str</td><td>0</td><td>0.00 %</td></tr><tr><td>String</td><td>20</td><td>100.00 %</td></tr><tr><td>Integer</td><td>0</td><td>0.00 %</td></tr><tr><td>Float</td><td>0</td><td>0.00 %</td></tr></table>"
      ],
      "text/plain": [
       "<optimus.df_analyzer.ColumnTables at 0x110fdec88>"
      ]
     },
     "metadata": {},
     "output_type": "display_data"
    },
    {
     "data": {
      "text/plain": [
       "<optimus.df_analyzer.DataTypeTable at 0x11107a828>"
      ]
     },
     "metadata": {},
     "output_type": "display_data"
    },
    {
     "name": "stdout",
     "output_type": "stream",
     "text": [
      "end of __analyze 1.5880918502807617\n",
      "Total execution time:  14.563560009002686\n"
     ]
    },
    {
     "data": {
      "text/html": [
       "<table width=50%><tr><th colspan=3>General description</td></tr><tr><th colspan=1>Features</td><th colspan=2>Name or Quantity</td></tr><tr><th colspan=1>File Name</td><td colspan=2>foo.csv</td></tr><tr><th colspan=1>Columns</td><td colspan=2>8</td></tr><tr><th colspan=1>Rows</td><td colspan=2>20</td></tr>"
      ],
      "text/plain": [
       "<optimus.df_analyzer.GeneralDescripTable at 0x11107af28>"
      ]
     },
     "metadata": {},
     "output_type": "display_data"
    }
   ],
   "source": [
    "analyzer_tables = analyzer.column_analyze(column_list=\"*\", print_type=True, plots=False)"
   ]
  },
  {
   "cell_type": "markdown",
   "metadata": {},
   "source": [
    "The results obtained by running the analyzer class, details the presence of special chars, \n",
    "string columns with possible numbers on them and None and empty string values in columns."
   ]
  },
  {
   "cell_type": "markdown",
   "metadata": {},
   "source": [
    "### Instantiation of DataFrameTransformer\n",
    "DataFrameTransformer is a specialized class to make dataFrame transformations. Transformations are optimized as much as possible to internally used native spark \n",
    "transformation functions."
   ]
  },
  {
   "cell_type": "code",
   "execution_count": 8,
   "metadata": {
    "collapsed": true
   },
   "outputs": [],
   "source": [
    "# Instance of transformer class \n",
    "transformer = op.DataFrameTransformer(df)"
   ]
  },
  {
   "cell_type": "code",
   "execution_count": 9,
   "metadata": {},
   "outputs": [
    {
     "name": "stdout",
     "output_type": "stream",
     "text": [
      "+----+---------+--------------------+---------+--------+-----+----------+--------+\n",
      "|  id|firstName|            lastName|billingId| product|price|     birth|dummyCol|\n",
      "+----+---------+--------------------+---------+--------+-----+----------+--------+\n",
      "|   1|     Luis|         Alvarez$$%!|      123|    Cake|   10|1980/07/07|   never|\n",
      "|   2|    André|              Ampère|      423|    piza|    8|1950/07/08|   gonna|\n",
      "|   3|    NiELS|          Böhr//((%%|      551|   pizza|    8|1990/07/09|    give|\n",
      "|   4|     PAUL|              dirac$|      521|   pizza|    8|1954/07/10|     you|\n",
      "|null|   Albert|            Einstein|      634|   pizza|    8|1990/07/11|      up|\n",
      "|   6|  Galileo|             GALiLEI|      672|   arepa|    5|1930/08/12|   never|\n",
      "|   7|     CaRL|            Ga%%%uss|      323|    taco|    3|1970/07/13|   gonna|\n",
      "|null|    David|          H$$$ilbert|      624|taaaccoo|    3|1950/07/14|     let|\n",
      "|   9| Johannes|              KEPLER|      735|    taco|    3|1920/04/22|     you|\n",
      "|  10|    JaMES|         M$$ax%%well|      875|    taco|    3|1923/03/12|    down|\n",
      "+----+---------+--------------------+---------+--------+-----+----------+--------+\n",
      "only showing top 10 rows\n",
      "\n"
     ]
    }
   ],
   "source": [
    "transformer.show()"
   ]
  },
  {
   "cell_type": "markdown",
   "metadata": {},
   "source": [
    "### Trimming blanck spaces at beginning and endings of cells dataFrames"
   ]
  },
  {
   "cell_type": "code",
   "execution_count": 10,
   "metadata": {},
   "outputs": [
    {
     "name": "stdout",
     "output_type": "stream",
     "text": [
      "Original dataFrame:\n",
      "+----+---------+-----------+---------+-------+-----+----------+--------+\n",
      "|  id|firstName|   lastName|billingId|product|price|     birth|dummyCol|\n",
      "+----+---------+-----------+---------+-------+-----+----------+--------+\n",
      "|   1|     Luis|Alvarez$$%!|      123|   Cake|   10|1980/07/07|   never|\n",
      "|   2|    André|     Ampère|      423|   piza|    8|1950/07/08|   gonna|\n",
      "|   3|    NiELS| Böhr//((%%|      551|  pizza|    8|1990/07/09|    give|\n",
      "|   4|     PAUL|     dirac$|      521|  pizza|    8|1954/07/10|     you|\n",
      "|null|   Albert|   Einstein|      634|  pizza|    8|1990/07/11|      up|\n",
      "+----+---------+-----------+---------+-------+-----+----------+--------+\n",
      "only showing top 5 rows\n",
      "\n",
      "Trimmed dataFrame:\n",
      "+----+---------+-----------+---------+-------+-----+----------+--------+\n",
      "|  id|firstName|   lastName|billingId|product|price|     birth|dummyCol|\n",
      "+----+---------+-----------+---------+-------+-----+----------+--------+\n",
      "|   1|     Luis|Alvarez$$%!|      123|   Cake|   10|1980/07/07|   never|\n",
      "|   2|    André|     Ampère|      423|   piza|    8|1950/07/08|   gonna|\n",
      "|   3|    NiELS| Böhr//((%%|      551|  pizza|    8|1990/07/09|    give|\n",
      "|   4|     PAUL|     dirac$|      521|  pizza|    8|1954/07/10|     you|\n",
      "|null|   Albert|   Einstein|      634|  pizza|    8|1990/07/11|      up|\n",
      "+----+---------+-----------+---------+-------+-----+----------+--------+\n",
      "only showing top 5 rows\n",
      "\n"
     ]
    }
   ],
   "source": [
    "# Printing of original dataFrame:\n",
    "print('Original dataFrame:')\n",
    "transformer.show(5)\n",
    "\n",
    "# Triming string blank spaces:\n",
    "transformer.trim_col(\"*\")\n",
    "\n",
    "# Printing trimmed dataFrame:\n",
    "print('Trimmed dataFrame:')\n",
    "transformer.show(5)"
   ]
  },
  {
   "cell_type": "markdown",
   "metadata": {},
   "source": [
    "### Removing especial chars and accents:"
   ]
  },
  {
   "cell_type": "code",
   "execution_count": 11,
   "metadata": {},
   "outputs": [
    {
     "name": "stdout",
     "output_type": "stream",
     "text": [
      "Original dataFrame:\n",
      "+----+---------+-----------+---------+-------+-----+----------+--------+\n",
      "|  id|firstName|   lastName|billingId|product|price|     birth|dummyCol|\n",
      "+----+---------+-----------+---------+-------+-----+----------+--------+\n",
      "|   1|     Luis|Alvarez$$%!|      123|   Cake|   10|1980/07/07|   never|\n",
      "|   2|    André|     Ampère|      423|   piza|    8|1950/07/08|   gonna|\n",
      "|   3|    NiELS| Böhr//((%%|      551|  pizza|    8|1990/07/09|    give|\n",
      "|   4|     PAUL|     dirac$|      521|  pizza|    8|1954/07/10|     you|\n",
      "|null|   Albert|   Einstein|      634|  pizza|    8|1990/07/11|      up|\n",
      "+----+---------+-----------+---------+-------+-----+----------+--------+\n",
      "only showing top 5 rows\n",
      "\n",
      "Removing special chars and accents dataFrame:\n",
      "+----+---------+--------+---------+-------+-----+--------+--------+\n",
      "|  id|firstName|lastName|billingId|product|price|   birth|dummyCol|\n",
      "+----+---------+--------+---------+-------+-----+--------+--------+\n",
      "|   1|     Luis| Alvarez|      123|   Cake|   10|19800707|   never|\n",
      "|   2|    Andre|  Ampere|      423|   piza|    8|19500708|   gonna|\n",
      "|   3|    NiELS|    Bohr|      551|  pizza|    8|19900709|    give|\n",
      "|   4|     PAUL|   dirac|      521|  pizza|    8|19540710|     you|\n",
      "|null|   Albert|Einstein|      634|  pizza|    8|19900711|      up|\n",
      "+----+---------+--------+---------+-------+-----+--------+--------+\n",
      "only showing top 5 rows\n",
      "\n"
     ]
    }
   ],
   "source": [
    "# Printing of original dataFrame:\n",
    "print('Original dataFrame:')\n",
    "transformer.show(5)\n",
    "\n",
    "# Remove special chars:\n",
    "transformer.remove_special_chars(\"*\").clear_accents(\"*\")\n",
    "\n",
    "# This can also be done by passing a Regex if you want something more personalized\n",
    "\n",
    "#####################################################################\n",
    "\n",
    "#transformer.remove_special_chars_regex(\"*\",'[^\\w\\s]').clear_accents(\"*\")\n",
    "\n",
    "#####################################################################\n",
    "\n",
    "# Printing trimmed dataFrame:\n",
    "print('Removing special chars and accents dataFrame:')\n",
    "transformer.show(5)"
   ]
  },
  {
   "cell_type": "markdown",
   "metadata": {},
   "source": [
    "### Drop dummy column"
   ]
  },
  {
   "cell_type": "code",
   "execution_count": 12,
   "metadata": {},
   "outputs": [
    {
     "name": "stdout",
     "output_type": "stream",
     "text": [
      "Original dataFrame:\n",
      "+----+---------+--------+---------+-------+-----+--------+--------+\n",
      "|  id|firstName|lastName|billingId|product|price|   birth|dummyCol|\n",
      "+----+---------+--------+---------+-------+-----+--------+--------+\n",
      "|   1|     Luis| Alvarez|      123|   Cake|   10|19800707|   never|\n",
      "|   2|    Andre|  Ampere|      423|   piza|    8|19500708|   gonna|\n",
      "|   3|    NiELS|    Bohr|      551|  pizza|    8|19900709|    give|\n",
      "|   4|     PAUL|   dirac|      521|  pizza|    8|19540710|     you|\n",
      "|null|   Albert|Einstein|      634|  pizza|    8|19900711|      up|\n",
      "+----+---------+--------+---------+-------+-----+--------+--------+\n",
      "only showing top 5 rows\n",
      "\n",
      "Dataframe without dummy column:\n",
      "+----+---------+--------+---------+-------+-----+--------+\n",
      "|  id|firstName|lastName|billingId|product|price|   birth|\n",
      "+----+---------+--------+---------+-------+-----+--------+\n",
      "|   1|     Luis| Alvarez|      123|   Cake|   10|19800707|\n",
      "|   2|    Andre|  Ampere|      423|   piza|    8|19500708|\n",
      "|   3|    NiELS|    Bohr|      551|  pizza|    8|19900709|\n",
      "|   4|     PAUL|   dirac|      521|  pizza|    8|19540710|\n",
      "|null|   Albert|Einstein|      634|  pizza|    8|19900711|\n",
      "+----+---------+--------+---------+-------+-----+--------+\n",
      "only showing top 5 rows\n",
      "\n"
     ]
    }
   ],
   "source": [
    "# Printing of original dataFrame:\n",
    "print('Original dataFrame:')\n",
    "transformer.show(5)\n",
    "\n",
    "# Droping a column:\n",
    "transformer.drop_col(\"dummyCol\")\n",
    "\n",
    "# Printing trimmed dataFrame:\n",
    "print('Dataframe without dummy column:')\n",
    "transformer.show(5)"
   ]
  },
  {
   "cell_type": "markdown",
   "metadata": {},
   "source": [
    "### Setting all letters to lowerCase"
   ]
  },
  {
   "cell_type": "code",
   "execution_count": 13,
   "metadata": {},
   "outputs": [
    {
     "name": "stdout",
     "output_type": "stream",
     "text": [
      "Original dataFrame:\n",
      "+----+---------+--------+---------+-------+-----+--------+\n",
      "|  id|firstName|lastName|billingId|product|price|   birth|\n",
      "+----+---------+--------+---------+-------+-----+--------+\n",
      "|   1|     Luis| Alvarez|      123|   Cake|   10|19800707|\n",
      "|   2|    Andre|  Ampere|      423|   piza|    8|19500708|\n",
      "|   3|    NiELS|    Bohr|      551|  pizza|    8|19900709|\n",
      "|   4|     PAUL|   dirac|      521|  pizza|    8|19540710|\n",
      "|null|   Albert|Einstein|      634|  pizza|    8|19900711|\n",
      "+----+---------+--------+---------+-------+-----+--------+\n",
      "only showing top 5 rows\n",
      "\n",
      "Setting all letters to lowerCase:\n",
      "+----+---------+--------+---------+-------+-----+--------+\n",
      "|  id|firstName|lastName|billingId|product|price|   birth|\n",
      "+----+---------+--------+---------+-------+-----+--------+\n",
      "|   1|     luis| alvarez|      123|   cake|   10|19800707|\n",
      "|   2|    andre|  ampere|      423|   piza|    8|19500708|\n",
      "|   3|    niels|    bohr|      551|  pizza|    8|19900709|\n",
      "|   4|     paul|   dirac|      521|  pizza|    8|19540710|\n",
      "|null|   albert|einstein|      634|  pizza|    8|19900711|\n",
      "+----+---------+--------+---------+-------+-----+--------+\n",
      "only showing top 5 rows\n",
      "\n"
     ]
    }
   ],
   "source": [
    "# Printing of original dataFrame:\n",
    "print('Original dataFrame:')\n",
    "transformer.show(5)\n",
    "\n",
    "print('Setting all letters to lowerCase:')\n",
    "transformer.lower_case(\"*\")\n",
    "transformer.show(5)"
   ]
  },
  {
   "cell_type": "markdown",
   "metadata": {},
   "source": [
    "### Date Transformation (Format of date is changed)"
   ]
  },
  {
   "cell_type": "code",
   "execution_count": 14,
   "metadata": {},
   "outputs": [
    {
     "name": "stdout",
     "output_type": "stream",
     "text": [
      "Original dataFrame:\n",
      "+----+---------+--------+---------+-------+-----+--------+\n",
      "|  id|firstName|lastName|billingId|product|price|   birth|\n",
      "+----+---------+--------+---------+-------+-----+--------+\n",
      "|   1|     luis| alvarez|      123|   cake|   10|19800707|\n",
      "|   2|    andre|  ampere|      423|   piza|    8|19500708|\n",
      "|   3|    niels|    bohr|      551|  pizza|    8|19900709|\n",
      "|   4|     paul|   dirac|      521|  pizza|    8|19540710|\n",
      "|null|   albert|einstein|      634|  pizza|    8|19900711|\n",
      "+----+---------+--------+---------+-------+-----+--------+\n",
      "only showing top 5 rows\n",
      "\n",
      "Dataframe without dummy column:\n",
      "+----+---------+--------+---------+-------+-----+----------+\n",
      "|  id|firstName|lastName|billingId|product|price|     birth|\n",
      "+----+---------+--------+---------+-------+-----+----------+\n",
      "|   1|     luis| alvarez|      123|   cake|   10|07-07-1980|\n",
      "|   2|    andre|  ampere|      423|   piza|    8|08-07-1950|\n",
      "|   3|    niels|    bohr|      551|  pizza|    8|09-07-1990|\n",
      "|   4|     paul|   dirac|      521|  pizza|    8|10-07-1954|\n",
      "|null|   albert|einstein|      634|  pizza|    8|11-07-1990|\n",
      "+----+---------+--------+---------+-------+-----+----------+\n",
      "only showing top 5 rows\n",
      "\n"
     ]
    }
   ],
   "source": [
    "# Printing of original dataFrame:\n",
    "print('Original dataFrame:')\n",
    "transformer.show(5)\n",
    "\n",
    "# Priting the new date format:\n",
    "print('Dataframe without dummy column:')\n",
    "transformer.date_transform(\"birth\", \"yyyyMMdd\", \"dd-MM-YYYY\") \\\n",
    "           .show(5)"
   ]
  },
  {
   "cell_type": "markdown",
   "metadata": {},
   "source": [
    "### Age calculation from birth date client"
   ]
  },
  {
   "cell_type": "code",
   "execution_count": 15,
   "metadata": {},
   "outputs": [
    {
     "name": "stdout",
     "output_type": "stream",
     "text": [
      "Original dataFrame:\n",
      "+----+---------+--------+---------+-------+-----+----------+\n",
      "|  id|firstName|lastName|billingId|product|price|     birth|\n",
      "+----+---------+--------+---------+-------+-----+----------+\n",
      "|   1|     luis| alvarez|      123|   cake|   10|07-07-1980|\n",
      "|   2|    andre|  ampere|      423|   piza|    8|08-07-1950|\n",
      "|   3|    niels|    bohr|      551|  pizza|    8|09-07-1990|\n",
      "|   4|     paul|   dirac|      521|  pizza|    8|10-07-1954|\n",
      "|null|   albert|einstein|      634|  pizza|    8|11-07-1990|\n",
      "+----+---------+--------+---------+-------+-----+----------+\n",
      "only showing top 5 rows\n",
      "\n",
      "Printing calculation of age born date client\n",
      "+----+---------+--------+---------+-------+-----+----------+---------+\n",
      "|  id|firstName|lastName|billingId|product|price|     birth|clientAge|\n",
      "+----+---------+--------+---------+-------+-----+----------+---------+\n",
      "|   1|     luis| alvarez|      123|   cake|   10|07-07-1980|  37.7177|\n",
      "|   2|    andre|  ampere|      423|   piza|    8|08-07-1950|  67.7124|\n",
      "|   3|    niels|    bohr|      551|  pizza|    8|09-07-1990|  27.7151|\n",
      "|   4|     paul|   dirac|      521|  pizza|    8|10-07-1954|  63.7258|\n",
      "|null|   albert|einstein|      634|  pizza|    8|11-07-1990|  27.7151|\n",
      "+----+---------+--------+---------+-------+-----+----------+---------+\n",
      "only showing top 5 rows\n",
      "\n"
     ]
    }
   ],
   "source": [
    "# Printing of original dataFrame:\n",
    "print('Original dataFrame:')\n",
    "transformer.show(5)\n",
    "\n",
    "print(\"Printing calculation of age born date client\")\n",
    "transformer.age_calculate(\"birth\", \"dd-MM-YYYY\", \"clientAge\") \\\n",
    "           .show(5)"
   ]
  },
  {
   "cell_type": "markdown",
   "metadata": {},
   "source": [
    "### Renaming columns:"
   ]
  },
  {
   "cell_type": "code",
   "execution_count": 16,
   "metadata": {},
   "outputs": [
    {
     "name": "stdout",
     "output_type": "stream",
     "text": [
      "Original dataframe\n",
      "+----+---------+--------+---------+-------+-----+----------+---------+\n",
      "|  id|firstName|lastName|billingId|product|price|     birth|clientAge|\n",
      "+----+---------+--------+---------+-------+-----+----------+---------+\n",
      "|   1|     luis| alvarez|      123|   cake|   10|07-07-1980|  37.7177|\n",
      "|   2|    andre|  ampere|      423|   piza|    8|08-07-1950|  67.7124|\n",
      "|   3|    niels|    bohr|      551|  pizza|    8|09-07-1990|  27.7151|\n",
      "|   4|     paul|   dirac|      521|  pizza|    8|10-07-1954|  63.7258|\n",
      "|null|   albert|einstein|      634|  pizza|    8|11-07-1990|  27.7151|\n",
      "+----+---------+--------+---------+-------+-----+----------+---------+\n",
      "only showing top 5 rows\n",
      "\n",
      "Renaming some columns of dataFrame\n",
      "+-------+----+---------+--------+---------+-------+-----+----------+\n",
      "|    age|  id|firstName|lastName|billingId|product|price|     birth|\n",
      "+-------+----+---------+--------+---------+-------+-----+----------+\n",
      "|37.7177|   1|     luis| alvarez|      123|   cake|   10|07-07-1980|\n",
      "|67.7124|   2|    andre|  ampere|      423|   piza|    8|08-07-1950|\n",
      "|27.7151|   3|    niels|    bohr|      551|  pizza|    8|09-07-1990|\n",
      "|63.7258|   4|     paul|   dirac|      521|  pizza|    8|10-07-1954|\n",
      "|27.7151|null|   albert|einstein|      634|  pizza|    8|11-07-1990|\n",
      "+-------+----+---------+--------+---------+-------+-----+----------+\n",
      "only showing top 5 rows\n",
      "\n"
     ]
    }
   ],
   "source": [
    "# Printing original dataframe:\n",
    "print (\"Original dataframe\")\n",
    "transformer.show(5)\n",
    "print (\"Renaming some columns of dataFrame\")\n",
    "transformer.rename_col(columns=[(\"clientAge\", \"age\")])\n",
    "transformer.show(5)"
   ]
  },
  {
   "cell_type": "markdown",
   "metadata": {},
   "source": [
    "### Changing positions of columns dataframe:"
   ]
  },
  {
   "cell_type": "code",
   "execution_count": 17,
   "metadata": {},
   "outputs": [
    {
     "name": "stdout",
     "output_type": "stream",
     "text": [
      "Original dataframe\n",
      "+-------+----+---------+--------+---------+-------+-----+----------+\n",
      "|    age|  id|firstName|lastName|billingId|product|price|     birth|\n",
      "+-------+----+---------+--------+---------+-------+-----+----------+\n",
      "|37.7177|   1|     luis| alvarez|      123|   cake|   10|07-07-1980|\n",
      "|67.7124|   2|    andre|  ampere|      423|   piza|    8|08-07-1950|\n",
      "|27.7151|   3|    niels|    bohr|      551|  pizza|    8|09-07-1990|\n",
      "|63.7258|   4|     paul|   dirac|      521|  pizza|    8|10-07-1954|\n",
      "|27.7151|null|   albert|einstein|      634|  pizza|    8|11-07-1990|\n",
      "+-------+----+---------+--------+---------+-------+-----+----------+\n",
      "only showing top 5 rows\n",
      "\n",
      "age column moved\n",
      "+----+---------+--------+-------+---------+-------+-----+----------+\n",
      "|  id|firstName|lastName|    age|billingId|product|price|     birth|\n",
      "+----+---------+--------+-------+---------+-------+-----+----------+\n",
      "|   1|     luis| alvarez|37.7177|      123|   cake|   10|07-07-1980|\n",
      "|   2|    andre|  ampere|67.7124|      423|   piza|    8|08-07-1950|\n",
      "|   3|    niels|    bohr|27.7151|      551|  pizza|    8|09-07-1990|\n",
      "|   4|     paul|   dirac|63.7258|      521|  pizza|    8|10-07-1954|\n",
      "|null|   albert|einstein|27.7151|      634|  pizza|    8|11-07-1990|\n",
      "+----+---------+--------+-------+---------+-------+-----+----------+\n",
      "only showing top 5 rows\n",
      "\n"
     ]
    }
   ],
   "source": [
    "# Printing original dataframe:\n",
    "print (\"Original dataframe\")\n",
    "transformer.show(5)\n",
    "\n",
    "# This action is to move column age, just after the lastName column\n",
    "print (\"age column moved\")\n",
    "transformer.move_col(\"age\", \"lastName\", \"after\")\n",
    "transformer.show(5)"
   ]
  },
  {
   "cell_type": "markdown",
   "metadata": {},
   "source": [
    "### Setting a custom transformation\n",
    "The core of this function is base on the user define function provide from the lambda function provided in the 'func' argument. \n",
    "\n",
    "In this example, cells that are not greater than 20, are multiplied by 20, the rest of them stay intact."
   ]
  },
  {
   "cell_type": "code",
   "execution_count": 18,
   "metadata": {},
   "outputs": [
    {
     "name": "stdout",
     "output_type": "stream",
     "text": [
      "Original dataframe\n",
      "+----+---------+--------+-------+---------+-------+-----+----------+\n",
      "|  id|firstName|lastName|    age|billingId|product|price|     birth|\n",
      "+----+---------+--------+-------+---------+-------+-----+----------+\n",
      "|   1|     luis| alvarez|37.7177|      123|   cake|   10|07-07-1980|\n",
      "|   2|    andre|  ampere|67.7124|      423|   piza|    8|08-07-1950|\n",
      "|   3|    niels|    bohr|27.7151|      551|  pizza|    8|09-07-1990|\n",
      "|   4|     paul|   dirac|63.7258|      521|  pizza|    8|10-07-1954|\n",
      "|null|   albert|einstein|27.7151|      634|  pizza|    8|11-07-1990|\n",
      "+----+---------+--------+-------+---------+-------+-----+----------+\n",
      "only showing top 5 rows\n",
      "\n",
      " Multiplying by 20 a number if value in cell is greater than 20:\n",
      "+----+------------+--------+--------+---------+----------+-----+----------+\n",
      "|  id|   firstName|lastName|     age|billingId|   product|price|     birth|\n",
      "+----+------------+--------+--------+---------+----------+-----+----------+\n",
      "|   1|        luis| alvarez| 37.7177|      123|      cake|  200|07-07-1980|\n",
      "|   2|       andre|  ampere| 67.7124|      423|      piza|  160|08-07-1950|\n",
      "|   3|       niels|    bohr| 27.7151|      551|     pizza|  160|09-07-1990|\n",
      "|   4|        paul|   dirac| 63.7258|      521|     pizza|  160|10-07-1954|\n",
      "|null|      albert|einstein| 27.7151|      634|     pizza|  160|11-07-1990|\n",
      "|   6|     galileo| galilei| 87.7204|      672|     arepa|  100|12-08-1930|\n",
      "|   7|        carl|   gauss| 47.7231|      323|      taco|   60|13-07-1970|\n",
      "|null|       david| hilbert| 67.7124|      624|  taaaccoo|   60|14-07-1950|\n",
      "|   9|    johannes|  kepler| 97.7231|      735|      taco|   60|22-04-1920|\n",
      "|  10|       james| maxwell| 94.7151|      875|      taco|   60|12-03-1923|\n",
      "|null|       isaac|  newton| 18.7258|      992|     pasta|  180|15-02-1999|\n",
      "|  12|        emmy| noether| 24.7258|      234|     pasta|  180|08-12-1993|\n",
      "|  13|         max|  planck| 23.7285|      111|hamburguer|   80|04-01-1994|\n",
      "|  14|        fred|   hoyle| 20.7204|      553|    pizzza|  160|27-06-1997|\n",
      "|  15|   heinrich |   hertz| 61.7124|      116|     pizza|  160|30-11-1956|\n",
      "|  16|     william| gilbert| 59.7204|      886|      beer|   40|26-03-1958|\n",
      "|  17|       marie|   curie| 17.7285|      912|      rice|   20|22-03-2000|\n",
      "|  18|      arthur| compton|118.7124|      812|    110790|  100|01-01-1899|\n",
      "|  19|       james|chadwick| 96.7285|      467|      null|  200|03-05-1921|\n",
      "|  19|       james|chadwick| 96.7285|      467|      null|  200|03-05-1921|\n",
      "+----+------------+--------+--------+---------+----------+-----+----------+\n",
      "\n"
     ]
    }
   ],
   "source": [
    "# Printing original dataframe:\n",
    "print (\"Original dataframe\")\n",
    "transformer.show(5)\n",
    "\n",
    "print (' Multiplying by 20 a number if value in cell is greater than 20:')\n",
    "# Replacing a number:   \n",
    "func = lambda cell: (cell * 20) if ((cell != None) and (cell < 20)) else cell\n",
    "transformer.set_col(['price'], func, 'integer')\n",
    "transformer.show(20)"
   ]
  },
  {
   "cell_type": "markdown",
   "metadata": {},
   "source": [
    "After the transformation process detailed in the previous cells. It is a good idea to\n",
    "analyze to see if the transformations have solved issued related with special characters, \n",
    "presence of number in column where is to supposed only letters, etc."
   ]
  },
  {
   "cell_type": "markdown",
   "metadata": {},
   "source": [
    "### Analyzing columns after transformations"
   ]
  },
  {
   "cell_type": "code",
   "execution_count": 19,
   "metadata": {
    "scrolled": false
   },
   "outputs": [
    {
     "data": {
      "text/html": [
       "<table width=50%><tr><td colspan=3 ><b> Column name: </b>id</td></tr><tr><td colspan=3 ><b> Column datatype: </b>int</td></tr><tr><th>Datatype</td><th>Quantity</td><th>Percentage</td></tr><tr><td>None</td><td>3</td><td>15.00 %</td></tr><tr><td>Empty str</td><td>0</td><td>0.00 %</td></tr><tr><td>String</td><td>0</td><td>0.00 %</td></tr><tr><td>Integer</td><td>17</td><td>85.00 %</td></tr><tr><td>Float</td><td>0</td><td>0.00 %</td></tr></table>"
      ],
      "text/plain": [
       "<optimus.df_analyzer.ColumnTables at 0x110fa6828>"
      ]
     },
     "metadata": {},
     "output_type": "display_data"
    },
    {
     "name": "stdout",
     "output_type": "stream",
     "text": [
      "Min value:  1\n",
      "Max value:  19\n"
     ]
    },
    {
     "data": {
      "text/plain": [
       "<optimus.df_analyzer.DataTypeTable at 0x11105e6d8>"
      ]
     },
     "metadata": {},
     "output_type": "display_data"
    },
    {
     "data": {
      "image/png": "[encoded data removed]",
      "text/plain": [
       "<matplotlib.figure.Figure at 0x110fd2908>"
      ]
     },
     "metadata": {},
     "output_type": "display_data"
    },
    {
     "name": "stdout",
     "output_type": "stream",
     "text": [
      "end of __analyze 2.911494016647339\n"
     ]
    },
    {
     "data": {
      "text/html": [
       "<table width=50%><tr><td colspan=3 ><b> Column name: </b>firstName</td></tr><tr><td colspan=3 ><b> Column datatype: </b>string</td></tr><tr><th>Datatype</td><th>Quantity</td><th>Percentage</td></tr><tr><td>None</td><td>0</td><td>0.00 %</td></tr><tr><td>Empty str</td><td>0</td><td>0.00 %</td></tr><tr><td>String</td><td>20</td><td>100.00 %</td></tr><tr><td>Integer</td><td>0</td><td>0.00 %</td></tr><tr><td>Float</td><td>0</td><td>0.00 %</td></tr></table>"
      ],
      "text/plain": [
       "<optimus.df_analyzer.ColumnTables at 0x111358748>"
      ]
     },
     "metadata": {},
     "output_type": "display_data"
    },
    {
     "data": {
      "text/plain": [
       "<optimus.df_analyzer.DataTypeTable at 0x106d60f98>"
      ]
     },
     "metadata": {},
     "output_type": "display_data"
    },
    {
     "data": {
      "image/png": "[encoded data removed]",
      "text/plain": [
       "<matplotlib.figure.Figure at 0x1112c46d8>"
      ]
     },
     "metadata": {},
     "output_type": "display_data"
    },
    {
     "name": "stdout",
     "output_type": "stream",
     "text": [
      "end of __analyze 1.6451220512390137\n"
     ]
    },
    {
     "data": {
      "text/html": [
       "<table width=50%><tr><td colspan=3 ><b> Column name: </b>lastName</td></tr><tr><td colspan=3 ><b> Column datatype: </b>string</td></tr><tr><th>Datatype</td><th>Quantity</td><th>Percentage</td></tr><tr><td>None</td><td>0</td><td>0.00 %</td></tr><tr><td>Empty str</td><td>0</td><td>0.00 %</td></tr><tr><td>String</td><td>20</td><td>100.00 %</td></tr><tr><td>Integer</td><td>0</td><td>0.00 %</td></tr><tr><td>Float</td><td>0</td><td>0.00 %</td></tr></table>"
      ],
      "text/plain": [
       "<optimus.df_analyzer.ColumnTables at 0x111796eb8>"
      ]
     },
     "metadata": {},
     "output_type": "display_data"
    },
    {
     "data": {
      "text/plain": [
       "<optimus.df_analyzer.DataTypeTable at 0x11180bda0>"
      ]
     },
     "metadata": {},
     "output_type": "display_data"
    },
    {
     "data": {
      "image/png": "[encoded data removed]",
      "text/plain": [
       "<matplotlib.figure.Figure at 0x1117f2128>"
      ]
     },
     "metadata": {},
     "output_type": "display_data"
    },
    {
     "name": "stdout",
     "output_type": "stream",
     "text": [
      "end of __analyze 1.6263179779052734\n"
     ]
    },
    {
     "data": {
      "text/html": [
       "<table width=50%><tr><td colspan=3 ><b> Column name: </b>billingId</td></tr><tr><td colspan=3 ><b> Column datatype: </b>int</td></tr><tr><th>Datatype</td><th>Quantity</td><th>Percentage</td></tr><tr><td>None</td><td>0</td><td>0.00 %</td></tr><tr><td>Empty str</td><td>0</td><td>0.00 %</td></tr><tr><td>String</td><td>0</td><td>0.00 %</td></tr><tr><td>Integer</td><td>20</td><td>100.00 %</td></tr><tr><td>Float</td><td>0</td><td>0.00 %</td></tr></table>"
      ],
      "text/plain": [
       "<optimus.df_analyzer.ColumnTables at 0x11191e1d0>"
      ]
     },
     "metadata": {},
     "output_type": "display_data"
    },
    {
     "name": "stdout",
     "output_type": "stream",
     "text": [
      "Min value:  111\n",
      "Max value:  992\n"
     ]
    },
    {
     "data": {
      "text/plain": [
       "<optimus.df_analyzer.DataTypeTable at 0x111963f28>"
      ]
     },
     "metadata": {},
     "output_type": "display_data"
    },
    {
     "data": {
      "image/png": "[encoded data removed]",
      "text/plain": [
       "<matplotlib.figure.Figure at 0x1119633c8>"
      ]
     },
     "metadata": {},
     "output_type": "display_data"
    },
    {
     "name": "stdout",
     "output_type": "stream",
     "text": [
      "end of __analyze 2.6953039169311523\n"
     ]
    },
    {
     "data": {
      "text/html": [
       "<table width=50%><tr><td colspan=3 ><b> Column name: </b>birth</td></tr><tr><td colspan=3 ><b> Column datatype: </b>string</td></tr><tr><th>Datatype</td><th>Quantity</td><th>Percentage</td></tr><tr><td>None</td><td>0</td><td>0.00 %</td></tr><tr><td>Empty str</td><td>0</td><td>0.00 %</td></tr><tr><td>String</td><td>20</td><td>100.00 %</td></tr><tr><td>Integer</td><td>0</td><td>0.00 %</td></tr><tr><td>Float</td><td>0</td><td>0.00 %</td></tr></table>"
      ],
      "text/plain": [
       "<optimus.df_analyzer.ColumnTables at 0x111d2df98>"
      ]
     },
     "metadata": {},
     "output_type": "display_data"
    },
    {
     "data": {
      "text/plain": [
       "<optimus.df_analyzer.DataTypeTable at 0x111da6f60>"
      ]
     },
     "metadata": {},
     "output_type": "display_data"
    },
    {
     "data": {
      "image/png": "[encoded data removed]",
      "text/plain": [
       "<matplotlib.figure.Figure at 0x111d60898>"
      ]
     },
     "metadata": {},
     "output_type": "display_data"
    },
    {
     "name": "stdout",
     "output_type": "stream",
     "text": [
      "end of __analyze 1.987433910369873\n"
     ]
    },
    {
     "data": {
      "text/html": [
       "<table width=50%><tr><td colspan=3 ><b> Column name: </b>age</td></tr><tr><td colspan=3 ><b> Column datatype: </b>string</td></tr><tr><th>Datatype</td><th>Quantity</td><th>Percentage</td></tr><tr><td>None</td><td>0</td><td>0.00 %</td></tr><tr><td>Empty str</td><td>0</td><td>0.00 %</td></tr><tr><td>String</td><td>0</td><td>0.00 %</td></tr><tr><td>Integer</td><td>0</td><td>0.00 %</td></tr><tr><td>Float</td><td>20</td><td>100.00 %</td></tr></table>"
      ],
      "text/plain": [
       "<optimus.df_analyzer.ColumnTables at 0x11198f198>"
      ]
     },
     "metadata": {},
     "output_type": "display_data"
    },
    {
     "data": {
      "text/plain": [
       "<optimus.df_analyzer.DataTypeTable at 0x111d24d68>"
      ]
     },
     "metadata": {},
     "output_type": "display_data"
    },
    {
     "data": {
      "image/png": "[encoded data removed]",
      "text/plain": [
       "<matplotlib.figure.Figure at 0x111d1c2b0>"
      ]
     },
     "metadata": {},
     "output_type": "display_data"
    },
    {
     "name": "stdout",
     "output_type": "stream",
     "text": [
      "end of __analyze 3.5272939205169678\n"
     ]
    },
    {
     "data": {
      "text/html": [
       "<table width=50%><tr><td colspan=3 ><b> Column name: </b>product</td></tr><tr><td colspan=3 ><b> Column datatype: </b>string</td></tr><tr><th>Datatype</td><th>Quantity</td><th>Percentage</td></tr><tr><td>None</td><td>0</td><td>0.00 %</td></tr><tr><td>Empty str</td><td>0</td><td>0.00 %</td></tr><tr><td>String</td><td>19</td><td>95.00 %</td></tr><tr><td>Integer</td><td>1</td><td>5.00 %</td></tr><tr><td>Float</td><td>0</td><td>0.00 %</td></tr></table>"
      ],
      "text/plain": [
       "<optimus.df_analyzer.ColumnTables at 0x1117f24a8>"
      ]
     },
     "metadata": {},
     "output_type": "display_data"
    },
    {
     "data": {
      "text/plain": [
       "<optimus.df_analyzer.DataTypeTable at 0x111314908>"
      ]
     },
     "metadata": {},
     "output_type": "display_data"
    },
    {
     "data": {
      "image/png": "[encoded data removed]",
      "text/plain": [
       "<matplotlib.figure.Figure at 0x1117de828>"
      ]
     },
     "metadata": {},
     "output_type": "display_data"
    },
    {
     "name": "stdout",
     "output_type": "stream",
     "text": [
      "end of __analyze 1.5678620338439941\n",
      "Total execution time:  16.03752112388611\n"
     ]
    },
    {
     "data": {
      "text/html": [
       "<table width=50%><tr><th colspan=3>General description</td></tr><tr><th colspan=1>Features</td><th colspan=2>Name or Quantity</td></tr><tr><th colspan=1>File Name</td><td colspan=2>foo.csv</td></tr><tr><th colspan=1>Columns</td><td colspan=2>8</td></tr><tr><th colspan=1>Rows</td><td colspan=2>20</td></tr>"
      ],
      "text/plain": [
       "<optimus.df_analyzer.GeneralDescripTable at 0x111f663c8>"
      ]
     },
     "metadata": {},
     "output_type": "display_data"
    }
   ],
   "source": [
    "# Setting the new dataFrame transformed into the analyzer class\n",
    "analyzer.set_data_frame(transformer.get_data_frame)\n",
    "analyzer_table = analyzer.column_analyze(['id','firstName','lastName','billingId','birth','age','product'], \n",
    "                                      print_type=True, plots=True)"
   ]
  },
  {
   "cell_type": "markdown",
   "metadata": {},
   "source": [
    "It can be seen from output of the analyzer object, that there are columns with numbers\n",
    "even when ceratin column (for example) is supposed to be only of words or letters. \n",
    "\n",
    "In order to solve this problem, operationInType function of DataFrameTransformer class \n",
    "can be used. \n",
    "\n",
    "operationInType function is useful to make operations in a certain element of one dataType. In this particular example, it can be seen in the last output cell (specifically in 'product' column' that are values that don't fit the rest of the data, the aren't strings but they are numbers or empty strings. operationInType can take care about them and clean the column dataFrame."
   ]
  },
  {
   "cell_type": "markdown",
   "metadata": {},
   "source": [
    "In the following example, operationInType of function of DataFrameTransformer class is run in order to converts all posible \n",
    "parsables strings to integer into a null or none value. Notice how the 110790 value in product\n",
    "column have been changed, but the rest of the column has remained intact."
   ]
  },
  {
   "cell_type": "markdown",
   "metadata": {},
   "source": [
    "### Making transformation in the inferred dataType elements of a certains columns"
   ]
  },
  {
   "cell_type": "code",
   "execution_count": 20,
   "metadata": {},
   "outputs": [
    {
     "name": "stdout",
     "output_type": "stream",
     "text": [
      "+----+---------+--------+-------+---------+-----+----------+--------+\n",
      "|  id|firstName|lastName|    age|billingId|price|     birth| product|\n",
      "+----+---------+--------+-------+---------+-----+----------+--------+\n",
      "|   1|     luis| alvarez|37.7177|      123|  200|07-07-1980|    cake|\n",
      "|   2|    andre|  ampere|67.7124|      423|  160|08-07-1950|    piza|\n",
      "|   3|    niels|    bohr|27.7151|      551|  160|09-07-1990|   pizza|\n",
      "|   4|     paul|   dirac|63.7258|      521|  160|10-07-1954|   pizza|\n",
      "|null|   albert|einstein|27.7151|      634|  160|11-07-1990|   pizza|\n",
      "|   6|  galileo| galilei|87.7204|      672|  100|12-08-1930|   arepa|\n",
      "|   7|     carl|   gauss|47.7231|      323|   60|13-07-1970|    taco|\n",
      "|null|    david| hilbert|67.7124|      624|   60|14-07-1950|taaaccoo|\n",
      "|   9| johannes|  kepler|97.7231|      735|   60|22-04-1920|    taco|\n",
      "|  10|    james| maxwell|94.7151|      875|   60|12-03-1923|    taco|\n",
      "+----+---------+--------+-------+---------+-----+----------+--------+\n",
      "only showing top 10 rows\n",
      "\n"
     ]
    }
   ],
   "source": [
    "# This function makes changes or transformation in the column specified only in the cells\n",
    "# that are recognized as the dataType specified. \n",
    "transformer.operation_in_type([('product', 'integer', None)]).show()"
   ]
  },
  {
   "cell_type": "markdown",
   "metadata": {},
   "source": [
    "Sometimes there a some values that are different but actually are the same. In the product\n",
    "column for example, there are the following values: 'taaaccoo', 'piza'. It \n",
    "can be inferred that the correct value is taco and piza and not the rest of them. This problem can\n",
    "be solved with the lookup function of the DataFrameTransformer class."
   ]
  },
  {
   "cell_type": "markdown",
   "metadata": {},
   "source": [
    "### Replacing multiple string values to a single string"
   ]
  },
  {
   "cell_type": "code",
   "execution_count": 21,
   "metadata": {},
   "outputs": [
    {
     "name": "stdout",
     "output_type": "stream",
     "text": [
      "+----+------------+--------+--------+---------+-----+----------+----------+\n",
      "|  id|   firstName|lastName|     age|billingId|price|     birth|   product|\n",
      "+----+------------+--------+--------+---------+-----+----------+----------+\n",
      "|   1|        luis| alvarez| 37.7177|      123|  200|07-07-1980|      cake|\n",
      "|   2|       andre|  ampere| 67.7124|      423|  160|08-07-1950|     pizza|\n",
      "|   3|       niels|    bohr| 27.7151|      551|  160|09-07-1990|     pizza|\n",
      "|   4|        paul|   dirac| 63.7258|      521|  160|10-07-1954|     pizza|\n",
      "|null|      albert|einstein| 27.7151|      634|  160|11-07-1990|     pizza|\n",
      "|   6|     galileo| galilei| 87.7204|      672|  100|12-08-1930|     arepa|\n",
      "|   7|        carl|   gauss| 47.7231|      323|   60|13-07-1970|      taco|\n",
      "|null|       david| hilbert| 67.7124|      624|   60|14-07-1950|      taco|\n",
      "|   9|    johannes|  kepler| 97.7231|      735|   60|22-04-1920|      taco|\n",
      "|  10|       james| maxwell| 94.7151|      875|   60|12-03-1923|      taco|\n",
      "|null|       isaac|  newton| 18.7258|      992|  180|15-02-1999|     pasta|\n",
      "|  12|        emmy| noether| 24.7258|      234|  180|08-12-1993|     pasta|\n",
      "|  13|         max|  planck| 23.7285|      111|   80|04-01-1994|hamburguer|\n",
      "|  14|        fred|   hoyle| 20.7204|      553|  160|27-06-1997|     pizza|\n",
      "|  15|   heinrich |   hertz| 61.7124|      116|  160|30-11-1956|     pizza|\n",
      "|  16|     william| gilbert| 59.7204|      886|   40|26-03-1958|      beer|\n",
      "|  17|       marie|   curie| 17.7285|      912|   20|22-03-2000|      rice|\n",
      "|  18|      arthur| compton|118.7124|      812|  100|01-01-1899|      null|\n",
      "|  19|       james|chadwick| 96.7285|      467|  200|03-05-1921|      null|\n",
      "|  19|       james|chadwick| 96.7285|      467|  200|03-05-1921|      null|\n",
      "+----+------------+--------+--------+---------+-----+----------+----------+\n",
      "\n"
     ]
    }
   ],
   "source": [
    "transformer.lookup('product', str_to_replace='taco', list_str=['taaaccoo']) \n",
    "transformer.lookup('product', str_to_replace='pizza', list_str=['piza', 'pizzza']) \n",
    "transformer.show(20)"
   ]
  },
  {
   "cell_type": "markdown",
   "metadata": {},
   "source": [
    "As can be notice above, string specified in the list argument 'list_str' have been\n",
    "replaced to 'str_to_replace' value. "
   ]
  },
  {
   "cell_type": "markdown",
   "metadata": {},
   "source": [
    "## Chaining and lazy evaluation"
   ]
  },
  {
   "cell_type": "markdown",
   "metadata": {},
   "source": [
    "The past transformations were done step by step, but this can be achieved by chaining\n",
    "all operations into one line of code, like the cell below. This way is much more efficient and scalable because it uses all optimization issues from the lazy evaluation approach."
   ]
  },
  {
   "cell_type": "markdown",
   "metadata": {},
   "source": [
    "All the transformation set before can be done into a single line of code thanks to the \n",
    "chaining feature of the DataFrameTransformer class. This option is a optimal way to \n",
    "make different transformations, because it uses as much as possible all advantages of\n",
    "the lazy evaluation approach. "
   ]
  },
  {
   "cell_type": "code",
   "execution_count": 22,
   "metadata": {},
   "outputs": [
    {
     "name": "stdout",
     "output_type": "stream",
     "text": [
      "+----+--------------------+--------------------+---------+----------+-----+----------+--------+\n",
      "|  id|           firstName|            lastName|billingId|   product|price|     birth|dummyCol|\n",
      "+----+--------------------+--------------------+---------+----------+-----+----------+--------+\n",
      "|   1|                Luis|         Alvarez$$%!|      123|      Cake|   10|1980/07/07|   never|\n",
      "|   2|               André|              Ampère|      423|      piza|    8|1950/07/08|   gonna|\n",
      "|   3|               NiELS|          Böhr//((%%|      551|     pizza|    8|1990/07/09|    give|\n",
      "|   4|                PAUL|              dirac$|      521|     pizza|    8|1954/07/10|     you|\n",
      "|null|              Albert|            Einstein|      634|     pizza|    8|1990/07/11|      up|\n",
      "|   6|             Galileo|             GALiLEI|      672|     arepa|    5|1930/08/12|   never|\n",
      "|   7|                CaRL|            Ga%%%uss|      323|      taco|    3|1970/07/13|   gonna|\n",
      "|null|               David|          H$$$ilbert|      624|  taaaccoo|    3|1950/07/14|     let|\n",
      "|   9|            Johannes|              KEPLER|      735|      taco|    3|1920/04/22|     you|\n",
      "|  10|               JaMES|         M$$ax%%well|      875|      taco|    3|1923/03/12|    down|\n",
      "|null|               Isaac|              Newton|      992|     pasta|    9|1999/02/15|  never |\n",
      "|  12|              Emmy%%|            Nöether$|      234|     pasta|    9|1993/12/08|   gonna|\n",
      "|  13|              Max!!!|           Planck!!!|      111|hamburguer|    4|1994/01/04|    run |\n",
      "|  14|                Fred|            Hoy&&&le|      553|    pizzza|    8|1997/06/27|  around|\n",
      "|  15|(((   Heinrich )))))|               Hertz|      116|     pizza|    8|1956/11/30|     and|\n",
      "|  16|             William|          Gilbert###|      886|      BEER|    2|1958/03/26|  desert|\n",
      "|  17|               Marie|               CURIE|      912|      Rice|    1|2000/03/22|     you|\n",
      "|  18|              Arthur|          COM%%%pton|      812|    110790|    5|1899/01/01|       #|\n",
      "|  19|               JAMES|            Chadwick|      467|      null|   10|1921/05/03|       #|\n",
      "|  19|               JAMES|            Chadwick|      467|      null|   10|1921/05/03|       #|\n",
      "+----+--------------------+--------------------+---------+----------+-----+----------+--------+\n",
      "\n",
      "+----+------------+--------+---------+-----+----------+---------+----------+\n",
      "|  id|   firstName|lastName|billingId|price|     birth|clientAge|   product|\n",
      "+----+------------+--------+---------+-----+----------+---------+----------+\n",
      "|   1|        luis| alvarez|      123|   10|07-07-1980|  37.7177|      cake|\n",
      "|   2|       andre|  ampere|      423|    8|08-07-1950|  67.7124|     pizza|\n",
      "|   3|       niels|    bohr|      551|    8|09-07-1990|  27.7151|     pizza|\n",
      "|   4|        paul|   dirac|      521|    8|10-07-1954|  63.7258|     pizza|\n",
      "|null|      albert|einstein|      634|    8|11-07-1990|  27.7151|     pizza|\n",
      "|   6|     galileo| galilei|      672|    5|12-08-1930|  87.7204|     arepa|\n",
      "|   7|        carl|   gauss|      323|    3|13-07-1970|  47.7231|      taco|\n",
      "|null|       david| hilbert|      624|    3|14-07-1950|  67.7124|      taco|\n",
      "|   9|    johannes|  kepler|      735|    3|22-04-1920|  97.7231|      taco|\n",
      "|  10|       james| maxwell|      875|    3|12-03-1923|  94.7151|      taco|\n",
      "|null|       isaac|  newton|      992|    9|15-02-1999|  18.7258|     pasta|\n",
      "|  12|        emmy| noether|      234|    9|08-12-1993|  24.7258|     pasta|\n",
      "|  13|         max|  planck|      111|    4|04-01-1994|  23.7285|hamburguer|\n",
      "|  14|        fred|   hoyle|      553|    8|27-06-1997|  20.7204|     pizza|\n",
      "|  15|   heinrich |   hertz|      116|    8|30-11-1956|  61.7124|     pizza|\n",
      "|  16|     william| gilbert|      886|    2|26-03-1958|  59.7204|      beer|\n",
      "|  17|       marie|   curie|      912|    1|22-03-2000|  17.7285|      rice|\n",
      "|  18|      arthur| compton|      812|    5|01-01-1899| 118.7124|      null|\n",
      "|  19|       james|chadwick|      467|   10|03-05-1921|  96.7285|      null|\n",
      "|  19|       james|chadwick|      467|   10|03-05-1921|  96.7285|      null|\n",
      "+----+------------+--------+---------+-----+----------+---------+----------+\n",
      "\n"
     ]
    }
   ],
   "source": [
    "# Instanciate DataFrameTransfomer\n",
    "transformer = op.DataFrameTransformer(df)\n",
    "# Get original dataFrame to show it.\n",
    "transformer.show(20)\n",
    "\n",
    "# Chaining function transformations\n",
    "transformer.trim_col(\"*\") \\\n",
    "           .remove_special_chars(\"*\") \\\n",
    "           .clear_accents(\"*\") \\\n",
    "           .lower_case(\"*\") \\\n",
    "           .drop_col(\"dummyCol\") \\\n",
    "           .date_transform(\"birth\", \"yyyyMMdd\", \"dd-MM-YYYY\") \\\n",
    "           .age_calculate(\"birth\", \"dd-MM-YYYY\", \"clientAge\") \\\n",
    "           .operation_in_type([('product', 'integer', None)]) \\\n",
    "           .lookup('product', str_to_replace='taco', list_str=['taaaccoo']) \\\n",
    "           .lookup('product', str_to_replace='pizza', list_str=['piza', 'pizzza'])  \\\n",
    "        \n",
    "        \n",
    "transformer.show(20)"
   ]
  }
 ],
 "metadata": {
  "kernelspec": {
   "display_name": "Python 3",
   "language": "python",
   "name": "python3"
  },
  "language_info": {
   "codemirror_mode": {
    "name": "ipython",
    "version": 3
   },
   "file_extension": ".py",
   "mimetype": "text/x-python",
   "name": "python",
   "nbconvert_exporter": "python",
   "pygments_lexer": "ipython3",
   "version": "3.6.1"
  }
 },
 "nbformat": 4,
 "nbformat_minor": 1
}
