{
 "cells": [
  {
   "cell_type": "markdown",
   "metadata": {},
   "source": [
    "# Optimus Example"
   ]
  },
  {
   "cell_type": "markdown",
   "metadata": {},
   "source": [
    "This Notebook is a simple tutorial about DataFrameTransformer, DataFrameAnalyzer and Utilities modules.\n",
    "\n",
    "- DataFrameTransformer is a dedicated module to easily make dataframe transformations. \n",
    "\n",
    "- DataFrameProfiler is a dedicated module to run a basic profile of the dataframe.\n",
    "\n",
    "- DataFrameAnalyzer is a dedicated module to plot and see important features of a spark\n",
    " Dataframe.\n",
    "\n",
    "- Utilities module contains tool classes that support use of DataFrameTransformer and DataFrameAnalyzer modules. "
   ]
  },
  {
   "cell_type": "markdown",
   "metadata": {},
   "source": [
    "### Importing Modules"
   ]
  },
  {
   "cell_type": "code",
   "execution_count": 1,
   "metadata": {
    "scrolled": true
   },
   "outputs": [
    {
     "data": {
      "text/html": [
       "<div>Starting or getting SparkSession and SparkContext.</div>"
      ],
      "text/plain": [
       "<IPython.core.display.HTML object>"
      ]
     },
     "metadata": {},
     "output_type": "display_data"
    },
    {
     "data": {
      "text/html": [
       "<div>Setting checkpoint folder (local). If you are in a cluster change it with set_check_point_folder(path,'hadoop').</div>"
      ],
      "text/plain": [
       "<IPython.core.display.HTML object>"
      ]
     },
     "metadata": {},
     "output_type": "display_data"
    },
    {
     "name": "stdout",
     "output_type": "stream",
     "text": [
      "Deleting previous folder if exists...\n",
      "Creation of checkpoint directory...\n",
      "Done.\n"
     ]
    },
    {
     "data": {
      "text/html": [
       "\n",
       "        <div style=\"margin:10px\">\n",
       "            <a href=\"https://github.com/ironmussa/Optimus\" target=\"_new\">\n",
       "                <img src=\"https://github.com/ironmussa/Optimus/raw/master/images/robotOptimus.png\" style=\"float:left;margin-right:10px;vertical-align:top;text-align:center\" height=\"50\" width=\"50\"/>\n",
       "            </a>\n",
       "            <span><b><h2>Optimus successfully imported. Have fun :).</h2></b></span>\n",
       "        </div>\n",
       "        "
      ],
      "text/plain": [
       "<IPython.core.display.HTML object>"
      ]
     },
     "metadata": {},
     "output_type": "display_data"
    }
   ],
   "source": [
    "# Import optimus\n",
    "import optimus as op"
   ]
  },
  {
   "cell_type": "markdown",
   "metadata": {},
   "source": [
    "### Instantiation of Utility class\n",
    "The utility class is a tool class that includes functions to read csv files, setting checkpoint issues (to save or temporally save dataFrames)."
   ]
  },
  {
   "cell_type": "code",
   "execution_count": 2,
   "metadata": {
    "collapsed": true
   },
   "outputs": [],
   "source": [
    "# Instance of Utilities class\n",
    "tools = op.Utilities()"
   ]
  },
  {
   "cell_type": "markdown",
   "metadata": {},
   "source": [
    "### Reading DataFrame"
   ]
  },
  {
   "cell_type": "code",
   "execution_count": 3,
   "metadata": {
    "collapsed": true
   },
   "outputs": [],
   "source": [
    "# Reading dataframe in this case, local file \n",
    "# system (hard drive of the pc) is used.\n",
    "\n",
    "df = tools.read_csv(path=\"foo.csv\", delimiter_mark=',')"
   ]
  },
  {
   "cell_type": "markdown",
   "metadata": {},
   "source": [
    "### General view of DataFrame"
   ]
  },
  {
   "cell_type": "markdown",
   "metadata": {},
   "source": [
    "Initially it is a good idea to see a general view of the DataFrame to be analyzed. \n",
    "\n",
    "In the following cell, a basic profile of the DataFrame is shown. This overview presents basic information about the DataFrame, like number of variable it has, how many are missing values and in which column, the types of each varaible, also some statistical information that describes the variable plus a frecuency plot. table that specifies the existing datatypes in each column dataFrame and other features. Also, for this particular case, the table of dataType is shown in order to visualize a sample of column content. "
   ]
  },
  {
   "cell_type": "code",
   "execution_count": 4,
   "metadata": {
    "scrolled": false
   },
   "outputs": [
    {
     "data": {
      "text/html": [
       "<meta charset=\"UTF-8\">\n",
       "\n",
       "<style>\n",
       "        .variablerow {\n",
       "            border: 1px solid #e1e1e8;\n",
       "            border-top: hidden;\n",
       "            padding-top: 2em;\n",
       "            padding-bottom: 1em;\n",
       "            padding-left: 1em;\n",
       "            padding-right: 1em;\n",
       "        }\n",
       "        .headerrow {\n",
       "            border: 1px solid #e1e1e8;\n",
       "            background-color: #f5f5f5;\n",
       "            padding: 2em;\n",
       "        }\n",
       "        .namecol {\n",
       "            margin-top: -1em;\n",
       "        }\n",
       "        .dl-horizontal dt {\n",
       "            text-align: left;\n",
       "            padding-right: 1em;\n",
       "            white-space: normal;\n",
       "        }\n",
       "        .dl-horizontal dd {\n",
       "            margin-left: 0;\n",
       "        }\n",
       "        .ignore {\n",
       "            opacity: 0.4;\n",
       "        }\n",
       "        .container.pandas-profiling {\n",
       "            max-width:975px;\n",
       "        }\n",
       "        .col-md-12 {\n",
       "            padding-left: 2em;\n",
       "        }\n",
       "        .indent {\n",
       "            margin-left: 1em;\n",
       "        }\n",
       "        /* Table example_values */\n",
       "            table.example_values {\n",
       "                border: 0;\n",
       "            }\n",
       "            .example_values th {\n",
       "                border: 0;\n",
       "                padding: 0 ;\n",
       "                color: #555;\n",
       "                font-weight: 600;\n",
       "            }\n",
       "            .example_values tr, .example_values td{\n",
       "                border: 0;\n",
       "                padding: 0;\n",
       "                color: #555;\n",
       "            }\n",
       "        /* STATS */\n",
       "            table.stats {\n",
       "                border: 0;\n",
       "            }\n",
       "            .stats th {\n",
       "                border: 0;\n",
       "                padding: 0 2em 0 0;\n",
       "                color: #555;\n",
       "                font-weight: 600;\n",
       "            }\n",
       "            .stats tr {\n",
       "                border: 0;\n",
       "            }\n",
       "            .stats tr:hover{\n",
       "                text-decoration: underline;\n",
       "            }\n",
       "            .stats td{\n",
       "                color: #555;\n",
       "                padding: 1px;\n",
       "                border: 0;\n",
       "            }\n",
       "        /* Sample table */\n",
       "            table.sample {\n",
       "                border: 0;\n",
       "                margin-bottom: 2em;\n",
       "                margin-left:1em;\n",
       "            }\n",
       "            .sample tr {\n",
       "                border:0;\n",
       "            }\n",
       "            .sample td, .sample th{\n",
       "                padding: 0.5em;\n",
       "                white-space: nowrap;\n",
       "                border: none;\n",
       "            }\n",
       "            .sample thead {\n",
       "                border-top: 0;\n",
       "                border-bottom: 2px solid #ddd;\n",
       "            }\n",
       "            .sample td {\n",
       "                width:100%;\n",
       "            }\n",
       "        /* There is no good solution available to make the divs equal height and then center ... */\n",
       "            .histogram {\n",
       "                margin-top: 3em;\n",
       "            }\n",
       "        /* Freq table */\n",
       "            table.freq {\n",
       "                margin-bottom: 2em;\n",
       "                border: 0;\n",
       "            }\n",
       "            table.freq th, table.freq tr, table.freq td {\n",
       "                border: 0;\n",
       "                padding: 0;\n",
       "            }\n",
       "            .freq thead {\n",
       "                font-weight: 600;\n",
       "                white-space: nowrap;\n",
       "                overflow: hidden;\n",
       "                text-overflow: ellipsis;\n",
       "            }\n",
       "            td.fillremaining{\n",
       "                width:auto;\n",
       "                max-width: none;\n",
       "            }\n",
       "            td.number, th.number {\n",
       "                text-align:right ;\n",
       "            }\n",
       "        /* Freq mini */\n",
       "            .freq.mini td{\n",
       "                width: 50%;\n",
       "                padding: 1px;\n",
       "                font-size: 12px;\n",
       "            }\n",
       "            table.freq.mini {\n",
       "                 width:100%;\n",
       "            }\n",
       "            .freq.mini th {\n",
       "                overflow: hidden;\n",
       "                text-overflow: ellipsis;\n",
       "                white-space: nowrap;\n",
       "                max-width: 5em;\n",
       "                font-weight: 400;\n",
       "                text-align:right;\n",
       "                padding-right: 0.5em;\n",
       "            }\n",
       "            .missing {\n",
       "                color: #a94442;\n",
       "            }\n",
       "            .alert, .alert > th, .alert > td {\n",
       "                color: #a94442;\n",
       "            }\n",
       "        /* Bars in tables */\n",
       "            .freq .bar{\n",
       "                float: left;\n",
       "                width: 0;\n",
       "                height: 100%;\n",
       "                line-height: 20px;\n",
       "                color: #fff;\n",
       "                text-align: center;\n",
       "                background-color: #337ab7;\n",
       "                border-radius: 3px;\n",
       "                margin-right: 4px;\n",
       "            }\n",
       "            .other .bar {\n",
       "                background-color: #999;\n",
       "            }\n",
       "            .missing .bar{\n",
       "                background-color: #a94442;\n",
       "            }\n",
       "            .tooltip-inner {\n",
       "                width: 100%;\n",
       "                white-space: nowrap;\n",
       "                text-align:left;\n",
       "            }\n",
       "            .extrapadding{\n",
       "                padding: 2em;\n",
       "            }\n",
       "</style>\n",
       "\n",
       "<div class=\"container pandas-profiling\">\n",
       "    <div class=\"row headerrow highlight\">\n",
       "        <h1>Overview</h1>\n",
       "    </div>\n",
       "    <div class=\"row variablerow\">\n",
       "    <div class=\"col-md-6 namecol\">\n",
       "        <p class=\"h4\">Dataset info</p>\n",
       "        <table class=\"stats\" style=\"margin-left: 1em;\">\n",
       "            <tbody>\n",
       "            <tr>\n",
       "                <th>Number of variables</th>\n",
       "                <td>8 </td>\n",
       "            </tr>\n",
       "            <tr>\n",
       "                <th>Number of observations</th>\n",
       "                <td>19 </td>\n",
       "            </tr>\n",
       "            <tr>\n",
       "                <th>Total Missing (%)</th>\n",
       "                <td>0.0% </td>\n",
       "            </tr>\n",
       "            <tr>\n",
       "                <th>Total size in memory</th>\n",
       "                <td>0.0 B </td>\n",
       "            </tr>\n",
       "            <tr>\n",
       "                <th>Average record size in memory</th>\n",
       "                <td>0.0 B </td>\n",
       "            </tr>\n",
       "            </tbody>\n",
       "        </table>\n",
       "    </div>\n",
       "    <div class=\"col-md-6 namecol\">\n",
       "        <p class=\"h4\">Variables types</p>\n",
       "        <table class=\"stats\" style=\"margin-left: 1em;\">\n",
       "            <tbody>\n",
       "            <tr>\n",
       "                <th>Numeric</th>\n",
       "                <td>3 </td>\n",
       "            </tr>\n",
       "            <tr>\n",
       "                <th>Categorical</th>\n",
       "                <td>2 </td>\n",
       "            </tr>\n",
       "            <tr>\n",
       "                <th>Date</th>\n",
       "                <td>0 </td>\n",
       "            </tr>\n",
       "            <tr>\n",
       "                <th>Text (Unique)</th>\n",
       "                <td>3 </td>\n",
       "            </tr>\n",
       "            <tr>\n",
       "                <th>Rejected</th>\n",
       "                <td>0 </td>\n",
       "            </tr>\n",
       "            </tbody>\n",
       "        </table>\n",
       "    </div>\n",
       "    <div class=\"col-md-12\" style=\"padding-left: 1em;\">\n",
       "        <p class=\"h4\">Warnings</p>\n",
       "        <ul class=\"list-unstyled\"> </ul>\n",
       "    </div>\n",
       "</div>\n",
       "    <div class=\"row headerrow highlight\">\n",
       "        <h1>Variables</h1>\n",
       "    </div>\n",
       "    <div class=\"row variablerow\">\n",
       "    <div class=\"col-md-3 namecol\">\n",
       "        <p class=\"h4\">billingId<br/>\n",
       "            <small>Numeric</small>\n",
       "        </p>\n",
       "    </div> <div class=\"col-md-6\">\n",
       "    <div class=\"row\">\n",
       "        <div class=\"col-sm-6\">\n",
       "            <table class=\"stats \">\n",
       "                <tr>\n",
       "                    <th>Distinct count</th>\n",
       "                    <td>19</td>\n",
       "                </tr>\n",
       "                <tr>\n",
       "                    <th>Unique (%)</th>\n",
       "                    <td>100.0%</td>\n",
       "                </tr>\n",
       "                <tr class=\"ignore\">\n",
       "                    <th>Missing (%)</th>\n",
       "                    <td>0.0%</td>\n",
       "                </tr>\n",
       "                <tr class=\"ignore\">\n",
       "                    <th>Missing (n)</th>\n",
       "                    <td>0</td>\n",
       "                </tr>\n",
       "                <tr class=\"ignore\">\n",
       "                    <th>Infinite (%)</th>\n",
       "                    <td>0.0%</td>\n",
       "                </tr>\n",
       "                <tr class=\"ignore\">\n",
       "                    <th>Infinite (n)</th>\n",
       "                    <td>0</td>\n",
       "                </tr>\n",
       "            </table>\n",
       "\n",
       "        </div>\n",
       "        <div class=\"col-sm-6\">\n",
       "            <table class=\"stats \">\n",
       "\n",
       "                <tr>\n",
       "                    <th>Mean</th>\n",
       "                    <td>556</td>\n",
       "                </tr>\n",
       "                <tr>\n",
       "                    <th>Minimum</th>\n",
       "                    <td>111</td>\n",
       "                </tr>\n",
       "                <tr>\n",
       "                    <th>Maximum</th>\n",
       "                    <td>992</td>\n",
       "                </tr>\n",
       "                <tr class=\"ignore\">\n",
       "                    <th>Zeros (%)</th>\n",
       "                    <td>0.0%</td>\n",
       "                </tr>\n",
       "            </table>\n",
       "        </div>\n",
       "    </div>\n",
       "</div>\n",
       "<div class=\"col-md-3 collapse in\" id=\"minihistogram-2726478051445772756\">\n",
       "    <img src=\"data:image/png;base64,iVBORw0KGgoAAAANSUhEUgAAAMgAAABLCAYAAAA1fMjoAAAABHNCSVQICAgIfAhkiAAAAAlwSFlzAAAPYQAAD2EBqD%2BnaQAAAR1JREFUeJzt28EJAjEQQFEVS7IIe/JsTxZhT/Eu8sGVdYO%2Bdw9MDp%2B5JPsxxtgBLx22HgBmdtx6gGeny%2B3tM/freYVJPrfkLkvMev9fYINAEAgEgUAQCASBQBAIBIFAEAgEgUAQCASBQBAIBIFAEAgEgUCY7j8I6/vWP5UlZvvbYoNAEAgEgUAQCASBQBAIBIFAEAgEgUAQCASBQBAIBIFAEAiEn3juPvPz7W/49/uvyQaBIBAIAoEgEAgCgSAQCAKBIBAIAoEgEAgCgSAQCAKBIBAIAoGwH2OMrYeAWdkgEAQCQSAQBAJBIBAEAkEgEAQCQSAQBAJBIBAEAkEgEAQCQSAQBAJBIBAEAkEgEAQCQSAQBAJBIBAEAkEgEB5MlBRhvzVi7wAAAABJRU5ErkJggg%3D%3D\">\n",
       "\n",
       "</div>\n",
       "<div class=\"col-md-12 text-right\">\n",
       "    <a role=\"button\" data-toggle=\"collapse\" data-target=\"#descriptives-2726478051445772756,#minihistogram-2726478051445772756\"\n",
       "       aria-expanded=\"false\" aria-controls=\"collapseExample\">\n",
       "        Toggle details\n",
       "    </a>\n",
       "</div>\n",
       "<div class=\"row collapse col-md-12\" id=\"descriptives-2726478051445772756\">\n",
       "    <div class=\"col-sm-4\">\n",
       "        <p class=\"h4\">Quantile statistics</p>\n",
       "        <table class=\"stats indent\">\n",
       "            <tr>\n",
       "                <th>Minimum</th>\n",
       "                <td>111</td>\n",
       "            </tr>\n",
       "            <tr>\n",
       "                <th>5-th percentile</th>\n",
       "                <td>115.5</td>\n",
       "            </tr>\n",
       "            <tr>\n",
       "                <th>Q1</th>\n",
       "                <td>373</td>\n",
       "            </tr>\n",
       "            <tr>\n",
       "                <th>Median</th>\n",
       "                <td>553</td>\n",
       "            </tr>\n",
       "            <tr>\n",
       "                <th>Q3</th>\n",
       "                <td>773.5</td>\n",
       "            </tr>\n",
       "            <tr>\n",
       "                <th>95-th percentile</th>\n",
       "                <td>920</td>\n",
       "            </tr>\n",
       "            <tr>\n",
       "                <th>Maximum</th>\n",
       "                <td>992</td>\n",
       "            </tr>\n",
       "            <tr>\n",
       "                <th>Range</th>\n",
       "                <td>881</td>\n",
       "            </tr>\n",
       "            <tr>\n",
       "                <th>Interquartile range</th>\n",
       "                <td>400.5</td>\n",
       "            </tr>\n",
       "        </table>\n",
       "        <p class=\"h4\">Descriptive statistics</p>\n",
       "        <table class=\"stats indent\">\n",
       "            <tr>\n",
       "                <th>Standard deviation</th>\n",
       "                <td>280.2</td>\n",
       "            </tr>\n",
       "            <tr>\n",
       "                <th>Coef of variation</th>\n",
       "                <td>0.50395</td>\n",
       "            </tr>\n",
       "            <tr>\n",
       "                <th>Kurtosis</th>\n",
       "                <td>-1.0412</td>\n",
       "            </tr>\n",
       "            <tr>\n",
       "                <th>Mean</th>\n",
       "                <td>556</td>\n",
       "            </tr>\n",
       "            <tr>\n",
       "                <th>MAD</th>\n",
       "                <td>225.05</td>\n",
       "            </tr>\n",
       "            <tr class=\"\">\n",
       "                <th>Skewness</th>\n",
       "                <td>-0.2137</td>\n",
       "            </tr>\n",
       "            <tr>\n",
       "                <th>Sum</th>\n",
       "                <td>10564</td>\n",
       "            </tr>\n",
       "            <tr>\n",
       "                <th>Variance</th>\n",
       "                <td>78511</td>\n",
       "            </tr>\n",
       "            <tr>\n",
       "                <th>Memory size</th>\n",
       "                <td>0.0 B</td>\n",
       "            </tr>\n",
       "        </table>\n",
       "    </div>\n",
       "    <div class=\"col-sm-8 histogram\">\n",
       "        <img src=\"data:image/png;base64,iVBORw0KGgoAAAANSUhEUgAAAlgAAAGQCAYAAAByNR6YAAAABHNCSVQICAgIfAhkiAAAAAlwSFlzAAAPYQAAD2EBqD%2BnaQAAIABJREFUeJzt3Xt01PWd//HXJGPuxk0gwQoeWaAUxBhyEaEGLFkLQdjFwmZz2nIpp9sgtxxXLSCxXIRs1Chw3AiiWS1FFmIpYMEse0Sp/uoNDSQ2RpAQi3IQMtmGjZAbSb6/PzzOcRzAoJ/k%2B53M83FODmc%2B82XmPfkY8nS%2Bk4nLsixLAAAAMCbE7gEAAAB6GwILAADAMAILAADAMAILAADAMAILAADAMAILAADAMAILAADAMAILAADAMAILAADAMAILAADAMAILAADAMAILAADAMAILAADAMAILAADAMAILAADAMAILAADAMAILAADAMAILAADAMAILAADAMAILAADAMAILAADAMAILAADAMAILAADAMAILAADAMAILAADAMAILAADAMAILAADAMAILAADAMAILAADAMAILAADAMAILAADAMAILAADAMAILAADAMAILAADAMAILAADAMAILAADAMAILAADAMAILAADAMAILAADAMLfdAwQLj%2Bdzu0fotUJCXIqPj9bf/nZenZ2W3eMENfbCOdgL52Av7JWQcLUt98szWAh4ISEuuVwuhYS47B4l6LEXzsFeOAd7EZwILAAAAMMILAAAAMMILAAAAMMILAAAAMMILAAAAMMILAAAAMMILAAAAMMILAAAAMOCJrBOnDihX/7yl0pJSdGPfvQjlZSUXPLY6upqZWdnKzk5WdOnT1dVVVUPTgoAAAJdUARWZ2encnNzFRcXp127dmnVqlXauHGj9uzZ43dsU1OTcnNzlZ6erp07dyolJUVz585VU1OTDZMDAIBAFBSBVV9fr%2BHDh2vlypUaOHCgbr/9do0ZM0bl5eV%2Bx5aVlSk8PFyLFy/W4MGDlZ%2Bfr%2BjoaO3bt8%2BGyQEAQCAKisBKTEzU%2BvXrFRMTI8uyVF5ernfffVejRo3yO7ayslJpaWlyub74nVEul0upqamqqKjo6bEBAECActs9QE/LzMzUqVOnNH78eE2cONHveo/HoyFDhvis9enTR8eOHevyfdTV1cnj8fisud1RSkxM/HZD47JCQ0N8/oR92AvnYC%2Bcg70ITkEXWE888YTq6%2Bu1cuVKFRYW6sEHH/S5vrm5WWFhYT5rYWFhamtr6/J9lJaWqri42GdtwYIFysvL%2B/aDX0J6fuCcunyvIKtbbz82NrJbbx9d9017EUj/3Qair36t8XXhHOxFcAm6wEpKSpIktba26v7779fixYt9gio8PNwvptra2hQREdHl%2B8jJyVFmZqbPmtsdpYaG899h8sDXXY8/NDREsbGRamxsVkdHZ7fcB7qGvXCGhobz7IWDsBf2iouLtuV%2BgyKw6uvrVVFRoTvuuMO7NmTIEF24cEHnzp1TfHy8d71fv36qr6/3%2B/tXcnovMTHR73iP53O1twf3F1Z3P/6Ojs6g/xw7BXthr69%2B7tkL52AvgktQnBA%2BefKkFi5cqDNnznjXqqqqFB8f7xNXkpScnKzDhw/LsixJkmVZOnTokJKTk3t0ZgAAELiCIrCSkpI0YsQILVu2TDU1NXrttddUVFSku%2B%2B%2BW9IXL2xvaWmRJGVlZamxsVEFBQWqqalRQUGBmpubNWnSJDsfAgAACCBBEVihoaHasGGDIiMjlZOTo/z8fM2cOVOzZs2SJGVkZKisrEySFBMTo02bNqm8vFzTpk1TZWWlnn76aUVFRdn5EAAAQAAJitdgSV%2B8turrP9n3paNHj/pcvvnmm7Vr166eGAsAAPRCQfEMFgAAQE8isAAAAAwjsAAAAAwjsAAAAAwjsAAAAAwjsAAAAAwjsAAAAAwjsAAAAAwjsAAAAAwjsAAAAAwjsAAAAAwjsAAAAAwjsAAAAAwjsAAAAAwjsAAAAAwjsAAAAAwjsAAAAAwjsAAAAAwjsAAAAAwjsAAAAAwjsAAAAAwjsAAAAAwjsAAAAAwjsAAAAAwjsAAAAAwjsAAAAAwjsAAAAAwjsAAAAAwjsAAAAAwjsAAAAAwjsAAAAAwjsAAAAAwjsAAAAAwjsAAAAAwjsAAAAAwjsAAAAAwjsAAAAAwjsAAAAAwjsAAAAAwLisA6c%2BaM8vLyNGrUKI0dO1aFhYVqbW296LHz5s3TD37wA5%2BPAwcO9PDEAAAgkLntHqC7WZalvLw8xcbGauvWrfq///s/LVu2TCEhIVqyZInf8cePH1dRUZHGjBnjXbvmmmt6cmQAABDgen1g1dbWqqKiQm%2B88Yb69u0rScrLy9MjjzziF1htbW06efKkkpKSlJCQYMe4AACgF%2Bj1pwgTEhJUUlLijasvnTt3zu/Y2tpauVwuXX/99T01HgAA6IV6/TNYsbGxGjt2rPdyZ2ennn/%2BeY0ePdrv2NraWsXExGjx4sU6ePCgrr32Wi1atEi33377Fd1nXV2dPB6Pz5rbHaXExMRv9yB6Cbe7e3o%2BNDTE50/Yh71wBrc7hL1wEPYiOPX6wPq6oqIiVVdXa8eOHX7X1dbWqqWlRRkZGcrNzdXLL7%2BsefPmqbS0VElJSV2%2Bj9LSUhUXF/usLViwQHl5ed95/kAWFxfdrbcfGxvZrbePrmMv7PXVrzX2wjnYi%2BASVIFVVFSkzZs3a926dRo6dKjf9fPnz9fMmTO9L2ofNmyYPvjgA73wwgtXFFg5OTnKzMz0WXO7o9TQcP67PYAA112PPzQ0RLGxkWpsbFZHR2e33Ae6hr1whoaG8%2ByFg7AX9uru/7m/lKAJrNWrV2vbtm0qKirSxIkTL3pMSEiI308MDho0SDU1NVd0X4mJiX6nAz2ez9XeHtxfWN39%2BDs6OoP%2Bc%2BwU7IW9vvq5Zy%2Bcg70ILkFxQri4uFjbt2/X2rVrNXny5Eset3TpUj3wwAM%2Ba0eOHNGgQYO6e0QAANCL9PrAOn78uDZs2KBf/epXSktLk8fj8X5IksfjUUtLiyQpMzNTe/bs0e7du3XixAkVFxervLxcM2bMsPMhAACAANPrTxG%2B8sor6ujo0MaNG7Vx40af644ePaqMjAwVFhZq2rRpmjBhglasWKGNGzfq1KlT%2Bv73v6%2BSkhINGDDApukBAEAg6vWBlZubq9zc3Etef/ToUZ/L2dnZys7O7u6xAABAL9brTxECAAD0NAILAADAMAILAADAMAILAADAMAILAADAMAILAADAMAILAADAMAILAADAMAILAADAMAILAADAMAILAADAMAILAADAMAILAADAMAILAADAMAILAADAMAILAADAMAILAADAMAILAADAMAILAADAMAILAADAMAILAADAMAILAADAMAILAADAMAILAADAMAILAADAMAILAADAMAILAADAMAILAADAMAILAADAMAILAADAMAILAADAMAILAADAMAILAADAMAILAADAMAILAADAMAILAADAMAILAADAMAILAADAsKAIrDNnzigvL0%2BjRo3S2LFjVVhYqNbW1oseW11drezsbCUnJ2v69Omqqqrq4WkBAECg6/WBZVmW8vLy1NzcrK1bt2rdunU6cOCA1q9f73dsU1OTcnNzlZ6erp07dyolJUVz585VU1OTDZMDAIBA1esDq7a2VhUVFSosLNT3v/99paenKy8vT3v37vU7tqysTOHh4Vq8eLEGDx6s/Px8RUdHa9%2B%2BfTZMDgAAAlWvD6yEhASVlJSob9%2B%2BPuvnzp3zO7ayslJpaWlyuVySJJfLpdTUVFVUVPTIrAAAoHfo9YEVGxursWPHei93dnbq%2Beef1%2BjRo/2O9Xg8SkxM9Fnr06ePTp8%2B3e1zAgCA3sNt9wA9raioSNXV1dqxY4ffdc3NzQoLC/NZCwsLU1tb2xXdR11dnTwej8%2Ba2x3lF2/Bxu3unp4PDQ3x%2BRP2YS%2Bcwe0OYS8chL0ITkEVWEVFRdq8ebPWrVunoUOH%2Bl0fHh7uF1NtbW2KiIi4ovspLS1VcXGxz9qCBQuUl5d35UP3InFx0d16%2B7Gxkd16%2B%2Bg69sJeX/1ac/pepOfzGld84b2CLLtHMCpoAmv16tXatm2bioqKNHHixIse069fP9XX1/us1dfXX/EzTzk5OcrMzPRZc7uj1NBw/sqG7mW66/GHhoYoNjZSjY3N6ujo7Jb7QNewF87Q0HCevUDA6a7vEd39P/eXEhSBVVxcrO3bt2vt2rXKyrp0IScnJ%2BuZZ56RZVlyuVyyLEuHDh3S3XfffUX3l5iY6BdlHs/nam8P7n/kuvvxd3R0Bv3n2CnYC3t99XPPXiBQ9Lb/Tnv9CeHjx49rw4YN%2BtWvfqW0tDR5PB7vh/TFC9tbWlokSVlZWWpsbFRBQYFqampUUFCg5uZmTZo0yc6HAAAAAkyvD6xXXnlFHR0d2rhxozIyMnw%2BJCkjI0NlZWWSpJiYGG3atEnl5eWaNm2aKisr9fTTTysqKsrOhwAAAAJMrz9FmJubq9zc3Etef/ToUZ/LN998s3bt2tXdYwEAgF6s1z%2BDBQAA0NMILAAAAMMILAAAAMMILAAAAMMcH1jZ2dnavn27Pv/8c7tHAQAA6BLHB9bo0aP11FNPKSMjQ/fee6/%2B/Oc/y7Isu8cCAAC4JMcH1n333acDBw5ow4YNCg0N1aJFi/SjH/1I69at08cff2z3eAAAAH4C4n2wXC6XbrvtNt12221qbm7Wli1btGHDBj399NNKTU3V7NmzNWHCBLvHBAAAkBQggSVJdXV1%2BuMf/6g//vGP%2Buijj5Samqqf/OQnOn36tB588EG9%2B%2B67ys/Pt3tMAAAA5wfWiy%2B%2BqBdffFHvvPOO4uPjddddd%2BmJJ57QwIEDvcd873vfU0FBAYEFAAAcwfGBlZ%2Bfr/Hjx%2BvJJ5/UuHHjFBLi/7KxQYMGacaMGTZMBwAA4M/xgfX6668rLi5OZ8%2Be9cbV%2B%2B%2B/rxEjRig0NFSSlJqaqtTUVDvHBAAA8HL8TxGeO3dOWVlZeuaZZ7xrubm5mjp1qj777DMbJwMAALg4xwfWv//7v%2BuGG27QnDlzvGtlZWX63ve%2Bp8LCQhsnAwAAuDjHB9Z7772npUuXKiEhwbsWHx%2BvxYsX6%2B2337ZxMgAAgItzfGC53W41Njb6rTc3N/OO7gAAwJEcH1jjxo3TmjVr9Mknn3jXPv30UxUWFmrs2LE2TgYAAHBxjv8pwiVLlmjOnDmaOHGiYmNjJUmNjY0aMWKEHnjgAZunAwAA8Of4wOrTp4927dqlN998U8eOHZPb7daQIUM0ZswYuVwuu8cDAADw4/jAkqTQ0FCNHTuWU4IAACAgOD6wPB6P1q9fr0OHDunChQt%2BL2x/5ZVXbJoMAADg4hwfWL/5zW9UVVWlyZMn6%2Bqrr7Z7HAAAgG/k%2BMB6%2B%2B23VVJSovT0dLtHAQAA6BLHv01DVFSU%2BvTpY/cYAAAAXeb4wJo6dapKSkrU0dFh9ygAAABd4vhThGfPntXevXv1pz/9Sddff73CwsJ8rv/d735n02QAAAAX5/jAkqQpU6bYPQIAAECXOT6wCgsL7R4BAADgijj%2BNViSVFdXp%2BLiYt1333363//9X%2B3bt0%2B1tbV2jwUAAHBRjg%2BsEydO6B//8R%2B1a9cu/c///I%2BamppUVlam6dOnq7Ky0u7xAAAA/Dg%2BsB5%2B%2BGHdcccd2r9/v6666ipJ0tq1a5WZmanHHnvM5ukAAAD8OT6wDh06pDlz5vj8Yme326358%2BerurraxskAAAAuzvGB1dnZqc7OTr/18%2BfPKzQ01IaJAAAALs/xgZWRkaFNmzb5RNbZs2dVVFSk0aNH2zgZAADAxTk%2BsJYuXaqqqiplZGSotbVV8%2BbN0/jx43Xy5EktWbLE7vEAAAD8OP59sPr166fdu3dr7969%2BvDDD9XZ2amf/vSnmjp1qmJiYuweDwAAwI/jA0uSIiMjlZ2dbfcYAAAAXeL4wJo1a9Zlr%2Bd3EQIAAKdxfGD179/f53J7e7tOnDihjz76SLNnz7ZpKgAAgEtzfGBd6ncRPvnkkzp9%2BvQV315bW5umTZum3/zmN7r11lsvesy8efP06quv%2Bqw99dRTGj9%2B/BXfHwAACD6OD6xLmTp1qu666y6tXr26y3%2BntbVV9913n44dO3bZ444fP66ioiKNGTPGu3bNNdd861kBAEBwCdjAOnz48BW90WhNTY3uu%2B8%2BWZZ12ePa2tp08uRJJSUlKSEh4buOCQAAgpDjA%2BtiL3I/d%2B6cjh49qp/97Gddvp2DBw/q1ltv1b/9279p5MiRlzyutrZWLpdL119//beaFwAAwPGBdd111/n8HkJJuuqqqzRjxgz90z/9U5dvp6sxVltbq5iYGC1evFgHDx7Utddeq0WLFun222%2B/orkBAEDwcnxgPfzwwz16f7W1tWppaVFGRoZyc3P18ssva968eSotLVVSUlKXbqOurk4ej8dnze2OUmJiYneMHDDc7u75xQGhoSE%2Bf8I%2B7IUzuN0h7AUCTnd9j7CL4wPr3Xff7fKxt9xyy3e%2Bv/nz52vmzJneF7UPGzZMH3zwgV544YUuB1ZpaamKi4t91hYsWKC8vLzvPF8gi4uL7tbbj42N7NbbR9exF/b66tcae4FA0d3fI3qa4wNr5syZ3lOEX32B%2BtfXXC6XPvzww%2B98fyEhIX4/MTho0CDV1NR0%2BTZycnKUmZnps%2BZ2R6mh4fx3ni%2BQddfjDw0NUWxspBobm9XR0fnNfwHdhr1whoaG8%2BwFAk53fY%2BwK9wcH1hPPfWU1qxZo1//%2BtcaNWqUwsLC9Je//EUPPfSQfvKTn%2BjOO%2B80en9Lly6Vy%2BXyef%2BtI0eOaOjQoV2%2BjcTERL/TgR7P52pvD%2B5/5Lr78Xd0dAb959gp2At7ffVzz14gUPS2/04df8KzsLBQy5cv18SJExUXF6fo6GiNHj1aDz30kLZt26b%2B/ft7P74tj8ejlpYWSVJmZqb27Nmj3bt368SJEyouLlZ5eblmzJhh6iEBAIBezvGBVVdXd9F4iomJUUNDg5H7yMjIUFlZmSRpwoQJWrFihTZu3KgpU6bo1VdfVUlJiQYMGGDkvgAAQO/n%2BFOEI0eO1Nq1a/XII48oJiZGknT27Fm/d1q/EkePHr3s5ezsbGVnZ3%2B7gQEAQNBzfGA9%2BOCDmjVrlsaNG6eBAwfKsiz99a9/VUJCgn73u9/ZPR4AAIAfxwfW4MGDVVZWpr179%2Br48eOSpJ///OeaPHmyIiP58WMAAOA8jg8s6YtftJydna2TJ096f4XNVVddZfNUAAAAF%2Bf4F7lblqXHHntMt9xyi6ZMmaLTp09ryZIlys/P14ULF%2BweDwAAwI/jA2vLli168cUXtWLFCoWFhUmS7rjjDu3fv9/v3dIBAACcwPGBVVpaquXLl2vatGned2%2B/8847tWbNGu3Zs8fm6QAAAPw5PrBOnjyp4cOH%2B60PGzbM7xcqAwAAOIHjA6t///76y1/%2B4rf%2B%2Buuve1/wDgAA4CSO/ynCX/7yl1q1apU8Ho8sy9Jbb72l0tJSbdmyRUuXLrV7PAAAAD%2BOD6zp06ervb1dGzduVEtLi5YvX674%2BHjdc889%2BulPf2r3eAAAAH4cH1h79%2B5VVlaWcnJy9Le//U2WZalPnz52jwUAAHBJjn8N1kMPPeR9MXt8fDxxBQAAHM/xgTVw4EB99NFHdo8BAADQZY4/RThs2DDdf//9Kikp0cCBAxUeHu5zfWFhoU2TAQAAXJzjA%2Bvjjz9WWlqaJPG%2BVwAAICA4MrAeffRRLVy4UFFRUdqyZYvd4wAAAFwRR74G67nnnlNzc7PPWm5ururq6myaCAAAoOscGViWZfmtvfvuu2ptbbVhGgAAgCvjyMACAAAIZAQWAACAYY4NLJfLZfcIAAAA34ojf4pQktasWePznlcXLlxQUVGRoqOjfY7jfbAAAIDTODKwbrnlFr/3vEpJSVFDQ4MaGhpsmgoAAKBrHBlYvPcVAAAIZI59DRYAAECgIrAAAAAMI7AAAAAMI7AAAAAMI7AAAAAMI7AAAAAMI7AAAAAMI7AAAAAMI7AAAAAMI7AAAAAMI7AAAAAMI7AAAAAMI7AAAAAMI7AAAAAMI7AAAAAMC7rAamtr05QpU/TOO%2B9c8pjq6mplZ2crOTlZ06dPV1VVVQ9OCAAAAl1QBVZra6vuvfdeHTt27JLHNDU1KTc3V%2Bnp6dq5c6dSUlI0d%2B5cNTU19eCkAAAgkAVNYNXU1Ohf/uVf9Mknn1z2uLKyMoWHh2vx4sUaPHiw8vPzFR0drX379vXQpAAAINAFTWAdPHhQt956q0pLSy97XGVlpdLS0uRyuSRJLpdLqampqqio6IkxAQBAL%2BC2e4Ce8rOf/axLx3k8Hg0ZMsRnrU%2BfPpc9rfh1dXV18ng8Pmtud5QSExO7fBu9kdvdPT0fGhri8yfsw144g9sdwl4g4HTX9wi7BE1gdVVzc7PCwsJ81sLCwtTW1tbl2ygtLVVxcbHP2oIFC5SXl2dkxkD148f%2Bn90jAEGBrzUEori4aLtHMIrA%2Bprw8HC/mGpra1NERESXbyMnJ0eZmZk%2Ba253lBoazhuZEQCA3qa7vkfaFW4E1tf069dP9fX1Pmv19fVXdHovMTHR73iP53O1t3camREAgN6mt32P7F0nPA1ITk7W4cOHZVmWJMmyLB06dEjJyck2TwYAAAIFgaUvXtje0tIiScrKylJjY6MKCgpUU1OjgoICNTc3a9KkSTZPCQAAAgWBJSkjI0NlZWWSpJiYGG3atEnl5eWaNm2aKisr9fTTTysqKsrmKQEAQKBwWV%2BeC0O38ng%2B75bbnbT%2BjW65XQAAetJ/33Nbt9xuQsLV3XK734RnsAAAAAwjsAAAAAwjsAAAAAwjsAAAAAwjsAAAAAwjsAAAAAwjsAAAAAwjsAAAAAwjsAAAAAwjsAAAAAwjsAAAAAwjsAAAAAwjsAAAAAwjsAAAAAwjsAAAAAwjsAAAAAwjsAAAAAwjsAAAAAwjsAAAAAwjsAAAAAwjsAAAAAwjsAAAAAwjsAAAAAwjsAAAAAwjsAAAAAwjsAAAAAwjsAAAAAwjsAAAAAwjsAAAAAwjsAAAAAwjsAAAAAwjsAAAAAwjsAAAAAwjsAAAAAwjsAAAAAwjsAAAAAwjsAAAAAwjsAAAAAwjsAAAAAwLmsBqbW3VsmXLlJ6eroyMDD377LOXPHbevHn6wQ9%2B4PNx4MCBHpwWAAAEMrfdA/SURx99VFVVVdq8ebNOnTqlJUuW6LrrrlNWVpbfscePH1dRUZHGjBnjXbvmmmt6clwAABDAgiKwmpqa9Pvf/17PPPOMRowYoREjRujYsWPaunWrX2C1tbXp5MmTSkpKUkJCgk0TAwCAQBYUpwiPHDmi9vZ2paSkeNfS0tJUWVmpzs5On2Nra2vlcrl0/fXX9/SYAACglwiKZ7A8Ho/i4uIUFhbmXevbt69aW1t19uxZxcfHe9dra2sVExOjxYsX6%2BDBg7r22mu1aNEi3X777V2%2Bv7q6Onk8Hp81tztKiYmJ3/3BAADQC7ndves5n6AIrObmZp%2B4kuS93NbW5rNeW1urlpYWZWRkKDc3Vy%2B//LLmzZun0tJSJSUlden%2BSktLVVxc7LO2YMEC5eXlfYdHAQBA7xUXF233CEYFRWCFh4f7hdSXlyMiInzW58%2Bfr5kzZ3pf1D5s2DB98MEHeuGFF7ocWDk5OcrMzPRZc7uj1NBw/ts%2BBAAAerXu%2Bh5pV7gFRWD169dPDQ0Nam9vl9v9xUP2eDyKiIhQbGysz7EhISF%2BPzE4aNAg1dTUdPn%2BEhMT/U4Hejyfq7298xJ/AwCA4Nbbvkf2rhOelzB8%2BHC53W5VVFR418rLy5WUlKSQEN9PwdKlS/XAAw/4rB05ckSDBg3qkVkBAEDgC4rAioyM1F133aWVK1fq/fff1/79%2B/Xss89q1qxZkr54NqulpUWSlJmZqT179mj37t06ceKEiouLVV5erhkzZtj5EAAAQAAJisCSpAceeEAjRozQ7NmztWrVKi1atEgTJkyQJGVkZKisrEySNGHCBK1YsUIbN27UlClT9Oqrr6qkpEQDBgywc3wAABBAXJZlWXYPEQw8ns%2B75XYnrX%2BjW24XAICe9N/33NYtt5uQcHW33O43CZpnsAAAAHoKgQUAAGAYgQUAAGAYgQUAAGAYgQUAAGAYgQUAAGAYgQUAAGAYgQUAAGAYgQUAAGAYgQUAAGAYgQUAAGAYgQUAAGAYgQUAAGAYgQUAAGAYgQUAAGAYgQUAAGAYgQUAAGAYgQUAAGAYgQUAAGAYgQUAAGAYgQUAAGAYgQUAAGAYgQUAAGAYgQUAAGAYgQUAAGAYgQUAAGAYgQUAAGAYgQUAAGAYgQUAAGAYgQUAAGAYgQUAAGAYgQUAAGAYgQUAAGAYgQUAAGAYgQUAAGAYgQUAAGAYgQUAAGAYgQUAAGAYgQUAAGBY0ARWa2urli1bpvT0dGVkZOjZZ5%2B95LHV1dXKzs5WcnKypk%2Bfrqqqqh6cFAAABLqgCaxHH31UVVVV2rx5s1asWKHi4mLt27fP77impibl5uYqPT1dO3fuVEpKiubOnaumpiYbpgYAAIEoKAKrqalJv//975Wfn68RI0boxz/%2Bsf71X/9VW7du9Tu2rKxM4eHhWrx4sQYPHqz8/HxFR0dfNMYAAAAuJigC68iRI2pvb1dKSop3LS0tTZWVlers7PQ5trKyUmlpaXK5XJIkl8ul1NRUVVRU9OjMAAAgcLntHqAneDwexcXFKSwszLvWt29ftba26uzZs4qPj/c5dsiQIT5/v0%2BfPjp27FiX76%2Burk4ej8dnze2OUmJi4rd8BAAA9G5ud%2B96zicoAqu5udknriR5L7e1tXXp2K8fdzmlpaUqLi72WVu4cKEWLVp0JWN3yXsFWcZvM9DU1dWptLRUOTk5RKzN2AvnYC%2Bcg70ITkERWOHh4X6B9OXliIiILh379eMuJycnR5mZmT5rCQkJVzIyroDH41FxcbEyMzP5x8tm7IVzsBfOwV4Ep6AIrH79%2BqmhoUHt7e1yu794yB6PRxEREYqNjfU7tr6%2B3metvr4DzTBcAAAHWUlEQVT%2Bir4oEhMT%2BSICACCI9a4TnpcwfPhwud1unxeql5eXKykpSSEhvp%2BC5ORkHT58WJZlSZIsy9KhQ4eUnJzcozMDAIDAFRSBFRkZqbvuuksrV67U%2B%2B%2B/r/379%2BvZZ5/VrFmzJH3xbFZLS4skKSsrS42NjSooKFBNTY0KCgrU3NysSZMm2fkQAABAAAlduXLlSruH6AmjR49WdXW1Hn/8cb311lu6%2B%2B67NX36dElSamqqbrjhBg0fPlxhYWEaNWqU/uu//ktPPfWU2tvbtXbtWl133XU2PwJcTnR0tEaNGqXo6Gi7Rwl67IVzsBfOwV4EH5f15bkwAAAAGBEUpwgBAAB6EoEFAABgGIEFAABgGIEFAABgGIEFAABgGIEFAABgGIEFAABgGIEFAABgGIEFRztz5ozy8vI0atQojR07VoWFhWptbZUkffrpp/rFL36hkSNH6s4779Sf//xnn7/75ptvasqUKUpOTtasWbP06aef2vEQep3c3FwtXbrUe5l96HltbW1atWqVbrnlFv3whz/U2rVrvb8/lf3oWZ999pnmzp2r1NRUZWZm6re//a33OvYiuBFYcCzLspSXl6fm5mZt3bpV69at04EDB7R%2B/XpZlqUFCxaob9%2B%2B%2BsMf/qCpU6dq4cKFOnXqlCTp1KlTWrBggaZNm6YdO3YoPj5e8%2BfPF7%2B44Lt56aWX9Nprr3kvsw/2WLNmjd58803953/%2Bpx5//HG98MILKi0tZT9scM899ygqKko7d%2B7UsmXLtH79er388svsBSQLcKiamhpr6NChlsfj8a7t2bPHysjIsN58801r5MiR1vnz573XzZ4923riiScsy7Ks9evXWzNmzPBe19TUZKWkpFhvv/12zz2AXqahocEaN26cNX36dGvJkiWWZVnsgw0aGhqsG2%2B80XrnnXe8a5s2bbKWLl3KfvSws2fPWkOHDrWOHj3qXVu4cKG1atUq9gIWz2DBsRISElRSUqK%2Bffv6rJ87d06VlZW68cYbFRUV5V1PS0tTRUWFJKmyslLp6ene6yIjIzVixAjv9bhyjzzyiKZOnaohQ4Z419iHnldeXq6YmBiNGjXKu5abm6vCwkL2o4dFREQoMjJSO3fu1IULF1RbW6tDhw5p%2BPDh7AU4RQjnio2N1dixY72XOzs79fzzz2v06NHyeDxKTEz0Ob5Pnz46ffq0JH3j9bgyb731lt577z3Nnz/fZ5196Hmffvqp%2Bvfvr927dysrK0v/8A//oCeffFKdnZ3sRw8LDw/X8uXLVVpaquTkZE2aNEnjxo1TdnY2ewG57R4A6KqioiJVV1drx44d%2Bu1vf6uwsDCf68PCwtTW1iZJam5uvuz16LrW1latWLFCy5cvV0REhM913/R5Zh/Ma2pq0okTJ7R9%2B3YVFhbK4/Fo%2BfLlioyMZD9scPz4cY0fP15z5szRsWPHtHr1ao0ZM4a9AIGFwFBUVKTNmzdr3bp1Gjp0qMLDw3X27FmfY9ra2rwBEB4e7vcPVVtbm2JjY3ts5t6iuLhYN910k8%2BziV9iH3qe2%2B3WuXPn9Pjjj6t///6SvnjB9LZt2/TDH/6Q/ehBb731lnbs2KHXXntNERERSkpK0pkzZ7Rx40aNHj2avQhynCKE461evVrPPfecioqKNHHiRElSv379VF9f73NcfX299yn3S12fkJDQM0P3Ii%2B99JL279%2BvlJQUpaSkaM%2BePdqzZ49SUlLYBxskJCQoPDzcG1eS9Pd///f67LPP2I8eVlVVpRtuuMHnmd0bb7xRp06dYi9AYMHZiouLtX37dq1du1aTJ0/2ricnJ%2BuDDz5QS0uLd628vFzJycne68vLy73XNTc3q7q62ns9um7Lli3as2ePdu/erd27dyszM1OZmZnavXs3%2B2CD5ORktba26uOPP/au1dbWqn///uxHD0tMTNSJEyd8nomqra3VgAED2AsodOXKlSvtHgK4mOPHj%2Bvee%2B9Vbm6uJk6cqKamJu/HkCFDtHfvXlVUVGjw4MH6wx/%2BoJdeekkFBQW6%2BuqrNWDAAD322GMKDQ1VbGysCgsL1dHRofvvv18ul8vuhxZQYmNj9Xd/93fej9dff11hYWH653/%2BZ1133XXsQw%2BLi4tTVVWVXnrpJd1000368MMP9fDDD2vOnDmaNGkS%2B9GD%2Bvfvr23btunYsWMaMmSIDh8%2BrEceeURz587VhAkT2ItgZ/f7RACXsmnTJmvo0KEX/bAsy/rrX/9q/fznP7duuukma/LkydYbb7zh8/f/9Kc/WRMmTLBuvvlma/bs2dYnn3xix8PodZYsWeJ9HyzLYh/s0NjYaP3617%2B2Ro4caY0ZM8b6j//4D6uzs9OyLPajpx07dsz6xS9%2BYaWmplp33HGH9dxzz7EXsCzLslyWxdvGAgAAmMRrsAAAAAwjsAAAAAwjsAAAAAwjsAAAAAwjsAAAAAwjsAAAAAwjsAAAAAwjsAAAAAwjsAAAAAwjsAAAAAwjsAAAAAwjsAAAAAwjsAAAAAz7/9A%2BN9BQ3pGXAAAAAElFTkSuQmCC\">\n",
       "    </div>\n",
       "</div>\n",
       "</div><div class=\"row variablerow\">\n",
       "    <div class=\"col-md-3 namecol\">\n",
       "        <p class=\"h4\">birth<br/>\n",
       "            <small>Categorical, Unique</small>\n",
       "        </p>\n",
       "    </div> <div class=\"col-md-3 collapse in\" id=\"minivalues-8934515948743924402\"><table border=\"1\" class=\"dataframe example_values\">\n",
       "  <thead>\n",
       "    <tr style=\"text-align: right;\">\n",
       "      <th>First 3 values</th>\n",
       "    </tr>\n",
       "  </thead>\n",
       "  <tbody>\n",
       "    <tr>\n",
       "      <td>2000/03/22</td>\n",
       "    </tr>\n",
       "    <tr>\n",
       "      <td>1958/03/26</td>\n",
       "    </tr>\n",
       "    <tr>\n",
       "      <td>1980/07/07</td>\n",
       "    </tr>\n",
       "  </tbody>\n",
       "</table></div>\n",
       "<div class=\"col-md-6 collapse in\" id=\"minivalues-8934515948743924402\"><table border=\"1\" class=\"dataframe example_values\">\n",
       "  <thead>\n",
       "    <tr style=\"text-align: right;\">\n",
       "      <th>Last 3 values</th>\n",
       "    </tr>\n",
       "  </thead>\n",
       "  <tbody>\n",
       "    <tr>\n",
       "      <td>1930/08/12</td>\n",
       "    </tr>\n",
       "    <tr>\n",
       "      <td>1990/07/11</td>\n",
       "    </tr>\n",
       "    <tr>\n",
       "      <td>1970/07/13</td>\n",
       "    </tr>\n",
       "  </tbody>\n",
       "</table></div>\n",
       "<div class=\"col-md-12 text-right\">\n",
       "    <a role=\"button\" data-toggle=\"collapse\" data-target=\"#values-8934515948743924402,#minivalues-8934515948743924402\" aria-expanded=\"false\"\n",
       "       aria-controls=\"collapseExample\">\n",
       "        Toggle details\n",
       "    </a>\n",
       "</div>\n",
       "<div class=\"col-md-12 collapse\" id=\"values-8934515948743924402\">\n",
       "    <p class=\"h4\">First 20 values</p>\n",
       "    <table border=\"1\" class=\"dataframe sample table table-hover\">\n",
       "  <tbody>\n",
       "    <tr>\n",
       "      <th>1</th>\n",
       "      <td>2000/03/22</td>\n",
       "    </tr>\n",
       "    <tr>\n",
       "      <th>2</th>\n",
       "      <td>1958/03/26</td>\n",
       "    </tr>\n",
       "    <tr>\n",
       "      <th>3</th>\n",
       "      <td>1980/07/07</td>\n",
       "    </tr>\n",
       "    <tr>\n",
       "      <th>4</th>\n",
       "      <td>1950/07/14</td>\n",
       "    </tr>\n",
       "    <tr>\n",
       "      <th>5</th>\n",
       "      <td>1993/12/08</td>\n",
       "    </tr>\n",
       "    <tr>\n",
       "      <th>6</th>\n",
       "      <td>1950/07/08</td>\n",
       "    </tr>\n",
       "    <tr>\n",
       "      <th>7</th>\n",
       "      <td>1899/01/01</td>\n",
       "    </tr>\n",
       "    <tr>\n",
       "      <th>8</th>\n",
       "      <td>1923/03/12</td>\n",
       "    </tr>\n",
       "    <tr>\n",
       "      <th>9</th>\n",
       "      <td>1994/01/04</td>\n",
       "    </tr>\n",
       "    <tr>\n",
       "      <th>10</th>\n",
       "      <td>1954/07/10</td>\n",
       "    </tr>\n",
       "    <tr>\n",
       "      <th>11</th>\n",
       "      <td>1956/11/30</td>\n",
       "    </tr>\n",
       "    <tr>\n",
       "      <th>12</th>\n",
       "      <td>1920/04/22</td>\n",
       "    </tr>\n",
       "    <tr>\n",
       "      <th>13</th>\n",
       "      <td>1997/06/27</td>\n",
       "    </tr>\n",
       "    <tr>\n",
       "      <th>14</th>\n",
       "      <td>1999/02/15</td>\n",
       "    </tr>\n",
       "    <tr>\n",
       "      <th>15</th>\n",
       "      <td>1921/05/03</td>\n",
       "    </tr>\n",
       "    <tr>\n",
       "      <th>16</th>\n",
       "      <td>1990/07/09</td>\n",
       "    </tr>\n",
       "    <tr>\n",
       "      <th>17</th>\n",
       "      <td>1930/08/12</td>\n",
       "    </tr>\n",
       "    <tr>\n",
       "      <th>18</th>\n",
       "      <td>1990/07/11</td>\n",
       "    </tr>\n",
       "    <tr>\n",
       "      <th>19</th>\n",
       "      <td>1970/07/13</td>\n",
       "    </tr>\n",
       "  </tbody>\n",
       "</table>\n",
       "    <p class=\"h4\">Last 20 values</p>\n",
       "    \n",
       "</div>\n",
       "</div><div class=\"row variablerow\">\n",
       "    <div class=\"col-md-3 namecol\">\n",
       "        <p class=\"h4\">dummyCol<br/>\n",
       "            <small>Categorical</small>\n",
       "        </p>\n",
       "    </div> <div class=\"col-md-3\">\n",
       "    <table class=\"stats \">\n",
       "        <tr class=\"\">\n",
       "            <th>Distinct count</th>\n",
       "            <td>13</td>\n",
       "        </tr>\n",
       "        <tr>\n",
       "            <th>Unique (%)</th>\n",
       "            <td>68.4%</td>\n",
       "        </tr>\n",
       "        <tr class=\"ignore\">\n",
       "            <th>Missing (%)</th>\n",
       "            <td>0.0%</td>\n",
       "        </tr>\n",
       "        <tr class=\"ignore\">\n",
       "            <th>Missing (n)</th>\n",
       "            <td>0</td>\n",
       "        </tr>\n",
       "        <tr class=\"ignore\">\n",
       "            <th>Infinite (%)</th>\n",
       "            <td>0.0%</td>\n",
       "        </tr>\n",
       "        <tr class=\"ignore\">\n",
       "            <th>Infinite (n)</th>\n",
       "            <td>0</td>\n",
       "        </tr>\n",
       "    </table>\n",
       "</div>\n",
       "<div class=\"col-md-6 collapse in\" id=\"minifreqtable4793201503900092599\">\n",
       "    <table class=\"mini freq\">\n",
       "        <tr class=\"\">\n",
       "    <th>you</th>\n",
       "    <td>\n",
       "        <div class=\"bar\" style=\"width:27%\" data-toggle=\"tooltip\" data-placement=\"right\" data-html=\"true\"\n",
       "             data-delay=500 title=\"Percentage: 15.8%\">\n",
       "            3\n",
       "        </div>\n",
       "        \n",
       "    </td>\n",
       "</tr> <tr class=\"\">\n",
       "    <th>gonna</th>\n",
       "    <td>\n",
       "        <div class=\"bar\" style=\"width:27%\" data-toggle=\"tooltip\" data-placement=\"right\" data-html=\"true\"\n",
       "             data-delay=500 title=\"Percentage: 15.8%\">\n",
       "            3\n",
       "        </div>\n",
       "        \n",
       "    </td>\n",
       "</tr> <tr class=\"\">\n",
       "    <th>never</th>\n",
       "    <td>\n",
       "        <div class=\"bar\" style=\"width:19%\" data-toggle=\"tooltip\" data-placement=\"right\" data-html=\"true\"\n",
       "             data-delay=500 title=\"Percentage: 10.5%\">\n",
       "            &nbsp;\n",
       "        </div>\n",
       "        2\n",
       "    </td>\n",
       "</tr> <tr class=\"other\">\n",
       "    <th>Other values (10)</th>\n",
       "    <td>\n",
       "        <div class=\"bar\" style=\"width:100%\" data-toggle=\"tooltip\" data-placement=\"right\" data-html=\"true\"\n",
       "             data-delay=500 title=\"Percentage: 57.9%\">\n",
       "            11\n",
       "        </div>\n",
       "        \n",
       "    </td>\n",
       "</tr> \n",
       "    </table>\n",
       "</div> \n",
       "<div class=\"col-md-12 text-right\">\n",
       "    <a role=\"button\" data-toggle=\"collapse\" data-target=\"#freqtable4793201503900092599, #minifreqtable4793201503900092599\"\n",
       "       aria-expanded=\"true\" aria-controls=\"collapseExample\">\n",
       "        Toggle details\n",
       "    </a>\n",
       "</div>\n",
       "<div class=\"col-md-12 collapse extrapadding\" id=\"freqtable4793201503900092599\">\n",
       "    <table class=\"freq table table-hover\">\n",
       "        <thead>\n",
       "        <tr>\n",
       "            <td class=\"fillremaining\">Value</td>\n",
       "            <td class=\"number\">Count</td>\n",
       "            <td class=\"number\">Frequency (%)</td>\n",
       "            <td style=\"min-width:200px\">&nbsp;</td>\n",
       "        </tr>\n",
       "        </thead>\n",
       "        <tr class=\"\">\n",
       "        <td class=\"fillremaining\">you</td>\n",
       "        <td class=\"number\">3</td>\n",
       "        <td class=\"number\">15.8%</td>\n",
       "        <td>\n",
       "            <div class=\"bar\" style=\"width:100%\">&nbsp;</div>\n",
       "        </td>\n",
       "</tr> <tr class=\"\">\n",
       "        <td class=\"fillremaining\">gonna</td>\n",
       "        <td class=\"number\">3</td>\n",
       "        <td class=\"number\">15.8%</td>\n",
       "        <td>\n",
       "            <div class=\"bar\" style=\"width:100%\">&nbsp;</div>\n",
       "        </td>\n",
       "</tr> <tr class=\"\">\n",
       "        <td class=\"fillremaining\">never</td>\n",
       "        <td class=\"number\">2</td>\n",
       "        <td class=\"number\">10.5%</td>\n",
       "        <td>\n",
       "            <div class=\"bar\" style=\"width:67%\">&nbsp;</div>\n",
       "        </td>\n",
       "</tr> <tr class=\"\">\n",
       "        <td class=\"fillremaining\">#</td>\n",
       "        <td class=\"number\">2</td>\n",
       "        <td class=\"number\">10.5%</td>\n",
       "        <td>\n",
       "            <div class=\"bar\" style=\"width:67%\">&nbsp;</div>\n",
       "        </td>\n",
       "</tr> <tr class=\"\">\n",
       "        <td class=\"fillremaining\">never </td>\n",
       "        <td class=\"number\">1</td>\n",
       "        <td class=\"number\">5.3%</td>\n",
       "        <td>\n",
       "            <div class=\"bar\" style=\"width:34%\">&nbsp;</div>\n",
       "        </td>\n",
       "</tr> <tr class=\"\">\n",
       "        <td class=\"fillremaining\">down</td>\n",
       "        <td class=\"number\">1</td>\n",
       "        <td class=\"number\">5.3%</td>\n",
       "        <td>\n",
       "            <div class=\"bar\" style=\"width:34%\">&nbsp;</div>\n",
       "        </td>\n",
       "</tr> <tr class=\"\">\n",
       "        <td class=\"fillremaining\">run </td>\n",
       "        <td class=\"number\">1</td>\n",
       "        <td class=\"number\">5.3%</td>\n",
       "        <td>\n",
       "            <div class=\"bar\" style=\"width:34%\">&nbsp;</div>\n",
       "        </td>\n",
       "</tr> <tr class=\"\">\n",
       "        <td class=\"fillremaining\">desert</td>\n",
       "        <td class=\"number\">1</td>\n",
       "        <td class=\"number\">5.3%</td>\n",
       "        <td>\n",
       "            <div class=\"bar\" style=\"width:34%\">&nbsp;</div>\n",
       "        </td>\n",
       "</tr> <tr class=\"\">\n",
       "        <td class=\"fillremaining\">up</td>\n",
       "        <td class=\"number\">1</td>\n",
       "        <td class=\"number\">5.3%</td>\n",
       "        <td>\n",
       "            <div class=\"bar\" style=\"width:34%\">&nbsp;</div>\n",
       "        </td>\n",
       "</tr> <tr class=\"\">\n",
       "        <td class=\"fillremaining\">and</td>\n",
       "        <td class=\"number\">1</td>\n",
       "        <td class=\"number\">5.3%</td>\n",
       "        <td>\n",
       "            <div class=\"bar\" style=\"width:34%\">&nbsp;</div>\n",
       "        </td>\n",
       "</tr> <tr class=\"\">\n",
       "        <td class=\"fillremaining\">around</td>\n",
       "        <td class=\"number\">1</td>\n",
       "        <td class=\"number\">5.3%</td>\n",
       "        <td>\n",
       "            <div class=\"bar\" style=\"width:34%\">&nbsp;</div>\n",
       "        </td>\n",
       "</tr> <tr class=\"\">\n",
       "        <td class=\"fillremaining\">let</td>\n",
       "        <td class=\"number\">1</td>\n",
       "        <td class=\"number\">5.3%</td>\n",
       "        <td>\n",
       "            <div class=\"bar\" style=\"width:34%\">&nbsp;</div>\n",
       "        </td>\n",
       "</tr> <tr class=\"\">\n",
       "        <td class=\"fillremaining\">give</td>\n",
       "        <td class=\"number\">1</td>\n",
       "        <td class=\"number\">5.3%</td>\n",
       "        <td>\n",
       "            <div class=\"bar\" style=\"width:34%\">&nbsp;</div>\n",
       "        </td>\n",
       "</tr> \n",
       "    </table>\n",
       "</div> \n",
       "</div><div class=\"row variablerow\">\n",
       "    <div class=\"col-md-3 namecol\">\n",
       "        <p class=\"h4\">firstName<br/>\n",
       "            <small>Categorical, Unique</small>\n",
       "        </p>\n",
       "    </div> <div class=\"col-md-3 collapse in\" id=\"minivalues5963284473099852937\"><table border=\"1\" class=\"dataframe example_values\">\n",
       "  <thead>\n",
       "    <tr style=\"text-align: right;\">\n",
       "      <th>First 3 values</th>\n",
       "    </tr>\n",
       "  </thead>\n",
       "  <tbody>\n",
       "    <tr>\n",
       "      <td>JaMES</td>\n",
       "    </tr>\n",
       "    <tr>\n",
       "      <td>Marie</td>\n",
       "    </tr>\n",
       "    <tr>\n",
       "      <td>CaRL</td>\n",
       "    </tr>\n",
       "  </tbody>\n",
       "</table></div>\n",
       "<div class=\"col-md-6 collapse in\" id=\"minivalues5963284473099852937\"><table border=\"1\" class=\"dataframe example_values\">\n",
       "  <thead>\n",
       "    <tr style=\"text-align: right;\">\n",
       "      <th>Last 3 values</th>\n",
       "    </tr>\n",
       "  </thead>\n",
       "  <tbody>\n",
       "    <tr>\n",
       "      <td>Fred</td>\n",
       "    </tr>\n",
       "    <tr>\n",
       "      <td>David</td>\n",
       "    </tr>\n",
       "    <tr>\n",
       "      <td>PAUL</td>\n",
       "    </tr>\n",
       "  </tbody>\n",
       "</table></div>\n",
       "<div class=\"col-md-12 text-right\">\n",
       "    <a role=\"button\" data-toggle=\"collapse\" data-target=\"#values5963284473099852937,#minivalues5963284473099852937\" aria-expanded=\"false\"\n",
       "       aria-controls=\"collapseExample\">\n",
       "        Toggle details\n",
       "    </a>\n",
       "</div>\n",
       "<div class=\"col-md-12 collapse\" id=\"values5963284473099852937\">\n",
       "    <p class=\"h4\">First 20 values</p>\n",
       "    <table border=\"1\" class=\"dataframe sample table table-hover\">\n",
       "  <tbody>\n",
       "    <tr>\n",
       "      <th>1</th>\n",
       "      <td>JaMES</td>\n",
       "    </tr>\n",
       "    <tr>\n",
       "      <th>2</th>\n",
       "      <td>Marie</td>\n",
       "    </tr>\n",
       "    <tr>\n",
       "      <th>3</th>\n",
       "      <td>CaRL</td>\n",
       "    </tr>\n",
       "    <tr>\n",
       "      <th>4</th>\n",
       "      <td>André</td>\n",
       "    </tr>\n",
       "    <tr>\n",
       "      <th>5</th>\n",
       "      <td>Johannes</td>\n",
       "    </tr>\n",
       "    <tr>\n",
       "      <th>6</th>\n",
       "      <td>Luis</td>\n",
       "    </tr>\n",
       "    <tr>\n",
       "      <th>7</th>\n",
       "      <td>William</td>\n",
       "    </tr>\n",
       "    <tr>\n",
       "      <th>8</th>\n",
       "      <td>Isaac</td>\n",
       "    </tr>\n",
       "    <tr>\n",
       "      <th>9</th>\n",
       "      <td>Albert</td>\n",
       "    </tr>\n",
       "    <tr>\n",
       "      <th>10</th>\n",
       "      <td>Emmy%%</td>\n",
       "    </tr>\n",
       "    <tr>\n",
       "      <th>11</th>\n",
       "      <td>Galileo</td>\n",
       "    </tr>\n",
       "    <tr>\n",
       "      <th>12</th>\n",
       "      <td>(((   Heinrich )))))</td>\n",
       "    </tr>\n",
       "    <tr>\n",
       "      <th>13</th>\n",
       "      <td>JAMES</td>\n",
       "    </tr>\n",
       "    <tr>\n",
       "      <th>14</th>\n",
       "      <td>Arthur</td>\n",
       "    </tr>\n",
       "    <tr>\n",
       "      <th>15</th>\n",
       "      <td>Max!!!</td>\n",
       "    </tr>\n",
       "    <tr>\n",
       "      <th>16</th>\n",
       "      <td>NiELS</td>\n",
       "    </tr>\n",
       "    <tr>\n",
       "      <th>17</th>\n",
       "      <td>Fred</td>\n",
       "    </tr>\n",
       "    <tr>\n",
       "      <th>18</th>\n",
       "      <td>David</td>\n",
       "    </tr>\n",
       "    <tr>\n",
       "      <th>19</th>\n",
       "      <td>PAUL</td>\n",
       "    </tr>\n",
       "  </tbody>\n",
       "</table>\n",
       "    <p class=\"h4\">Last 20 values</p>\n",
       "    \n",
       "</div>\n",
       "</div><div class=\"row variablerow\">\n",
       "    <div class=\"col-md-3 namecol\">\n",
       "        <p class=\"h4\">id<br/>\n",
       "            <small>Numeric</small>\n",
       "        </p>\n",
       "    </div> <div class=\"col-md-6\">\n",
       "    <div class=\"row\">\n",
       "        <div class=\"col-sm-6\">\n",
       "            <table class=\"stats \">\n",
       "                <tr>\n",
       "                    <th>Distinct count</th>\n",
       "                    <td>19</td>\n",
       "                </tr>\n",
       "                <tr>\n",
       "                    <th>Unique (%)</th>\n",
       "                    <td>100.0%</td>\n",
       "                </tr>\n",
       "                <tr class=\"ignore\">\n",
       "                    <th>Missing (%)</th>\n",
       "                    <td>0.0%</td>\n",
       "                </tr>\n",
       "                <tr class=\"ignore\">\n",
       "                    <th>Missing (n)</th>\n",
       "                    <td>0</td>\n",
       "                </tr>\n",
       "                <tr class=\"ignore\">\n",
       "                    <th>Infinite (%)</th>\n",
       "                    <td>0.0%</td>\n",
       "                </tr>\n",
       "                <tr class=\"ignore\">\n",
       "                    <th>Infinite (n)</th>\n",
       "                    <td>0</td>\n",
       "                </tr>\n",
       "            </table>\n",
       "\n",
       "        </div>\n",
       "        <div class=\"col-sm-6\">\n",
       "            <table class=\"stats \">\n",
       "\n",
       "                <tr>\n",
       "                    <th>Mean</th>\n",
       "                    <td>10</td>\n",
       "                </tr>\n",
       "                <tr>\n",
       "                    <th>Minimum</th>\n",
       "                    <td>1</td>\n",
       "                </tr>\n",
       "                <tr>\n",
       "                    <th>Maximum</th>\n",
       "                    <td>19</td>\n",
       "                </tr>\n",
       "                <tr class=\"ignore\">\n",
       "                    <th>Zeros (%)</th>\n",
       "                    <td>0.0%</td>\n",
       "                </tr>\n",
       "            </table>\n",
       "        </div>\n",
       "    </div>\n",
       "</div>\n",
       "<div class=\"col-md-3 collapse in\" id=\"minihistogram-8098992406567582512\">\n",
       "    <img src=\"data:image/png;base64,iVBORw0KGgoAAAANSUhEUgAAAMgAAABLCAYAAAA1fMjoAAAABHNCSVQICAgIfAhkiAAAAAlwSFlzAAAPYQAAD2EBqD%2BnaQAAARBJREFUeJzt3MEJAjEQQFFXLMki7MmzPVmEPcW7yAcXJcv63j0wCXzmlmWMMQ7AW8fZA8CWnWYP8Op8vc8e4Wset8vHZ/Z0/zXWvNkv2SAQBAJBIBAEAkEgEAQCQSAQBAJBIBAEAkEgEAQCQSAQBAJBIBAEAkEgEAQCQSAQBAJBIBAEAkEgEDb3L9ae/PsfV3tgg0AQCASBQBAIBIFAEAgEgUAQCASBQBAIBIFAEAgEgUAQCASBQBAIBIFAEAgEgUAQCASBQBAIhGWMMWYPAVtlg0AQCASBQBAIBIFAEAgEgUAQCASBQBAIBIFAEAgEgUAQCASBQBAIBIFAEAgEgUAQCASBQBAIBIFAEAgEgUB4Ak95D/jqZxT/AAAAAElFTkSuQmCC\">\n",
       "\n",
       "</div>\n",
       "<div class=\"col-md-12 text-right\">\n",
       "    <a role=\"button\" data-toggle=\"collapse\" data-target=\"#descriptives-8098992406567582512,#minihistogram-8098992406567582512\"\n",
       "       aria-expanded=\"false\" aria-controls=\"collapseExample\">\n",
       "        Toggle details\n",
       "    </a>\n",
       "</div>\n",
       "<div class=\"row collapse col-md-12\" id=\"descriptives-8098992406567582512\">\n",
       "    <div class=\"col-sm-4\">\n",
       "        <p class=\"h4\">Quantile statistics</p>\n",
       "        <table class=\"stats indent\">\n",
       "            <tr>\n",
       "                <th>Minimum</th>\n",
       "                <td>1</td>\n",
       "            </tr>\n",
       "            <tr>\n",
       "                <th>5-th percentile</th>\n",
       "                <td>1.9</td>\n",
       "            </tr>\n",
       "            <tr>\n",
       "                <th>Q1</th>\n",
       "                <td>5.5</td>\n",
       "            </tr>\n",
       "            <tr>\n",
       "                <th>Median</th>\n",
       "                <td>10</td>\n",
       "            </tr>\n",
       "            <tr>\n",
       "                <th>Q3</th>\n",
       "                <td>14.5</td>\n",
       "            </tr>\n",
       "            <tr>\n",
       "                <th>95-th percentile</th>\n",
       "                <td>18.1</td>\n",
       "            </tr>\n",
       "            <tr>\n",
       "                <th>Maximum</th>\n",
       "                <td>19</td>\n",
       "            </tr>\n",
       "            <tr>\n",
       "                <th>Range</th>\n",
       "                <td>18</td>\n",
       "            </tr>\n",
       "            <tr>\n",
       "                <th>Interquartile range</th>\n",
       "                <td>9</td>\n",
       "            </tr>\n",
       "        </table>\n",
       "        <p class=\"h4\">Descriptive statistics</p>\n",
       "        <table class=\"stats indent\">\n",
       "            <tr>\n",
       "                <th>Standard deviation</th>\n",
       "                <td>5.6273</td>\n",
       "            </tr>\n",
       "            <tr>\n",
       "                <th>Coef of variation</th>\n",
       "                <td>0.56273</td>\n",
       "            </tr>\n",
       "            <tr>\n",
       "                <th>Kurtosis</th>\n",
       "                <td>-1.2067</td>\n",
       "            </tr>\n",
       "            <tr>\n",
       "                <th>Mean</th>\n",
       "                <td>10</td>\n",
       "            </tr>\n",
       "            <tr>\n",
       "                <th>MAD</th>\n",
       "                <td>4.7368</td>\n",
       "            </tr>\n",
       "            <tr class=\"\">\n",
       "                <th>Skewness</th>\n",
       "                <td>0</td>\n",
       "            </tr>\n",
       "            <tr>\n",
       "                <th>Sum</th>\n",
       "                <td>190</td>\n",
       "            </tr>\n",
       "            <tr>\n",
       "                <th>Variance</th>\n",
       "                <td>31.667</td>\n",
       "            </tr>\n",
       "            <tr>\n",
       "                <th>Memory size</th>\n",
       "                <td>0.0 B</td>\n",
       "            </tr>\n",
       "        </table>\n",
       "    </div>\n",
       "    <div class=\"col-sm-8 histogram\">\n",
       "        <img src=\"data:image/png;base64,iVBORw0KGgoAAAANSUhEUgAAAlgAAAGQCAYAAAByNR6YAAAABHNCSVQICAgIfAhkiAAAAAlwSFlzAAAPYQAAD2EBqD%2BnaQAAIABJREFUeJzt3Xt0VOW9//HPJNPcCQZIuC8VFMLBnBgShR6CwQgCVWqIRYoFBAtYCKSWlHCrFVEaD1BvRMtNuhDUxlgqNaJULPVWBRskiJiaCwIWSCYSCORKkv37gx9zHCaBADvZZPJ%2BrZUF8%2Bxnnvk%2B69kz81l77%2BzYDMMwBAAAANN4WV0AAACApyFgAQAAmIyABQAAYDICFgAAgMkIWAAAACYjYAEAAJiMgAUAAGAyAhYAAIDJCFgAAAAmI2ABAACYjIAFAABgMgIWAACAyQhYAAAAJiNgAQAAmIyABQAAYDICFgAAgMkIWAAAACYjYAEAAJiMgAUAAGAyAhYAAIDJCFgAAAAmI2ABAACYjIAFAABgMgIWAACAyQhYAAAAJiNgAQAAmIyABQAAYDICFgAAgMkIWAAAACYjYAEAAJiMgAUAAGAyAhYAAIDJCFgAAAAmI2ABAACYjIAFAABgMgIWAACAyQhYAAAAJiNgAQAAmIyABQAAYDK71QW0FQ7HKVPG8fKyqUOHQB0/Xq76esOUMa92zNnz59zW5iu1vTm3tflKzPlqmXNoaDtLXpcjWK2Ml5dNNptNXl42q0tpMczZ87W1%2BUptb85tbb4Sc27rCFgAAAAmI2ABAACYjIAFAABgMgIWAACAyQhYAAAAJiNgAQAAmIyABQAAYDICFgAAgMk8JmAVFRUpOTlZt956q4YMGaK0tDRVV1c32Hf//v0aO3asIiMjde%2B992rfvn0u27OysjRs2DBFRkYqKSlJx48fb4kpAAAAD%2BERAcswDCUnJ6uyslIvv/yynn76ae3YsUPPPPOMW9%2BKigpNnz5dMTEx2rx5s6KiovTQQw%2BpoqJCkrR3714tWrRIs2bNUkZGhsrKyrRgwYKWnhIAAGjFPCJgFRYWas%2BePUpLS9ONN96omJgYJScnKysry63v1q1b5evrq9TUVPXu3VuLFi1SYGCg3nnnHUnSpk2bNGrUKCUkJCg8PFzLli3T%2B%2B%2B/r8OHD7f0tAAAQCvlEQErNDRU69atU6dOnVzaT58%2B7dY3JydH0dHRstnO/p0km82mAQMGaM%2BePc7tMTExzv5du3ZVt27dlJOT04wzAAAAnsRudQFmCA4O1pAhQ5yP6%2BvrtWnTJg0aNMitr8Ph0A033ODS1rFjR%2BXl5UmSiouLFRYW5rb92LFjTa6nuLhYDofDpc1uD3Ab93J4e3u5/NsWMGfP19bmK7W9Obe1%2BUrMua3ziIB1vuXLl2v//v16/fXX3bZVVlbKx8fHpc3Hx0c1NTWSpKqqqgtub4qMjAylp6e7tCUlJSk5ObnJY1xMcLC/JClm0TumjQm0lH8tHdlg%2B7n9%2BmrD%2Bwxofo19LrRWHhewli9frg0bNujpp59Wnz593Lb7%2Bvq6haWamhr5%2BfldcLu/f9M/%2BMeNG6f4%2BHiXNrs9QKWl5U0eozHe3l4KDvZXWVml6urqr3g8wArnvxfYrwGY8R3ZkJCQwGYZ92I8KmA9/vjjevXVV7V8%2BXKNGDGiwT6dO3dWSUmJS1tJSYnz9F1j20NDQ5tcR1hYmNvpQIfjlGprzfviqKurN3U8oCU1tu%2ByXwNtl6e99z3mJGl6err%2B9Kc/6amnntJdd93VaL/IyEh9/vnnMgxD0tlbPOzevVuRkZHO7dnZ2c7%2BR48e1dGjR53bAQAALsYjAlZBQYFeeOEFTZs2TdHR0XI4HM4f6eyF7VVVVZKkkSNHqqysTEuXLlV%2Bfr6WLl2qyspKjRo1SpI0fvx4bdmyRZmZmcrNzVVqaqqGDh2qnj17WjY/AADQunhEwHrvvfdUV1enP/zhD4qNjXX5kaTY2Fht3bpVkhQUFKTVq1crOztbiYmJysnJ0Zo1axQQECBJioqK0pIlS/T8889r/Pjxat%2B%2BvdLS0iybGwAAaH1sxrlzZWhWDscpU8ax270UEhKo0tJy1dbWa9QzH5syLtCS3n54sMvj8/frqw3vM6D5nf%2B5YJbQ0HbNMu7FeMQRLAAAgKsJAQsAAMBkBCwAAACTEbAAAABMRsACAAAwGQELAADAZAQsAAAAkxGwAAAATEbAAgAAMBkBCwAAwGQELAAAAJMRsAAAAExGwAIAADAZAQsAAMBkBCwAAACTEbAAAABMRsACAAAwGQELAADAZAQsAAAAkxGwAAAATEbAAgAAMBkBCwAAwGQELAAAAJMRsAAAAExGwAIAADAZAQsAAMBkdqsLMFtNTY0SExP1yCOPaODAgW7bJ06cqF27drm1JyYmKi0tTZIUExOjU6dOuWzfvXu3AgMDm6doAADgUTwqYFVXVyslJUV5eXmN9lm5cqXOnDnjfJyTk6OHH35Y999/vySpqKhIp06d0vbt2%2BXn5%2BfsFxAQ0HyFAwAAj%2BIxASs/P18pKSkyDOOC/a655hrn/%2Bvq6vT0009r6tSpioiIkCQVFBQoNDRUPXv2bNZ6AQCA5/KYa7B27dqlgQMHKiMjo8nP2bx5s06ePKlp06Y52/Lz83X99dc3R4kAAKCN8JgjWOdO8TWVYRhat26dJk2a5HJtVUFBgSorKzVx4kQdOHBA/fr108KFCy8pdBUXF8vhcLi02e0BCgsLu6QaG%2BLt7eXyL9Aa2e2u%2By/7NYDzPxdaO48JWJdq586dOnbsmO677z6X9sLCQp08eVJz5sxRUFCQ1q5dq8mTJ%2Butt95SUFBQk8bOyMhQenq6S1tSUpKSk5NNqz842N%2B0sYCWFhLS8C%2BMsF8DbVdjnwutVZsNWNu2bdNtt93mck2WJL344os6c%2BaM86jWihUrFBcXpx07dmj06NFNGnvcuHGKj493abPbA1RaWn7FdXt7eyk42F9lZZWqq6u/4vEAK5z/XmC/BmDGd2RDrApubTZgffjhh5o1a5Zbu4%2BPj3x8fJyPfX191aNHDxUVFTV57LCwMLfTgQ7HKdXWmvfFUVdXb%2Bp4QEtqbN9lvwbaLk9773vWCc8mOn78uA4fPqzo6GiXdsMwNGzYMG3evNnZVlFRoYMHD6pXr14tXSYAAGil2sQRLIfDoXbt2jnva5WXl%2Bc8MvV9NptNQ4cO1cqVK9W9e3d16NBBzz77rLp06aK4uDgrSgcAAK1QmziCFRsbq61btzoff/fddwoODpbNZnPrO3fuXI0YMUIpKSkaO3asamtrtWbNGnl7e7dkyQAAoBWzGRe7MydM4XCcuninJrDbvRQSEqjS0nLV1tZr1DMfmzIu0JLefniwy%2BPz9%2BurDe8zoPmd/7lgltDQds0y7sW0iSNYAAAALYmABQAAYDICFgAAgMkIWAAAACYjYAEAAJiMgAUAAGAyAhYAAIDJCFgAAAAmI2ABAACYjIAFAABgMgIWAACAyQhYAAAAJiNgAQAAmIyABQAAYDICFgAAgMkIWAAAACYjYAEAAJiMgAUAAGAyAhYAAIDJCFgAAAAmI2ABAACYjIAFAABgMgIWAACAyQhYAAAAJiNgAQAAmIyABQAAYDKPC1g1NTW6%2B%2B67tXPnzkb7zJgxQ3379nX52bFjh3N7VlaWhg0bpsjISCUlJen48eMtUToAAPAQHhWwqqurNWfOHOXl5V2wX0FBgZYvX66PPvrI%2BTN48GBJ0t69e7Vo0SLNmjVLGRkZKisr04IFC1qifAAA4CHsVhdglvz8fKWkpMgwjAv2q6mp0bfffquIiAiFhoa6bd%2B0aZNGjRqlhIQESdKyZct0%2B%2B236/Dhw%2BrZs2ez1A4AADyLxxzB2rVrlwYOHKiMjIwL9issLJTNZms0LOXk5CgmJsb5uGvXrurWrZtycnJMrRcAAHgujzmCdf/99zepX2FhoYKCgpSamqpdu3apS5cumj17tuLi4iRJxcXFCgsLc3lOx44ddezYsSbXUlxcLIfD4dJmtwe4jXs5vL29XP4FWiO73XX/Zb8GcP7nQmvnMQGrqQoLC1VVVaXY2FhNnz5d7777rmbMmKGMjAxFRESoqqpKPj4%2BLs/x8fFRTU1Nk18jIyND6enpLm1JSUlKTk42ZQ6SFBzsb9pYQEsLCQlssJ39Gmi7GvtcaK3aXMCaOXOmJk6cqPbt20uSwsPD9eWXX%2Bq1115TRESEfH193cJUTU2N/P2b/sE/btw4xcfHu7TZ7QEqLS2/4vq9vb0UHOyvsrJK1dXVX/F4gBXOfy%2BwXwMw4zuyIVYFtzYXsLy8vJzh6pxevXopPz9fktS5c2eVlJS4bC8pKWnwgvjGhIWFuZ0OdDhOqbbWvC%2BOurp6U8cDWlJj%2By77NdB2edp737NOeDbB/Pnz3W67kJubq169ekmSIiMjlZ2d7dx29OhRHT16VJGRkS1aJwAAaL3aRMByOByqqqqSJMXHx%2BvNN9/UG2%2B8oYMHDyo9PV3Z2dmaMGGCJGn8%2BPHasmWLMjMzlZubq9TUVA0dOpRbNAAAgCZrEwErNjZWW7dulSTdeeedevTRR/WHP/xBd999t/7%2B979r3bp16tGjhyQpKipKS5Ys0fPPP6/x48erffv2SktLs7J8AADQynjkNVj//ve/L/h47NixGjt2bKPPT0xMVGJiYrPUBgAAPF%2BbOIIFAADQkghYAAAAJiNgAQAAmIyABQAAYDICFgAAgMkIWAAAACYjYAEAAJiMgAUAAGAyAhYAAIDJCFgAAAAmI2ABAACYjIAFAABgMgIWAACAyQhYAAAAJiNgAQAAmIyABQAAYDICFgAAgMkIWAAAACYjYAEAAJiMgAUAAGAyAhYAAIDJCFgAAAAmI2ABAACYjIAFAABgMgIWAACAyQhYAAAAJvO4gFVTU6O7775bO3fubLTPP/7xD91zzz2KiorS6NGj9d5777lsj4mJUd%2B%2BfV1%2BysvLm7t0AADgIexWF2Cm6upqpaSkKC8vr9E%2Bubm5mjVrllJTUxUXF6ePPvpIv/zlL/X6668rPDxcRUVFOnXqlLZv3y4/Pz/n8wICAlpiCgAAwAN4TMDKz89XSkqKDMO4YL%2BsrCwNGjRIkyZNkiRde%2B21%2Bvvf/663335b4eHhKigoUGhoqHr27NkSZQMAAA9k%2BSnCsWPH6k9/%2BpNOnTp1RePs2rVLAwcOVEZGxgX7jRkzRr/%2B9a/d2s%2B9fn5%2Bvq6//vorqgUAALRtlh/BGjRokFatWqW0tDTdcccdSkxM1ODBg2Wz2S5pnPvvv79J/Xr37u3yOC8vT5988ol%2B%2BtOfSpIKCgpUWVmpiRMn6sCBA%2BrXr58WLlxI6AIAAE1mecBKSUnRnDlz9M9//lNvvPGGZs%2BereDgYCUkJCghIaFZg83x48c1e/ZsDRgwQHfccYckqbCwUCdPntScOXMUFBSktWvXavLkyXrrrbcUFBTUpHGLi4vlcDhc2uz2AIWFhV1xzd7eXi7/Aq2R3e66/7JfAzj/c6G1szxgSZLNZtPgwYM1ePBgVVZWauPGjXrhhRe0Zs0aDRgwQA888IDuvPNOU1%2BzpKREU6ZMkWEYeu655%2BTldXZhX3zxRZ05c0aBgYGSpBUrViguLk47duzQ6NGjmzR2RkaG0tPTXdqSkpKUnJxsWv3Bwf6mjQW0tJCQwAbb2a%2BBtquxz4XW6qoIWNLZoz5//etf9de//lVff/21BgwYoDFjxujYsWP6zW9%2Bo88%2B%2B0yLFi0y5bWKioqcF7m/9NJL6tChg3Obj4%2BPfHx8nI99fX3Vo0cPFRUVNXn8cePGKT4%2B3qXNbg9QaemV3%2BrB29tLwcH%2BKiurVF1d/RWPB1jh/PcC%2BzUAM74jG2JVcLM8YG3ZskVbtmzRzp071aFDByUkJOi5557Tdddd5%2BzTtWtXLV261JSAVVFRoalTp8rLy0svvfSSQkNDndsMw9Dw4cM1c%2BZMJSYmOvsfPHhQvXr1avJrhIWFuZ0OdDhOqbbWvC%2BOurp6U8cDWlJj%2By77NdB2edp73/KAtWjRIt1%2B%2B%2B16/vnnddtttzlP1X1fr169NGHChMt%2BDYfDoXbt2snPz0%2BrV6/WoUOHtHHjRuc2SfLz81O7du00dOhQrVy5Ut27d1eHDh307LPPqkuXLoqLi7vs1wcAAG2L5QHrgw8%2BUEhIiE6cOOEMV3v37lX//v3l7e0tSRowYIAGDBhw2a8RGxurtLQ0JSYmatu2baqqqtLYsWNd%2BowZM0ZPPvmk5s6dK7vdrpSUFJ0%2BfVqDBg3SmjVrnLUAAABcjOUB6/Tp0xo/frzuuOMOpaamSpKmT5%2BuTp06ae3aterateslj/nvf/%2B70cfvvPPOBZ/r6%2Bur%2BfPna/78%2BZf8ugAAANJVcKPR3/3ud7r22ms1ZcoUZ9vWrVvVtWtXpaWlWVgZAADA5bE8YP3rX//S/PnzXS4279Chg1JTU/Xpp59aWBkAAMDlsTxg2e12lZWVubVXVlZe9O8KAgAAXI0sD1i33XabnnjiCR06dMjZdvjwYaWlpWnIkCEWVgYAAHB5LL/Ifd68eZoyZYpGjBih4OBgSVJZWZn69%2B%2BvBQsWWFwdAADApbM8YHXs2FF/%2Bctf9M9//lN5eXmy2%2B264YYb9MMf/vCS/%2BAzAADA1cDygCVJ3t7eGjJkCKcEAQCAR7A8YDkcDj3zzDPavXu3zpw543Zh%2B3vvvWdRZQAAAJfH8oD1yCOPaN%2B%2BfbrrrrvUrl07q8sBAAC4YpYHrE8//VTr1q1TTEyM1aUAAACYwvLbNAQEBKhjx45WlwEAAGAaywPWPffco3Xr1qmurs7qUgAAAExh%2BSnCEydOKCsrS//4xz/Us2dP%2Bfj4uGx/6aWXLKoMAADg8lgesCTp7rvvtroEAAAA01gesNLS0qwuAQAAwFSWX4MlScXFxUpPT1dKSoq%2B%2B%2B47vfPOOyosLLS6LAAAgMtiecA6ePCgRo8erb/85S/atm2bKioqtHXrVt17773KycmxujwAAIBLZnnAevLJJzVs2DBt375dP/jBDyRJTz31lOLj47VixQqLqwMAALh0lges3bt3a8qUKS5/2Nlut2vmzJnav3%2B/hZUBAABcHssDVn19verr693ay8vL5e3tbUFFAAAAV8bygBUbG6vVq1e7hKwTJ05o%2BfLlGjRokIWVAQAAXB7LA9b8%2BfO1b98%2BxcbGqrq6WjNmzNDtt9%2Bub7/9VvPmzbO6PAAAgEtm%2BX2wOnfurDfeeENZWVn66quvVF9fr/Hjx%2Buee%2B5RUFCQ1eUBAABcMssDliT5%2B/tr7NixVpcBAABgCssD1qRJky64nb9FCAAAWhvLA1b37t1dHtfW1urgwYP6%2Buuv9cADD1hUFQAAwOWzPGA19rcIn3/%2BeR07duySx6upqVFiYqIeeeQRDRw4sME%2B%2B/fv16OPPqqvv/5aN9xwgx577DHddNNNzu1ZWVl65pln5HA4FBsbq8cff1wdOnS45FoAAEDbZPlvETbmnnvu0dtvv31Jz6murtacOXOUl5fXaJ%2BKigpNnz5dMTEx2rx5s6KiovTQQw%2BpoqJCkrR3714tWrRIs2bNUkZGhsrKyrRgwYIrmgsAAGhbrtqA9fnnn1/SjUbz8/N133336dChQxfst3XrVvn6%2Bio1NVW9e/fWokWLFBgYqHfeeUeStGnTJo0aNUoJCQkKDw/XsmXL9P777%2Bvw4cNXNB8AANB2WH6KsKGL3E%2BfPq1///vfuv/%2B%2B5s8zq5duzRw4ED96le/0s0339xov5ycHEVHRzv/NI/NZtOAAQO0Z88eJSYmKicnR9OmTXP279q1q7p166acnBz17NnzEmYGAADaKssDVrdu3Vz%2BDqEk/eAHP9CECRP04x//uMnjNDWMORwO3XDDDS5tHTt2dJ5WLC4uVlhYmNv2y7keDAAAtE2WB6wnn3yyRV%2BvsrJSPj4%2BLm0%2BPj6qqamRJFVVVV1we1MUFxfL4XC4tNntAW7B7XJ4e3u5/Au0Rna76/7Lfg3g/M%2BF1s7ygPXZZ581ue8tt9xyxa/n6%2BvrFpZqamrk5%2Bd3we3%2B/v5Nfo2MjAylp6e7tCUlJSk5Ofkyq3YXHNz0eoCrzfAVH1pdAoCrTEhIoNUlmMrygDVx4kTnKULDMJzt57fZbDZ99dVXV/x6nTt3VklJiUtbSUmJ8%2BhSY9tDQ0Ob/Brjxo1TfHy8S5vdHqDS0vLLrPr/eHt7KTjYX2Vllaqrq7/4EwAAaAXM%2BI5siFXBzfKAtWrVKj3xxBOaO3eubr31Vvn4%2BOiLL77QkiVLNGbMGP3oRz8y9fUiIyO1du1aGYYhm80mwzC0e/du/eIXv3Buz87OVmJioiTp6NGjOnr0qCIjI5v8GmFhYW6nAx2OU6qtNS8Q1dXVmzoeAABW8rTvNMtPeKalpem3v/2tRowYoZCQEAUGBmrQoEFasmSJXn31VXXv3t35c7kcDoeqqqokSSNHjlRZWZmWLl2q/Px8LV26VJWVlRo1apQkafz48dqyZYsyMzOVm5ur1NRUDR06lN8gBAAATWZ5wCouLm4wPAUFBam0tNSU14iNjdXWrVud465evdp5lConJ0dr1qxRQECAJCkqKkpLlizR888/r/Hjx6t9%2B/aN3m0eAACgITbj%2Bxc%2BWWDKlCkKCAjQ//7v/yooKEiSdOLECaWkpMjX11cvvPCCleWZxuE4Zco4druXQkICVVpartraeo165mNTxgUAwEpvPzy4WcYNDW3XLONejOXXYP3mN7/RpEmTdNttt%2Bm6666TYRj65ptvFBoaqpdeesnq8gAAAC6Z5QGrd%2B/e2rp1q7KyslRQUCBJ%2BtnPfqa77rrrkm6NAAAAcLWwPGBJUvv27TV27Fh9%2B%2B23zovJf/CDH1hcFQAAwOWx/CJ3wzC0YsUK3XLLLbr77rt17NgxzZs3T4sWLdKZM2esLg8AAOCSWR6wNm7cqC1btujRRx91/omaYcOGafv27W53QwcAAGgNLA9YGRkZ%2Bu1vf6vExETn3dt/9KMf6YknntCbb75pcXUAAACXzvKA9e2336pfv35u7eHh4W5/MBkAAKA1sDxgde/eXV988YVb%2BwcffMDd0wEAQKtk%2BW8R/vznP9djjz0mh8MhwzD0ySefKCMjQxs3btT8%2BfOtLg8AAOCSWR6w7r33XtXW1uoPf/iDqqqq9Nvf/lYdOnTQww8/rPHjx1tdHgAAwCWzPGBlZWVp5MiRGjdunI4fPy7DMNSxY0erywIAALhsll%2BDtWTJEufF7B06dCBcAQCAVs/ygHXdddfp66%2B/troMAAAA01h%2BijA8PFy//vWvtW7dOl133XXy9fV12Z6WlmZRZQAAAJfH8oB14MABRUdHSxL3vQIAAB7BkoC1bNkyzZo1SwEBAdq4caMVJQAAADQbS67B%2BuMf/6jKykqXtunTp6u4uNiKcgAAAExlScAyDMOt7bPPPlN1dbUF1QAAAJjL8t8iBAAA8DQELAAAAJNZFrBsNptVLw0AANCsLLtNwxNPPOFyz6szZ85o%2BfLlCgwMdOnHfbAAAEBrY0nAuuWWW9zueRUVFaXS0lKVlpZaURIAAIBpLAlY3PsKAAB4Mi5yBwAAMBkBCwAAwGSW/y1Cs1RXV%2Buxxx7T3/72N/n5%2BenBBx/Ugw8%2B6NZv4sSJ2rVrl1t7YmKi84L6mJgYnTp1ymX77t273S7ABwAAaIjHBKxly5Zp37592rBhg44cOaJ58%2BapW7duGjlypEu/lStX6syZM87HOTk5evjhh3X//fdLkoqKinTq1Clt375dfn5%2Bzn4BAQEtMxEAANDqeUTAqqioUGZmptauXav%2B/furf//%2BysvL08svv%2BwWsK655hrn/%2Bvq6vT0009r6tSpioiIkCQVFBQoNDRUPXv2bNE5AAAAz%2BER12Dl5uaqtrZWUVFRzrbo6Gjl5OSovr6%2B0edt3rxZJ0%2Be1LRp05xt%2Bfn5uv7665u1XgAA4Nk8ImA5HA6FhITIx8fH2dapUydVV1frxIkTDT7HMAytW7dOkyZNcrm2qqCgQJWVlZo4caJiY2M1bdo0HThwoNnnAAAAPIdHnCKsrKx0CVeSnI9ramoafM7OnTt17Ngx3XfffS7thYWFOnnypObMmaOgoCCtXbtWkydP1ltvvaWgoKAm1VNcXOx2I1W7PUBhYWFNnVKjvL29XP4FAMAT2O2e9b3mEQHL19fXLUide/z9C9W/b9u2bbrttttcrsmSpBdffFFnzpxxHtVasWKF4uLitGPHDo0ePbpJ9WRkZCg9Pd2lLSkpScnJyU16flMEB/ubNhYAAFYLCfGs39T3iIDVuXNnlZaWqra2Vnb72Sk5HA75%2BfkpODi4wed8%2BOGHmjVrllu7j4%2BPy9EwX19f9ejRQ0VFRU2uZ9y4cYqPj3dps9sDVFpa3uQxGuPt7aXgYH%2BVlVWqrq7x68sAAGhNzPiObIhVwc0jAla/fv1kt9u1Z88excTESJKys7MVEREhLy/3Q47Hjx/X4cOHFR0d7dJuGIaGDx%2BumTNnKjExUdLZ31A8ePCgevXq1eR6wsLC3E4HOhynVFtrXiCqq6s3dTwAAKzkad9pHnHC09/fXwkJCVq8eLH27t2r7du3a/369Zo0aZKks0ezqqqqnP3z8vKcR6a%2Bz2azaejQoVq5cqV27typvLw8paamqkuXLoqLi2vROQEAgNbLIwKWJC1YsED9%2B/fXAw88oMcee0yzZ8/WnXfeKUmKjY3V1q1bnX2/%2B%2B47BQcHy2azuY0zd%2B5cjRgxQikpKRo7dqxqa2u1Zs0aeXt7t9hcAABA62YzDMOwuoi2wOE4dfFOTWC3eykkJFClpeWqra3XqGc%2BNmVcAACs9PbDg5tl3NDQds0y7sV4zBEsAACAqwUBCwAAwGQELAAAAJMRsAAAAExGwAIAADAZAQsAAMBkBCwAAACTEbAAAABMRsACAAAwGQELAADAZAQsAAAAkxGwAAAATEbAAgAAMBkBCwAAwGQELAAAAJMRsAAAAExGwAIAADAZAQsAAMBkBCwAAACTEbAAAABMRsACAAAwGQELAADAZAQsAAAAkxGwAAAATEbAAgAAMBkBCwAAwGQeE7Cqq6u1cOFCxcTEKDY2VuvXr2%2B074wZM9QFXRnZAAAYX0lEQVS3b1%2BXnx07dji3Z2VladiwYYqMjFRSUpKOHz/eElMAAAAewm51AWZZtmyZ9u3bpw0bNujIkSOaN2%2BeunXrppEjR7r1LSgo0PLly/XDH/7Q2da%2BfXtJ0t69e7Vo0SI99thjCg8P19KlS7VgwQKtXr26xeYCAABaN48IWBUVFcrMzNTatWvVv39/9e/fX3l5eXr55ZfdAlZNTY2%2B/fZbRUREKDQ01G2sTZs2adSoUUpISJB0NrjdfvvtOnz4sHr27Nki8wEAAK2bR5wizM3NVW1traKiopxt0dHRysnJUX19vUvfwsJC2Wy2RsNSTk6OYmJinI%2B7du2qbt26KScnp3mKBwAAHscjApbD4VBISIh8fHycbZ06dVJ1dbVOnDjh0rewsFBBQUFKTU1VbGysfvKTn%2Bj99993bi8uLlZYWJjLczp27Khjx4417yQAAIDH8IhThJWVlS7hSpLzcU1NjUt7YWGhqqqqFBsbq%2BnTp%2Bvdd9/VjBkzlJGRoYiICFVVVTU41vnjXEhxcbEcDodLm90e4BbcLoe3t5fLvwAAeAK73bO%2B1zwiYPn6%2BroFoHOP/fz8XNpnzpypiRMnOi9qDw8P15dffqnXXntNERERjY7l7%2B/f5HoyMjKUnp7u0paUlKTk5OQmj3ExwcFNrwcAgKtdSEig1SWYyiMCVufOnVVaWqra2lrZ7Wen5HA45Ofnp%2BDgYJe%2BXl5eznB1Tq9evZSfn%2B8cq6SkxGV7SUlJgxfEN2bcuHGKj493abPbA1RaWt7kMRrj7e2l4GB/lZVVqq6u/uJPAACgFTDjO7IhVgU3jwhY/fr1k91u1549e5wXqGdnZysiIkJeXq6HHOfPny%2Bbzaa0tDRnW25urvr06SNJioyMVHZ2thITEyVJR48e1dGjRxUZGdnkesLCwtxOBzocp1Rba14gqqurN3U8AACs5GnfaR5xwtPf318JCQlavHix9u7dq%2B3bt2v9%2BvWaNGmSpLNHs6qqqiRJ8fHxevPNN/XGG2/o4MGDSk9PV3Z2tiZMmCBJGj9%2BvLZs2aLMzEzl5uYqNTVVQ4cO5RYNAACgyWyGYRhWF2GGyspKLV68WH/7298UFBSkn//855o8ebIkqW/fvkpLS3MelcrMzNS6det05MgR3XjjjVqwYIFuueUW51ibN2/Wc889p5MnT2rw4MF6/PHHFRISckX1ORynruj559jtXgoJCVRpablqa%2Bs16pmPTRkXAAArvf3w4GYZNzS0XbOMezEeE7CudgQsAAAa52kByyNOEQIAAFxNCFgAAAAmI2ABAACYjIAFAABgMgIWAACAyQhYAAAAJiNgAQAAmIyABQAAYDICFgAAgMkIWAAAACYjYAEAAJiMgAUAAGAyAhYAAIDJCFgAAAAmI2ABAACYjIAFAABgMgIWAACAyQhYAAAAJiNgAQAAmIyABQAAYDICFgAAgMkIWAAAACYjYAEAAJiMgAUAAGAyAhYAAIDJCFgAAAAm85iAVV1drYULFyomJkaxsbFav359o33/8Y9/6J577lFUVJRGjx6t9957z2V7TEyM%2Bvbt6/JTXl7e3FMAAAAewm51AWZZtmyZ9u3bpw0bNujIkSOaN2%2BeunXrppEjR7r0y83N1axZs5Samqq4uDh99NFH%2BuUvf6nXX39d4eHhKioq0qlTp7R9%2B3b5%2Bfk5nxcQENDSUwIAAK2URwSsiooKZWZmau3aterfv7/69%2B%2BvvLw8vfzyy24BKysrS4MGDdKkSZMkSddee63%2B/ve/6%2B2331Z4eLgKCgoUGhqqnj17WjEVAADgATwiYOXm5qq2tlZRUVHOtujoaK1atUr19fXy8vq/M6FjxozRmTNn3MY4deqUJCk/P1/XX3998xcNAAA8lkdcg%2BVwOBQSEiIfHx9nW6dOnVRdXa0TJ0649O3du7fCw8Odj/Py8vTJJ5/ohz/8oSSpoKBAlZWVmjhxomJjYzVt2jQdOHCgZSYCAAA8gkccwaqsrHQJV5Kcj2tqahp93vHjxzV79mwNGDBAd9xxhySpsLBQJ0%2Be1Jw5cxQUFKS1a9dq8uTJeuuttxQUFNSkeoqLi%2BVwOFza7PYAhYWFXcq0GuTt7eXyLwAAnsBu96zvNY8IWL6%2Bvm5B6tzj71%2Bo/n0lJSWaMmWKDMPQc8895zyN%2BOKLL%2BrMmTMKDAyUJK1YsUJxcXHasWOHRo8e3aR6MjIylJ6e7tKWlJSk5OTkS5rXhQQH%2B5s2FgAAVgsJCbS6BFN5RMDq3LmzSktLVVtbK7v97JQcDof8/PwUHBzs1r%2BoqMh5kftLL72kDh06OLf5%2BPi4HA3z9fVVjx49VFRU1OR6xo0bp/j4eJc2uz1ApaVXfqsHb28vBQf7q6ysUnV19Vc8HgAAVwMzviMbYlVw84iA1a9fP9ntdu3Zs0cxMTGSpOzsbEVERLhc4C6d/Y3DqVOnysvLSy%2B99JJCQ0Od2wzD0PDhwzVz5kwlJiY6%2Bx88eFC9evVqcj1hYWFupwMdjlOqrTUvENXV1Zs6HgAAVvK07zSPCFj%2B/v5KSEjQ4sWL9bvf/U7FxcVav3690tLSJJ09mtWuXTv5%2Bflp9erVOnTokDZu3OjcJp09ldiuXTsNHTpUK1euVPfu3dWhQwc9%2B%2Byz6tKli%2BLi4iybHwAAaF08ImBJ0oIFC7R48WI98MADCgoK0uzZs3XnnXdKkmJjY5WWlqbExERt27ZNVVVVGjt2rMvzx4wZoyeffFJz586V3W5XSkqKTp8%2BrUGDBmnNmjXy9va2YloAAKAVshmGYVhdRFvgcJwyZRy73UshIYEqLS1XbW29Rj3zsSnjAgBgpbcfHtws44aGtmuWcS/Gs34nEgAA4CpAwAIAADAZAQsAAMBkBCwAAACTEbAAAABMRsACAAAwGQELAADAZAQsAAAAkxGwAAAATEbAAgAAMBkBCwAAwGQELAAAAJMRsAAAAExGwAIAADAZAQsAAMBkBCwAAACTEbAAAABMRsACAAAwGQELAADAZAQsAAAAkxGwAAAATEbAAgAAMBkBCwAAwGQELAAAAJMRsAAAAExGwAIAADAZAQsAAMBkHhOwqqurtXDhQsXExCg2Nlbr169vtO/%2B/fs1duxYRUZG6t5779W%2BfftctmdlZWnYsGGKjIxUUlKSjh8/3tzlAwAAD%2BIxAWvZsmXat2%2BfNmzYoEcffVTp6el655133PpVVFRo%2BvTpiomJ0ebNmxUVFaWHHnpIFRUVkqS9e/dq0aJFmjVrljIyMlRWVqYFCxa09HQAAEAr5hEBq6KiQpmZmVq0aJH69%2B%2Bv4cOHa%2BrUqXr55Zfd%2Bm7dulW%2Bvr5KTU1V7969tWjRIgUGBjrD2KZNmzRq1CglJCQoPDxcy5Yt0/vvv6/Dhw%2B39LQAAEAr5REBKzc3V7W1tYqKinK2RUdHKycnR/X19S59c3JyFB0dLZvNJkmy2WwaMGCA9uzZ49weExPj7N%2B1a1d169ZNOTk5LTATAADgCexWF2AGh8OhkJAQ%2Bfj4ONs6deqk6upqnThxQh06dHDpe8MNN7g8v2PHjsrLy5MkFRcXKywszG37sWPHmlxPcXGxHA6HS5vdHuA27uXw9vZy%2BRcAAE9gt3vW95pHBKzKykqXcCXJ%2BbimpqZJfc/1q6qquuD2psjIyFB6erpL26xZszR79uwmj9GY4uJibdiwTuPGjVNYWJj%2BtXTkFY95tSsuLlZGRoZzzm1BW5tzW5uv1Pbm3NbmKzHntjLnxnhEXPT19XULQOce%2B/n5NanvuX6Nbff3929yPePGjdPmzZtdfsaNG9fk51%2BIw%2BFQenq62xEyT8acPV9bm6/U9ubc1uYrMee2ziOOYHXu3FmlpaWqra2V3X52Sg6HQ35%2BfgoODnbrW1JS4tJWUlLiTNqNbQ8NDW1yPWFhYW0%2BuQMA0JZ5xBGsfv36yW63Oy9Ul6Ts7GxFRETIy8t1ipGRkfr8889lGIYkyTAM7d69W5GRkc7t2dnZzv5Hjx7V0aNHndsBAAAuxiMClr%2B/vxISErR48WLt3btX27dv1/r16zVp0iRJZ49mVVVVSZJGjhypsrIyLV26VPn5%2BVq6dKkqKys1atQoSdL48eO1ZcsWZWZmKjc3V6mpqRo6dKh69uxp2fwAAEDr4r148eLFVhdhhkGDBmn//v36/e9/r08%2B%2BUS/%2BMUvdO%2B990qSBgwYoGuvvVb9%2BvWTj4%2BPbr31Vr3yyitatWqVamtr9dRTT6lbt26Szt6WoUuXLkpPT9fLL7%2BsG2%2B8UUuXLr2ka7CaW2BgoG699VYFBgZaXUqLYc6er63NV2p7c25r85WYc1tmM86dKwMAAIApPOIUIQAAwNWEgAUAAGAyAhYAAIDJCFgAAAAmI2ABAACYjIAFAABgMgIWAACAyQhYAAAAJiNgXYWqq6u1cOFCxcTEKDY2VuvXr2%2B07/79%2BzV27FhFRkbq3nvv1b59%2B1qwUvMUFRUpOTlZt956q4YMGaK0tDRVV1c32HfGjBnq27evy8%2BOHTtauOIr8%2B6777rNITk5ucG%2BnrDGmzdvdptv3759FR4e3mD/1r7GNTU1uvvuu7Vz505n2%2BHDhzV58mTdfPPN%2BtGPfqSPPvrogmNkZWVp2LBhioyMVFJSko4fP97cZV%2B2hua7Z88e/fSnP1VUVJRGjBihzMzMC44RExPjtubl5eXNXfpla2jOTzzxhNscNm3a1OgYrWmNJfc5z58/v8H39bk/U9eQ1rbOV8TAVWfJkiXG6NGjjX379hl/%2B9vfjKioKOPtt99261deXm4MHjzYePLJJ438/Hzj8ccfN/7nf/7HKC8vt6Dqy1dfX2/cd999xtSpU42vv/7a%2BOyzz4zhw4cbTz75ZIP9hw8fbmzZssUoLi52/lRXV7dw1VfmhRdeMB566CGXOZw8edKtn6escWVlpctcjxw5YgwfPtxYunRpg/1b8xpXVVUZSUlJRp8%2BfYxPP/3UMIyz%2B/jo0aONlJQUIz8/31i1apURGRlp/Oc//2lwjJycHOO///u/jb/85S/GV199ZUyYMMGYPn16S06jyRqab3FxsRETE2P8/ve/Nw4cOGBkZWUZERERxo4dOxoc49ixY0afPn2MQ4cOuax5fX19C86k6Rqas2EYxuTJk43Vq1e7zKGioqLBMVrTGhtGw3MuKytzmevnn39u3HTTTca7777b4BitbZ2vFAHrKlNeXm5ERES4vGmff/55Y8KECW59MzMzjfj4eOfOWV9fbwwfPtz485//3GL1miE/P9/o06eP4XA4nG1vvvmmERsb69a3urra6Nevn1FYWNiSJZouJSXF%2BP3vf3/Rfp6yxudbtWqVMWzYsAZDU2te47y8POPHP/6xMXr0aJcvon/%2B85/GzTff7BKMH3jgAeO5555rcJy5c%2Bca8%2BbNcz4%2BcuSI0bdvX%2BPQoUPNO4FL1Nh8X3nlFWPkyJEufR955BFjzpw5DY7z8ccfG4MHD272es3Q2JwNwzCGDBlifPjhh00ap7WssWFceM7f9%2BCDDxq//vWvGx2nNa2zGThFeJXJzc1VbW2toqKinG3R0dHKyclRfX29S9%2BcnBxFR0fLZrNJkmw2mwYMGKA9e/a0aM1XKjQ0VOvWrVOnTp1c2k%2BfPu3Wt7CwUDabTT179myp8ppFQUGBrrvuuov285Q1/r4TJ05o7dq1SklJkY%2BPj9v21rzGu3bt0sCBA5WRkeHSnpOTo//6r/9SQECAsy06OrrRdczJyVFMTIzzcdeuXdWtWzfl5OQ0T%2BGXqbH5njvNf76G3tOSlJ%2Bfr%2Buvv75ZajRbY3M%2Bffq0ioqKmvS%2BllrPGkuNz/n7PvnkE3322WeaM2dOo31a0zqbwW51AXDlcDgUEhLi8sXTqVMnVVdX68SJE%2BrQoYNL3xtuuMHl%2BR07dlReXl6L1WuG4OBgDRkyxPm4vr5emzZt0qBBg9z6FhYWKigoSKmpqdq1a5e6dOmi2bNnKy4uriVLviKGYejAgQP66KOPtHr1atXV1WnkyJFKTk52Cxyessbf9%2BqrryosLEwjR45scHtrXuP777%2B/wXaHw6GwsDCXto4dO%2BrYsWMN9i8uLr6k/lZpbL49evRQjx49nI%2B/%2B%2B47vfXWW5o9e3aD/QsKClRZWamJEyfqwIED6tevnxYuXHhVfhk3NueCggLZbDatWrVKH3zwga655hpNmTJFY8aMabB/a1ljqfE5f9%2BaNWs0ZswYde3atdE%2BrWmdzcARrKtMZWWl25fsucc1NTVN6nt%2Bv9Zm%2BfLl2r9/v371q1%2B5bSssLFRVVZViY2O1bt06xcXFacaMGfriiy8sqPTyHDlyxLl2zzzzjObNm6c333xTy5Ytc%2BvraWtsGIYyMzM1YcKERvt4whqf71LXsaqqymPWvaqqSrNnz1anTp00bty4BvsUFhbq5MmTmjFjhl544QX5%2Bflp8uTJjR7xuhqdO/Laq1cvrVmzRmPHjtUjjzyid999t8H%2BnrTGhw8f1qeffqqJEydesJ8nrPOl4AjWVcbX19ftDXbusZ%2BfX5P6nt%2BvNVm%2BfLk2bNigp59%2BWn369HHbPnPmTE2cOFHt27eXJIWHh%2BvLL7/Ua6%2B9poiIiJYu97J0795dO3fuVPv27WWz2dSvXz/V19dr7ty5WrBggby9vZ19PW2Nv/jiCxUVFemuu%2B5qtI8nrPH5fH19deLECZe2C61jY%2Bvu7%2B/fbDU2h/Lycs2cOVPffPONXnnllUbrf/HFF3XmzBkFBgZKklasWKG4uDjt2LFDo0ePbsmSL1tCQoJuv/12XXPNNZLO7rfffPONXn31VQ0fPtytv6essSRt27ZN/fr1czvafj5PWOdLwRGsq0znzp1VWlqq2tpaZ5vD4ZCfn5%2BCg4Pd%2BpaUlLi0lZSUuB12bi0ef/xx/fGPf9Ty5cs1YsSIBvt4eXk5v3jP6dWrl4qKilqiRNNcc801zuuqJKl3796qrq7WyZMnXfp52hp/%2BOGHiomJcVvD7/OUNf6%2BS13HxvqHhoY2W41mO336tH7%2B858rLy9PGzZsuOC1ST4%2BPs4vXels%2BOjRo0erWnObzeYMV%2BdcaL/1hDU%2B58MPP9Qdd9xx0X6esM6XgoB1lenXr5/sdrvLxa/Z2dmKiIiQl5frckVGRurzzz%2BXYRiSzp5%2B2b17tyIjI1u0ZjOkp6frT3/6k5566qkLHt2YP3%2B%2BFixY4NKWm5urXr16NXeJpvnwww81cOBAVVZWOtu%2B%2BuorXXPNNS7X2EmetcaStHfvXg0YMOCCfTxhjc8XGRmpL7/8UlVVVc627OzsRtcxMjJS2dnZzsdHjx7V0aNHW82619fXa9asWfr222%2B1ceNG3XjjjY32NQxDw4YN0%2BbNm51tFRUVOnjwYKta82effVaTJ092abvQftva1/gcwzD0xRdfXPR97SnrfCkIWFcZf39/JSQkaPHixdq7d6%2B2b9%2Bu9evXO2/c5nA4nB/SI0eOVFlZmZYuXar8/HwtXbpUlZWVGjVqlJVTuGQFBQV64YUXNG3aNEVHR8vhcDh/JNc5x8fH680339Qbb7yhgwcPKj09XdnZ2Re8pudqExUVJV9fX/3mN79RYWGh3n//fS1btkxTp06V5JlrfE5eXl6DpxE8bY3Pd%2Butt6pr165asGCB8vLytGbNGu3du1c/%2BclPJJ09NeRwOFRXVydJGj9%2BvLZs2aLMzEzl5uYqNTVVQ4cObTW/Wfn6669r586deuKJJxQcHOx8P587Tfr9%2BdpsNg0dOlQrV67Uzp07lZeXp9TUVHXp0qVV/GLDObfffrs%2B%2B%2Bwzvfjiizp06JBeeeUVvfHGG3rwwQcled4an/Of//xH5eXlDb6vPXGdL4llN4hAoyoqKozU1FTj5ptvNmJjY40//vGPzm19%2BvRxuQdSTk6OkZCQYERERBg/%2BclPjC%2B//NKCiq/M6tWrjT59%2BjT4Yxjuc37ttdeMO%2B%2B807jpppuMMWPGGLt27bKq9Mv29ddfG5MnTzZuvvlmY/DgwcbKlSud97ryxDU%2BJyIiwvjggw/c2j1xjc%2B/X9A333xj/OxnPzNuuukm46677jI%2B/vhj57ZPP/3U6NOnj3H48GFn25///GcjLi7OuPnmm42kpCTj%2BPHjLVr/pfr%2BfB988MEG38/n7ud3/nyrqqqMtLQ0Y/DgwUZkZKTx0EMPGUeOHLFsLk11/hq/%2B%2B67xujRo42IiAhj5MiRxrZt25zbPGGNDcN9znv27DH69OnT4D3tPGWdL5fNMP7/uQcAAACYglOEAAAAJiNgAQAAmIyABQAAYDICFgAAgMkIWAAAACYjYAEAAJiMgAUAAGAyAhYAAIDJCFgAAAAmI2ABAACYjIAFAABgMgIWAACAyQhYAAAAJvt/VU4MvWHAk00AAAAASUVORK5CYII%3D\">\n",
       "    </div>\n",
       "</div>\n",
       "</div><div class=\"row variablerow\">\n",
       "    <div class=\"col-md-3 namecol\">\n",
       "        <p class=\"h4\">lastName<br/>\n",
       "            <small>Categorical, Unique</small>\n",
       "        </p>\n",
       "    </div> <div class=\"col-md-3 collapse in\" id=\"minivalues8252176651208593598\"><table border=\"1\" class=\"dataframe example_values\">\n",
       "  <thead>\n",
       "    <tr style=\"text-align: right;\">\n",
       "      <th>First 3 values</th>\n",
       "    </tr>\n",
       "  </thead>\n",
       "  <tbody>\n",
       "    <tr>\n",
       "      <td>Chadwick</td>\n",
       "    </tr>\n",
       "    <tr>\n",
       "      <td>Gilbert###</td>\n",
       "    </tr>\n",
       "    <tr>\n",
       "      <td>Alvarez$$%!</td>\n",
       "    </tr>\n",
       "  </tbody>\n",
       "</table></div>\n",
       "<div class=\"col-md-6 collapse in\" id=\"minivalues8252176651208593598\"><table border=\"1\" class=\"dataframe example_values\">\n",
       "  <thead>\n",
       "    <tr style=\"text-align: right;\">\n",
       "      <th>Last 3 values</th>\n",
       "    </tr>\n",
       "  </thead>\n",
       "  <tbody>\n",
       "    <tr>\n",
       "      <td>Ampère</td>\n",
       "    </tr>\n",
       "    <tr>\n",
       "      <td>Planck!!!</td>\n",
       "    </tr>\n",
       "    <tr>\n",
       "      <td>CURIE</td>\n",
       "    </tr>\n",
       "  </tbody>\n",
       "</table></div>\n",
       "<div class=\"col-md-12 text-right\">\n",
       "    <a role=\"button\" data-toggle=\"collapse\" data-target=\"#values8252176651208593598,#minivalues8252176651208593598\" aria-expanded=\"false\"\n",
       "       aria-controls=\"collapseExample\">\n",
       "        Toggle details\n",
       "    </a>\n",
       "</div>\n",
       "<div class=\"col-md-12 collapse\" id=\"values8252176651208593598\">\n",
       "    <p class=\"h4\">First 20 values</p>\n",
       "    <table border=\"1\" class=\"dataframe sample table table-hover\">\n",
       "  <tbody>\n",
       "    <tr>\n",
       "      <th>1</th>\n",
       "      <td>Chadwick</td>\n",
       "    </tr>\n",
       "    <tr>\n",
       "      <th>2</th>\n",
       "      <td>Gilbert###</td>\n",
       "    </tr>\n",
       "    <tr>\n",
       "      <th>3</th>\n",
       "      <td>Alvarez$$%!</td>\n",
       "    </tr>\n",
       "    <tr>\n",
       "      <th>4</th>\n",
       "      <td>Einstein</td>\n",
       "    </tr>\n",
       "    <tr>\n",
       "      <th>5</th>\n",
       "      <td>Hertz</td>\n",
       "    </tr>\n",
       "    <tr>\n",
       "      <th>6</th>\n",
       "      <td>Hoy&amp;&amp;&amp;le</td>\n",
       "    </tr>\n",
       "    <tr>\n",
       "      <th>7</th>\n",
       "      <td>Nöether$</td>\n",
       "    </tr>\n",
       "    <tr>\n",
       "      <th>8</th>\n",
       "      <td>Ga%%%uss</td>\n",
       "    </tr>\n",
       "    <tr>\n",
       "      <th>9</th>\n",
       "      <td>Böhr//((%%</td>\n",
       "    </tr>\n",
       "    <tr>\n",
       "      <th>10</th>\n",
       "      <td>dirac$</td>\n",
       "    </tr>\n",
       "    <tr>\n",
       "      <th>11</th>\n",
       "      <td>M$$ax%%well</td>\n",
       "    </tr>\n",
       "    <tr>\n",
       "      <th>12</th>\n",
       "      <td>H$$$ilbert</td>\n",
       "    </tr>\n",
       "    <tr>\n",
       "      <th>13</th>\n",
       "      <td>Newton</td>\n",
       "    </tr>\n",
       "    <tr>\n",
       "      <th>14</th>\n",
       "      <td>COM%%%pton</td>\n",
       "    </tr>\n",
       "    <tr>\n",
       "      <th>15</th>\n",
       "      <td>GALiLEI</td>\n",
       "    </tr>\n",
       "    <tr>\n",
       "      <th>16</th>\n",
       "      <td>KEPLER</td>\n",
       "    </tr>\n",
       "    <tr>\n",
       "      <th>17</th>\n",
       "      <td>Ampère</td>\n",
       "    </tr>\n",
       "    <tr>\n",
       "      <th>18</th>\n",
       "      <td>Planck!!!</td>\n",
       "    </tr>\n",
       "    <tr>\n",
       "      <th>19</th>\n",
       "      <td>CURIE</td>\n",
       "    </tr>\n",
       "  </tbody>\n",
       "</table>\n",
       "    <p class=\"h4\">Last 20 values</p>\n",
       "    \n",
       "</div>\n",
       "</div><div class=\"row variablerow\">\n",
       "    <div class=\"col-md-3 namecol\">\n",
       "        <p class=\"h4\">price<br/>\n",
       "            <small>Numeric</small>\n",
       "        </p>\n",
       "    </div> <div class=\"col-md-6\">\n",
       "    <div class=\"row\">\n",
       "        <div class=\"col-sm-6\">\n",
       "            <table class=\"stats \">\n",
       "                <tr>\n",
       "                    <th>Distinct count</th>\n",
       "                    <td>8</td>\n",
       "                </tr>\n",
       "                <tr>\n",
       "                    <th>Unique (%)</th>\n",
       "                    <td>42.1%</td>\n",
       "                </tr>\n",
       "                <tr class=\"ignore\">\n",
       "                    <th>Missing (%)</th>\n",
       "                    <td>0.0%</td>\n",
       "                </tr>\n",
       "                <tr class=\"ignore\">\n",
       "                    <th>Missing (n)</th>\n",
       "                    <td>0</td>\n",
       "                </tr>\n",
       "                <tr class=\"ignore\">\n",
       "                    <th>Infinite (%)</th>\n",
       "                    <td>0.0%</td>\n",
       "                </tr>\n",
       "                <tr class=\"ignore\">\n",
       "                    <th>Infinite (n)</th>\n",
       "                    <td>0</td>\n",
       "                </tr>\n",
       "            </table>\n",
       "\n",
       "        </div>\n",
       "        <div class=\"col-sm-6\">\n",
       "            <table class=\"stats \">\n",
       "\n",
       "                <tr>\n",
       "                    <th>Mean</th>\n",
       "                    <td>6.0526</td>\n",
       "                </tr>\n",
       "                <tr>\n",
       "                    <th>Minimum</th>\n",
       "                    <td>1</td>\n",
       "                </tr>\n",
       "                <tr>\n",
       "                    <th>Maximum</th>\n",
       "                    <td>10</td>\n",
       "                </tr>\n",
       "                <tr class=\"ignore\">\n",
       "                    <th>Zeros (%)</th>\n",
       "                    <td>0.0%</td>\n",
       "                </tr>\n",
       "            </table>\n",
       "        </div>\n",
       "    </div>\n",
       "</div>\n",
       "<div class=\"col-md-3 collapse in\" id=\"minihistogram7733644726857129748\">\n",
       "    <img src=\"data:image/png;base64,iVBORw0KGgoAAAANSUhEUgAAAMgAAABLCAYAAAA1fMjoAAAABHNCSVQICAgIfAhkiAAAAAlwSFlzAAAPYQAAD2EBqD%2BnaQAAAjdJREFUeJzt3LFKW2EYx%2BE3pYsXkBjEzVsorq4ujiregzjpVMSpOGUTvAYFV8k1SMHdxUWQeMaIo6ebIC1/WqHH0/o82wmE783w40tO8mXQtm1bwC99eu8BoM8%2Bv/cAdO/L1%2BkfP%2Bf7t/W/MEn/2UEgEAgEAoFAIBAIBAKBQCAQCAQCgUAgEAgEAoFAIBAIBAKBQCAQCD7seRBnIvgddhAIBAKBQCAQCAQCgUAgEAgEAoFAIBAIBAKBQCAQCAQCgUAgEHzYn7t34X/6Sf1bXstb9O3120EgEAgEAoFAIBAIBAKBQCAQCHr3PUhX99vfos%2Bz8XfYQSAQCAQCgUAgEAgEAoFAIBAIBm3btu89BCQPDw91dnZW29vbNRqNOl3bDkLvNU1TJycn1TRN52sLBAKBQCAQCARC7w2Hw9rd3a3hcNj52u5iQWAHgUAgEAgEAoFAIBAIBAKBQCAQCL30%2BPhYGxsbdXd3V1VVNzc3tbW1Vevr67W3t1dPT0%2BdzCEQeuf6%2Brp2dnbq9vb25bGDg4Pa39%2Bv6XRaKysrdXp62sksAqF3zs/P6%2Bjo6OXsx/39fc3n81pdXa2qqs3Nzbq8vOxklt79cRwcHx%2B/up7NZrW4uPhyPRqNajabdTKLHYTee35%2B/umxwWDQydoCoffG4/Gr04RN09R4PO5kbYHQe0tLS7WwsFBXV1dVVXVxcVFra2udrO0zCP%2BEyWRSh4eHNZ/Pa3l5uSaTSSfrOg8CgbdYEAgEAoFA8AO213WyLhfFOQAAAABJRU5ErkJggg%3D%3D\">\n",
       "\n",
       "</div>\n",
       "<div class=\"col-md-12 text-right\">\n",
       "    <a role=\"button\" data-toggle=\"collapse\" data-target=\"#descriptives7733644726857129748,#minihistogram7733644726857129748\"\n",
       "       aria-expanded=\"false\" aria-controls=\"collapseExample\">\n",
       "        Toggle details\n",
       "    </a>\n",
       "</div>\n",
       "<div class=\"row collapse col-md-12\" id=\"descriptives7733644726857129748\">\n",
       "    <div class=\"col-sm-4\">\n",
       "        <p class=\"h4\">Quantile statistics</p>\n",
       "        <table class=\"stats indent\">\n",
       "            <tr>\n",
       "                <th>Minimum</th>\n",
       "                <td>1</td>\n",
       "            </tr>\n",
       "            <tr>\n",
       "                <th>5-th percentile</th>\n",
       "                <td>1.9</td>\n",
       "            </tr>\n",
       "            <tr>\n",
       "                <th>Q1</th>\n",
       "                <td>3</td>\n",
       "            </tr>\n",
       "            <tr>\n",
       "                <th>Median</th>\n",
       "                <td>8</td>\n",
       "            </tr>\n",
       "            <tr>\n",
       "                <th>Q3</th>\n",
       "                <td>8</td>\n",
       "            </tr>\n",
       "            <tr>\n",
       "                <th>95-th percentile</th>\n",
       "                <td>10</td>\n",
       "            </tr>\n",
       "            <tr>\n",
       "                <th>Maximum</th>\n",
       "                <td>10</td>\n",
       "            </tr>\n",
       "            <tr>\n",
       "                <th>Range</th>\n",
       "                <td>9</td>\n",
       "            </tr>\n",
       "            <tr>\n",
       "                <th>Interquartile range</th>\n",
       "                <td>5</td>\n",
       "            </tr>\n",
       "        </table>\n",
       "        <p class=\"h4\">Descriptive statistics</p>\n",
       "        <table class=\"stats indent\">\n",
       "            <tr>\n",
       "                <th>Standard deviation</th>\n",
       "                <td>2.9528</td>\n",
       "            </tr>\n",
       "            <tr>\n",
       "                <th>Coef of variation</th>\n",
       "                <td>0.48786</td>\n",
       "            </tr>\n",
       "            <tr>\n",
       "                <th>Kurtosis</th>\n",
       "                <td>-1.4482</td>\n",
       "            </tr>\n",
       "            <tr>\n",
       "                <th>Mean</th>\n",
       "                <td>6.0526</td>\n",
       "            </tr>\n",
       "            <tr>\n",
       "                <th>MAD</th>\n",
       "                <td>2.6814</td>\n",
       "            </tr>\n",
       "            <tr class=\"\">\n",
       "                <th>Skewness</th>\n",
       "                <td>-0.22564</td>\n",
       "            </tr>\n",
       "            <tr>\n",
       "                <th>Sum</th>\n",
       "                <td>115</td>\n",
       "            </tr>\n",
       "            <tr>\n",
       "                <th>Variance</th>\n",
       "                <td>8.7193</td>\n",
       "            </tr>\n",
       "            <tr>\n",
       "                <th>Memory size</th>\n",
       "                <td>0.0 B</td>\n",
       "            </tr>\n",
       "        </table>\n",
       "    </div>\n",
       "    <div class=\"col-sm-8 histogram\">\n",
       "        <img src=\"data:image/png;base64,iVBORw0KGgoAAAANSUhEUgAAAlgAAAGQCAYAAAByNR6YAAAABHNCSVQICAgIfAhkiAAAAAlwSFlzAAAPYQAAD2EBqD%2BnaQAAIABJREFUeJzt3XtQ1XX%2Bx/EXnBMIGAXKcZJtpOtmZuaNtMRN1l3ZcqMyIytrdVvKMKYty%2BviBYoSvEyDYmYXs0bZza7a5lTbmk1m3suxTMU1HTWOG2QogcD5/bET8ztAifWBD%2Bf7fT5mHIaPni9vzoevPj3fwyEsEAgEBAAAAGPCbQ8AAADgNAQWAACAYQQWAACAYQQWAACAYQQWAACAYQQWAACAYQQWAACAYQQWAACAYQQWAACAYQQWAACAYQQWAACAYQQWAACAYQQWAACAYQQWAACAYQQWAACAYQQWAACAYQQWAACAYQQWAACAYQQWAACAYQQWAACAYQQWAACAYQQWAACAYQQWAACAYQQWAACAYQQWAACAYQQWAACAYQQWAACAYQQWAACAYQQWAACAYQQWAACAYQQWAACAYQQWAACAYQQWAACAYQQWAACAYQQWAACAYQQWAACAYQQWAACAYQQWAACAYQQWAACAYV7bA7iF3/%2Bd7RFcIzw8TPHxMfrmm%2BOqrw/YHseV2AP72AP72AP7wsPD1KlTRzsf28pHBVpReHiYwsLCFB4eZnsU12IP7GMP7GMP7LN53xNYAAAAhhFYAAAAhhFYAAAAhhFYAAAAhhFYAAAAhhFYAAAAhhFYAAAAhhFYAAAAhhFYzaipqdHMmTPVv39/XXXVVZo7d64CAV6FFwAAtAw/KqcZeXl52rBhg5555hkdP35cf/3rX9W1a1fdeuuttkcDAAAhgEewGqmoqNDKlSuVm5uryy%2B/XAMHDtTYsWO1fft226MBAIAQwSNYjWzevFkdO3ZUcnJyw1pmZqbFiQAAQKghsBo5cOCAEhMT9dprr2nRokU6efKkbrrpJo0bN07h4S17wK%2BsrEx%2Bvz9ozeuNls/na42R0YjHEx70Fm2PPbCPPbCPPbDP5n1PYDVy4sQJ7d%2B/XytWrFB%2Bfr78fr9ycnIUFRWlsWPHtugYJSUlKioqClrLyspSdnZ2a4yMHxEbG2V7BNdjD%2Bxr73vQb%2Brbtkc4LZseTTvt27T3PUDrILAa8Xq9qqys1Jw5c5SYmChJOnTokJYvX97iwMrIyFBqamqj40arvPy48XnRlMcTrtjYKB07VqW6unrb47gSe2Afe9A6TufvcfbAvh/2wAYCq5GEhARFRkY2xJUknXfeeTp8%2BHCLj%2BHz%2BZpcDvT7v1NtLSdYW6qrq%2Bc%2Bt4w9sI89MOvn3JfsgTtxYbiRXr16qbq6Wvv27WtYKy0tDQouAACAn0JgNXL%2B%2Befrmmuu0eTJk/XFF19o3bp1Wrx4sUaNGmV7NAAAECK4RNiMwsJC5ebmatSoUYqKitLtt9%2Bu0aNH2x4LAACECAKrGWeeeaZmz55tewwAABCiuEQIAABgGIEFAABgGIEFAABgGIEFAABgGIEFAABgGIEFAABgGIEFAABgGIEFAABgGIEFAABgGIEFAABgGIEFAABgGIEFAABgGIEFAABgGIEFAABgGIEFAABgGIEFAABgGIEFAABgGIEFAABgGIEFAABgGIEFAABgGIEFAABgGIEFAABgGIEFAABgGIEFAABgGIEFAABgGIEFAABgGIEFAABgGIEFAABgGIEFAABgGIEFAABgGIEFAABgGIEFAABgGIEFAABgGIEFAABgGIEFAABgGIEFAABgGIEFAABgGIEFAABgGIEFAABgGIHVjHfeeUe//vWvg35lZ2fbHgsAAIQIr%2B0B2qM9e/ZoyJAhys3NbViLjIy0OBEAAAglBFYz9u7dq4svvlgJCQm2RwEAACGIS4TN2Lt3r5KSkmyPAQAAQhSPYDUSCAS0b98%2Bffjhh3rqqadUV1entLQ0ZWdnKyIiokXHKCsrk9/vD1rzeqPl8/laY2Q04vGEB71F22MP7GMPWofX2/L7kz2wz%2BZ9T2A1cujQIVVVVSkiIkLz58/XwYMHlZeXp%2B%2B//17Tpk1r0TFKSkpUVFQUtJaVlcUT5dtYbGyU7RFcjz2wjz0wKy4u5rRvwx64U1ggEAjYHqK9qaio0FlnnaWwsDBJ0po1a/Twww9r69at8ng8p7w9j2DZ5fGEKzY2SseOVamurt72OK7EHtgXKnvwu8J1tkc4Le9MSGnxnw2VPXCyH/bABh7BasbZZ58d9P4FF1yg6upqffvtt4qPjz/l7X0%2BX5OY8vu/U20tJ1hbqqur5z63jD2wjz0w6%2Bfcl%2ByBO3FhuJF169bpyiuvVFVVVcPa559/rrPPPrtFcQUAAEBgNdK7d29FRkZq2rRpKi0t1dq1azV79mzdfffdtkcDAAAhgkuEjXTs2FHPPPOMHnvsMY0YMUIxMTG69dZbCSwAANBiBFYzLrroIj333HO2xwAAACGKS4QAAACGEVgAAACGEVgAAACGEVgAAACGEVgAAACGEVgAAACGEVgAAACGEVgAAACGEVgAAACGEVgAAACGEVgAAACGEVgAAACGEVgAAACGEVgAAACGEVgAAACGEVgAAACGEVgAAACGEVgAAACGEVgAAACGEVgAAACGEVgAAACGEVgAAACGEVgAAACGEVgAAACGEVgAAACGEVgAAACGEVgAAACGEVgAAACGEVgAAACGEVgAAACGEVgAAACGEVgAAACGEVgAAACGEVgAAACGEVgAAACGEVgAAACGEVgAAACGEVgAAACGEVinkJmZqUmTJtkeAwAAhBAC6yesXr1aa9eutT0GAAAIMQTWj6ioqNDs2bPVs2dP26MAAIAQ47U9QHv1xBNPKD09XWVlZbZHAQAAIYZHsJqxfv16bdq0Sffdd5/tUQAAQAjiEaxGqqurNX36dOXk5KhDhw4/6xhlZWXy%2B/1Ba15vtHw%2Bn4kRcQoeT3jQW7Q99sA%2B9qB1eL0tvz/ZA/ts3vcEViNFRUW67LLLlJKS8rOPUVJSoqKioqC1rKwsZWdn/9LxcBpiY6N%2B0e37TX3b0CRtY9OjabZHaOKX7gF%2BOfbArLi4mNO%2BDXvgTgRWI6tXr9bRo0fVu3dvSVJNTY0kac2aNdq6dWuLjpGRkaHU1NSgNa83WuXlx80Oi2Z5POGKjY3SsWNVqqurtz1Om2lPX19u3YP2hD1oHadznrEH9v2wBzYQWI0sW7ZMtbW1De8XFhZKkiZMmNDiY/h8viaXA/3%2B71RbywnWlurq6l11n7fHz9Vte9AesQdm/Zz7kj1wJwKrkcTExKD3Y2L%2B93Bwt27dbIwDAABCEM%2B8AwAAMIxHsE7h8ccftz0CAAAIMTyCBQAAYBiBBQAAYBiBBQAAYBiBBQAAYJijAmvkyJFasWKFvvvuO9ujAAAAF3NUYA0YMECLFi3SoEGD9OCDD%2BrDDz9UIBCwPRYAAHAZRwXWQw89pPfff18LFy6Ux%2BPR/fffr2uuuUbz5s3Tvn37bI8HAABcwnGvgxUWFqarr75aV199taqqqrRs2TItXLhQixcvVp8%2BfXTXXXfp97//ve0xAQCAgzkusCSprKxMb7zxht544w19%2BeWX6tOnj2688UYdOXJE06ZN08aNGzV16lTbYwIAAIdyVGC9/vrrev3117VhwwbFx8frhhtu0JNPPqmkpKSGP3POOefo0UcfJbAAAECrcVRgTZ06VUOGDNGCBQs0ePBghYc3fYrZ%2BeefrzvuuMPCdAAAwC0cFVgffPCB4uLiVFFR0RBXn376qXr06CGPxyNJ6tOnj/r06WNzTAAA4HCO%2Bi7CyspKpaWl6emnn25Yy8zMVHp6ug4fPmxxMgAA4CaOCqzHHntM3bp105gxYxrW3nrrLZ1zzjnKz8%2B3OBkAAHATRwXWpk2bNGnSJCUkJDSsxcfH65FHHtHHH39scTIAAOAmjgosr9erY8eONVmvqqriFd0BAECbcVRgDR48WHl5efrqq68a1g4cOKD8/HylpKRYnAwAALiJo76LcOLEiRozZoyGDRum2NhYSdKxY8fUo0cPTZ482fJ0AADALRwVWJ06ddKrr76qjz76SLt375bX69WFF16ogQMHKiwszPZ4AADAJRwVWJLk8XiUkpLCJUEAAGCNowLL7/dr/vz52rJli06ePNnkie3vvfeepckAAICbOCqw/va3v2nHjh267rrrdOaZZ9oeBwAAuJSjAuvjjz/WkiVL1K9fP9ujAAAAF3PUyzRER0erU6dOtscAAAAu56jASk9P15IlS1RXV2d7FAAA4GKOukRYUVGhVatW6d///rfOPfdcRUREBP3%2BCy%2B8YGkyAADgJo4KLEkaPny47REAAIDLOSqw8vPzbY8AAADgrOdgSVJZWZmKior00EMP6b///a/efvttlZaW2h4LAAC4iKMCa//%2B/frjH/%2BoV199VWvWrNGJEyf01ltvacSIEdq%2Bfbvt8QAAgEs4KrAef/xxDR06VO%2B%2B%2B67OOOMMSdLcuXOVmpqqwsJCy9MBAAC3cFRgbdmyRWPGjAn6wc5er1f33Xefdu7caXEyAADgJo4KrPr6etXX1zdZP378uDwej4WJAACAGzkqsAYNGqSnnnoqKLIqKipUUFCgAQMGWJwMAAC4iaMCa9KkSdqxY4cGDRqk6upqjRs3TkOGDNHBgwc1ceJE2%2BMBAACXcNTrYHXp0kWvvfaaVq1apc8//1z19fUaNWqU0tPT1bFjR9vjAQAAl3BUYElSVFSURo4caXsMAADgYo4KrDvvvPMnf5%2BfRQgAANqCowIrMTEx6P3a2lrt379fX375pe666y5LUwEAALdxVGD92M8iXLBggY4cOdLi4%2Bzfv1%2BzZs3Sli1bdNZZZ%2BmOO%2B7Q3XffbWpMAADgcI76LsIfk56ern/%2B858t%2BrP19fXKzMxUXFycXn31Vc2cOVPFxcV68803W3lKAADgFK4IrK1bt7b4hUaPHj2q7t27a8aMGUpKStJvfvMbDRw4UJs3b27lKQEAgFM46hJhc09yr6ys1K5du3Tbbbe16Bg%2Bn0/z58%2BXJAUCAW3ZskUbN27U9OnTjc4KAACcy1GB1bVr16CfQyhJZ5xxhu644w5df/31p3281NRUHTp0SEOGDNGwYcNMjQkAABzOUYH1%2BOOPGz3ek08%2BqaNHj2rGjBnKz8/XtGnTWnS7srIy%2Bf3%2BoDWvN1o%2Bn8/ofGiexxMe9NYtvN728/m6dQ/aE/agdZzOecYe2GfzvndUYG3cuLHFf7Z///6n/DM9e/aUJFVXV2vChAl65JFHFBERccrblZSUqKioKGgtKytL2dnZLZ4Pv1xsbJTtEdpUXFyM7RGacNsetEfsgVk/5zxjD9zJUYE1evTohkuEgUCgYb3xWlhYmD7//PNmj3H06FFt27ZNQ4cObVi78MILdfLkSVVWVio%2BPv6Uc2RkZCg1NTVozeuNVnn58dP7hPCzeDzhio2N0rFjVaqrqz/1DRyiPX19uXUP2hP2oHWcznnGHtj3wx7Y4KjAWrRokfLy8vTwww8rOTlZERER%2BuyzzzRr1izdeOONuvbaa095jIMHD2r8%2BPFau3atunTpIknasWOH4uPjWxRX0v%2BeKN/4cqDf/51qaznB2lJdXb2r7vP2%2BLm6bQ/aI/bArJ9zX7IH7uSoC8P5%2BfnKycnRsGHDFBcXp5iYGA0YMECzZs3S8uXLlZiY2PDrx/Ts2VM9evTQlClTtGfPHq1du1YFBQW699572/AzAQAAocxRgVVWVtZsPHXs2FHl5eUtOobH49HChQsVFRWljIwMTZ06VaNHjz7lzzkEAAD4gaMuEV5xxRWaO3eunnjiCXXs2FGSVFFRoYKCAg0cOLDFx%2BnSpUuTJ6kDAAC0lKMCa9q0abrzzjs1ePBgJSUlKRAI6D//%2BY8SEhL0wgsv2B4PAAC4hKMC64ILLtBbb72lVatWae/evZKk22%2B/Xdddd52iovg2WQAA0DYcFViSdNZZZ2nkyJE6ePCgzj33XEn/ezV3AACAtuKoJ7kHAgEVFhaqf//%2BGj58uI4cOaKJEydq6tSpOnnypO3xAACASzgqsJYtW6bXX39d06dPb3jF9aFDh%2Brdd9/lSesAAKDNOCqwSkpKlJOTo5tuuqnh1duvvfZa5eXl6c0337Q8HQAAcAtHBdbBgwfVvXv3JuuXXHJJkx%2B%2BDAAA0FocFViJiYn67LPPmqx/8MEHDU94BwAAaG2O%2Bi7CP//5z5o5c6b8fr8CgYDWr1%2BvkpISLVu2TJMmTbI9HgAAcAlHBdaIESNUW1ur4uJiff/998rJyVF8fLweeOABjRo1yvZ4AADAJRwVWKtWrVJaWpoyMjL0zTffKBAIqFOnTrbHAgAALuOo52DNmjWr4cns8fHxxBUAALDCUYGVlJSkL7/80vYYAADA5Rx1ifCSSy7RhAkTtGTJEiUlJSkyMjLo9/Pz8y1NBgAA3MRRgbVv3z717dtXknjdKwAAYE3IB9bs2bM1fvx4RUdHa9myZbbHAQAACP3nYD333HOqqqoKWsvMzFRZWZmliQAAgNuFfGAFAoEmaxs3blR1dbWFaQAAABwQWAAAAO0NgQUAAGCYIwIrLCzM9ggAAAANQv67CCUpLy8v6DWvTp48qYKCAsXExAT9OV4HCwAAtIWQD6z%2B/fs3ec2r3r17q7y8XOXl5ZamAgAAbhbygcVrXwEAgPbGEc/BAgAAaE8ILAAAAMMILAAAAMMILAAAAMMILAAAAMMILAAAAMMILAAAAMMILAAAAMMILAAAAMMILAAAAMMILAAAAMMILAAAAMMILAAAAMMILAAAAMMILAAAAMMIrGZ8/fXXys7OVnJyslJSUpSfn6/q6mrbYwEAgBDhtT1AexMIBJSdna3Y2Fi99NJL%2BvbbbzVlyhSFh4dr4sSJtscDAAAhgEewGiktLdW2bduUn5%2Bviy66SP369VN2drZWrVplezQAABAiCKxGEhIStGTJEnXu3DlovbKy0tJEAAAg1HCJsJHY2FilpKQ0vF9fX68XX3xRAwYMaPExysrK5Pf7g9a83mj5fD5jc%2BLHeTzhQW/dwuttP5%2BvW/egPWEPWsfpnGfsgX0273sC6xQKCgq0c%2BdOvfzyyy2%2BTUlJiYqKioLWsrKylJ2dbXo8/ITY2CjbI7SpuLgY2yM08WN70G/q2208yS%2Bz6dE02yP8bG47D1rb7wrX2R7BsUL5PGsOgfUTCgoKtHTpUs2bN08XX3xxi2%2BXkZGh1NTUoDWvN1rl5cdNj4hmeDzhio2N0rFjVaqrq7c9TptpT19fTtuD9nTftpTT9gDO1xrn2Q/ngQ0E1o/Izc3V8uXLVVBQoGHDhp3WbX0%2BX5PLgX7/d6qt5S%2B5tlRXV%2B%2Bq%2B7w9fq5O2YNQ/hycsgdwPqd9nRJYzSgqKtKKFSs0d%2B5cpaU56yFLAADQ%2BgisRvbu3auFCxcqMzNTffv2DXqyekJCgsXJAABAqCCwGnnvvfdUV1en4uJiFRcXB/3erl27LE0FAABCCYHVSGZmpjIzM22PAQAAQhgvzgEAAGAYgQUAAGAYgQUAAGAYgQUAAGAYgQUAAGAYgQUAAGAYgQUAAGAYgQUAAGAYgQUAAGAYgQUAAGAYgQUAAGAYgQUAAGAYgQUAAGAYgQUAAGAYgQUAAGAYgQUAAGAYgQUAAGAYgQUAAGAYgQUAAGAYgQUAAGAYgQUAAGAYgQUAAGAYgQUAAGAYgQUAAGAYgQUAAGAYgQUAAGAYgQUAAGAYgQUAAGAYgQUAAGAYgQUAAGAYgQUAAGAYgQUAAGAYgQUAAGAYgQUAAGAYgQUAAGAYgQUAAGAYgQUAAGAYgQUAAGAYgQUAAGAYgfUTampqNHz4cG3YsMH2KAAAIIQQWD%2BiurpaDz74oHbv3m17FAAAEGIIrGbs2bNHt9xyi7766ivbowAAgBBEYDXjk08%2B0ZVXXqmSkhLbowAAgBDktT1Ae3Tbbbf9otuXlZXJ7/cHrXm90fL5fL/ouGgZjyc86K1beL3t5/N12h60p/u2pZy2B3C%2B1jjPbH79E1itoKSkREVFRUFrWVlZys7ONv6x%2Bk192/gxEZp%2BV7jO9giOFRcXY3uEny02Nsr2CECLhPJ51hwCqxVkZGQoNTU1aM3rjVZ5%2BXFLEwH4JULx3PV4whUbG6Vjx6pUV1dvexzglFrjPPvhPLCBwGoFPp%2BvyeVAv/871dbylxwQikL53K2rqw/p%2BeEeTvs65eI8AACAYQQWAACAYQQWAACAYTwH6xR27dplewQAABBieAQLAADAMAILAADAMAILAADAMAILAADAMAILAADAMAILAADAMAILAADAMAILAADAMAILAADAMAILAADAMAILAADAMAILAADAMAILAADAMAILAADAMAILAADAMAILAADAMAILAADAMAILAADAMAILAADAMAILAADAMAILAADAMAILAADAMAILAADAMAILAADAMAILAADAMAILAADAMAILAADAMAILAADAMAILAADAMAILAADAMAILAADAMAILAADAMAILAADAMAILAADAMAILAADAMAILAADAMAILAADAMAILAADAMAILAADAMAKrGdXV1ZoyZYr69eunQYMG6dlnn7U9EgAACCFe2wO0R7Nnz9aOHTu0dOlSHTp0SBMnTlTXrl2VlpZmezQAABACCKxGTpw4oX/84x96%2Bumn1aNHD/Xo0UO7d%2B/WSy%2B9RGABAIAW4RJhI1988YVqa2vVu3fvhrW%2Bfftq%2B/btqq%2BvtzgZAAAIFTyC1Yjf71dcXJwiIiIa1jp37qzq6mpVVFQoPj7%2BlMcoKyuT3%2B8PWvN6o%2BXz%2BYzPC6D1eb2h939Rjyc86C3Q3rXGeWbz65/AaqSqqiooriQ1vF9TU9OiY5SUlKioqChobfz48br//vvNDPn/bHqUy5aNlZWVqaSkRBkZGUStJeyBfWVlZVq6dEm73wMn/x3GeWCfzfOA/9o0EhkZ2SSkfni/Q4cOLTpGRkaGXnnllaBfGRkZxmdF8/x%2Bv4qKipo8ioi2wx7Yxx7Yxx7YZ3MPeASrkS5duqi8vFy1tbXyev939/j9fnXo0EGxsbEtOobP5%2BN/KwAAuBiPYDXSvXt3eb1ebdu2rWFt8%2BbN6tmzp8LDubsAAMCpUQyNREVF6YYbbtCMGTP06aef6t1339Wzzz6rO%2B%2B80/ZoAAAgRHhmzJgxw/YQ7c2AAQO0c%2BdOzZkzR%2BvXr9e9996rESNG2B4LpyEmJkbJycmKiYmxPYprsQf2sQf2sQf22dqDsEAgEGjTjwgAAOBwXCIEAAAwjMACAAAwjMACAAAwjMACAAAwjMACAAAwjMACAAAwjMACAAAwjMACAAAwjMCCo3z99dfKzs5WcnKyUlJSlJ%2Bfr%2BrqattjuVJmZqYmTZpkewxXqqmp0cyZM9W/f39dddVVmjt3rnhN6bZ1%2BPBh3XPPPerTp49SU1P1/PPP2x7JNWpqajR8%2BHBt2LChYe3AgQP605/%2BpCuuuELXXnutPvzww1afg8CCYwQCAWVnZ6uqqkovvfSS5s2bp/fff1/z58%2B3PZrrrF69WmvXrrU9hmvl5eXpo48%2B0jPPPKM5c%2Bbo73//u0pKSmyP5SoPPPCAoqOj9corr2jKlCmaP3%2B%2B3nnnHdtjOV51dbUefPBB7d69u2EtEAgoKytLnTt31sqVK5Wenq7x48fr0KFDrToLgQXHKC0t1bZt25Sfn6%2BLLrpI/fr1U3Z2tlatWmV7NFepqKjQ7Nmz1bNnT9ujuFJFRYVWrlyp3NxcXX755Ro4cKDGjh2r7du32x7NNb799ltt27ZN48aNU1JSkoYOHaqUlBStX7/e9miOtmfPHt1yyy366quvgtY//vhjHThwQLNmzdIFF1yge%2B65R1dccYVWrlzZqvMQWHCMhIQELVmyRJ07dw5ar6ystDSROz3xxBNKT0/XhRdeaHsUV9q8ebM6duyo5OTkhrXMzEzl5%2BdbnMpdOnTooKioKL3yyis6efKkSktLtWXLFnXv3t32aI72ySef6Morr2zyaO327dt16aWXKjo6umGtb9%2B%2B2rZtW6vOQ2DBMWJjY5WSktLwfn19vV588UUNGDDA4lTusn79em3atEn33Xef7VFc68CBA0pMTNRrr72mtLQ0/fa3v9WCBQtUX19vezTXiIyMVE5OjkpKStSrVy/94Q9/0ODBgzVy5EjboznabbfdpilTpigqKipo3e/3y%2BfzBa116tRJR44cadV5vK16dMCigoIC7dy5Uy%2B//LLtUVyhurpa06dPV05Ojjp06GB7HNc6ceKE9u/frxUrVig/P19%2Bv185OTmKiorS2LFjbY/nGnv37tWQIUM0ZswY7d69W7m5uRo4cKCuv/5626O5TlVVlSIiIoLWIiIiVFNT06ofl8CCIxUUFGjp0qWaN2%2BeLr74YtvjuEJRUZEuu%2ByyoEcR0fa8Xq8qKys1Z84cJSYmSpIOHTqk5cuXE1htZP369Xr55Ze1du1adejQQT179tTXX3%2Bt4uJiAsuCyMhIVVRUBK3V1NS0%2Bn8ECSw4Tm5urpYvX66CggINGzbM9jiusXr1ah09elS9e/eWpIb/Ha5Zs0Zbt261OZqrJCQkKDIysiGuJOm8887T4cOHLU7lLjt27FC3bt2C/gG/9NJLtWjRIotTuVeXLl20Z8%2BeoLWjR482uWxoGoEFRykqKtKKFSs0d%2B5cpaWl2R7HVZYtW6ba2tqG9wsLCyVJEyZMsDWSK/Xq1UvV1dXat2%2BfzjvvPEn/%2Bw7b/x9caF0%2Bn0/79%2B9XTU1Nw6Wp0tJS/epXv7I8mTv16tVLixcv1vfff98QvZs3b1bfvn1b9ePyJHc4xt69e7Vw4UL95S9/Ud%2B%2BfeX3%2Bxt%2BofUlJiaqW7duDb9iYmIUExOjbt262R7NVc4//3xdc801mjx5sr744gutW7dOixcv1qhRo2yP5hqpqak644wzNG3aNO3bt0//%2Bte/tGjRIo0ePdr2aK6UnJysc845R5MnT9bu3bu1ePFiffrpp7r55ptb9ePyCBYc47333lNdXZ2Ki4tVXFwc9Hu7du2yNBXQ9goLC5Wbm6tRo0YpKipKt99%2BO/%2B4t6HTYugFAAAAmUlEQVQzzzxTzz//vB599FHdfPPNio%2BP17hx45SRkWF7NFfyeDxauHChpk6dqptuukndunXTggUL1LVr11b9uGEBfn4CAACAUVwiBAAAMIzAAgAAMIzAAgAAMIzAAgAAMIzAAgAAMIzAAgAAMIzAAgAAMIzAAgAAMIzAAgAAMIzAAgAAMIzAAgAAMIzAAgAAMIzAAgAAMOz/AFvvh8Xs%2BGkeAAAAAElFTkSuQmCC\">\n",
       "    </div>\n",
       "</div>\n",
       "</div><div class=\"row variablerow\">\n",
       "    <div class=\"col-md-3 namecol\">\n",
       "        <p class=\"h4\">product<br/>\n",
       "            <small>Categorical</small>\n",
       "        </p>\n",
       "    </div> <div class=\"col-md-3\">\n",
       "    <table class=\"stats \">\n",
       "        <tr class=\"\">\n",
       "            <th>Distinct count</th>\n",
       "            <td>13</td>\n",
       "        </tr>\n",
       "        <tr>\n",
       "            <th>Unique (%)</th>\n",
       "            <td>68.4%</td>\n",
       "        </tr>\n",
       "        <tr class=\"ignore\">\n",
       "            <th>Missing (%)</th>\n",
       "            <td>0.0%</td>\n",
       "        </tr>\n",
       "        <tr class=\"ignore\">\n",
       "            <th>Missing (n)</th>\n",
       "            <td>0</td>\n",
       "        </tr>\n",
       "        <tr class=\"ignore\">\n",
       "            <th>Infinite (%)</th>\n",
       "            <td>0.0%</td>\n",
       "        </tr>\n",
       "        <tr class=\"ignore\">\n",
       "            <th>Infinite (n)</th>\n",
       "            <td>0</td>\n",
       "        </tr>\n",
       "    </table>\n",
       "</div>\n",
       "<div class=\"col-md-6 collapse in\" id=\"minifreqtable-8961465725865803171\">\n",
       "    <table class=\"mini freq\">\n",
       "        <tr class=\"\">\n",
       "    <th>pizza</th>\n",
       "    <td>\n",
       "        <div class=\"bar\" style=\"width:40%\" data-toggle=\"tooltip\" data-placement=\"right\" data-html=\"true\"\n",
       "             data-delay=500 title=\"Percentage: 21.1%\">\n",
       "            4\n",
       "        </div>\n",
       "        \n",
       "    </td>\n",
       "</tr> <tr class=\"\">\n",
       "    <th>taco</th>\n",
       "    <td>\n",
       "        <div class=\"bar\" style=\"width:30%\" data-toggle=\"tooltip\" data-placement=\"right\" data-html=\"true\"\n",
       "             data-delay=500 title=\"Percentage: 15.8%\">\n",
       "            3\n",
       "        </div>\n",
       "        \n",
       "    </td>\n",
       "</tr> <tr class=\"\">\n",
       "    <th>pasta</th>\n",
       "    <td>\n",
       "        <div class=\"bar\" style=\"width:20%\" data-toggle=\"tooltip\" data-placement=\"right\" data-html=\"true\"\n",
       "             data-delay=500 title=\"Percentage: 10.5%\">\n",
       "            &nbsp;\n",
       "        </div>\n",
       "        2\n",
       "    </td>\n",
       "</tr> <tr class=\"other\">\n",
       "    <th>Other values (10)</th>\n",
       "    <td>\n",
       "        <div class=\"bar\" style=\"width:100%\" data-toggle=\"tooltip\" data-placement=\"right\" data-html=\"true\"\n",
       "             data-delay=500 title=\"Percentage: 52.6%\">\n",
       "            10\n",
       "        </div>\n",
       "        \n",
       "    </td>\n",
       "</tr> \n",
       "    </table>\n",
       "</div> \n",
       "<div class=\"col-md-12 text-right\">\n",
       "    <a role=\"button\" data-toggle=\"collapse\" data-target=\"#freqtable-8961465725865803171, #minifreqtable-8961465725865803171\"\n",
       "       aria-expanded=\"true\" aria-controls=\"collapseExample\">\n",
       "        Toggle details\n",
       "    </a>\n",
       "</div>\n",
       "<div class=\"col-md-12 collapse extrapadding\" id=\"freqtable-8961465725865803171\">\n",
       "    <table class=\"freq table table-hover\">\n",
       "        <thead>\n",
       "        <tr>\n",
       "            <td class=\"fillremaining\">Value</td>\n",
       "            <td class=\"number\">Count</td>\n",
       "            <td class=\"number\">Frequency (%)</td>\n",
       "            <td style=\"min-width:200px\">&nbsp;</td>\n",
       "        </tr>\n",
       "        </thead>\n",
       "        <tr class=\"\">\n",
       "        <td class=\"fillremaining\">pizza</td>\n",
       "        <td class=\"number\">4</td>\n",
       "        <td class=\"number\">21.1%</td>\n",
       "        <td>\n",
       "            <div class=\"bar\" style=\"width:100%\">&nbsp;</div>\n",
       "        </td>\n",
       "</tr> <tr class=\"\">\n",
       "        <td class=\"fillremaining\">taco</td>\n",
       "        <td class=\"number\">3</td>\n",
       "        <td class=\"number\">15.8%</td>\n",
       "        <td>\n",
       "            <div class=\"bar\" style=\"width:75%\">&nbsp;</div>\n",
       "        </td>\n",
       "</tr> <tr class=\"\">\n",
       "        <td class=\"fillremaining\">pasta</td>\n",
       "        <td class=\"number\">2</td>\n",
       "        <td class=\"number\">10.5%</td>\n",
       "        <td>\n",
       "            <div class=\"bar\" style=\"width:50%\">&nbsp;</div>\n",
       "        </td>\n",
       "</tr> <tr class=\"\">\n",
       "        <td class=\"fillremaining\">taaaccoo</td>\n",
       "        <td class=\"number\">1</td>\n",
       "        <td class=\"number\">5.3%</td>\n",
       "        <td>\n",
       "            <div class=\"bar\" style=\"width:25%\">&nbsp;</div>\n",
       "        </td>\n",
       "</tr> <tr class=\"\">\n",
       "        <td class=\"fillremaining\">piza</td>\n",
       "        <td class=\"number\">1</td>\n",
       "        <td class=\"number\">5.3%</td>\n",
       "        <td>\n",
       "            <div class=\"bar\" style=\"width:25%\">&nbsp;</div>\n",
       "        </td>\n",
       "</tr> <tr class=\"\">\n",
       "        <td class=\"fillremaining\">hamburguer</td>\n",
       "        <td class=\"number\">1</td>\n",
       "        <td class=\"number\">5.3%</td>\n",
       "        <td>\n",
       "            <div class=\"bar\" style=\"width:25%\">&nbsp;</div>\n",
       "        </td>\n",
       "</tr> <tr class=\"\">\n",
       "        <td class=\"fillremaining\">BEER</td>\n",
       "        <td class=\"number\">1</td>\n",
       "        <td class=\"number\">5.3%</td>\n",
       "        <td>\n",
       "            <div class=\"bar\" style=\"width:25%\">&nbsp;</div>\n",
       "        </td>\n",
       "</tr> <tr class=\"\">\n",
       "        <td class=\"fillremaining\">pizzza</td>\n",
       "        <td class=\"number\">1</td>\n",
       "        <td class=\"number\">5.3%</td>\n",
       "        <td>\n",
       "            <div class=\"bar\" style=\"width:25%\">&nbsp;</div>\n",
       "        </td>\n",
       "</tr> <tr class=\"\">\n",
       "        <td class=\"fillremaining\">arepa</td>\n",
       "        <td class=\"number\">1</td>\n",
       "        <td class=\"number\">5.3%</td>\n",
       "        <td>\n",
       "            <div class=\"bar\" style=\"width:25%\">&nbsp;</div>\n",
       "        </td>\n",
       "</tr> <tr class=\"\">\n",
       "        <td class=\"fillremaining\">Rice</td>\n",
       "        <td class=\"number\">1</td>\n",
       "        <td class=\"number\">5.3%</td>\n",
       "        <td>\n",
       "            <div class=\"bar\" style=\"width:25%\">&nbsp;</div>\n",
       "        </td>\n",
       "</tr> <tr class=\"\">\n",
       "        <td class=\"fillremaining\">110790</td>\n",
       "        <td class=\"number\">1</td>\n",
       "        <td class=\"number\">5.3%</td>\n",
       "        <td>\n",
       "            <div class=\"bar\" style=\"width:25%\">&nbsp;</div>\n",
       "        </td>\n",
       "</tr> <tr class=\"\">\n",
       "        <td class=\"fillremaining\">Cake</td>\n",
       "        <td class=\"number\">1</td>\n",
       "        <td class=\"number\">5.3%</td>\n",
       "        <td>\n",
       "            <div class=\"bar\" style=\"width:25%\">&nbsp;</div>\n",
       "        </td>\n",
       "</tr> <tr class=\"\">\n",
       "        <td class=\"fillremaining\">null</td>\n",
       "        <td class=\"number\">1</td>\n",
       "        <td class=\"number\">5.3%</td>\n",
       "        <td>\n",
       "            <div class=\"bar\" style=\"width:25%\">&nbsp;</div>\n",
       "        </td>\n",
       "</tr> \n",
       "    </table>\n",
       "</div> \n",
       "</div>\n",
       "    <div class=\"row headerrow highlight\">\n",
       "        <h1>Sample</h1>\n",
       "    </div>\n",
       "    <div class=\"row variablerow\">\n",
       "    <div class=\"col-md-12\" style=\"overflow:scroll; width: 100%%; overflow-y: hidden;\">\n",
       "        <table border=\"1\" class=\"dataframe sample\">\n",
       "  <thead>\n",
       "    <tr style=\"text-align: right;\">\n",
       "      <th></th>\n",
       "      <th>id</th>\n",
       "      <th>firstName</th>\n",
       "      <th>lastName</th>\n",
       "      <th>billingId</th>\n",
       "      <th>product</th>\n",
       "      <th>price</th>\n",
       "      <th>birth</th>\n",
       "      <th>dummyCol</th>\n",
       "    </tr>\n",
       "  </thead>\n",
       "  <tbody>\n",
       "    <tr>\n",
       "      <th>0</th>\n",
       "      <td>1</td>\n",
       "      <td>Luis</td>\n",
       "      <td>Alvarez$$%!</td>\n",
       "      <td>123</td>\n",
       "      <td>Cake</td>\n",
       "      <td>10</td>\n",
       "      <td>1980/07/07</td>\n",
       "      <td>never</td>\n",
       "    </tr>\n",
       "    <tr>\n",
       "      <th>1</th>\n",
       "      <td>2</td>\n",
       "      <td>André</td>\n",
       "      <td>Ampère</td>\n",
       "      <td>423</td>\n",
       "      <td>piza</td>\n",
       "      <td>8</td>\n",
       "      <td>1950/07/08</td>\n",
       "      <td>gonna</td>\n",
       "    </tr>\n",
       "    <tr>\n",
       "      <th>2</th>\n",
       "      <td>3</td>\n",
       "      <td>NiELS</td>\n",
       "      <td>Böhr//((%%</td>\n",
       "      <td>551</td>\n",
       "      <td>pizza</td>\n",
       "      <td>8</td>\n",
       "      <td>1990/07/09</td>\n",
       "      <td>give</td>\n",
       "    </tr>\n",
       "    <tr>\n",
       "      <th>3</th>\n",
       "      <td>4</td>\n",
       "      <td>PAUL</td>\n",
       "      <td>dirac$</td>\n",
       "      <td>521</td>\n",
       "      <td>pizza</td>\n",
       "      <td>8</td>\n",
       "      <td>1954/07/10</td>\n",
       "      <td>you</td>\n",
       "    </tr>\n",
       "    <tr>\n",
       "      <th>4</th>\n",
       "      <td>5</td>\n",
       "      <td>Albert</td>\n",
       "      <td>Einstein</td>\n",
       "      <td>634</td>\n",
       "      <td>pizza</td>\n",
       "      <td>8</td>\n",
       "      <td>1990/07/11</td>\n",
       "      <td>up</td>\n",
       "    </tr>\n",
       "  </tbody>\n",
       "</table>\n",
       "    </div>\n",
       "</div>\n",
       "</div>"
      ],
      "text/plain": [
       "<spark_df_profiling_optimus.ProfileReport at 0x10f316208>"
      ]
     },
     "execution_count": 4,
     "metadata": {},
     "output_type": "execute_result"
    }
   ],
   "source": [
    "# Instance of profiler class\n",
    "profiler = op.DataFrameProfiler(df)\n",
    "profiler.profiler()"
   ]
  },
  {
   "cell_type": "markdown",
   "metadata": {},
   "source": [
    "### Instantiation of analyzer class"
   ]
  },
  {
   "cell_type": "markdown",
   "metadata": {},
   "source": [
    "But if you want more information for data exploration, Optimus has the DataFrameAnalizer which has several functions for analyzing your dataset. It presents a table that specifies the existing datatypes in each column dataFrame and other features. Also, for this particular case, the table of dataType is shown in order to visualize a sample of column content. "
   ]
  },
  {
   "cell_type": "code",
   "execution_count": 5,
   "metadata": {},
   "outputs": [],
   "source": [
    "# Instance of analyzer class\n",
    "analyzer = op.DataFrameAnalyzer(df=df)"
   ]
  },
  {
   "cell_type": "markdown",
   "metadata": {},
   "source": [
    "DataFrameAnalizer has a method called columnAnalize. This method can check all rows of\n",
    "dataFrame and tries to parse each element of each row to determine if the corresponding \n",
    "element is a string or a number. Besides, it can show 20 distinct values of each column\n",
    "classified according the possible datatype value, i.e: a number can be a string, so this \n",
    "function can recognize a number in a column of string dataType by trying to parse the string. \n",
    "\n",
    "Also the function can plot numerical or categorical histograms."
   ]
  },
  {
   "cell_type": "markdown",
   "metadata": {},
   "source": [
    "### General view of DataFrame"
   ]
  },
  {
   "cell_type": "markdown",
   "metadata": {},
   "source": [
    "Initially it is a good idea to see a general view of the DataFrame to be analyzed. \n",
    "\n",
    "In the following cell, the basic results of analyzing the DataFrame are made are shown. Basic results include a table that specifies the existing datatypes in each column dataFrame and other features. Also, for this particular case, the table of dataType is shown in order to visualize a sample of column content. "
   ]
  },
  {
   "cell_type": "code",
   "execution_count": 6,
   "metadata": {
    "scrolled": false
   },
   "outputs": [
    {
     "data": {
      "text/html": [
       "<table width=50%><tr><td colspan=3 ><b> Column name: </b>id</td></tr><tr><td colspan=3 ><b> Column datatype: </b>int</td></tr><tr><th>Datatype</td><th>Quantity</td><th>Percentage</td></tr><tr><td>None</td><td>0</td><td>0.00 %</td></tr><tr><td>Empty str</td><td>0</td><td>0.00 %</td></tr><tr><td>String</td><td>0</td><td>0.00 %</td></tr><tr><td>Integer</td><td>19</td><td>100.00 %</td></tr><tr><td>Float</td><td>0</td><td>0.00 %</td></tr></table>"
      ],
      "text/plain": [
       "<optimus.df_analyzer.ColumnTables at 0x11a2b8b00>"
      ]
     },
     "metadata": {},
     "output_type": "display_data"
    },
    {
     "name": "stdout",
     "output_type": "stream",
     "text": [
      "Min value:  1\n",
      "Max value:  19\n"
     ]
    },
    {
     "data": {
      "text/plain": [
       "<optimus.df_analyzer.DataTypeTable at 0x11a23e6d8>"
      ]
     },
     "metadata": {},
     "output_type": "display_data"
    },
    {
     "name": "stdout",
     "output_type": "stream",
     "text": [
      "end of __analyze 4.712668180465698\n"
     ]
    },
    {
     "data": {
      "text/html": [
       "<table width=50%><tr><td colspan=3 ><b> Column name: </b>firstName</td></tr><tr><td colspan=3 ><b> Column datatype: </b>string</td></tr><tr><th>Datatype</td><th>Quantity</td><th>Percentage</td></tr><tr><td>None</td><td>0</td><td>0.00 %</td></tr><tr><td>Empty str</td><td>0</td><td>0.00 %</td></tr><tr><td>String</td><td>19</td><td>100.00 %</td></tr><tr><td>Integer</td><td>0</td><td>0.00 %</td></tr><tr><td>Float</td><td>0</td><td>0.00 %</td></tr></table>"
      ],
      "text/plain": [
       "<optimus.df_analyzer.ColumnTables at 0x11a295dd8>"
      ]
     },
     "metadata": {},
     "output_type": "display_data"
    },
    {
     "data": {
      "text/plain": [
       "<optimus.df_analyzer.DataTypeTable at 0x11a295048>"
      ]
     },
     "metadata": {},
     "output_type": "display_data"
    },
    {
     "name": "stdout",
     "output_type": "stream",
     "text": [
      "end of __analyze 2.264718770980835\n"
     ]
    },
    {
     "data": {
      "text/html": [
       "<table width=50%><tr><td colspan=3 ><b> Column name: </b>lastName</td></tr><tr><td colspan=3 ><b> Column datatype: </b>string</td></tr><tr><th>Datatype</td><th>Quantity</td><th>Percentage</td></tr><tr><td>None</td><td>0</td><td>0.00 %</td></tr><tr><td>Empty str</td><td>0</td><td>0.00 %</td></tr><tr><td>String</td><td>19</td><td>100.00 %</td></tr><tr><td>Integer</td><td>0</td><td>0.00 %</td></tr><tr><td>Float</td><td>0</td><td>0.00 %</td></tr></table>"
      ],
      "text/plain": [
       "<optimus.df_analyzer.ColumnTables at 0x119ebcda0>"
      ]
     },
     "metadata": {},
     "output_type": "display_data"
    },
    {
     "data": {
      "text/plain": [
       "<optimus.df_analyzer.DataTypeTable at 0x11a295390>"
      ]
     },
     "metadata": {},
     "output_type": "display_data"
    },
    {
     "name": "stdout",
     "output_type": "stream",
     "text": [
      "end of __analyze 1.7739357948303223\n"
     ]
    },
    {
     "data": {
      "text/html": [
       "<table width=50%><tr><td colspan=3 ><b> Column name: </b>billingId</td></tr><tr><td colspan=3 ><b> Column datatype: </b>int</td></tr><tr><th>Datatype</td><th>Quantity</td><th>Percentage</td></tr><tr><td>None</td><td>0</td><td>0.00 %</td></tr><tr><td>Empty str</td><td>0</td><td>0.00 %</td></tr><tr><td>String</td><td>0</td><td>0.00 %</td></tr><tr><td>Integer</td><td>19</td><td>100.00 %</td></tr><tr><td>Float</td><td>0</td><td>0.00 %</td></tr></table>"
      ],
      "text/plain": [
       "<optimus.df_analyzer.ColumnTables at 0x11a243c50>"
      ]
     },
     "metadata": {},
     "output_type": "display_data"
    },
    {
     "name": "stdout",
     "output_type": "stream",
     "text": [
      "Min value:  111\n",
      "Max value:  992\n"
     ]
    },
    {
     "data": {
      "text/plain": [
       "<optimus.df_analyzer.DataTypeTable at 0x11a221780>"
      ]
     },
     "metadata": {},
     "output_type": "display_data"
    },
    {
     "name": "stdout",
     "output_type": "stream",
     "text": [
      "end of __analyze 3.6745920181274414\n"
     ]
    },
    {
     "data": {
      "text/html": [
       "<table width=50%><tr><td colspan=3 ><b> Column name: </b>product</td></tr><tr><td colspan=3 ><b> Column datatype: </b>string</td></tr><tr><th>Datatype</td><th>Quantity</td><th>Percentage</td></tr><tr><td>None</td><td>0</td><td>0.00 %</td></tr><tr><td>Empty str</td><td>0</td><td>0.00 %</td></tr><tr><td>String</td><td>18</td><td>94.74 %</td></tr><tr><td>Integer</td><td>1</td><td>5.26 %</td></tr><tr><td>Float</td><td>0</td><td>0.00 %</td></tr></table>"
      ],
      "text/plain": [
       "<optimus.df_analyzer.ColumnTables at 0x11a27ff98>"
      ]
     },
     "metadata": {},
     "output_type": "display_data"
    },
    {
     "data": {
      "text/plain": [
       "<optimus.df_analyzer.DataTypeTable at 0x11a1d0cf8>"
      ]
     },
     "metadata": {},
     "output_type": "display_data"
    },
    {
     "name": "stdout",
     "output_type": "stream",
     "text": [
      "end of __analyze 1.6637330055236816\n"
     ]
    },
    {
     "data": {
      "text/html": [
       "<table width=50%><tr><td colspan=3 ><b> Column name: </b>price</td></tr><tr><td colspan=3 ><b> Column datatype: </b>int</td></tr><tr><th>Datatype</td><th>Quantity</td><th>Percentage</td></tr><tr><td>None</td><td>0</td><td>0.00 %</td></tr><tr><td>Empty str</td><td>0</td><td>0.00 %</td></tr><tr><td>String</td><td>0</td><td>0.00 %</td></tr><tr><td>Integer</td><td>19</td><td>100.00 %</td></tr><tr><td>Float</td><td>0</td><td>0.00 %</td></tr></table>"
      ],
      "text/plain": [
       "<optimus.df_analyzer.ColumnTables at 0x11a267ef0>"
      ]
     },
     "metadata": {},
     "output_type": "display_data"
    },
    {
     "name": "stdout",
     "output_type": "stream",
     "text": [
      "Min value:  1\n",
      "Max value:  10\n"
     ]
    },
    {
     "data": {
      "text/plain": [
       "<optimus.df_analyzer.DataTypeTable at 0x11a0a7d68>"
      ]
     },
     "metadata": {},
     "output_type": "display_data"
    },
    {
     "name": "stdout",
     "output_type": "stream",
     "text": [
      "end of __analyze 2.880362033843994\n"
     ]
    },
    {
     "data": {
      "text/html": [
       "<table width=50%><tr><td colspan=3 ><b> Column name: </b>birth</td></tr><tr><td colspan=3 ><b> Column datatype: </b>string</td></tr><tr><th>Datatype</td><th>Quantity</td><th>Percentage</td></tr><tr><td>None</td><td>0</td><td>0.00 %</td></tr><tr><td>Empty str</td><td>0</td><td>0.00 %</td></tr><tr><td>String</td><td>19</td><td>100.00 %</td></tr><tr><td>Integer</td><td>0</td><td>0.00 %</td></tr><tr><td>Float</td><td>0</td><td>0.00 %</td></tr></table>"
      ],
      "text/plain": [
       "<optimus.df_analyzer.ColumnTables at 0x11a0a76a0>"
      ]
     },
     "metadata": {},
     "output_type": "display_data"
    },
    {
     "data": {
      "text/plain": [
       "<optimus.df_analyzer.DataTypeTable at 0x11a243860>"
      ]
     },
     "metadata": {},
     "output_type": "display_data"
    },
    {
     "name": "stdout",
     "output_type": "stream",
     "text": [
      "end of __analyze 1.4834520816802979\n"
     ]
    },
    {
     "data": {
      "text/html": [
       "<table width=50%><tr><td colspan=3 ><b> Column name: </b>dummyCol</td></tr><tr><td colspan=3 ><b> Column datatype: </b>string</td></tr><tr><th>Datatype</td><th>Quantity</td><th>Percentage</td></tr><tr><td>None</td><td>0</td><td>0.00 %</td></tr><tr><td>Empty str</td><td>0</td><td>0.00 %</td></tr><tr><td>String</td><td>19</td><td>100.00 %</td></tr><tr><td>Integer</td><td>0</td><td>0.00 %</td></tr><tr><td>Float</td><td>0</td><td>0.00 %</td></tr></table>"
      ],
      "text/plain": [
       "<optimus.df_analyzer.ColumnTables at 0x11a267a20>"
      ]
     },
     "metadata": {},
     "output_type": "display_data"
    },
    {
     "data": {
      "text/plain": [
       "<optimus.df_analyzer.DataTypeTable at 0x119ebc278>"
      ]
     },
     "metadata": {},
     "output_type": "display_data"
    },
    {
     "name": "stdout",
     "output_type": "stream",
     "text": [
      "end of __analyze 1.47003173828125\n",
      "Total execution time:  20.0109121799469\n"
     ]
    },
    {
     "data": {
      "text/html": [
       "<table width=50%><tr><th colspan=3>General description</td></tr><tr><th colspan=1>Features</td><th colspan=2>Name or Quantity</td></tr><tr><th colspan=1>File Name</td><td colspan=2>file with no path</td></tr><tr><th colspan=1>Columns</td><td colspan=2>8</td></tr><tr><th colspan=1>Rows</td><td colspan=2>19</td></tr>"
      ],
      "text/plain": [
       "<optimus.df_analyzer.GeneralDescripTable at 0x11a23e198>"
      ]
     },
     "metadata": {},
     "output_type": "display_data"
    }
   ],
   "source": [
    "analyzer_tables = analyzer.column_analyze(column_list=\"*\", print_type=True, plots=False)"
   ]
  },
  {
   "cell_type": "markdown",
   "metadata": {},
   "source": [
    "The results obtained by running the analyzer class, details the presence of special chars, \n",
    "string columns with possible numbers on them and None and empty string values in columns."
   ]
  },
  {
   "cell_type": "markdown",
   "metadata": {},
   "source": [
    "You can also plot histograms for individual columns using the `plot_hist` function. This is an interesting feature because you are plotting from a Spark Dataframe:"
   ]
  },
  {
   "cell_type": "code",
   "execution_count": 7,
   "metadata": {},
   "outputs": [
    {
     "data": {
      "image/png": "[encoded data removed]",
      "text/plain": [
       "<matplotlib.figure.Figure at 0x119ebccc0>"
      ]
     },
     "metadata": {},
     "output_type": "display_data"
    }
   ],
   "source": [
    "analyzer.plot_hist(\"price\",\"numerical\")"
   ]
  },
  {
   "cell_type": "markdown",
   "metadata": {},
   "source": [
    "### Instantiation of DataFrameTransformer\n",
    "DataFrameTransformer is a specialized class to make dataFrame transformations. Transformations are optimized as much as possible to internally used native spark \n",
    "transformation functions."
   ]
  },
  {
   "cell_type": "code",
   "execution_count": 8,
   "metadata": {
    "collapsed": true
   },
   "outputs": [],
   "source": [
    "# Instance of transformer class \n",
    "transformer = op.DataFrameTransformer(df)"
   ]
  },
  {
   "cell_type": "code",
   "execution_count": 9,
   "metadata": {},
   "outputs": [
    {
     "name": "stdout",
     "output_type": "stream",
     "text": [
      "+---+---------+--------------------+---------+--------+-----+----------+--------+\n",
      "| id|firstName|            lastName|billingId| product|price|     birth|dummyCol|\n",
      "+---+---------+--------------------+---------+--------+-----+----------+--------+\n",
      "|  1|     Luis|         Alvarez$$%!|      123|    Cake|   10|1980/07/07|   never|\n",
      "|  2|    André|              Ampère|      423|    piza|    8|1950/07/08|   gonna|\n",
      "|  3|    NiELS|          Böhr//((%%|      551|   pizza|    8|1990/07/09|    give|\n",
      "|  4|     PAUL|              dirac$|      521|   pizza|    8|1954/07/10|     you|\n",
      "|  5|   Albert|            Einstein|      634|   pizza|    8|1990/07/11|      up|\n",
      "|  6|  Galileo|             GALiLEI|      672|   arepa|    5|1930/08/12|   never|\n",
      "|  7|     CaRL|            Ga%%%uss|      323|    taco|    3|1970/07/13|   gonna|\n",
      "|  8|    David|          H$$$ilbert|      624|taaaccoo|    3|1950/07/14|     let|\n",
      "|  9| Johannes|              KEPLER|      735|    taco|    3|1920/04/22|     you|\n",
      "| 10|    JaMES|         M$$ax%%well|      875|    taco|    3|1923/03/12|    down|\n",
      "+---+---------+--------------------+---------+--------+-----+----------+--------+\n",
      "only showing top 10 rows\n",
      "\n"
     ]
    }
   ],
   "source": [
    "transformer.show()"
   ]
  },
  {
   "cell_type": "markdown",
   "metadata": {},
   "source": [
    "### Trimming blanck spaces at beginning and endings of cells dataFrames"
   ]
  },
  {
   "cell_type": "code",
   "execution_count": 10,
   "metadata": {},
   "outputs": [
    {
     "name": "stdout",
     "output_type": "stream",
     "text": [
      "Original dataFrame:\n",
      "+---+---------+-----------+---------+-------+-----+----------+--------+\n",
      "| id|firstName|   lastName|billingId|product|price|     birth|dummyCol|\n",
      "+---+---------+-----------+---------+-------+-----+----------+--------+\n",
      "|  1|     Luis|Alvarez$$%!|      123|   Cake|   10|1980/07/07|   never|\n",
      "|  2|    André|     Ampère|      423|   piza|    8|1950/07/08|   gonna|\n",
      "|  3|    NiELS| Böhr//((%%|      551|  pizza|    8|1990/07/09|    give|\n",
      "|  4|     PAUL|     dirac$|      521|  pizza|    8|1954/07/10|     you|\n",
      "|  5|   Albert|   Einstein|      634|  pizza|    8|1990/07/11|      up|\n",
      "+---+---------+-----------+---------+-------+-----+----------+--------+\n",
      "only showing top 5 rows\n",
      "\n",
      "Trimmed dataFrame:\n",
      "+---+---------+-----------+---------+-------+-----+----------+--------+\n",
      "| id|firstName|   lastName|billingId|product|price|     birth|dummyCol|\n",
      "+---+---------+-----------+---------+-------+-----+----------+--------+\n",
      "|  1|     Luis|Alvarez$$%!|      123|   Cake|   10|1980/07/07|   never|\n",
      "|  2|    André|     Ampère|      423|   piza|    8|1950/07/08|   gonna|\n",
      "|  3|    NiELS| Böhr//((%%|      551|  pizza|    8|1990/07/09|    give|\n",
      "|  4|     PAUL|     dirac$|      521|  pizza|    8|1954/07/10|     you|\n",
      "|  5|   Albert|   Einstein|      634|  pizza|    8|1990/07/11|      up|\n",
      "+---+---------+-----------+---------+-------+-----+----------+--------+\n",
      "only showing top 5 rows\n",
      "\n"
     ]
    }
   ],
   "source": [
    "# Printing of original dataFrame:\n",
    "print('Original dataFrame:')\n",
    "transformer.show(5)\n",
    "\n",
    "# Triming string blank spaces:\n",
    "transformer.trim_col(\"*\")\n",
    "\n",
    "# Printing trimmed dataFrame:\n",
    "print('Trimmed dataFrame:')\n",
    "transformer.show(5)"
   ]
  },
  {
   "cell_type": "markdown",
   "metadata": {},
   "source": [
    "### Removing especial chars and accents:"
   ]
  },
  {
   "cell_type": "code",
   "execution_count": 11,
   "metadata": {},
   "outputs": [
    {
     "name": "stdout",
     "output_type": "stream",
     "text": [
      "Original dataFrame:\n",
      "+---+---------+-----------+---------+-------+-----+----------+--------+\n",
      "| id|firstName|   lastName|billingId|product|price|     birth|dummyCol|\n",
      "+---+---------+-----------+---------+-------+-----+----------+--------+\n",
      "|  1|     Luis|Alvarez$$%!|      123|   Cake|   10|1980/07/07|   never|\n",
      "|  2|    André|     Ampère|      423|   piza|    8|1950/07/08|   gonna|\n",
      "|  3|    NiELS| Böhr//((%%|      551|  pizza|    8|1990/07/09|    give|\n",
      "|  4|     PAUL|     dirac$|      521|  pizza|    8|1954/07/10|     you|\n",
      "|  5|   Albert|   Einstein|      634|  pizza|    8|1990/07/11|      up|\n",
      "+---+---------+-----------+---------+-------+-----+----------+--------+\n",
      "only showing top 5 rows\n",
      "\n",
      "Removing special chars and accents dataFrame:\n",
      "+---+---------+--------+---------+-------+-----+--------+--------+\n",
      "| id|firstName|lastName|billingId|product|price|   birth|dummyCol|\n",
      "+---+---------+--------+---------+-------+-----+--------+--------+\n",
      "|  1|     Luis| Alvarez|      123|   Cake|   10|19800707|   never|\n",
      "|  2|    Andre|  Ampere|      423|   piza|    8|19500708|   gonna|\n",
      "|  3|    NiELS|    Bohr|      551|  pizza|    8|19900709|    give|\n",
      "|  4|     PAUL|   dirac|      521|  pizza|    8|19540710|     you|\n",
      "|  5|   Albert|Einstein|      634|  pizza|    8|19900711|      up|\n",
      "+---+---------+--------+---------+-------+-----+--------+--------+\n",
      "only showing top 5 rows\n",
      "\n"
     ]
    }
   ],
   "source": [
    "# Printing of original dataFrame:\n",
    "print('Original dataFrame:')\n",
    "transformer.show(5)\n",
    "\n",
    "# Remove special chars:\n",
    "transformer.remove_special_chars(\"*\").clear_accents(\"*\")\n",
    "\n",
    "# This can also be done by passing a Regex if you want something more personalized\n",
    "\n",
    "#####################################################################\n",
    "\n",
    "#transformer.remove_special_chars_regex(\"*\",'[^\\w\\s]').clear_accents(\"*\")\n",
    "\n",
    "#####################################################################\n",
    "\n",
    "# Printing trimmed dataFrame:\n",
    "print('Removing special chars and accents dataFrame:')\n",
    "transformer.show(5)"
   ]
  },
  {
   "cell_type": "markdown",
   "metadata": {},
   "source": [
    "### Drop dummy column"
   ]
  },
  {
   "cell_type": "code",
   "execution_count": 12,
   "metadata": {},
   "outputs": [
    {
     "name": "stdout",
     "output_type": "stream",
     "text": [
      "Original dataFrame:\n",
      "+---+---------+--------+---------+-------+-----+--------+--------+\n",
      "| id|firstName|lastName|billingId|product|price|   birth|dummyCol|\n",
      "+---+---------+--------+---------+-------+-----+--------+--------+\n",
      "|  1|     Luis| Alvarez|      123|   Cake|   10|19800707|   never|\n",
      "|  2|    Andre|  Ampere|      423|   piza|    8|19500708|   gonna|\n",
      "|  3|    NiELS|    Bohr|      551|  pizza|    8|19900709|    give|\n",
      "|  4|     PAUL|   dirac|      521|  pizza|    8|19540710|     you|\n",
      "|  5|   Albert|Einstein|      634|  pizza|    8|19900711|      up|\n",
      "+---+---------+--------+---------+-------+-----+--------+--------+\n",
      "only showing top 5 rows\n",
      "\n",
      "Dataframe without dummy column:\n",
      "+---+---------+--------+---------+-------+-----+--------+\n",
      "| id|firstName|lastName|billingId|product|price|   birth|\n",
      "+---+---------+--------+---------+-------+-----+--------+\n",
      "|  1|     Luis| Alvarez|      123|   Cake|   10|19800707|\n",
      "|  2|    Andre|  Ampere|      423|   piza|    8|19500708|\n",
      "|  3|    NiELS|    Bohr|      551|  pizza|    8|19900709|\n",
      "|  4|     PAUL|   dirac|      521|  pizza|    8|19540710|\n",
      "|  5|   Albert|Einstein|      634|  pizza|    8|19900711|\n",
      "+---+---------+--------+---------+-------+-----+--------+\n",
      "only showing top 5 rows\n",
      "\n"
     ]
    }
   ],
   "source": [
    "# Printing of original dataFrame:\n",
    "print('Original dataFrame:')\n",
    "transformer.show(5)\n",
    "\n",
    "# Droping a column:\n",
    "transformer.drop_col(\"dummyCol\")\n",
    "\n",
    "# Printing trimmed dataFrame:\n",
    "print('Dataframe without dummy column:')\n",
    "transformer.show(5)"
   ]
  },
  {
   "cell_type": "markdown",
   "metadata": {},
   "source": [
    "### Setting all letters to lowerCase"
   ]
  },
  {
   "cell_type": "code",
   "execution_count": 13,
   "metadata": {},
   "outputs": [
    {
     "name": "stdout",
     "output_type": "stream",
     "text": [
      "Original dataFrame:\n",
      "+---+---------+--------+---------+-------+-----+--------+\n",
      "| id|firstName|lastName|billingId|product|price|   birth|\n",
      "+---+---------+--------+---------+-------+-----+--------+\n",
      "|  1|     Luis| Alvarez|      123|   Cake|   10|19800707|\n",
      "|  2|    Andre|  Ampere|      423|   piza|    8|19500708|\n",
      "|  3|    NiELS|    Bohr|      551|  pizza|    8|19900709|\n",
      "|  4|     PAUL|   dirac|      521|  pizza|    8|19540710|\n",
      "|  5|   Albert|Einstein|      634|  pizza|    8|19900711|\n",
      "+---+---------+--------+---------+-------+-----+--------+\n",
      "only showing top 5 rows\n",
      "\n",
      "Setting all letters to lowerCase:\n",
      "+---+---------+--------+---------+-------+-----+--------+\n",
      "| id|firstName|lastName|billingId|product|price|   birth|\n",
      "+---+---------+--------+---------+-------+-----+--------+\n",
      "|  1|     luis| alvarez|      123|   cake|   10|19800707|\n",
      "|  2|    andre|  ampere|      423|   piza|    8|19500708|\n",
      "|  3|    niels|    bohr|      551|  pizza|    8|19900709|\n",
      "|  4|     paul|   dirac|      521|  pizza|    8|19540710|\n",
      "|  5|   albert|einstein|      634|  pizza|    8|19900711|\n",
      "+---+---------+--------+---------+-------+-----+--------+\n",
      "only showing top 5 rows\n",
      "\n"
     ]
    }
   ],
   "source": [
    "# Printing of original dataFrame:\n",
    "print('Original dataFrame:')\n",
    "transformer.show(5)\n",
    "\n",
    "print('Setting all letters to lowerCase:')\n",
    "transformer.lower_case(\"*\")\n",
    "transformer.show(5)"
   ]
  },
  {
   "cell_type": "markdown",
   "metadata": {},
   "source": [
    "### Date Transformation (Format of date is changed)"
   ]
  },
  {
   "cell_type": "code",
   "execution_count": 14,
   "metadata": {},
   "outputs": [
    {
     "name": "stdout",
     "output_type": "stream",
     "text": [
      "Original dataFrame:\n",
      "+---+---------+--------+---------+-------+-----+--------+\n",
      "| id|firstName|lastName|billingId|product|price|   birth|\n",
      "+---+---------+--------+---------+-------+-----+--------+\n",
      "|  1|     luis| alvarez|      123|   cake|   10|19800707|\n",
      "|  2|    andre|  ampere|      423|   piza|    8|19500708|\n",
      "|  3|    niels|    bohr|      551|  pizza|    8|19900709|\n",
      "|  4|     paul|   dirac|      521|  pizza|    8|19540710|\n",
      "|  5|   albert|einstein|      634|  pizza|    8|19900711|\n",
      "+---+---------+--------+---------+-------+-----+--------+\n",
      "only showing top 5 rows\n",
      "\n",
      "Dataframe without dummy column:\n",
      "+---+---------+--------+---------+-------+-----+----------+\n",
      "| id|firstName|lastName|billingId|product|price|     birth|\n",
      "+---+---------+--------+---------+-------+-----+----------+\n",
      "|  1|     luis| alvarez|      123|   cake|   10|07-07-1980|\n",
      "|  2|    andre|  ampere|      423|   piza|    8|08-07-1950|\n",
      "|  3|    niels|    bohr|      551|  pizza|    8|09-07-1990|\n",
      "|  4|     paul|   dirac|      521|  pizza|    8|10-07-1954|\n",
      "|  5|   albert|einstein|      634|  pizza|    8|11-07-1990|\n",
      "+---+---------+--------+---------+-------+-----+----------+\n",
      "only showing top 5 rows\n",
      "\n"
     ]
    }
   ],
   "source": [
    "# Printing of original dataFrame:\n",
    "print('Original dataFrame:')\n",
    "transformer.show(5)\n",
    "\n",
    "# Priting the new date format:\n",
    "print('Dataframe without dummy column:')\n",
    "transformer.date_transform(\"birth\", \"yyyyMMdd\", \"dd-MM-YYYY\") \\\n",
    "           .show(5)"
   ]
  },
  {
   "cell_type": "markdown",
   "metadata": {},
   "source": [
    "### Age calculation from birth date client"
   ]
  },
  {
   "cell_type": "code",
   "execution_count": 15,
   "metadata": {},
   "outputs": [
    {
     "name": "stdout",
     "output_type": "stream",
     "text": [
      "Original dataFrame:\n",
      "+---+---------+--------+---------+-------+-----+----------+\n",
      "| id|firstName|lastName|billingId|product|price|     birth|\n",
      "+---+---------+--------+---------+-------+-----+----------+\n",
      "|  1|     luis| alvarez|      123|   cake|   10|07-07-1980|\n",
      "|  2|    andre|  ampere|      423|   piza|    8|08-07-1950|\n",
      "|  3|    niels|    bohr|      551|  pizza|    8|09-07-1990|\n",
      "|  4|     paul|   dirac|      521|  pizza|    8|10-07-1954|\n",
      "|  5|   albert|einstein|      634|  pizza|    8|11-07-1990|\n",
      "+---+---------+--------+---------+-------+-----+----------+\n",
      "only showing top 5 rows\n",
      "\n",
      "Printing calculation of age born date client\n",
      "+---+---------+--------+---------+-------+-----+----------+---------+\n",
      "| id|firstName|lastName|billingId|product|price|     birth|clientAge|\n",
      "+---+---------+--------+---------+-------+-----+----------+---------+\n",
      "|  1|     luis| alvarez|      123|   cake|   10|07-07-1980|  37.7581|\n",
      "|  2|    andre|  ampere|      423|   piza|    8|08-07-1950|  67.7527|\n",
      "|  3|    niels|    bohr|      551|  pizza|    8|09-07-1990|  27.7554|\n",
      "|  4|     paul|   dirac|      521|  pizza|    8|10-07-1954|  63.7661|\n",
      "|  5|   albert|einstein|      634|  pizza|    8|11-07-1990|  27.7554|\n",
      "+---+---------+--------+---------+-------+-----+----------+---------+\n",
      "only showing top 5 rows\n",
      "\n"
     ]
    }
   ],
   "source": [
    "# Printing of original dataFrame:\n",
    "print('Original dataFrame:')\n",
    "transformer.show(5)\n",
    "\n",
    "print(\"Printing calculation of age born date client\")\n",
    "transformer.age_calculate(\"birth\", \"dd-MM-YYYY\", \"clientAge\") \\\n",
    "           .show(5)"
   ]
  },
  {
   "cell_type": "markdown",
   "metadata": {},
   "source": [
    "### Renaming columns:"
   ]
  },
  {
   "cell_type": "code",
   "execution_count": 16,
   "metadata": {},
   "outputs": [
    {
     "name": "stdout",
     "output_type": "stream",
     "text": [
      "Original dataframe\n",
      "+---+---------+--------+---------+-------+-----+----------+---------+\n",
      "| id|firstName|lastName|billingId|product|price|     birth|clientAge|\n",
      "+---+---------+--------+---------+-------+-----+----------+---------+\n",
      "|  1|     luis| alvarez|      123|   cake|   10|07-07-1980|  37.7581|\n",
      "|  2|    andre|  ampere|      423|   piza|    8|08-07-1950|  67.7527|\n",
      "|  3|    niels|    bohr|      551|  pizza|    8|09-07-1990|  27.7554|\n",
      "|  4|     paul|   dirac|      521|  pizza|    8|10-07-1954|  63.7661|\n",
      "|  5|   albert|einstein|      634|  pizza|    8|11-07-1990|  27.7554|\n",
      "+---+---------+--------+---------+-------+-----+----------+---------+\n",
      "only showing top 5 rows\n",
      "\n",
      "Renaming some columns of dataFrame\n",
      "+-------+---+---------+--------+---------+-------+-----+----------+\n",
      "|    age| id|firstName|lastName|billingId|product|price|     birth|\n",
      "+-------+---+---------+--------+---------+-------+-----+----------+\n",
      "|37.7581|  1|     luis| alvarez|      123|   cake|   10|07-07-1980|\n",
      "|67.7527|  2|    andre|  ampere|      423|   piza|    8|08-07-1950|\n",
      "|27.7554|  3|    niels|    bohr|      551|  pizza|    8|09-07-1990|\n",
      "|63.7661|  4|     paul|   dirac|      521|  pizza|    8|10-07-1954|\n",
      "|27.7554|  5|   albert|einstein|      634|  pizza|    8|11-07-1990|\n",
      "+-------+---+---------+--------+---------+-------+-----+----------+\n",
      "only showing top 5 rows\n",
      "\n"
     ]
    }
   ],
   "source": [
    "# Printing original dataframe:\n",
    "print (\"Original dataframe\")\n",
    "transformer.show(5)\n",
    "print (\"Renaming some columns of dataFrame\")\n",
    "transformer.rename_col(columns=[(\"clientAge\", \"age\")])\n",
    "transformer.show(5)"
   ]
  },
  {
   "cell_type": "markdown",
   "metadata": {},
   "source": [
    "### Changing positions of columns dataframe:"
   ]
  },
  {
   "cell_type": "code",
   "execution_count": 17,
   "metadata": {},
   "outputs": [
    {
     "name": "stdout",
     "output_type": "stream",
     "text": [
      "Original dataframe\n",
      "+-------+---+---------+--------+---------+-------+-----+----------+\n",
      "|    age| id|firstName|lastName|billingId|product|price|     birth|\n",
      "+-------+---+---------+--------+---------+-------+-----+----------+\n",
      "|37.7581|  1|     luis| alvarez|      123|   cake|   10|07-07-1980|\n",
      "|67.7527|  2|    andre|  ampere|      423|   piza|    8|08-07-1950|\n",
      "|27.7554|  3|    niels|    bohr|      551|  pizza|    8|09-07-1990|\n",
      "|63.7661|  4|     paul|   dirac|      521|  pizza|    8|10-07-1954|\n",
      "|27.7554|  5|   albert|einstein|      634|  pizza|    8|11-07-1990|\n",
      "+-------+---+---------+--------+---------+-------+-----+----------+\n",
      "only showing top 5 rows\n",
      "\n",
      "age column moved\n",
      "+---+---------+--------+-------+---------+-------+-----+----------+\n",
      "| id|firstName|lastName|    age|billingId|product|price|     birth|\n",
      "+---+---------+--------+-------+---------+-------+-----+----------+\n",
      "|  1|     luis| alvarez|37.7581|      123|   cake|   10|07-07-1980|\n",
      "|  2|    andre|  ampere|67.7527|      423|   piza|    8|08-07-1950|\n",
      "|  3|    niels|    bohr|27.7554|      551|  pizza|    8|09-07-1990|\n",
      "|  4|     paul|   dirac|63.7661|      521|  pizza|    8|10-07-1954|\n",
      "|  5|   albert|einstein|27.7554|      634|  pizza|    8|11-07-1990|\n",
      "+---+---------+--------+-------+---------+-------+-----+----------+\n",
      "only showing top 5 rows\n",
      "\n"
     ]
    }
   ],
   "source": [
    "# Printing original dataframe:\n",
    "print (\"Original dataframe\")\n",
    "transformer.show(5)\n",
    "\n",
    "# This action is to move column age, just after the lastName column\n",
    "print (\"age column moved\")\n",
    "transformer.move_col(\"age\", \"lastName\", \"after\")\n",
    "transformer.show(5)"
   ]
  },
  {
   "cell_type": "markdown",
   "metadata": {},
   "source": [
    "### Setting a custom transformation\n",
    "The core of this function is base on the user define function provide from the lambda function provided in the 'func' argument. \n",
    "\n",
    "In this example, cells that are not greater than 20, are multiplied by 20, the rest of them stay intact."
   ]
  },
  {
   "cell_type": "code",
   "execution_count": 18,
   "metadata": {},
   "outputs": [
    {
     "name": "stdout",
     "output_type": "stream",
     "text": [
      "Original dataframe\n",
      "+---+---------+--------+-------+---------+-------+-----+----------+\n",
      "| id|firstName|lastName|    age|billingId|product|price|     birth|\n",
      "+---+---------+--------+-------+---------+-------+-----+----------+\n",
      "|  1|     luis| alvarez|37.7581|      123|   cake|   10|07-07-1980|\n",
      "|  2|    andre|  ampere|67.7527|      423|   piza|    8|08-07-1950|\n",
      "|  3|    niels|    bohr|27.7554|      551|  pizza|    8|09-07-1990|\n",
      "|  4|     paul|   dirac|63.7661|      521|  pizza|    8|10-07-1954|\n",
      "|  5|   albert|einstein|27.7554|      634|  pizza|    8|11-07-1990|\n",
      "+---+---------+--------+-------+---------+-------+-----+----------+\n",
      "only showing top 5 rows\n",
      "\n",
      " Multiplying by 20 a number if value in cell is greater than 20:\n",
      "+---+------------+--------+--------+---------+----------+-----+----------+\n",
      "| id|   firstName|lastName|     age|billingId|   product|price|     birth|\n",
      "+---+------------+--------+--------+---------+----------+-----+----------+\n",
      "|  1|        luis| alvarez| 37.7581|      123|      cake|  200|07-07-1980|\n",
      "|  2|       andre|  ampere| 67.7527|      423|      piza|  160|08-07-1950|\n",
      "|  3|       niels|    bohr| 27.7554|      551|     pizza|  160|09-07-1990|\n",
      "|  4|        paul|   dirac| 63.7661|      521|     pizza|  160|10-07-1954|\n",
      "|  5|      albert|einstein| 27.7554|      634|     pizza|  160|11-07-1990|\n",
      "|  6|     galileo| galilei| 87.7608|      672|     arepa|  100|12-08-1930|\n",
      "|  7|        carl|   gauss| 47.7634|      323|      taco|   60|13-07-1970|\n",
      "|  8|       david| hilbert| 67.7527|      624|  taaaccoo|   60|14-07-1950|\n",
      "|  9|    johannes|  kepler| 97.7634|      735|      taco|   60|22-04-1920|\n",
      "| 10|       james| maxwell| 94.7554|      875|      taco|   60|12-03-1923|\n",
      "| 11|       isaac|  newton| 18.7661|      992|     pasta|  180|15-02-1999|\n",
      "| 12|        emmy| noether| 24.7661|      234|     pasta|  180|08-12-1993|\n",
      "| 13|         max|  planck| 23.7688|      111|hamburguer|   80|04-01-1994|\n",
      "| 14|        fred|   hoyle| 20.7608|      553|    pizzza|  160|27-06-1997|\n",
      "| 15|   heinrich |   hertz| 61.7527|      116|     pizza|  160|30-11-1956|\n",
      "| 16|     william| gilbert| 59.7608|      886|      beer|   40|26-03-1958|\n",
      "| 17|       marie|   curie| 17.7688|      912|      rice|   20|22-03-2000|\n",
      "| 18|      arthur| compton|118.7527|      812|    110790|  100|01-01-1899|\n",
      "| 19|       james|chadwick| 96.7688|      467|      null|  200|03-05-1921|\n",
      "+---+------------+--------+--------+---------+----------+-----+----------+\n",
      "\n"
     ]
    }
   ],
   "source": [
    "# Printing original dataframe:\n",
    "print (\"Original dataframe\")\n",
    "transformer.show(5)\n",
    "\n",
    "print (' Multiplying by 20 a number if value in cell is greater than 20:')\n",
    "# Replacing a number:   \n",
    "func = lambda cell: (cell * 20) if ((cell != None) and (cell < 20)) else cell\n",
    "transformer.set_col(['price'], func, 'integer')\n",
    "transformer.show(20)"
   ]
  },
  {
   "cell_type": "markdown",
   "metadata": {},
   "source": [
    "After the transformation process detailed in the previous cells. It is a good idea to\n",
    "analyze to see if the transformations have solved issued related with special characters, \n",
    "presence of number in column where is to supposed only letters, etc."
   ]
  },
  {
   "cell_type": "markdown",
   "metadata": {},
   "source": [
    "### Analyzing columns after transformations"
   ]
  },
  {
   "cell_type": "code",
   "execution_count": 19,
   "metadata": {
    "scrolled": false
   },
   "outputs": [
    {
     "data": {
      "text/html": [
       "<table width=50%><tr><td colspan=3 ><b> Column name: </b>id</td></tr><tr><td colspan=3 ><b> Column datatype: </b>int</td></tr><tr><th>Datatype</td><th>Quantity</td><th>Percentage</td></tr><tr><td>None</td><td>0</td><td>0.00 %</td></tr><tr><td>Empty str</td><td>0</td><td>0.00 %</td></tr><tr><td>String</td><td>0</td><td>0.00 %</td></tr><tr><td>Integer</td><td>19</td><td>100.00 %</td></tr><tr><td>Float</td><td>0</td><td>0.00 %</td></tr></table>"
      ],
      "text/plain": [
       "<optimus.df_analyzer.ColumnTables at 0x11a3895c0>"
      ]
     },
     "metadata": {},
     "output_type": "display_data"
    },
    {
     "name": "stdout",
     "output_type": "stream",
     "text": [
      "Min value:  1\n",
      "Max value:  19\n"
     ]
    },
    {
     "data": {
      "text/plain": [
       "<optimus.df_analyzer.DataTypeTable at 0x119e90630>"
      ]
     },
     "metadata": {},
     "output_type": "display_data"
    },
    {
     "data": {
      "image/png": "[encoded data removed]",
      "text/plain": [
       "<matplotlib.figure.Figure at 0x10fc949b0>"
      ]
     },
     "metadata": {},
     "output_type": "display_data"
    },
    {
     "name": "stdout",
     "output_type": "stream",
     "text": [
      "end of __analyze 4.8346521854400635\n"
     ]
    },
    {
     "data": {
      "text/html": [
       "<table width=50%><tr><td colspan=3 ><b> Column name: </b>firstName</td></tr><tr><td colspan=3 ><b> Column datatype: </b>string</td></tr><tr><th>Datatype</td><th>Quantity</td><th>Percentage</td></tr><tr><td>None</td><td>0</td><td>0.00 %</td></tr><tr><td>Empty str</td><td>0</td><td>0.00 %</td></tr><tr><td>String</td><td>19</td><td>100.00 %</td></tr><tr><td>Integer</td><td>0</td><td>0.00 %</td></tr><tr><td>Float</td><td>0</td><td>0.00 %</td></tr></table>"
      ],
      "text/plain": [
       "<optimus.df_analyzer.ColumnTables at 0x11a37df28>"
      ]
     },
     "metadata": {},
     "output_type": "display_data"
    },
    {
     "data": {
      "text/plain": [
       "<optimus.df_analyzer.DataTypeTable at 0x11a490208>"
      ]
     },
     "metadata": {},
     "output_type": "display_data"
    },
    {
     "data": {
      "image/png": "[encoded data removed]",
      "text/plain": [
       "<matplotlib.figure.Figure at 0x10fc5c0f0>"
      ]
     },
     "metadata": {},
     "output_type": "display_data"
    },
    {
     "name": "stdout",
     "output_type": "stream",
     "text": [
      "end of __analyze 2.1384358406066895\n"
     ]
    },
    {
     "data": {
      "text/html": [
       "<table width=50%><tr><td colspan=3 ><b> Column name: </b>lastName</td></tr><tr><td colspan=3 ><b> Column datatype: </b>string</td></tr><tr><th>Datatype</td><th>Quantity</td><th>Percentage</td></tr><tr><td>None</td><td>0</td><td>0.00 %</td></tr><tr><td>Empty str</td><td>0</td><td>0.00 %</td></tr><tr><td>String</td><td>19</td><td>100.00 %</td></tr><tr><td>Integer</td><td>0</td><td>0.00 %</td></tr><tr><td>Float</td><td>0</td><td>0.00 %</td></tr></table>"
      ],
      "text/plain": [
       "<optimus.df_analyzer.ColumnTables at 0x11a4fa390>"
      ]
     },
     "metadata": {},
     "output_type": "display_data"
    },
    {
     "data": {
      "text/plain": [
       "<optimus.df_analyzer.DataTypeTable at 0x11a702198>"
      ]
     },
     "metadata": {},
     "output_type": "display_data"
    },
    {
     "data": {
      "image/png": "[encoded data removed]",
      "text/plain": [
       "<matplotlib.figure.Figure at 0x11a70f0f0>"
      ]
     },
     "metadata": {},
     "output_type": "display_data"
    },
    {
     "name": "stdout",
     "output_type": "stream",
     "text": [
      "end of __analyze 1.9781391620635986\n"
     ]
    },
    {
     "data": {
      "text/html": [
       "<table width=50%><tr><td colspan=3 ><b> Column name: </b>age</td></tr><tr><td colspan=3 ><b> Column datatype: </b>string</td></tr><tr><th>Datatype</td><th>Quantity</td><th>Percentage</td></tr><tr><td>None</td><td>0</td><td>0.00 %</td></tr><tr><td>Empty str</td><td>0</td><td>0.00 %</td></tr><tr><td>String</td><td>0</td><td>0.00 %</td></tr><tr><td>Integer</td><td>0</td><td>0.00 %</td></tr><tr><td>Float</td><td>19</td><td>100.00 %</td></tr></table>"
      ],
      "text/plain": [
       "<optimus.df_analyzer.ColumnTables at 0x119f53358>"
      ]
     },
     "metadata": {},
     "output_type": "display_data"
    },
    {
     "data": {
      "text/plain": [
       "<optimus.df_analyzer.DataTypeTable at 0x1110c4630>"
      ]
     },
     "metadata": {},
     "output_type": "display_data"
    },
    {
     "data": {
      "image/png": "[encoded data removed]",
      "text/plain": [
       "<matplotlib.figure.Figure at 0x11a533f28>"
      ]
     },
     "metadata": {},
     "output_type": "display_data"
    },
    {
     "name": "stdout",
     "output_type": "stream",
     "text": [
      "end of __analyze 4.863485097885132\n"
     ]
    },
    {
     "data": {
      "text/html": [
       "<table width=50%><tr><td colspan=3 ><b> Column name: </b>billingId</td></tr><tr><td colspan=3 ><b> Column datatype: </b>int</td></tr><tr><th>Datatype</td><th>Quantity</td><th>Percentage</td></tr><tr><td>None</td><td>0</td><td>0.00 %</td></tr><tr><td>Empty str</td><td>0</td><td>0.00 %</td></tr><tr><td>String</td><td>0</td><td>0.00 %</td></tr><tr><td>Integer</td><td>19</td><td>100.00 %</td></tr><tr><td>Float</td><td>0</td><td>0.00 %</td></tr></table>"
      ],
      "text/plain": [
       "<optimus.df_analyzer.ColumnTables at 0x11a82b0f0>"
      ]
     },
     "metadata": {},
     "output_type": "display_data"
    },
    {
     "name": "stdout",
     "output_type": "stream",
     "text": [
      "Min value:  111\n",
      "Max value:  992\n"
     ]
    },
    {
     "data": {
      "text/plain": [
       "<optimus.df_analyzer.DataTypeTable at 0x11aeac278>"
      ]
     },
     "metadata": {},
     "output_type": "display_data"
    },
    {
     "data": {
      "image/png": "[encoded data removed]",
      "text/plain": [
       "<matplotlib.figure.Figure at 0x11aeacbe0>"
      ]
     },
     "metadata": {},
     "output_type": "display_data"
    },
    {
     "name": "stdout",
     "output_type": "stream",
     "text": [
      "end of __analyze 3.9949729442596436\n"
     ]
    },
    {
     "data": {
      "text/html": [
       "<table width=50%><tr><td colspan=3 ><b> Column name: </b>product</td></tr><tr><td colspan=3 ><b> Column datatype: </b>string</td></tr><tr><th>Datatype</td><th>Quantity</td><th>Percentage</td></tr><tr><td>None</td><td>0</td><td>0.00 %</td></tr><tr><td>Empty str</td><td>0</td><td>0.00 %</td></tr><tr><td>String</td><td>18</td><td>94.74 %</td></tr><tr><td>Integer</td><td>1</td><td>5.26 %</td></tr><tr><td>Float</td><td>0</td><td>0.00 %</td></tr></table>"
      ],
      "text/plain": [
       "<optimus.df_analyzer.ColumnTables at 0x11a75e828>"
      ]
     },
     "metadata": {},
     "output_type": "display_data"
    },
    {
     "data": {
      "text/plain": [
       "<optimus.df_analyzer.DataTypeTable at 0x11a795320>"
      ]
     },
     "metadata": {},
     "output_type": "display_data"
    },
    {
     "data": {
      "image/png": "[encoded data removed]",
      "text/plain": [
       "<matplotlib.figure.Figure at 0x11aea0ac8>"
      ]
     },
     "metadata": {},
     "output_type": "display_data"
    },
    {
     "name": "stdout",
     "output_type": "stream",
     "text": [
      "end of __analyze 2.0616061687469482\n"
     ]
    },
    {
     "data": {
      "text/html": [
       "<table width=50%><tr><td colspan=3 ><b> Column name: </b>price</td></tr><tr><td colspan=3 ><b> Column datatype: </b>int</td></tr><tr><th>Datatype</td><th>Quantity</td><th>Percentage</td></tr><tr><td>None</td><td>0</td><td>0.00 %</td></tr><tr><td>Empty str</td><td>0</td><td>0.00 %</td></tr><tr><td>String</td><td>0</td><td>0.00 %</td></tr><tr><td>Integer</td><td>19</td><td>100.00 %</td></tr><tr><td>Float</td><td>0</td><td>0.00 %</td></tr></table>"
      ],
      "text/plain": [
       "<optimus.df_analyzer.ColumnTables at 0x11a0eca90>"
      ]
     },
     "metadata": {},
     "output_type": "display_data"
    },
    {
     "name": "stdout",
     "output_type": "stream",
     "text": [
      "Min value:  20\n",
      "Max value:  200\n"
     ]
    },
    {
     "data": {
      "text/plain": [
       "<optimus.df_analyzer.DataTypeTable at 0x11a26c8d0>"
      ]
     },
     "metadata": {},
     "output_type": "display_data"
    },
    {
     "data": {
      "image/png": "[encoded data removed]",
      "text/plain": [
       "<matplotlib.figure.Figure at 0x11a837a58>"
      ]
     },
     "metadata": {},
     "output_type": "display_data"
    },
    {
     "name": "stdout",
     "output_type": "stream",
     "text": [
      "end of __analyze 4.216507911682129\n"
     ]
    },
    {
     "data": {
      "text/html": [
       "<table width=50%><tr><td colspan=3 ><b> Column name: </b>birth</td></tr><tr><td colspan=3 ><b> Column datatype: </b>string</td></tr><tr><th>Datatype</td><th>Quantity</td><th>Percentage</td></tr><tr><td>None</td><td>0</td><td>0.00 %</td></tr><tr><td>Empty str</td><td>0</td><td>0.00 %</td></tr><tr><td>String</td><td>19</td><td>100.00 %</td></tr><tr><td>Integer</td><td>0</td><td>0.00 %</td></tr><tr><td>Float</td><td>0</td><td>0.00 %</td></tr></table>"
      ],
      "text/plain": [
       "<optimus.df_analyzer.ColumnTables at 0x11a533550>"
      ]
     },
     "metadata": {},
     "output_type": "display_data"
    },
    {
     "data": {
      "text/plain": [
       "<optimus.df_analyzer.DataTypeTable at 0x11aebfa90>"
      ]
     },
     "metadata": {},
     "output_type": "display_data"
    },
    {
     "data": {
      "image/png": "[encoded data removed]",
      "text/plain": [
       "<matplotlib.figure.Figure at 0x10fc870f0>"
      ]
     },
     "metadata": {},
     "output_type": "display_data"
    },
    {
     "name": "stdout",
     "output_type": "stream",
     "text": [
      "end of __analyze 2.054389715194702\n",
      "Total execution time:  26.242274045944214\n"
     ]
    },
    {
     "data": {
      "text/html": [
       "<table width=50%><tr><th colspan=3>General description</td></tr><tr><th colspan=1>Features</td><th colspan=2>Name or Quantity</td></tr><tr><th colspan=1>File Name</td><td colspan=2>file with no path</td></tr><tr><th colspan=1>Columns</td><td colspan=2>8</td></tr><tr><th colspan=1>Rows</td><td colspan=2>19</td></tr>"
      ],
      "text/plain": [
       "<optimus.df_analyzer.GeneralDescripTable at 0x10fc72f60>"
      ]
     },
     "metadata": {},
     "output_type": "display_data"
    }
   ],
   "source": [
    "# Setting the new dataFrame transformed into the analyzer class\n",
    "analyzer.set_data_frame(transformer.get_data_frame)\n",
    "analyzer_table = analyzer.column_analyze(\"*\", print_type=True, plots=True)"
   ]
  },
  {
   "cell_type": "markdown",
   "metadata": {},
   "source": [
    "It can be seen from output of the analyzer object, that there are columns with numbers\n",
    "even when ceratin column (for example) is supposed to be only of words or letters. \n",
    "\n",
    "In order to solve this problem, operationInType function of DataFrameTransformer class \n",
    "can be used. \n",
    "\n",
    "operationInType function is useful to make operations in a certain element of one dataType. In this particular example, it can be seen in the last output cell (specifically in 'product' column' that are values that don't fit the rest of the data, the aren't strings but they are numbers or empty strings. operationInType can take care about them and clean the column dataFrame."
   ]
  },
  {
   "cell_type": "markdown",
   "metadata": {},
   "source": [
    "In the following example, operationInType of function of DataFrameTransformer class is run in order to converts all posible \n",
    "parsables strings to integer into a null or none value. Notice how the 110790 value in product\n",
    "column have been changed, but the rest of the column has remained intact."
   ]
  },
  {
   "cell_type": "markdown",
   "metadata": {},
   "source": [
    "### Making transformation in the inferred dataType elements of a certains columns"
   ]
  },
  {
   "cell_type": "code",
   "execution_count": 20,
   "metadata": {},
   "outputs": [
    {
     "name": "stdout",
     "output_type": "stream",
     "text": [
      "+---+---------+--------+-------+---------+-----+----------+--------+\n",
      "| id|firstName|lastName|    age|billingId|price|     birth| product|\n",
      "+---+---------+--------+-------+---------+-----+----------+--------+\n",
      "|  1|     luis| alvarez|37.7581|      123|  200|07-07-1980|    cake|\n",
      "|  2|    andre|  ampere|67.7527|      423|  160|08-07-1950|    piza|\n",
      "|  3|    niels|    bohr|27.7554|      551|  160|09-07-1990|   pizza|\n",
      "|  4|     paul|   dirac|63.7661|      521|  160|10-07-1954|   pizza|\n",
      "|  5|   albert|einstein|27.7554|      634|  160|11-07-1990|   pizza|\n",
      "|  6|  galileo| galilei|87.7608|      672|  100|12-08-1930|   arepa|\n",
      "|  7|     carl|   gauss|47.7634|      323|   60|13-07-1970|    taco|\n",
      "|  8|    david| hilbert|67.7527|      624|   60|14-07-1950|taaaccoo|\n",
      "|  9| johannes|  kepler|97.7634|      735|   60|22-04-1920|    taco|\n",
      "| 10|    james| maxwell|94.7554|      875|   60|12-03-1923|    taco|\n",
      "+---+---------+--------+-------+---------+-----+----------+--------+\n",
      "only showing top 10 rows\n",
      "\n"
     ]
    }
   ],
   "source": [
    "# This function makes changes or transformation in the column specified only in the cells\n",
    "# that are recognized as the dataType specified. \n",
    "transformer.operation_in_type([('product', 'integer', None)]).show()"
   ]
  },
  {
   "cell_type": "markdown",
   "metadata": {},
   "source": [
    "Sometimes there a some values that are different but actually are the same. In the product\n",
    "column for example, there are the following values: 'taaaccoo', 'piza'. It \n",
    "can be inferred that the correct value is taco and piza and not the rest of them. This problem can\n",
    "be solved with the lookup function of the DataFrameTransformer class."
   ]
  },
  {
   "cell_type": "markdown",
   "metadata": {},
   "source": [
    "### Replacing multiple string values to a single string"
   ]
  },
  {
   "cell_type": "code",
   "execution_count": 21,
   "metadata": {},
   "outputs": [
    {
     "name": "stdout",
     "output_type": "stream",
     "text": [
      "+---+------------+--------+--------+---------+-----+----------+----------+\n",
      "| id|   firstName|lastName|     age|billingId|price|     birth|   product|\n",
      "+---+------------+--------+--------+---------+-----+----------+----------+\n",
      "|  1|        luis| alvarez| 37.7581|      123|  200|07-07-1980|      cake|\n",
      "|  2|       andre|  ampere| 67.7527|      423|  160|08-07-1950|     pizza|\n",
      "|  3|       niels|    bohr| 27.7554|      551|  160|09-07-1990|     pizza|\n",
      "|  4|        paul|   dirac| 63.7661|      521|  160|10-07-1954|     pizza|\n",
      "|  5|      albert|einstein| 27.7554|      634|  160|11-07-1990|     pizza|\n",
      "|  6|     galileo| galilei| 87.7608|      672|  100|12-08-1930|     arepa|\n",
      "|  7|        carl|   gauss| 47.7634|      323|   60|13-07-1970|      taco|\n",
      "|  8|       david| hilbert| 67.7527|      624|   60|14-07-1950|      taco|\n",
      "|  9|    johannes|  kepler| 97.7634|      735|   60|22-04-1920|      taco|\n",
      "| 10|       james| maxwell| 94.7554|      875|   60|12-03-1923|      taco|\n",
      "| 11|       isaac|  newton| 18.7661|      992|  180|15-02-1999|     pasta|\n",
      "| 12|        emmy| noether| 24.7661|      234|  180|08-12-1993|     pasta|\n",
      "| 13|         max|  planck| 23.7688|      111|   80|04-01-1994|hamburguer|\n",
      "| 14|        fred|   hoyle| 20.7608|      553|  160|27-06-1997|     pizza|\n",
      "| 15|   heinrich |   hertz| 61.7527|      116|  160|30-11-1956|     pizza|\n",
      "| 16|     william| gilbert| 59.7608|      886|   40|26-03-1958|      beer|\n",
      "| 17|       marie|   curie| 17.7688|      912|   20|22-03-2000|      rice|\n",
      "| 18|      arthur| compton|118.7527|      812|  100|01-01-1899|      null|\n",
      "| 19|       james|chadwick| 96.7688|      467|  200|03-05-1921|      null|\n",
      "+---+------------+--------+--------+---------+-----+----------+----------+\n",
      "\n"
     ]
    }
   ],
   "source": [
    "transformer.lookup('product', str_to_replace='taco', list_str=['taaaccoo']) \n",
    "transformer.lookup('product', str_to_replace='pizza', list_str=['piza', 'pizzza']) \n",
    "transformer.show(20)"
   ]
  },
  {
   "cell_type": "markdown",
   "metadata": {},
   "source": [
    "As can be notice above, string specified in the list argument 'list_str' have been\n",
    "replaced to 'str_to_replace' value. "
   ]
  },
  {
   "cell_type": "markdown",
   "metadata": {},
   "source": [
    "## Chaining and lazy evaluation"
   ]
  },
  {
   "cell_type": "markdown",
   "metadata": {},
   "source": [
    "The past transformations were done step by step, but this can be achieved by chaining\n",
    "all operations into one line of code, like the cell below. This way is much more efficient and scalable because it uses all optimization issues from the lazy evaluation approach."
   ]
  },
  {
   "cell_type": "markdown",
   "metadata": {},
   "source": [
    "All the transformation set before can be done into a single line of code thanks to the \n",
    "chaining feature of the DataFrameTransformer class. This option is a optimal way to \n",
    "make different transformations, because it uses as much as possible all advantages of\n",
    "the lazy evaluation approach. "
   ]
  },
  {
   "cell_type": "code",
   "execution_count": 22,
   "metadata": {},
   "outputs": [
    {
     "name": "stdout",
     "output_type": "stream",
     "text": [
      "+---+--------------------+--------------------+---------+----------+-----+----------+--------+\n",
      "| id|           firstName|            lastName|billingId|   product|price|     birth|dummyCol|\n",
      "+---+--------------------+--------------------+---------+----------+-----+----------+--------+\n",
      "|  1|                Luis|         Alvarez$$%!|      123|      Cake|   10|1980/07/07|   never|\n",
      "|  2|               André|              Ampère|      423|      piza|    8|1950/07/08|   gonna|\n",
      "|  3|               NiELS|          Böhr//((%%|      551|     pizza|    8|1990/07/09|    give|\n",
      "|  4|                PAUL|              dirac$|      521|     pizza|    8|1954/07/10|     you|\n",
      "|  5|              Albert|            Einstein|      634|     pizza|    8|1990/07/11|      up|\n",
      "|  6|             Galileo|             GALiLEI|      672|     arepa|    5|1930/08/12|   never|\n",
      "|  7|                CaRL|            Ga%%%uss|      323|      taco|    3|1970/07/13|   gonna|\n",
      "|  8|               David|          H$$$ilbert|      624|  taaaccoo|    3|1950/07/14|     let|\n",
      "|  9|            Johannes|              KEPLER|      735|      taco|    3|1920/04/22|     you|\n",
      "| 10|               JaMES|         M$$ax%%well|      875|      taco|    3|1923/03/12|    down|\n",
      "| 11|               Isaac|              Newton|      992|     pasta|    9|1999/02/15|  never |\n",
      "| 12|              Emmy%%|            Nöether$|      234|     pasta|    9|1993/12/08|   gonna|\n",
      "| 13|              Max!!!|           Planck!!!|      111|hamburguer|    4|1994/01/04|    run |\n",
      "| 14|                Fred|            Hoy&&&le|      553|    pizzza|    8|1997/06/27|  around|\n",
      "| 15|(((   Heinrich )))))|               Hertz|      116|     pizza|    8|1956/11/30|     and|\n",
      "| 16|             William|          Gilbert###|      886|      BEER|    2|1958/03/26|  desert|\n",
      "| 17|               Marie|               CURIE|      912|      Rice|    1|2000/03/22|     you|\n",
      "| 18|              Arthur|          COM%%%pton|      812|    110790|    5|1899/01/01|       #|\n",
      "| 19|               JAMES|            Chadwick|      467|      null|   10|1921/05/03|       #|\n",
      "+---+--------------------+--------------------+---------+----------+-----+----------+--------+\n",
      "\n",
      "+---+------------+--------+---------+-----+----------+---------+----------+\n",
      "| id|   firstName|lastName|billingId|price|     birth|clientAge|   product|\n",
      "+---+------------+--------+---------+-----+----------+---------+----------+\n",
      "|  1|        luis| alvarez|      123|   10|07-07-1980|  37.7581|      cake|\n",
      "|  2|       andre|  ampere|      423|    8|08-07-1950|  67.7527|     pizza|\n",
      "|  3|       niels|    bohr|      551|    8|09-07-1990|  27.7554|     pizza|\n",
      "|  4|        paul|   dirac|      521|    8|10-07-1954|  63.7661|     pizza|\n",
      "|  5|      albert|einstein|      634|    8|11-07-1990|  27.7554|     pizza|\n",
      "|  6|     galileo| galilei|      672|    5|12-08-1930|  87.7608|     arepa|\n",
      "|  7|        carl|   gauss|      323|    3|13-07-1970|  47.7634|      taco|\n",
      "|  8|       david| hilbert|      624|    3|14-07-1950|  67.7527|      taco|\n",
      "|  9|    johannes|  kepler|      735|    3|22-04-1920|  97.7634|      taco|\n",
      "| 10|       james| maxwell|      875|    3|12-03-1923|  94.7554|      taco|\n",
      "| 11|       isaac|  newton|      992|    9|15-02-1999|  18.7661|     pasta|\n",
      "| 12|        emmy| noether|      234|    9|08-12-1993|  24.7661|     pasta|\n",
      "| 13|         max|  planck|      111|    4|04-01-1994|  23.7688|hamburguer|\n",
      "| 14|        fred|   hoyle|      553|    8|27-06-1997|  20.7608|     pizza|\n",
      "| 15|   heinrich |   hertz|      116|    8|30-11-1956|  61.7527|     pizza|\n",
      "| 16|     william| gilbert|      886|    2|26-03-1958|  59.7608|      beer|\n",
      "| 17|       marie|   curie|      912|    1|22-03-2000|  17.7688|      rice|\n",
      "| 18|      arthur| compton|      812|    5|01-01-1899| 118.7527|      null|\n",
      "| 19|       james|chadwick|      467|   10|03-05-1921|  96.7688|      null|\n",
      "+---+------------+--------+---------+-----+----------+---------+----------+\n",
      "\n"
     ]
    }
   ],
   "source": [
    "# Instanciate DataFrameTransfomer\n",
    "transformer = op.DataFrameTransformer(df)\n",
    "# Get original dataFrame to show it.\n",
    "transformer.show(20)\n",
    "\n",
    "# Chaining function transformations\n",
    "transformer.trim_col(\"*\") \\\n",
    "           .remove_special_chars(\"*\") \\\n",
    "           .clear_accents(\"*\") \\\n",
    "           .lower_case(\"*\") \\\n",
    "           .drop_col(\"dummyCol\") \\\n",
    "           .date_transform(\"birth\", \"yyyyMMdd\", \"dd-MM-YYYY\") \\\n",
    "           .age_calculate(\"birth\", \"dd-MM-YYYY\", \"clientAge\") \\\n",
    "           .operation_in_type([('product', 'integer', None)]) \\\n",
    "           .lookup('product', str_to_replace='taco', list_str=['taaaccoo']) \\\n",
    "           .lookup('product', str_to_replace='pizza', list_str=['piza', 'pizzza'])  \\\n",
    "        \n",
    "        \n",
    "transformer.show(20)"
   ]
  }
 ],
 "metadata": {
  "kernelspec": {
   "display_name": "Python 3",
   "language": "python",
   "name": "python3"
  },
  "language_info": {
   "codemirror_mode": {
    "name": "ipython",
    "version": 3
   },
   "file_extension": ".py",
   "mimetype": "text/x-python",
   "name": "python",
   "nbconvert_exporter": "python",
   "pygments_lexer": "ipython3",
   "version": "3.6.1"
  }
 },
 "nbformat": 4,
 "nbformat_minor": 1
}
